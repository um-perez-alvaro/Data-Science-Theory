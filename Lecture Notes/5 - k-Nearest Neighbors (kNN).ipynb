{
 "cells": [
  {
   "cell_type": "code",
   "execution_count": 3,
   "metadata": {},
   "outputs": [],
   "source": [
    "import pandas as pd\n",
    "import numpy as np\n",
    "import matplotlib.pyplot as plt"
   ]
  },
  {
   "cell_type": "markdown",
   "metadata": {},
   "source": [
    "# K-Nearest Neighbors (kNN)"
   ]
  },
  {
   "cell_type": "markdown",
   "metadata": {},
   "source": [
    "$k$-Nearest neighbors is one of the simplest predictive models there is. \n",
    "The only things it requires are:\n",
    "   1. Some notion of distance.\n",
    "   2. An assumption that points that are close to one another are similar."
   ]
  },
  {
   "cell_type": "markdown",
   "metadata": {},
   "source": [
    "Let's say we've picked a number $k$ (like 3 or 5).\n",
    "Then, when we want to classify some new data point, we find the $k$ nearest labeled points and let them vote on the new ouput.\n",
    "To do this, we'll need a function that counts votes. In case of a tie, we have several options:\n",
    "   1. Pick one of the winners at random.\n",
    "   2. Weight the votes by distance and pick the weighted winner.\n",
    "   3. Reduce k until we find a unique winner.\n",
    "   \n",
    "We'll implement the third:"
   ]
  },
  {
   "cell_type": "code",
   "execution_count": 1,
   "metadata": {},
   "outputs": [],
   "source": [
    "from collections import Counter\n",
    "\n",
    "def majority_vote(labels) :\n",
    "    \n",
    "    \"\"\"Assumes that labels are ordered from nearest to farthest\"\"\"\n",
    "    vote_counts = Counter(labels) #count votes\n",
    "    winner,winner_count = vote_counts.most_common(1)[0] \n",
    "    num_winners = sum(np.array(list(vote_counts.values()))==winner_count)\n",
    "    #num_winners = len([1 for count in vote_counts.values() if count == winner_count]) # number of winners\n",
    "    if num_winners == 1:\n",
    "        return winner\n",
    "    else:\n",
    "        return majority_vote(labels[:-1]) #try again without the farthest"
   ]
  },
  {
   "cell_type": "code",
   "execution_count": 5,
   "metadata": {},
   "outputs": [
    {
     "data": {
      "text/plain": [
       "'a'"
      ]
     },
     "execution_count": 5,
     "metadata": {},
     "output_type": "execute_result"
    }
   ],
   "source": [
    "Counter(['a','b','c','b','a']).most_common()[0][0]"
   ]
  },
  {
   "cell_type": "markdown",
   "metadata": {},
   "source": [
    "Let's create the classifier"
   ]
  },
  {
   "cell_type": "code",
   "execution_count": 6,
   "metadata": {},
   "outputs": [],
   "source": [
    "def knn_classifier(k,points,labels,new_point):\n",
    "    'knn_classifier classifies new_point'\n",
    "    \n",
    "    #order the labeled points from nearest to farthest\n",
    "    distances = np.linalg.norm(points-new_point, axis=1)\n",
    "    idx = np.argsort(distances) #Returns the indices that would sort distances. \n",
    "    return majority_vote(labels[idx[0:k]])"
   ]
  },
  {
   "cell_type": "markdown",
   "metadata": {},
   "source": [
    "# Example: Classification of handwritten digits"
   ]
  },
  {
   "cell_type": "code",
   "execution_count": 7,
   "metadata": {},
   "outputs": [
    {
     "data": {
      "text/plain": [
       "(70000, 784)"
      ]
     },
     "execution_count": 7,
     "metadata": {},
     "output_type": "execute_result"
    }
   ],
   "source": [
    "'Obtain the MNist dataset'\n",
    "from sklearn.datasets import fetch_openml\n",
    "mnist = fetch_openml('mnist_784',version=1)\n",
    "X,y=mnist['data'],mnist['target']\n",
    "X.shape"
   ]
  },
  {
   "cell_type": "code",
   "execution_count": 8,
   "metadata": {},
   "outputs": [],
   "source": [
    "'MNIST Dataset is too large for knn. We will use the first 5000 digits'\n",
    "X,y = X[:5000],y[:5000]"
   ]
  },
  {
   "cell_type": "code",
   "execution_count": 9,
   "metadata": {},
   "outputs": [
    {
     "data": {
      "text/plain": [
       "(-0.5, 27.5, 27.5, -0.5)"
      ]
     },
     "execution_count": 9,
     "metadata": {},
     "output_type": "execute_result"
    },
    {
     "data": {
      "image/png": "[encoded data removed]",
      "text/plain": [
       "<Figure size 432x288 with 1 Axes>"
      ]
     },
     "metadata": {
      "needs_background": "light"
     },
     "output_type": "display_data"
    }
   ],
   "source": [
    "digit = X[2,:].reshape(28,28) # each row is a 28 by 28 image\n",
    "plt.imshow(digit,cmap='binary')\n",
    "plt.axis('off')"
   ]
  },
  {
   "cell_type": "code",
   "execution_count": 10,
   "metadata": {},
   "outputs": [
    {
     "data": {
      "text/plain": [
       "'4'"
      ]
     },
     "execution_count": 10,
     "metadata": {},
     "output_type": "execute_result"
    }
   ],
   "source": [
    "y[2]"
   ]
  },
  {
   "cell_type": "code",
   "execution_count": 11,
   "metadata": {},
   "outputs": [],
   "source": [
    "'split dataset into training, validation and test'\n",
    "X_train,y_train = X[:3000],y[:3000] #it is used to train the model\n",
    "X_val,y_val = X[3000:4000], y[3000:4000] #it is used to choose the best parameters (k)\n",
    "X_test,y_test = X[4000:],y[4000:] #it is used to test the model"
   ]
  },
  {
   "cell_type": "code",
   "execution_count": 13,
   "metadata": {},
   "outputs": [],
   "source": [
    "'initialize y_test_predicted as an empty list'\n",
    "y_val_predicted = []"
   ]
  },
  {
   "cell_type": "code",
   "execution_count": 14,
   "metadata": {},
   "outputs": [],
   "source": [
    "k = 10 #number of neighbors\n",
    "for i in range(len(y_val)):\n",
    "    new_point = X_val[i,:]\n",
    "    y_val_predicted.append(knn_classifier(k, X_train, y_train, new_point))"
   ]
  },
  {
   "cell_type": "code",
   "execution_count": 15,
   "metadata": {},
   "outputs": [
    {
     "data": {
      "text/plain": [
       "((1000,), (1000,))"
      ]
     },
     "execution_count": 15,
     "metadata": {},
     "output_type": "execute_result"
    }
   ],
   "source": [
    "y_val_predicted = np.array(y_val_predicted)\n",
    "y_val_predicted.shape, y_val.shape"
   ]
  },
  {
   "cell_type": "code",
   "execution_count": 16,
   "metadata": {},
   "outputs": [
    {
     "data": {
      "text/plain": [
       "array([[ 92.,   0.,   0.,   1.,   0.,   0.,   1.,   0.,   0.,   0.],\n",
       "       [  0., 104.,   0.,   0.,   1.,   0.,   0.,   0.,   0.,   0.],\n",
       "       [  2.,   6.,  87.,   0.,   0.,   0.,   0.,   1.,   2.,   0.],\n",
       "       [  0.,   3.,   1.,  88.,   2.,   2.,   0.,   1.,   0.,   0.],\n",
       "       [  0.,   3.,   0.,   0.,  96.,   0.,   1.,   0.,   0.,   5.],\n",
       "       [  1.,   2.,   0.,   0.,   0.,  70.,   1.,   1.,   0.,   1.],\n",
       "       [  3.,   1.,   0.,   0.,   0.,   0.,  95.,   0.,   0.,   0.],\n",
       "       [  0.,   4.,   0.,   0.,   1.,   0.,   0.,  98.,   0.,   1.],\n",
       "       [  2.,   6.,   0.,   7.,   2.,   1.,   0.,   2.,  88.,   4.],\n",
       "       [  1.,   2.,   0.,   1.,   2.,   0.,   1.,   5.,   0.,  98.]])"
      ]
     },
     "execution_count": 16,
     "metadata": {},
     "output_type": "execute_result"
    }
   ],
   "source": [
    "'confusion matrix'\n",
    "C = np.zeros((10,10))\n",
    "for i in range(10):\n",
    "    for j in range(10):\n",
    "        C[i,j] = sum(y_val_predicted[y_val==str(i)]==str(j))\n",
    "C"
   ]
  },
  {
   "cell_type": "code",
   "execution_count": 17,
   "metadata": {},
   "outputs": [
    {
     "data": {
      "text/plain": [
       "0.084"
      ]
     },
     "execution_count": 17,
     "metadata": {},
     "output_type": "execute_result"
    }
   ],
   "source": [
    "'percentage of incorrect classifications'\n",
    "num_incorrect = sum(y_val != y_val_predicted)\n",
    "num_incorrect/len(y_val)"
   ]
  },
  {
   "cell_type": "markdown",
   "metadata": {},
   "source": [
    "# Choosing k (the number of neighbors)"
   ]
  },
  {
   "cell_type": "code",
   "execution_count": 27,
   "metadata": {},
   "outputs": [],
   "source": [
    "'classify the validation set using different values for k'\n",
    "pct_incorrect = np.zeros((20,1))\n",
    "k_list = [k+1 for k in range(20)] \n",
    "for k in k_list: #k = 1,2,...,20\n",
    "    \n",
    "    'classify validation digits'\n",
    "    y_val_predicted = [] #initialize y_val_predicted\n",
    "    for i in range(len(y_val)):\n",
    "        new_point = X_val[i,:]\n",
    "        y_val_predicted.append(knn_classifier(k, X_train, y_train, new_point))\n",
    "        \n",
    "    'percentage of incorrect classifications'\n",
    "    num_incorrect = sum(y_val != y_val_predicted)\n",
    "    pct_incorrect[k-1] = 100*num_incorrect/len(y_val)"
   ]
  },
  {
   "cell_type": "code",
   "execution_count": 28,
   "metadata": {},
   "outputs": [
    {
     "data": {
      "text/plain": [
       "Text(0.5, 1.0, 'Percentage of incorrect classifications')"
      ]
     },
     "execution_count": 28,
     "metadata": {},
     "output_type": "execute_result"
    },
    {
     "data": {
      "image/png": "[encoded data removed]",
      "text/plain": [
       "<Figure size 1080x504 with 1 Axes>"
      ]
     },
     "metadata": {
      "needs_background": "light"
     },
     "output_type": "display_data"
    }
   ],
   "source": [
    "plt.figure(figsize=(15,7))\n",
    "plt.plot(k_list, pct_incorrect,'bo-.',markeredgewidth=10,linewidth=4)\n",
    "plt.xticks(k_list)\n",
    "plt.title('Percentage of incorrect classifications',fontsize=25)"
   ]
  },
  {
   "cell_type": "markdown",
   "metadata": {},
   "source": [
    "# Testing knn-classifier"
   ]
  },
  {
   "cell_type": "code",
   "execution_count": 24,
   "metadata": {},
   "outputs": [],
   "source": [
    "'initialize y_test_predicted as an empty list'\n",
    "y_test_predicted = []\n",
    "\n",
    "'use knn classifier to classify the test digits'\n",
    "k = 2 #optimal k; from previous section\n",
    "for i in range(len(y_test)):\n",
    "    new_point = X_test[i,:]\n",
    "    y_test_predicted.append(knn_classifier(k, X_train, y_train, new_point))\n",
    "y_test_predicted = np.array(y_test_predicted)"
   ]
  },
  {
   "cell_type": "code",
   "execution_count": 25,
   "metadata": {},
   "outputs": [],
   "source": [
    "'confusion matrix'\n",
    "C = np.zeros((10,10))\n",
    "for i in range(10):\n",
    "    for j in range(10):\n",
    "        C[i,j] = sum(y_test_predicted[y_test==str(i)]==str(j))"
   ]
  },
  {
   "cell_type": "code",
   "execution_count": 26,
   "metadata": {},
   "outputs": [
    {
     "data": {
      "text/plain": [
       "92.7"
      ]
     },
     "execution_count": 26,
     "metadata": {},
     "output_type": "execute_result"
    }
   ],
   "source": [
    "'percentage of correct classifications'\n",
    "num_correct = sum(y_test == y_test_predicted)\n",
    "100*num_correct/len(y_test)"
   ]
  }
 ],
 "metadata": {
  "kernelspec": {
   "display_name": "Python 3",
   "language": "python",
   "name": "python3"
  },
  "language_info": {
   "codemirror_mode": {
    "name": "ipython",
    "version": 3
   },
   "file_extension": ".py",
   "mimetype": "text/x-python",
   "name": "python",
   "nbconvert_exporter": "python",
   "pygments_lexer": "ipython3",
   "version": "3.7.6"
  }
 },
 "nbformat": 4,
 "nbformat_minor": 2
}
