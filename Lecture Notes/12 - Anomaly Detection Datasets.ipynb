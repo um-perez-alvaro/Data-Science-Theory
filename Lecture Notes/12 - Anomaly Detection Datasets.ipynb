{
 "cells": [
  {
   "cell_type": "code",
   "execution_count": 37,
   "metadata": {},
   "outputs": [],
   "source": [
    "import numpy as np\n",
    "import pandas as pd\n",
    "import matplotlib.pyplot as plt"
   ]
  },
  {
   "cell_type": "markdown",
   "metadata": {},
   "source": [
    "# 12 - A collection of outlier detection datasets"
   ]
  },
  {
   "cell_type": "markdown",
   "metadata": {},
   "source": [
    "from http://odds.cs.stonybrook.edu/"
   ]
  },
  {
   "cell_type": "markdown",
   "metadata": {},
   "source": [
    "## Glass Dataset"
   ]
  },
  {
   "cell_type": "markdown",
   "metadata": {},
   "source": [
    "The original glass identification dataset from UCI machine learning repository https://archive.ics.uci.edu/ml/datasets/Glass+Identification is a classification dataset. \n",
    "The study of classification of types of glass was motivated by criminological investigation. \n",
    "At the scene of the crime, the glass left can be used as evidence, if correctly identified. \n",
    "This dataset contains attributes regarding several glass types."
   ]
  },
  {
   "cell_type": "code",
   "execution_count": 26,
   "metadata": {},
   "outputs": [],
   "source": [
    "url1 = 'https://raw.githubusercontent.com/um-perez-alvaro/Anomaly-Detection/master/Glass.csv'\n",
    "url2 = 'https://raw.githubusercontent.com/um-perez-alvaro/Anomaly-Detection/master/Glass_labels.csv'\n",
    "data = pd.read_csv(url1,header=None)\n",
    "labels = pd.read_csv(url2, header=None)"
   ]
  },
  {
   "cell_type": "markdown",
   "metadata": {},
   "source": [
    "The 9 features are:\n",
    "\n",
    "    RI: refractive index\n",
    "    Na: Sodium (unit measurement: weight percent in corresponding oxide, as are attributes 4-10)\n",
    "    Mg: Magnesium\n",
    "    Al: Aluminum\n",
    "    Si: Silicon\n",
    "    K: Potassium\n",
    "    Ca: Calcium\n",
    "    Ba: Barium\n",
    "    Fe: Iron"
   ]
  },
  {
   "cell_type": "markdown",
   "metadata": {},
   "source": [
    "## Cardio Dataset"
   ]
  },
  {
   "cell_type": "markdown",
   "metadata": {},
   "source": [
    "The original Cardiotocography (Cardio) dataset from UCI machine learning repository https://archive.ics.uci.edu/ml/datasets/Cardiotocography consists of measurements of fetal heart rate (FHR) and uterine contraction (UC) features on cardiotocograms classified by expert obstetricians. \n",
    "This is a classification dataset, where the classes are normal, suspect, and pathologic. For outlier detection, the normal class formed the inliers, while the pathologic (outlier) class is downsampled to 176 points. \n",
    "The suspect class is discarded."
   ]
  },
  {
   "cell_type": "code",
   "execution_count": 28,
   "metadata": {},
   "outputs": [],
   "source": [
    "url1 = 'https://raw.githubusercontent.com/um-perez-alvaro/Anomaly-Detection/master/cardio.csv'\n",
    "url2 = 'https://raw.githubusercontent.com/um-perez-alvaro/Anomaly-Detection/master/cardio_labels.csv'\n",
    "data = pd.read_csv(url1,header=None)\n",
    "labels = pd.read_csv(url2, header=None)"
   ]
  },
  {
   "cell_type": "markdown",
   "metadata": {},
   "source": [
    "The 21 features are:\n",
    "\n",
    "    LB - FHR baseline (beats per minute)\n",
    "    AC - # of accelerations per second\n",
    "    FM - # of fetal movements per second\n",
    "    UC - # of uterine contractions per second\n",
    "    DL - # of light decelerations per second\n",
    "    DS - # of severe decelerations per second\n",
    "    DP - # of prolongued decelerations per second\n",
    "    ASTV - percentage of time with abnormal short term variability\n",
    "    MSTV - mean value of short term variability\n",
    "    ALTV - percentage of time with abnormal long term variability\n",
    "    MLTV - mean value of long term variability\n",
    "    Width - width of FHR histogram\n",
    "    Min - minimum of FHR histogram\n",
    "    Max - Maximum of FHR histogram\n",
    "    Nmax - # of histogram peaks\n",
    "    Nzeros - # of histogram zeros\n",
    "    Mode - histogram mode\n",
    "    Mean - histogram mean\n",
    "    Median - histogram median\n",
    "    Variance - histogram variance\n",
    "    Tendency - histogram tendency"
   ]
  },
  {
   "cell_type": "markdown",
   "metadata": {},
   "source": [
    "## Letters Dataset"
   ]
  },
  {
   "cell_type": "markdown",
   "metadata": {},
   "source": [
    "The original letter recognition dataset from UCI machine learning repository https://archive.ics.uci.edu/ml/datasets/Letter+Recognition is a multi-class classification dataset. \n",
    "The objective is to identify each of a large number of black-and-white rectangular pixel displays as one of the 26 capital letters in the English alphabet, where letters of the alphabet are represented in 16 dimensions.\n",
    "To get data suitable for outlier detection, we subsample data from 3 letters to form the normal class and randomly concatenate pairs of them so that their dimensionality doubles. \n",
    "To form the outlier class, we randomly select few instances of letters that are not in the normal class and concatenate them with instances from the normal class. \n",
    "The concatenation process is performed in order to make the detection much more challenging as each outlier will also show some normal attribute values. In total, we have 1500 normal data points and 100 outliers (6.25% outliers) in 32 dimensions."
   ]
  },
  {
   "cell_type": "code",
   "execution_count": 31,
   "metadata": {},
   "outputs": [],
   "source": [
    "url1 = 'https://raw.githubusercontent.com/um-perez-alvaro/Anomaly-Detection/master/letters.csv'\n",
    "url2 = 'https://raw.githubusercontent.com/um-perez-alvaro/Anomaly-Detection/master/letters_labels.csv'\n",
    "data = pd.read_csv(url1,header=None)\n",
    "labels = pd.read_csv(url2, header=None)"
   ]
  },
  {
   "cell_type": "markdown",
   "metadata": {},
   "source": [
    "The features are:\n",
    "\n",
    "    x-box horizontal position of box (integer)\n",
    "    y-box vertical position of box (integer)\n",
    "    width width of box (integer)\n",
    "    high height of box (integer)\n",
    "    onpix total # on pixels (integer)\n",
    "    x-bar mean x of on pixels in box (integer)\n",
    "    y-bar mean y of on pixels in box (integer)\n",
    "    x2bar mean x variance (integer)\n",
    "    y2bar mean y variance (integer)\n",
    "    xybar mean x y correlation (integer)\n",
    "    x2ybr mean of x * x * y (integer)\n",
    "    xy2br mean of x * y * y (integer)\n",
    "    x-ege mean edge count left to right (integer)\n",
    "    xegvy correlation of x-ege with y (integer)\n",
    "    y-ege mean edge count bottom to top (integer)\n",
    "    yegvx correlation of y-ege with x (integer)\n",
    "\n"
   ]
  },
  {
   "cell_type": "markdown",
   "metadata": {},
   "source": [
    "## Musk Dataset"
   ]
  },
  {
   "cell_type": "markdown",
   "metadata": {},
   "source": [
    "The original musk dataset from UCI machine learning repository https://archive.ics.uci.edu/ml/datasets/Musk+%28Version+2%29 contains several musk and non-musk classes. \n",
    "The non-musk classes j146, j147, and 252 are combined to form the inliers, while the musk classes 213 and 211 are added as outliers without downsampling. Other classes are discarded. "
   ]
  },
  {
   "cell_type": "code",
   "execution_count": 33,
   "metadata": {},
   "outputs": [],
   "source": [
    "url1 = 'https://raw.githubusercontent.com/um-perez-alvaro/Anomaly-Detection/master/musk.csv'\n",
    "url2 = 'https://raw.githubusercontent.com/um-perez-alvaro/Anomaly-Detection/master/musk_labels.csv'\n",
    "data = pd.read_csv(url1,header=None)\n",
    "labels = pd.read_csv(url2, header=None)"
   ]
  },
  {
   "cell_type": "markdown",
   "metadata": {},
   "source": [
    "## Pima Indians Diabetes Dataset"
   ]
  },
  {
   "cell_type": "markdown",
   "metadata": {},
   "source": [
    "The original Pima Indians diabetes dataset from UCI machine learning repository https://archive.ics.uci.edu/ml/datasets/Pima+Indians+Diabetes is a binary classification dataset.\n",
    "This dataset is originally from the National Institute of Diabetes and Digestive and Kidney Diseases. \n",
    "The objective of the dataset is to diagnostically predict whether or not a patient has diabetes, based on certain diagnostic measurements included in the dataset."
   ]
  },
  {
   "cell_type": "code",
   "execution_count": 35,
   "metadata": {},
   "outputs": [],
   "source": [
    "url1 = 'https://raw.githubusercontent.com/um-perez-alvaro/Anomaly-Detection/master/pima.csv'\n",
    "url2 = 'https://raw.githubusercontent.com/um-perez-alvaro/Anomaly-Detection/master/pima_labels.csv'\n",
    "data = pd.read_csv(url1,header=None)\n",
    "labels = pd.read_csv(url2, header=None)"
   ]
  },
  {
   "cell_type": "markdown",
   "metadata": {},
   "source": [
    "The 8 features are:\n",
    "\n",
    "    number of times pregnant\n",
    "    glucose concentration a 2 hours in an oral glucose tolerance test\n",
    "    blood pressure (mm Hg)\n",
    "    skin fold thickness (mm)\n",
    "    serum insulin (mu U/ml)\n",
    "    mass index (weight in kg/(height in m)^2)\n",
    "    pedigree function\n",
    "    age (years)    "
   ]
  },
  {
   "cell_type": "markdown",
   "metadata": {},
   "source": [
    "## Satellite Dataset"
   ]
  },
  {
   "cell_type": "markdown",
   "metadata": {},
   "source": [
    "The original Statlog (Landsat Satellite) dataset from UCI machine learning repository https://archive.ics.uci.edu/ml/datasets/Statlog+%28Landsat+Satellite%29 is a multi-class classification dataset.\n",
    "The database consists of the multi-spectral values of pixels in 3x3 neighbourhoods in a satellite image, and the classification associated with the central pixel in each neighbourhood.\n",
    "Here, the training and test data are combined. \n",
    "The smallest three classes, i.e. 2, 4, 5 are combined to form the outliers class, while all the other classes are combined to form an inlier class. "
   ]
  },
  {
   "cell_type": "code",
   "execution_count": 17,
   "metadata": {},
   "outputs": [],
   "source": [
    "url1 = 'https://raw.githubusercontent.com/um-perez-alvaro/Anomaly-Detection/master/satellite.csv'\n",
    "url2 = 'https://raw.githubusercontent.com/um-perez-alvaro/Anomaly-Detection/master/satellite_labels.csv'\n",
    "data = pd.read_csv(url1,header=None)\n",
    "labels = pd.read_csv(url2, header=None)"
   ]
  },
  {
   "cell_type": "markdown",
   "metadata": {},
   "source": [
    "## Satellite Dataset 2"
   ]
  },
  {
   "cell_type": "markdown",
   "metadata": {},
   "source": [
    "The original Statlog (Landsat Satellite) dataset from UCI machine learning repository https://archive.ics.uci.edu/ml/datasets/Statlog+%28Landsat+Satellite%29 is a multi-class classification dataset. The database consists of the multi-spectral values of pixels in 3x3 neighbourhoods in a satellite image, and the classification associated with the central pixel in each neighbourhood.\n",
    "Here, the training and test data are combined. Class 2 is down-sampled to 71 outliers, while all the other classes are combined to form an inlier class. "
   ]
  },
  {
   "cell_type": "code",
   "execution_count": 18,
   "metadata": {},
   "outputs": [],
   "source": [
    "url1 = 'https://raw.githubusercontent.com/um-perez-alvaro/Anomaly-Detection/master/satimage.csv'\n",
    "url2 = 'https://raw.githubusercontent.com/um-perez-alvaro/Anomaly-Detection/master/satimage_labels.csv'\n",
    "data = pd.read_csv(url1,header=None)\n",
    "labels = pd.read_csv(url2, header=None)"
   ]
  },
  {
   "cell_type": "markdown",
   "metadata": {},
   "source": [
    "## Shuttle Dataset"
   ]
  },
  {
   "cell_type": "markdown",
   "metadata": {},
   "source": [
    "The original Statlog (Shuttle) dataset from UCI machine learning repository https://archive.ics.uci.edu/ml/datasets/Statlog+%28Shuttle%29 is a multi-class classification dataset with dimensionality 9. \n",
    "Here, the training and test data are combined. The smallest five classes, i.e. 2, 3, 5, 6, 7 are combined to form the outliers class, while class 1 forms the inlier class. Data for class 4 is discarded."
   ]
  },
  {
   "cell_type": "code",
   "execution_count": 19,
   "metadata": {},
   "outputs": [],
   "source": [
    "url1 = 'https://raw.githubusercontent.com/um-perez-alvaro/Anomaly-Detection/master/shuttle.csv'\n",
    "url2 = 'https://raw.githubusercontent.com/um-perez-alvaro/Anomaly-Detection/master/shuttle_labels.csv'\n",
    "data = pd.read_csv(url1,header=None)\n",
    "labels = pd.read_csv(url2, header=None)"
   ]
  },
  {
   "cell_type": "markdown",
   "metadata": {},
   "source": [
    "## Speech Dataset"
   ]
  },
  {
   "cell_type": "markdown",
   "metadata": {},
   "source": [
    "The real-world speech data set consists of 3686 segments of English speech spoken with different accents.\n",
    "This dataset is provided by the Speech Processing Group at Brno University of Technology, Czech Republic.\n",
    "The majority data corresponds to American accent and only 1.65% corresponds to one of seven other accents (these are referred to as outliers). \n",
    "The speech segments are represented by 400-dimensional so called i-vectors which are widely used state-of-the-art features for speaker and language recognition."
   ]
  },
  {
   "cell_type": "code",
   "execution_count": 21,
   "metadata": {},
   "outputs": [],
   "source": [
    "url1 = 'https://raw.githubusercontent.com/um-perez-alvaro/Anomaly-Detection/master/speech.csv'\n",
    "url2 = 'https://raw.githubusercontent.com/um-perez-alvaro/Anomaly-Detection/master/speech_labels.csv'\n",
    "data = pd.read_csv(url1,header=None)\n",
    "labels = pd.read_csv(url2, header=None)"
   ]
  },
  {
   "cell_type": "markdown",
   "metadata": {},
   "source": [
    "## Thyroid Dataset"
   ]
  },
  {
   "cell_type": "markdown",
   "metadata": {},
   "source": [
    "The original thyroid disease (ann-thyroid) dataset from UCI machine learning repository https://archive.ics.uci.edu/ml/datasets/Thyroid+Disease is a classification dataset. \n",
    "The dataset contains 3428 instances, and has 6 features. \n",
    "The problem is to determine whether a patient referred to the clinic is hypothyroid. "
   ]
  },
  {
   "cell_type": "code",
   "execution_count": 22,
   "metadata": {},
   "outputs": [],
   "source": [
    "url1 = 'https://raw.githubusercontent.com/um-perez-alvaro/Anomaly-Detection/master/thyroid.csv'\n",
    "url2 = 'https://raw.githubusercontent.com/um-perez-alvaro/Anomaly-Detection/master/thyroid_labels.csv'\n",
    "data = pd.read_csv(url1,header=None)\n",
    "labels = pd.read_csv(url2, header=None)"
   ]
  },
  {
   "cell_type": "markdown",
   "metadata": {},
   "source": [
    "## Vowels Dataset"
   ]
  },
  {
   "cell_type": "markdown",
   "metadata": {},
   "source": [
    "The original Japanese Vowels (Vowels) dataset from UCI machine learning repository https://archive.ics.uci.edu/ml/datasets/Japanese+Vowels is a multivariate time series data, where nine male speakers uttered two Japanese vowels /ae/ successively. \n",
    "Here, one utterance by a speaker forms a time series whose length is in the range 7-29 and each point of a time series is of 12 features (12 coefficients). \n",
    "This is a classification dataset to classify the speakers. For outlier detection, each frame in the training data is treated as an individual data point.\n",
    "In this case, class (speaker) 1 is downsampled to 50 outliers. The inliers contained classes 6, 7 and 8. Other classes are discarded."
   ]
  },
  {
   "cell_type": "code",
   "execution_count": 23,
   "metadata": {},
   "outputs": [],
   "source": [
    "url1 = 'https://raw.githubusercontent.com/um-perez-alvaro/Anomaly-Detection/master/vowels.csv'\n",
    "url2 = 'https://raw.githubusercontent.com/um-perez-alvaro/Anomaly-Detection/master/vowels_labels.csv'\n",
    "data = pd.read_csv(url1,header=None)\n",
    "labels = pd.read_csv(url2, header=None)"
   ]
  },
  {
   "cell_type": "code",
   "execution_count": null,
   "metadata": {},
   "outputs": [],
   "source": []
  }
 ],
 "metadata": {
  "kernelspec": {
   "display_name": "Python 3",
   "language": "python",
   "name": "python3"
  },
  "language_info": {
   "codemirror_mode": {
    "name": "ipython",
    "version": 3
   },
   "file_extension": ".py",
   "mimetype": "text/x-python",
   "name": "python",
   "nbconvert_exporter": "python",
   "pygments_lexer": "ipython3",
   "version": "3.7.6"
  }
 },
 "nbformat": 4,
 "nbformat_minor": 4
}
