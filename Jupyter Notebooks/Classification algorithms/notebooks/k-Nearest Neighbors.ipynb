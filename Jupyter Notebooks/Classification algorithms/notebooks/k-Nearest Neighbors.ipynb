{
 "cells": [
  {
   "cell_type": "code",
   "execution_count": 1,
   "metadata": {},
   "outputs": [],
   "source": [
    "import numpy as np\n",
    "import matplotlib.pyplot as plt\n",
    "import pandas as pd"
   ]
  },
  {
   "cell_type": "markdown",
   "metadata": {},
   "source": [
    "# K-Nearest Neighbors (kNN)"
   ]
  },
  {
   "cell_type": "markdown",
   "metadata": {},
   "source": [
    "$k$-Nearest neighbors is one of the simplest predictive models there is. \n",
    "The only things it requires are:\n",
    "   1. Some notion of distance.\n",
    "   2. An assumption that points that are close to one another are similar."
   ]
  },
  {
   "cell_type": "markdown",
   "metadata": {},
   "source": [
    "Let's say we've picked a number  $𝑘$  (like 3 or 5). Then, when we want to classify some new data point, we find the  𝑘  nearest labeled points and let them vote on the new ouput."
   ]
  },
  {
   "cell_type": "markdown",
   "metadata": {},
   "source": [
    "**Contents**\n",
    "\n",
    "- [knn implementation](#1.knn-implementation)\n",
    "- [Example: the MNIST dataset](#2.-Example:-the-MNIST-dataset)\n",
    "- [Choosing k](#3.-Choosing-k)"
   ]
  },
  {
   "cell_type": "markdown",
   "metadata": {},
   "source": [
    "## 1. knn implementation"
   ]
  },
  {
   "cell_type": "code",
   "execution_count": 2,
   "metadata": {},
   "outputs": [],
   "source": [
    "def knn_classifier_slow(X,y,X_new,k):\n",
    "    'one-loop version'\n",
    "    \n",
    "    m,_ = X.shape\n",
    "    m_new,_ = X_new.shape\n",
    "    \n",
    "    # number of classes\n",
    "    n_classes = len(np.unique(y))\n",
    "    \n",
    "    # initialize y_pred vector\n",
    "    y_pred = np.zeros(m_new)\n",
    "\n",
    "    for i in range(m_new):\n",
    "        # distances\n",
    "        dist = np.linalg.norm(X-X_new[i], axis=1)\n",
    "        # k nearest kneighbors\n",
    "        knn = np.argsort(dist)[0:k] \n",
    "        # labels\n",
    "        nearest_labels = y[knn]\n",
    "        # majority vote; break ties by choosing the smaller label.                          \n",
    "        y_pred[i] = np.argmax(np.bincount(nearest_labels, minlength=n_classes))\n",
    "    return y_pred"
   ]
  },
  {
   "cell_type": "code",
   "execution_count": 13,
   "metadata": {},
   "outputs": [],
   "source": [
    "def knn_classifier(X,y,X_new,k):\n",
    "    'no-loop version'\n",
    "    \n",
    "    m,_ = X.shape\n",
    "    m_new,_ = X_new.shape\n",
    "    \n",
    "    # number of classes\n",
    "    n_classes = len(np.unique(y))\n",
    "    \n",
    "    # distance matrix\n",
    "    #np.sqrt(np.sum((X_new[:,np.newaxis,:] - X[np.newaxis,:,:]) ** 2, axis=-1))\n",
    "    dist = np.sqrt(np.square(X_new).sum(1).reshape([-1,1])+np.square(X).sum(1).reshape([1,-1])-2*X_new.dot(X.T))\n",
    "    \n",
    "    # k nearest neighbor\n",
    "    knn = np.argsort(dist,axis=1)[:,0:k]\n",
    "    \n",
    "    # labels\n",
    "    nearest_labels = y[knn]\n",
    "    # prediction\n",
    "    y_pred = np.argmax(np.apply_along_axis(np.bincount, 1,nearest_labels, minlength=n_classes),axis=1)\n",
    "    \n",
    "    return y_pred"
   ]
  },
  {
   "cell_type": "code",
   "execution_count": 42,
   "metadata": {},
   "outputs": [],
   "source": [
    "def knn_classifier_mod(X,y,X_new,k, weights='uniform'):\n",
    "    'no-loop version'\n",
    "    \n",
    "    m,_ = X.shape\n",
    "    m_new,_ = X_new.shape\n",
    "    \n",
    "    # number of classes\n",
    "    n_classes = len(np.unique(y))\n",
    "    \n",
    "    \n",
    "    \n",
    "    # distance matrix\n",
    "    dist = np.sqrt(np.square(X_new).sum(axis=1).reshape([m_new,1])+np.square(X).sum(axis=1).reshape([1,m])-2*X_new.dot(X.T))\n",
    "    \n",
    "    # k nearest neighbor\n",
    "    knn = np.argsort(dist,axis=1)[:,0:k]\n",
    "    \n",
    "    y_pred = np.zeros(m_new)\n",
    "    for i in range(m_new):\n",
    "        # labels\n",
    "        nearest_labels = y[knn[i]]\n",
    "        # weights\n",
    "        if weights=='uniform':\n",
    "            w = np.ones(k)\n",
    "        elif weights=='distance':\n",
    "            w=1/dist[i,knn[i]]\n",
    "        # prediction\n",
    "        y_pred[i] = np.argmax(np.bincount(nearest_labels, minlength=n_classes, weights=w))\n",
    "    \n",
    "    return y_pred"
   ]
  },
  {
   "cell_type": "markdown",
   "metadata": {},
   "source": [
    "## 2. Example: the MNIST dataset"
   ]
  },
  {
   "cell_type": "code",
   "execution_count": 6,
   "metadata": {},
   "outputs": [
    {
     "data": {
      "text/html": [
       "<div>\n",
       "<style scoped>\n",
       "    .dataframe tbody tr th:only-of-type {\n",
       "        vertical-align: middle;\n",
       "    }\n",
       "\n",
       "    .dataframe tbody tr th {\n",
       "        vertical-align: top;\n",
       "    }\n",
       "\n",
       "    .dataframe thead th {\n",
       "        text-align: right;\n",
       "    }\n",
       "</style>\n",
       "<table border=\"1\" class=\"dataframe\">\n",
       "  <thead>\n",
       "    <tr style=\"text-align: right;\">\n",
       "      <th></th>\n",
       "      <th>pixel 0</th>\n",
       "      <th>pixel 1</th>\n",
       "      <th>pixel 2</th>\n",
       "      <th>pixel 3</th>\n",
       "      <th>pixel 4</th>\n",
       "      <th>pixel 5</th>\n",
       "      <th>pixel 6</th>\n",
       "      <th>pixel 7</th>\n",
       "      <th>pixel 8</th>\n",
       "      <th>pixel 9</th>\n",
       "      <th>...</th>\n",
       "      <th>pixel 775</th>\n",
       "      <th>pixel 776</th>\n",
       "      <th>pixel 777</th>\n",
       "      <th>pixel 778</th>\n",
       "      <th>pixel 779</th>\n",
       "      <th>pixel 780</th>\n",
       "      <th>pixel 781</th>\n",
       "      <th>pixel 782</th>\n",
       "      <th>pixel 783</th>\n",
       "      <th>label</th>\n",
       "    </tr>\n",
       "  </thead>\n",
       "  <tbody>\n",
       "    <tr>\n",
       "      <th>0</th>\n",
       "      <td>0.0</td>\n",
       "      <td>0.0</td>\n",
       "      <td>0.0</td>\n",
       "      <td>0.0</td>\n",
       "      <td>0.0</td>\n",
       "      <td>0.0</td>\n",
       "      <td>0.0</td>\n",
       "      <td>0.0</td>\n",
       "      <td>0.0</td>\n",
       "      <td>0.0</td>\n",
       "      <td>...</td>\n",
       "      <td>0.0</td>\n",
       "      <td>0.0</td>\n",
       "      <td>0.0</td>\n",
       "      <td>0.0</td>\n",
       "      <td>0.0</td>\n",
       "      <td>0.0</td>\n",
       "      <td>0.0</td>\n",
       "      <td>0.0</td>\n",
       "      <td>0.0</td>\n",
       "      <td>5</td>\n",
       "    </tr>\n",
       "    <tr>\n",
       "      <th>1</th>\n",
       "      <td>0.0</td>\n",
       "      <td>0.0</td>\n",
       "      <td>0.0</td>\n",
       "      <td>0.0</td>\n",
       "      <td>0.0</td>\n",
       "      <td>0.0</td>\n",
       "      <td>0.0</td>\n",
       "      <td>0.0</td>\n",
       "      <td>0.0</td>\n",
       "      <td>0.0</td>\n",
       "      <td>...</td>\n",
       "      <td>0.0</td>\n",
       "      <td>0.0</td>\n",
       "      <td>0.0</td>\n",
       "      <td>0.0</td>\n",
       "      <td>0.0</td>\n",
       "      <td>0.0</td>\n",
       "      <td>0.0</td>\n",
       "      <td>0.0</td>\n",
       "      <td>0.0</td>\n",
       "      <td>0</td>\n",
       "    </tr>\n",
       "    <tr>\n",
       "      <th>2</th>\n",
       "      <td>0.0</td>\n",
       "      <td>0.0</td>\n",
       "      <td>0.0</td>\n",
       "      <td>0.0</td>\n",
       "      <td>0.0</td>\n",
       "      <td>0.0</td>\n",
       "      <td>0.0</td>\n",
       "      <td>0.0</td>\n",
       "      <td>0.0</td>\n",
       "      <td>0.0</td>\n",
       "      <td>...</td>\n",
       "      <td>0.0</td>\n",
       "      <td>0.0</td>\n",
       "      <td>0.0</td>\n",
       "      <td>0.0</td>\n",
       "      <td>0.0</td>\n",
       "      <td>0.0</td>\n",
       "      <td>0.0</td>\n",
       "      <td>0.0</td>\n",
       "      <td>0.0</td>\n",
       "      <td>4</td>\n",
       "    </tr>\n",
       "    <tr>\n",
       "      <th>3</th>\n",
       "      <td>0.0</td>\n",
       "      <td>0.0</td>\n",
       "      <td>0.0</td>\n",
       "      <td>0.0</td>\n",
       "      <td>0.0</td>\n",
       "      <td>0.0</td>\n",
       "      <td>0.0</td>\n",
       "      <td>0.0</td>\n",
       "      <td>0.0</td>\n",
       "      <td>0.0</td>\n",
       "      <td>...</td>\n",
       "      <td>0.0</td>\n",
       "      <td>0.0</td>\n",
       "      <td>0.0</td>\n",
       "      <td>0.0</td>\n",
       "      <td>0.0</td>\n",
       "      <td>0.0</td>\n",
       "      <td>0.0</td>\n",
       "      <td>0.0</td>\n",
       "      <td>0.0</td>\n",
       "      <td>1</td>\n",
       "    </tr>\n",
       "    <tr>\n",
       "      <th>4</th>\n",
       "      <td>0.0</td>\n",
       "      <td>0.0</td>\n",
       "      <td>0.0</td>\n",
       "      <td>0.0</td>\n",
       "      <td>0.0</td>\n",
       "      <td>0.0</td>\n",
       "      <td>0.0</td>\n",
       "      <td>0.0</td>\n",
       "      <td>0.0</td>\n",
       "      <td>0.0</td>\n",
       "      <td>...</td>\n",
       "      <td>0.0</td>\n",
       "      <td>0.0</td>\n",
       "      <td>0.0</td>\n",
       "      <td>0.0</td>\n",
       "      <td>0.0</td>\n",
       "      <td>0.0</td>\n",
       "      <td>0.0</td>\n",
       "      <td>0.0</td>\n",
       "      <td>0.0</td>\n",
       "      <td>9</td>\n",
       "    </tr>\n",
       "  </tbody>\n",
       "</table>\n",
       "<p>5 rows × 785 columns</p>\n",
       "</div>"
      ],
      "text/plain": [
       "   pixel 0  pixel 1  pixel 2  pixel 3  pixel 4  pixel 5  pixel 6  pixel 7  \\\n",
       "0      0.0      0.0      0.0      0.0      0.0      0.0      0.0      0.0   \n",
       "1      0.0      0.0      0.0      0.0      0.0      0.0      0.0      0.0   \n",
       "2      0.0      0.0      0.0      0.0      0.0      0.0      0.0      0.0   \n",
       "3      0.0      0.0      0.0      0.0      0.0      0.0      0.0      0.0   \n",
       "4      0.0      0.0      0.0      0.0      0.0      0.0      0.0      0.0   \n",
       "\n",
       "   pixel 8  pixel 9  ...  pixel 775  pixel 776  pixel 777  pixel 778  \\\n",
       "0      0.0      0.0  ...        0.0        0.0        0.0        0.0   \n",
       "1      0.0      0.0  ...        0.0        0.0        0.0        0.0   \n",
       "2      0.0      0.0  ...        0.0        0.0        0.0        0.0   \n",
       "3      0.0      0.0  ...        0.0        0.0        0.0        0.0   \n",
       "4      0.0      0.0  ...        0.0        0.0        0.0        0.0   \n",
       "\n",
       "   pixel 779  pixel 780  pixel 781  pixel 782  pixel 783  label  \n",
       "0        0.0        0.0        0.0        0.0        0.0      5  \n",
       "1        0.0        0.0        0.0        0.0        0.0      0  \n",
       "2        0.0        0.0        0.0        0.0        0.0      4  \n",
       "3        0.0        0.0        0.0        0.0        0.0      1  \n",
       "4        0.0        0.0        0.0        0.0        0.0      9  \n",
       "\n",
       "[5 rows x 785 columns]"
      ]
     },
     "execution_count": 6,
     "metadata": {},
     "output_type": "execute_result"
    }
   ],
   "source": [
    "# load the data\n",
    "url = 'https://raw.githubusercontent.com/um-perez-alvaro/Data-Science-Theory/master/Data/digits.csv'\n",
    "data = pd.read_csv(url)\n",
    "data.head(5) # display first 5 rows of the dataset"
   ]
  },
  {
   "cell_type": "code",
   "execution_count": 7,
   "metadata": {},
   "outputs": [],
   "source": [
    "X = data.iloc[:,0:784].to_numpy() # pixels\n",
    "y = data['label'].to_numpy() # labels"
   ]
  },
  {
   "cell_type": "code",
   "execution_count": 8,
   "metadata": {},
   "outputs": [
    {
     "data": {
      "text/plain": [
       "10"
      ]
     },
     "execution_count": 8,
     "metadata": {},
     "output_type": "execute_result"
    }
   ],
   "source": [
    "len(np.unique(y))"
   ]
  },
  {
   "cell_type": "code",
   "execution_count": 9,
   "metadata": {},
   "outputs": [],
   "source": [
    "X_train,y_train = X[:3000],y[:3000]\n",
    "X_val,y_val = X[3000:4000],y[3000:4000]\n",
    "X_test,y_test = X[4000:],y[4000:]"
   ]
  },
  {
   "cell_type": "code",
   "execution_count": 10,
   "metadata": {},
   "outputs": [
    {
     "name": "stdout",
     "output_type": "stream",
     "text": [
      "Wall time: 52.3 s\n"
     ]
    }
   ],
   "source": [
    "%%time\n",
    "y_test_pred = knn_classifier_slow(X_train,y_train,X_test,k=10)"
   ]
  },
  {
   "cell_type": "code",
   "execution_count": 17,
   "metadata": {},
   "outputs": [
    {
     "name": "stdout",
     "output_type": "stream",
     "text": [
      "692 ms ± 15.7 ms per loop (mean ± std. dev. of 7 runs, 1 loop each)\n"
     ]
    }
   ],
   "source": [
    "%%timeit\n",
    "y_rest_pred = knn_classifier(X_train,y_train,X_test,k=10)"
   ]
  },
  {
   "cell_type": "code",
   "execution_count": 31,
   "metadata": {},
   "outputs": [
    {
     "name": "stdout",
     "output_type": "stream",
     "text": [
      "708 ms ± 8.63 ms per loop (mean ± std. dev. of 7 runs, 1 loop each)\n"
     ]
    }
   ],
   "source": [
    "%%timeit\n",
    "y_rest_pred = knn_classifier_mod(X_train,y_train,X_test,k=10)"
   ]
  },
  {
   "cell_type": "code",
   "execution_count": 33,
   "metadata": {},
   "outputs": [
    {
     "name": "stdout",
     "output_type": "stream",
     "text": [
      "682 ms ± 34.5 ms per loop (mean ± std. dev. of 7 runs, 1 loop each)\n"
     ]
    }
   ],
   "source": [
    "%%timeit\n",
    "y_rest_pred = knn_classifier_mod(X_train,y_train,X_test,k=10, weights='distance')"
   ]
  },
  {
   "cell_type": "code",
   "execution_count": 40,
   "metadata": {},
   "outputs": [],
   "source": [
    "y_rest_pred = knn_classifier_mod(X_train,y_train,X_test,k=10,weights='uniform')"
   ]
  },
  {
   "cell_type": "code",
   "execution_count": 41,
   "metadata": {},
   "outputs": [
    {
     "data": {
      "text/plain": [
       "array([[ 98.,   0.,   0.,   0.,   0.,   0.,   2.,   0.,   0.,   0.],\n",
       "       [  0., 117.,   0.,   0.,   0.,   0.,   0.,   1.,   0.,   1.],\n",
       "       [  0.,   7.,  73.,   2.,   2.,   0.,   2.,   4.,   1.,   0.],\n",
       "       [  0.,   1.,   3.,  90.,   0.,   2.,   0.,   2.,   0.,   3.],\n",
       "       [  0.,   1.,   0.,   0.,  97.,   0.,   1.,   0.,   0.,   6.],\n",
       "       [  1.,   1.,   0.,   1.,   2.,  72.,   4.,   0.,   0.,   3.],\n",
       "       [  1.,   1.,   0.,   0.,   0.,   0.,  94.,   0.,   0.,   0.],\n",
       "       [  0.,   0.,   0.,   0.,   2.,   0.,   0., 112.,   0.,   3.],\n",
       "       [  1.,   4.,   3.,   1.,   3.,   1.,   2.,   1.,  70.,   3.],\n",
       "       [  1.,   0.,   0.,   1.,   3.,   0.,   0.,   4.,   0.,  89.]])"
      ]
     },
     "execution_count": 41,
     "metadata": {},
     "output_type": "execute_result"
    }
   ],
   "source": [
    "'confusion matrix'\n",
    "C = np.zeros((10,10))\n",
    "for i in range(10):\n",
    "    for j in range(10):\n",
    "        C[i,j] = sum(y_test_pred[y_test==i]==j)\n",
    "C"
   ]
  },
  {
   "cell_type": "code",
   "execution_count": 43,
   "metadata": {},
   "outputs": [],
   "source": [
    "y_rest_pred = knn_classifier_mod(X_train,y_train,X_test,k=10,weights='distance')"
   ]
  },
  {
   "cell_type": "code",
   "execution_count": 44,
   "metadata": {},
   "outputs": [
    {
     "data": {
      "text/plain": [
       "array([[ 98.,   0.,   0.,   0.,   0.,   0.,   2.,   0.,   0.,   0.],\n",
       "       [  0., 117.,   0.,   0.,   0.,   0.,   0.,   1.,   0.,   1.],\n",
       "       [  0.,   7.,  73.,   2.,   2.,   0.,   2.,   4.,   1.,   0.],\n",
       "       [  0.,   1.,   3.,  90.,   0.,   2.,   0.,   2.,   0.,   3.],\n",
       "       [  0.,   1.,   0.,   0.,  97.,   0.,   1.,   0.,   0.,   6.],\n",
       "       [  1.,   1.,   0.,   1.,   2.,  72.,   4.,   0.,   0.,   3.],\n",
       "       [  1.,   1.,   0.,   0.,   0.,   0.,  94.,   0.,   0.,   0.],\n",
       "       [  0.,   0.,   0.,   0.,   2.,   0.,   0., 112.,   0.,   3.],\n",
       "       [  1.,   4.,   3.,   1.,   3.,   1.,   2.,   1.,  70.,   3.],\n",
       "       [  1.,   0.,   0.,   1.,   3.,   0.,   0.,   4.,   0.,  89.]])"
      ]
     },
     "execution_count": 44,
     "metadata": {},
     "output_type": "execute_result"
    }
   ],
   "source": [
    "'confusion matrix'\n",
    "C = np.zeros((10,10))\n",
    "for i in range(10):\n",
    "    for j in range(10):\n",
    "        C[i,j] = sum(y_test_pred[y_test==i]==j)\n",
    "C"
   ]
  },
  {
   "cell_type": "code",
   "execution_count": 45,
   "metadata": {},
   "outputs": [
    {
     "data": {
      "text/plain": [
       "8.8"
      ]
     },
     "execution_count": 45,
     "metadata": {},
     "output_type": "execute_result"
    }
   ],
   "source": [
    "'percentage of incorrect classifications'\n",
    "num_incorrect = sum(y_test != y_test_pred)\n",
    "100*num_incorrect/len(y_val)"
   ]
  },
  {
   "cell_type": "markdown",
   "metadata": {},
   "source": [
    "## 3. Choosing k"
   ]
  },
  {
   "cell_type": "code",
   "execution_count": 34,
   "metadata": {},
   "outputs": [],
   "source": [
    "'classify the validation set using different values for k'\n",
    "k_max = 20\n",
    "pct_incorrect = np.zeros(k_max)\n",
    "k_list = np.arange(1,k_max+1) \n",
    "for i in range(k_max):\n",
    "    k = k_list[i]\n",
    "    'classify validation digits'\n",
    "    y_val_pred =knn_classifier(X_train,y_train,X_val,k)\n",
    "    \n",
    "        \n",
    "    'percentage of incorrect classifications'\n",
    "    num_incorrect = sum(y_val != y_val_pred)\n",
    "    pct_incorrect[i] = 100*num_incorrect/len(y_val)\n"
   ]
  },
  {
   "cell_type": "code",
   "execution_count": 35,
   "metadata": {},
   "outputs": [
    {
     "data": {
      "text/plain": [
       "Text(0.5, 1.0, 'Percentage of incorrect classifications')"
      ]
     },
     "execution_count": 35,
     "metadata": {},
     "output_type": "execute_result"
    },
    {
     "data": {
      "image/png": "[encoded data removed]",
      "text/plain": [
       "<Figure size 1080x504 with 1 Axes>"
      ]
     },
     "metadata": {
      "needs_background": "light"
     },
     "output_type": "display_data"
    }
   ],
   "source": [
    "plt.figure(figsize=(15,7))\n",
    "plt.plot(k_list, pct_incorrect,'bo-.',markeredgewidth=10,linewidth=4)\n",
    "plt.xticks(k_list)\n",
    "plt.title('Percentage of incorrect classifications',fontsize=25)"
   ]
  },
  {
   "cell_type": "code",
   "execution_count": null,
   "metadata": {},
   "outputs": [],
   "source": []
  }
 ],
 "metadata": {
  "kernelspec": {
   "display_name": "Python 3",
   "language": "python",
   "name": "python3"
  },
  "language_info": {
   "codemirror_mode": {
    "name": "ipython",
    "version": 3
   },
   "file_extension": ".py",
   "mimetype": "text/x-python",
   "name": "python",
   "nbconvert_exporter": "python",
   "pygments_lexer": "ipython3",
   "version": "3.7.6"
  }
 },
 "nbformat": 4,
 "nbformat_minor": 4
}
