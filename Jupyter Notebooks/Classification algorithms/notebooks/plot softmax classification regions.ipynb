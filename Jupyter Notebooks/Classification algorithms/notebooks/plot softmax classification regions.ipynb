{
 "cells": [
  {
   "cell_type": "code",
   "execution_count": null,
   "metadata": {},
   "outputs": [],
   "source": [
    "def plot_softmax_regions(X, y, theta, labels, degree=1):\n",
    "    from matplotlib.colors import ListedColormap\n",
    "    \n",
    "    # softmax predictor function\n",
    "    def predictor_softmax(X,theta,labels):\n",
    "        P = softmax(X,theta)\n",
    "        return labels[np.argmax(P,axis=1)]\n",
    "    \n",
    "    # create a 500x500 meshgrid\n",
    "    m_plot = 500\n",
    "    x1 = np.linspace(X[:,0].min()-0.5, X[:,0].max()+0.5, m_plot)\n",
    "    x2 = np.linspace(X[:,1].min()-0.5,X[:,1].max()+0.5, m_plot)\n",
    "    X1, X2 = np.meshgrid(x1, x2) \n",
    "    X_plot = np.c_[X1.ravel(), X2.ravel()]\n",
    "    \n",
    "    # add polynomial features\n",
    "    X_plot_poly = build_poly_features(X_plot,degree=degree)\n",
    "\n",
    "    # evaluate the softmax regression model at each point of the mesh grid    \n",
    "    y_plot = predictor_softmax(X_plot_poly,theta,labels).reshape(X1.shape)        \n",
    "\n",
    "\n",
    "    # custom color map\n",
    "    k = len(labels)\n",
    "    custom_cmap = ListedColormap(['C'+str(i) for i in range(k)])\n",
    "    \n",
    "    # softmax classification regions\n",
    "    plt.figure(figsize=(12,5))\n",
    "    plt.contourf(X1, X2, y_plot, alpha=0.3, cmap=custom_cmap)\n",
    "    \n",
    "    # plot data points\n",
    "    for label in labels:\n",
    "        plt.scatter(X[y==label,0],X[y==label,1], label=label)\n",
    "        \n",
    "    plt.legend(fontsize=15)"
   ]
  }
 ],
 "metadata": {
  "kernelspec": {
   "display_name": "Python 3 (ipykernel)",
   "language": "python",
   "name": "python3"
  },
  "language_info": {
   "codemirror_mode": {
    "name": "ipython",
    "version": 3
   },
   "file_extension": ".py",
   "mimetype": "text/x-python",
   "name": "python",
   "nbconvert_exporter": "python",
   "pygments_lexer": "ipython3",
   "version": "3.9.13"
  }
 },
 "nbformat": 4,
 "nbformat_minor": 4
}
