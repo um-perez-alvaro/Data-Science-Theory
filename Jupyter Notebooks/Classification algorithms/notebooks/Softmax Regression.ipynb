{
 "cells": [
  {
   "cell_type": "code",
   "execution_count": 19,
   "metadata": {},
   "outputs": [],
   "source": [
    "import numpy as np\n",
    "import matplotlib.pyplot as plt\n",
    "import pandas as pd"
   ]
  },
  {
   "cell_type": "markdown",
   "metadata": {},
   "source": [
    "# Softmax Regression"
   ]
  },
  {
   "cell_type": "markdown",
   "metadata": {},
   "source": [
    "Softmax regression is a generalization of logistic regression to the case where we want to handle multiple classes (k  classes)"
   ]
  },
  {
   "cell_type": "code",
   "execution_count": 20,
   "metadata": {},
   "outputs": [],
   "source": [
    "def softmax(X,theta):\n",
    "    m,n = X.shape\n",
    "    Y = np.exp(X.dot(theta))\n",
    "    row_sum = np.sum(Y,axis=1)[:,None]\n",
    "    return Y/row_sum"
   ]
  },
  {
   "cell_type": "code",
   "execution_count": 21,
   "metadata": {},
   "outputs": [
    {
     "data": {
      "text/plain": [
       "array([[0.04811128, 0.95188872],\n",
       "       [0.970167  , 0.029833  ],\n",
       "       [0.92794011, 0.07205989],\n",
       "       [0.43167766, 0.56832234],\n",
       "       [0.11733116, 0.88266884]])"
      ]
     },
     "execution_count": 21,
     "metadata": {},
     "output_type": "execute_result"
    }
   ],
   "source": [
    "# check that it works; notice that the entries of each row add to 1'\n",
    "X = np.random.randn(5,3)\n",
    "theta = np.random.randn(3,2)\n",
    "softmax(X,theta)"
   ]
  },
  {
   "cell_type": "code",
   "execution_count": 23,
   "metadata": {},
   "outputs": [],
   "source": [
    "def one_hot_encoding(y):\n",
    "    Y = np.zeros((len(y),len(np.unique(y))))\n",
    "    Y[np.arange(len(y)),y] = 1\n",
    "    return Y"
   ]
  },
  {
   "cell_type": "code",
   "execution_count": 46,
   "metadata": {},
   "outputs": [
    {
     "data": {
      "text/plain": [
       "array([[1., 0., 0., 0., 0.],\n",
       "       [0., 1., 0., 0., 0.],\n",
       "       [0., 1., 0., 0., 0.],\n",
       "       [0., 0., 0., 1., 0.],\n",
       "       [0., 0., 0., 0., 1.],\n",
       "       [0., 0., 1., 0., 0.],\n",
       "       [0., 0., 1., 0., 0.],\n",
       "       [1., 0., 0., 0., 0.]])"
      ]
     },
     "execution_count": 46,
     "metadata": {},
     "output_type": "execute_result"
    }
   ],
   "source": [
    "# chekc that it works\n",
    "y = np.array([0,1,1,3,4,2,2,0])\n",
    "Y = one_hot_encoding(y)\n",
    "Y"
   ]
  },
  {
   "cell_type": "code",
   "execution_count": 47,
   "metadata": {},
   "outputs": [],
   "source": [
    "def softmax_cost(X,theta,y):\n",
    "    m = X.shape[0]\n",
    "    Y = one_hot_encoding(y)\n",
    "    P = softmax(X,theta)\n",
    "    return (-1/m)*np.sum(Y*np.log(P))"
   ]
  },
  {
   "cell_type": "code",
   "execution_count": 48,
   "metadata": {},
   "outputs": [],
   "source": [
    "def softmaxregression_GD(X,y,learning_rate,n_epochs, return_cost=False):\n",
    "    \n",
    "    m,n = X.shape\n",
    "    k = len(np.unique(y))\n",
    "        \n",
    "    # initialize vector theta\n",
    "    theta = np.random.randn(n,k)\n",
    "    \n",
    "    # initialize cost vector\n",
    "    if return_cost:\n",
    "        cost = np.zeros(n_epochs)\n",
    "    \n",
    "    # one-hot encoding\n",
    "    Y = one_hot_encoding(y)\n",
    "    \n",
    "    # gradient descent iterations  \n",
    "    for i in range(n_epochs):\n",
    "        gradient = (1/m)*X.T.dot(softmax(X,theta)-Y)\n",
    "        theta = theta - learning_rate * gradient\n",
    "        if return_cost:\n",
    "            cost[i] = softmax_cost(X,theta,y)\n",
    "            \n",
    "    # store results        \n",
    "    results = {}\n",
    "    results['theta'] = theta\n",
    "    if return_cost:\n",
    "        results['cost'] = cost\n",
    "        \n",
    "    return results"
   ]
  },
  {
   "cell_type": "markdown",
   "metadata": {},
   "source": [
    "## Example: The Iris Dataset"
   ]
  },
  {
   "cell_type": "code",
   "execution_count": 49,
   "metadata": {},
   "outputs": [
    {
     "data": {
      "text/html": [
       "<div>\n",
       "<style scoped>\n",
       "    .dataframe tbody tr th:only-of-type {\n",
       "        vertical-align: middle;\n",
       "    }\n",
       "\n",
       "    .dataframe tbody tr th {\n",
       "        vertical-align: top;\n",
       "    }\n",
       "\n",
       "    .dataframe thead th {\n",
       "        text-align: right;\n",
       "    }\n",
       "</style>\n",
       "<table border=\"1\" class=\"dataframe\">\n",
       "  <thead>\n",
       "    <tr style=\"text-align: right;\">\n",
       "      <th></th>\n",
       "      <th>sepal_length</th>\n",
       "      <th>sepal_width</th>\n",
       "      <th>petal_length</th>\n",
       "      <th>petal_width</th>\n",
       "      <th>species</th>\n",
       "    </tr>\n",
       "  </thead>\n",
       "  <tbody>\n",
       "    <tr>\n",
       "      <th>0</th>\n",
       "      <td>5.1</td>\n",
       "      <td>3.5</td>\n",
       "      <td>1.4</td>\n",
       "      <td>0.2</td>\n",
       "      <td>Iris-setosa</td>\n",
       "    </tr>\n",
       "    <tr>\n",
       "      <th>1</th>\n",
       "      <td>4.9</td>\n",
       "      <td>3.0</td>\n",
       "      <td>1.4</td>\n",
       "      <td>0.2</td>\n",
       "      <td>Iris-setosa</td>\n",
       "    </tr>\n",
       "    <tr>\n",
       "      <th>2</th>\n",
       "      <td>4.7</td>\n",
       "      <td>3.2</td>\n",
       "      <td>1.3</td>\n",
       "      <td>0.2</td>\n",
       "      <td>Iris-setosa</td>\n",
       "    </tr>\n",
       "    <tr>\n",
       "      <th>3</th>\n",
       "      <td>4.6</td>\n",
       "      <td>3.1</td>\n",
       "      <td>1.5</td>\n",
       "      <td>0.2</td>\n",
       "      <td>Iris-setosa</td>\n",
       "    </tr>\n",
       "    <tr>\n",
       "      <th>4</th>\n",
       "      <td>5.0</td>\n",
       "      <td>3.6</td>\n",
       "      <td>1.4</td>\n",
       "      <td>0.2</td>\n",
       "      <td>Iris-setosa</td>\n",
       "    </tr>\n",
       "  </tbody>\n",
       "</table>\n",
       "</div>"
      ],
      "text/plain": [
       "   sepal_length  sepal_width  petal_length  petal_width      species\n",
       "0           5.1          3.5           1.4          0.2  Iris-setosa\n",
       "1           4.9          3.0           1.4          0.2  Iris-setosa\n",
       "2           4.7          3.2           1.3          0.2  Iris-setosa\n",
       "3           4.6          3.1           1.5          0.2  Iris-setosa\n",
       "4           5.0          3.6           1.4          0.2  Iris-setosa"
      ]
     },
     "execution_count": 49,
     "metadata": {},
     "output_type": "execute_result"
    }
   ],
   "source": [
    "url = 'https://raw.githubusercontent.com/um-perez-alvaro/Data-Science-Practice/master/Data/iris.csv'\n",
    "data = pd.read_csv(url)\n",
    "data.head(5) #first 5 rows"
   ]
  },
  {
   "cell_type": "code",
   "execution_count": 50,
   "metadata": {},
   "outputs": [
    {
     "data": {
      "text/plain": [
       "array(['Iris-setosa', 'Iris-versicolor', 'Iris-virginica'], dtype=object)"
      ]
     },
     "execution_count": 50,
     "metadata": {},
     "output_type": "execute_result"
    }
   ],
   "source": [
    "data['species'].unique()"
   ]
  },
  {
   "cell_type": "code",
   "execution_count": 51,
   "metadata": {},
   "outputs": [],
   "source": [
    "X = data[['sepal_length','sepal_width','petal_length','petal_width']].to_numpy()\n",
    "y = data['species'].to_numpy()"
   ]
  },
  {
   "cell_type": "code",
   "execution_count": 52,
   "metadata": {},
   "outputs": [],
   "source": [
    "# map classes to (0,1,2)\n",
    "y[y=='Iris-setosa']=0\n",
    "y[y=='Iris-versicolor']=1\n",
    "y[y=='Iris-virginica']=2\n",
    "y = y.astype(int)"
   ]
  },
  {
   "cell_type": "code",
   "execution_count": 53,
   "metadata": {},
   "outputs": [
    {
     "data": {
      "text/plain": [
       "array([0, 0, 0, 0, 0, 0, 0, 0, 0, 0, 0, 0, 0, 0, 0, 0, 0, 0, 0, 0, 0, 0,\n",
       "       0, 0, 0, 0, 0, 0, 0, 0, 0, 0, 0, 0, 0, 0, 0, 0, 0, 0, 0, 0, 0, 0,\n",
       "       0, 0, 0, 0, 0, 0, 1, 1, 1, 1, 1, 1, 1, 1, 1, 1, 1, 1, 1, 1, 1, 1,\n",
       "       1, 1, 1, 1, 1, 1, 1, 1, 1, 1, 1, 1, 1, 1, 1, 1, 1, 1, 1, 1, 1, 1,\n",
       "       1, 1, 1, 1, 1, 1, 1, 1, 1, 1, 1, 1, 2, 2, 2, 2, 2, 2, 2, 2, 2, 2,\n",
       "       2, 2, 2, 2, 2, 2, 2, 2, 2, 2, 2, 2, 2, 2, 2, 2, 2, 2, 2, 2, 2, 2,\n",
       "       2, 2, 2, 2, 2, 2, 2, 2, 2, 2, 2, 2, 2, 2, 2, 2, 2, 2])"
      ]
     },
     "execution_count": 53,
     "metadata": {},
     "output_type": "execute_result"
    }
   ],
   "source": [
    "y"
   ]
  },
  {
   "cell_type": "code",
   "execution_count": 54,
   "metadata": {},
   "outputs": [],
   "source": [
    "# one hot encoding\n",
    "Y = one_hot_encoding(y)"
   ]
  },
  {
   "cell_type": "code",
   "execution_count": 55,
   "metadata": {},
   "outputs": [],
   "source": [
    "s = 0.05\n",
    "n_iterations = 1000\n",
    "results = softmaxregression_GD(X,y,\n",
    "                               learning_rate = 0.1,\n",
    "                               n_epochs=1000,\n",
    "                               return_cost=True)"
   ]
  },
  {
   "cell_type": "code",
   "execution_count": 56,
   "metadata": {},
   "outputs": [
    {
     "data": {
      "text/plain": [
       "[<matplotlib.lines.Line2D at 0x1d05c78b408>]"
      ]
     },
     "execution_count": 56,
     "metadata": {},
     "output_type": "execute_result"
    },
    {
     "data": {
      "image/png": "[encoded data removed]",
      "text/plain": [
       "<Figure size 432x288 with 1 Axes>"
      ]
     },
     "metadata": {
      "needs_background": "light"
     },
     "output_type": "display_data"
    }
   ],
   "source": [
    "cost = results['cost']\n",
    "plt.plot(cost)"
   ]
  },
  {
   "cell_type": "code",
   "execution_count": 57,
   "metadata": {},
   "outputs": [],
   "source": [
    "theta = results['theta']"
   ]
  },
  {
   "cell_type": "code",
   "execution_count": 58,
   "metadata": {},
   "outputs": [
    {
     "data": {
      "text/plain": [
       "array([[0.991, 0.009, 0.   ],\n",
       "       [0.973, 0.027, 0.   ],\n",
       "       [0.986, 0.014, 0.   ],\n",
       "       [0.974, 0.026, 0.   ],\n",
       "       [0.993, 0.007, 0.   ],\n",
       "       [0.991, 0.009, 0.   ],\n",
       "       [0.987, 0.013, 0.   ],\n",
       "       [0.987, 0.013, 0.   ],\n",
       "       [0.967, 0.033, 0.   ],\n",
       "       [0.978, 0.022, 0.   ],\n",
       "       [0.993, 0.007, 0.   ],\n",
       "       [0.984, 0.016, 0.   ],\n",
       "       [0.978, 0.022, 0.   ],\n",
       "       [0.988, 0.012, 0.   ],\n",
       "       [0.998, 0.002, 0.   ],\n",
       "       [0.998, 0.002, 0.   ],\n",
       "       [0.996, 0.004, 0.   ],\n",
       "       [0.99 , 0.01 , 0.   ],\n",
       "       [0.99 , 0.01 , 0.   ],\n",
       "       [0.994, 0.006, 0.   ],\n",
       "       [0.98 , 0.02 , 0.   ],\n",
       "       [0.99 , 0.01 , 0.   ],\n",
       "       [0.997, 0.003, 0.   ],\n",
       "       [0.958, 0.042, 0.   ],\n",
       "       [0.972, 0.028, 0.   ],\n",
       "       [0.961, 0.039, 0.   ],\n",
       "       [0.977, 0.023, 0.   ],\n",
       "       [0.989, 0.011, 0.   ],\n",
       "       [0.989, 0.011, 0.   ],\n",
       "       [0.975, 0.025, 0.   ],\n",
       "       [0.969, 0.031, 0.   ],\n",
       "       [0.981, 0.019, 0.   ],\n",
       "       [0.998, 0.002, 0.   ],\n",
       "       [0.998, 0.002, 0.   ],\n",
       "       [0.978, 0.022, 0.   ],\n",
       "       [0.988, 0.012, 0.   ],\n",
       "       [0.993, 0.007, 0.   ],\n",
       "       [0.978, 0.022, 0.   ],\n",
       "       [0.978, 0.022, 0.   ],\n",
       "       [0.987, 0.013, 0.   ],\n",
       "       [0.991, 0.009, 0.   ],\n",
       "       [0.88 , 0.12 , 0.   ],\n",
       "       [0.986, 0.014, 0.   ],\n",
       "       [0.974, 0.026, 0.   ],\n",
       "       [0.984, 0.016, 0.   ],\n",
       "       [0.968, 0.032, 0.   ],\n",
       "       [0.994, 0.006, 0.   ],\n",
       "       [0.983, 0.017, 0.   ],\n",
       "       [0.993, 0.007, 0.   ],\n",
       "       [0.986, 0.014, 0.   ],\n",
       "       [0.009, 0.973, 0.018],\n",
       "       [0.011, 0.936, 0.053],\n",
       "       [0.004, 0.924, 0.072],\n",
       "       [0.004, 0.726, 0.27 ],\n",
       "       [0.003, 0.866, 0.131],\n",
       "       [0.005, 0.725, 0.27 ],\n",
       "       [0.007, 0.862, 0.131],\n",
       "       [0.046, 0.911, 0.043],\n",
       "       [0.006, 0.948, 0.046],\n",
       "       [0.011, 0.753, 0.236],\n",
       "       [0.011, 0.842, 0.146],\n",
       "       [0.012, 0.89 , 0.099],\n",
       "       [0.007, 0.944, 0.048],\n",
       "       [0.004, 0.763, 0.234],\n",
       "       [0.047, 0.934, 0.019],\n",
       "       [0.013, 0.97 , 0.017],\n",
       "       [0.005, 0.625, 0.37 ],\n",
       "       [0.019, 0.946, 0.035],\n",
       "       [0.001, 0.534, 0.466],\n",
       "       [0.015, 0.922, 0.063],\n",
       "       [0.002, 0.425, 0.573],\n",
       "       [0.017, 0.956, 0.028],\n",
       "       [0.   , 0.442, 0.558],\n",
       "       [0.005, 0.834, 0.162],\n",
       "       [0.012, 0.96 , 0.028],\n",
       "       [0.01 , 0.963, 0.027],\n",
       "       [0.003, 0.906, 0.091],\n",
       "       [0.001, 0.699, 0.3  ],\n",
       "       [0.005, 0.773, 0.222],\n",
       "       [0.049, 0.943, 0.008],\n",
       "       [0.014, 0.914, 0.072],\n",
       "       [0.021, 0.941, 0.038],\n",
       "       [0.02 , 0.944, 0.036],\n",
       "       [0.   , 0.186, 0.814],\n",
       "       [0.004, 0.51 , 0.486],\n",
       "       [0.014, 0.873, 0.114],\n",
       "       [0.006, 0.933, 0.061],\n",
       "       [0.002, 0.831, 0.167],\n",
       "       [0.022, 0.904, 0.075],\n",
       "       [0.007, 0.803, 0.19 ],\n",
       "       [0.004, 0.671, 0.325],\n",
       "       [0.006, 0.844, 0.15 ],\n",
       "       [0.013, 0.926, 0.061],\n",
       "       [0.037, 0.92 , 0.043],\n",
       "       [0.008, 0.81 , 0.182],\n",
       "       [0.022, 0.92 , 0.059],\n",
       "       [0.014, 0.886, 0.1  ],\n",
       "       [0.012, 0.943, 0.045],\n",
       "       [0.086, 0.903, 0.011],\n",
       "       [0.013, 0.895, 0.092],\n",
       "       [0.   , 0.005, 0.995],\n",
       "       [0.   , 0.049, 0.951],\n",
       "       [0.   , 0.079, 0.921],\n",
       "       [0.   , 0.069, 0.931],\n",
       "       [0.   , 0.02 , 0.98 ],\n",
       "       [0.   , 0.029, 0.971],\n",
       "       [0.   , 0.049, 0.95 ],\n",
       "       [0.   , 0.078, 0.922],\n",
       "       [0.   , 0.039, 0.961],\n",
       "       [0.   , 0.054, 0.946],\n",
       "       [0.001, 0.373, 0.627],\n",
       "       [0.   , 0.1  , 0.899],\n",
       "       [0.   , 0.132, 0.868],\n",
       "       [0.   , 0.024, 0.976],\n",
       "       [0.   , 0.012, 0.988],\n",
       "       [0.   , 0.081, 0.919],\n",
       "       [0.   , 0.171, 0.829],\n",
       "       [0.   , 0.106, 0.894],\n",
       "       [0.   , 0.003, 0.997],\n",
       "       [0.   , 0.125, 0.875],\n",
       "       [0.   , 0.074, 0.926],\n",
       "       [0.   , 0.051, 0.949],\n",
       "       [0.   , 0.024, 0.976],\n",
       "       [0.   , 0.309, 0.69 ],\n",
       "       [0.   , 0.11 , 0.89 ],\n",
       "       [0.   , 0.256, 0.744],\n",
       "       [0.001, 0.379, 0.62 ],\n",
       "       [0.001, 0.355, 0.645],\n",
       "       [0.   , 0.026, 0.974],\n",
       "       [0.   , 0.451, 0.548],\n",
       "       [0.   , 0.103, 0.897],\n",
       "       [0.   , 0.497, 0.503],\n",
       "       [0.   , 0.019, 0.981],\n",
       "       [0.001, 0.451, 0.548],\n",
       "       [0.   , 0.084, 0.916],\n",
       "       [0.   , 0.086, 0.914],\n",
       "       [0.   , 0.029, 0.971],\n",
       "       [0.   , 0.17 , 0.83 ],\n",
       "       [0.001, 0.374, 0.625],\n",
       "       [0.   , 0.249, 0.75 ],\n",
       "       [0.   , 0.038, 0.962],\n",
       "       [0.   , 0.306, 0.694],\n",
       "       [0.   , 0.049, 0.951],\n",
       "       [0.   , 0.032, 0.968],\n",
       "       [0.   , 0.031, 0.969],\n",
       "       [0.   , 0.137, 0.863],\n",
       "       [0.   , 0.128, 0.872],\n",
       "       [0.   , 0.215, 0.785],\n",
       "       [0.   , 0.059, 0.941],\n",
       "       [0.   , 0.152, 0.847]])"
      ]
     },
     "execution_count": 58,
     "metadata": {},
     "output_type": "execute_result"
    }
   ],
   "source": [
    "P = softmax(X,theta)\n",
    "np.round(P,3) #round entries of P to three decimals"
   ]
  },
  {
   "cell_type": "code",
   "execution_count": 59,
   "metadata": {},
   "outputs": [],
   "source": [
    "def predictor_softmax(X,theta):\n",
    "    P = softmax(X,theta)\n",
    "    return np.argmax(P,axis=1)"
   ]
  },
  {
   "cell_type": "code",
   "execution_count": 60,
   "metadata": {},
   "outputs": [],
   "source": [
    "y_pred = predictor_softmax(X,theta)"
   ]
  },
  {
   "cell_type": "code",
   "execution_count": 61,
   "metadata": {},
   "outputs": [
    {
     "data": {
      "text/plain": [
       "array([[50.,  0.,  0.],\n",
       "       [ 0., 47.,  3.],\n",
       "       [ 0.,  0., 50.]])"
      ]
     },
     "execution_count": 61,
     "metadata": {},
     "output_type": "execute_result"
    }
   ],
   "source": [
    "'Confusion matrix'\n",
    "C = np.zeros((3,3))\n",
    "for i in range(3):\n",
    "    for j in range(3):\n",
    "        C[i,j]=sum(y_pred[y==i]==j)\n",
    "C"
   ]
  },
  {
   "cell_type": "code",
   "execution_count": 62,
   "metadata": {},
   "outputs": [
    {
     "data": {
      "text/plain": [
       "98.0"
      ]
     },
     "execution_count": 62,
     "metadata": {},
     "output_type": "execute_result"
    }
   ],
   "source": [
    "'percentage of incorrect classification'\n",
    "100*np.sum(y_pred==y)/len(y)"
   ]
  },
  {
   "cell_type": "code",
   "execution_count": null,
   "metadata": {},
   "outputs": [],
   "source": []
  }
 ],
 "metadata": {
  "kernelspec": {
   "display_name": "Python 3",
   "language": "python",
   "name": "python3"
  },
  "language_info": {
   "codemirror_mode": {
    "name": "ipython",
    "version": 3
   },
   "file_extension": ".py",
   "mimetype": "text/x-python",
   "name": "python",
   "nbconvert_exporter": "python",
   "pygments_lexer": "ipython3",
   "version": "3.7.6"
  }
 },
 "nbformat": 4,
 "nbformat_minor": 4
}
