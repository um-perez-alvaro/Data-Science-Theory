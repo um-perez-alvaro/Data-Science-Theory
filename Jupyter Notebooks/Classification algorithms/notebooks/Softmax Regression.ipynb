{
 "cells": [
  {
   "cell_type": "code",
   "execution_count": 1,
   "metadata": {},
   "outputs": [],
   "source": [
    "import numpy as np\n",
    "import matplotlib.pyplot as plt\n",
    "import pandas as pd"
   ]
  },
  {
   "cell_type": "markdown",
   "metadata": {},
   "source": [
    "# Softmax Regression"
   ]
  },
  {
   "cell_type": "markdown",
   "metadata": {},
   "source": [
    "Softmax regression is a generalization of logistic regression to the case where we want to handle multiple classes (k  classes)"
   ]
  },
  {
   "cell_type": "code",
   "execution_count": 2,
   "metadata": {},
   "outputs": [],
   "source": [
    "def softmax(X,theta):\n",
    "    m,n = X.shape\n",
    "    Y = np.exp(X.dot(theta))\n",
    "    row_sum = np.sum(Y,axis=1)[:,None]\n",
    "    return Y/row_sum"
   ]
  },
  {
   "cell_type": "code",
   "execution_count": 3,
   "metadata": {},
   "outputs": [
    {
     "data": {
      "text/plain": [
       "array([[3.85729074e-01, 6.14270926e-01],\n",
       "       [4.57369722e-01, 5.42630278e-01],\n",
       "       [9.99429051e-01, 5.70948529e-04],\n",
       "       [3.30614661e-03, 9.96693853e-01],\n",
       "       [5.57351713e-01, 4.42648287e-01]])"
      ]
     },
     "execution_count": 3,
     "metadata": {},
     "output_type": "execute_result"
    }
   ],
   "source": [
    "# check that it works; notice that the entries of each row add to 1'\n",
    "X = np.random.randn(5,3)\n",
    "theta = np.random.randn(3,2)\n",
    "softmax(X,theta)"
   ]
  },
  {
   "cell_type": "code",
   "execution_count": 4,
   "metadata": {},
   "outputs": [],
   "source": [
    "def one_hot_encoding(y):\n",
    "    Y = np.zeros((len(y),len(np.unique(y))))\n",
    "    Y[np.arange(len(y)),y] = 1\n",
    "    return Y"
   ]
  },
  {
   "cell_type": "code",
   "execution_count": 5,
   "metadata": {},
   "outputs": [
    {
     "data": {
      "text/plain": [
       "array([[1., 0., 0., 0., 0.],\n",
       "       [0., 1., 0., 0., 0.],\n",
       "       [0., 1., 0., 0., 0.],\n",
       "       [0., 0., 0., 1., 0.],\n",
       "       [0., 0., 0., 0., 1.],\n",
       "       [0., 0., 1., 0., 0.],\n",
       "       [0., 0., 1., 0., 0.],\n",
       "       [1., 0., 0., 0., 0.]])"
      ]
     },
     "execution_count": 5,
     "metadata": {},
     "output_type": "execute_result"
    }
   ],
   "source": [
    "# chekc that it works\n",
    "y = np.array([0,1,1,3,4,2,2,0])\n",
    "Y = one_hot_encoding(y)\n",
    "Y"
   ]
  },
  {
   "cell_type": "code",
   "execution_count": 6,
   "metadata": {},
   "outputs": [],
   "source": [
    "def softmax_cost(X,theta,y):\n",
    "    m = X.shape[0]\n",
    "    Y = one_hot_encoding(y)\n",
    "    P = softmax(X,theta)\n",
    "    return (-1/m)*np.sum(Y*np.log(P))"
   ]
  },
  {
   "cell_type": "code",
   "execution_count": 7,
   "metadata": {},
   "outputs": [],
   "source": [
    "def softmaxregression_GD(X,y,learning_rate,n_epochs, return_cost=False):\n",
    "    \n",
    "    m,n = X.shape\n",
    "    k = len(np.unique(y))\n",
    "        \n",
    "    # initialize vector theta\n",
    "    theta = np.random.randn(n,k)\n",
    "    \n",
    "    # initialize cost vector\n",
    "    if return_cost:\n",
    "        cost = np.zeros(n_epochs)\n",
    "    \n",
    "    # one-hot encoding\n",
    "    Y = one_hot_encoding(y)\n",
    "    \n",
    "    # gradient descent iterations  \n",
    "    for i in range(n_epochs):\n",
    "        gradient = (1/m)*X.T.dot(softmax(X,theta)-Y)\n",
    "        theta = theta - learning_rate * gradient\n",
    "        if return_cost:\n",
    "            cost[i] = softmax_cost(X,theta,y)\n",
    "            \n",
    "    # store results        \n",
    "    results = {}\n",
    "    results['theta'] = theta\n",
    "    if return_cost:\n",
    "        results['cost'] = cost\n",
    "        \n",
    "    return results"
   ]
  },
  {
   "cell_type": "markdown",
   "metadata": {},
   "source": [
    "## Example: The Iris Dataset"
   ]
  },
  {
   "cell_type": "code",
   "execution_count": 8,
   "metadata": {},
   "outputs": [
    {
     "data": {
      "text/html": [
       "<div>\n",
       "<style scoped>\n",
       "    .dataframe tbody tr th:only-of-type {\n",
       "        vertical-align: middle;\n",
       "    }\n",
       "\n",
       "    .dataframe tbody tr th {\n",
       "        vertical-align: top;\n",
       "    }\n",
       "\n",
       "    .dataframe thead th {\n",
       "        text-align: right;\n",
       "    }\n",
       "</style>\n",
       "<table border=\"1\" class=\"dataframe\">\n",
       "  <thead>\n",
       "    <tr style=\"text-align: right;\">\n",
       "      <th></th>\n",
       "      <th>sepal_length</th>\n",
       "      <th>sepal_width</th>\n",
       "      <th>petal_length</th>\n",
       "      <th>petal_width</th>\n",
       "      <th>species</th>\n",
       "    </tr>\n",
       "  </thead>\n",
       "  <tbody>\n",
       "    <tr>\n",
       "      <th>0</th>\n",
       "      <td>5.1</td>\n",
       "      <td>3.5</td>\n",
       "      <td>1.4</td>\n",
       "      <td>0.2</td>\n",
       "      <td>Iris-setosa</td>\n",
       "    </tr>\n",
       "    <tr>\n",
       "      <th>1</th>\n",
       "      <td>4.9</td>\n",
       "      <td>3.0</td>\n",
       "      <td>1.4</td>\n",
       "      <td>0.2</td>\n",
       "      <td>Iris-setosa</td>\n",
       "    </tr>\n",
       "    <tr>\n",
       "      <th>2</th>\n",
       "      <td>4.7</td>\n",
       "      <td>3.2</td>\n",
       "      <td>1.3</td>\n",
       "      <td>0.2</td>\n",
       "      <td>Iris-setosa</td>\n",
       "    </tr>\n",
       "    <tr>\n",
       "      <th>3</th>\n",
       "      <td>4.6</td>\n",
       "      <td>3.1</td>\n",
       "      <td>1.5</td>\n",
       "      <td>0.2</td>\n",
       "      <td>Iris-setosa</td>\n",
       "    </tr>\n",
       "    <tr>\n",
       "      <th>4</th>\n",
       "      <td>5.0</td>\n",
       "      <td>3.6</td>\n",
       "      <td>1.4</td>\n",
       "      <td>0.2</td>\n",
       "      <td>Iris-setosa</td>\n",
       "    </tr>\n",
       "  </tbody>\n",
       "</table>\n",
       "</div>"
      ],
      "text/plain": [
       "   sepal_length  sepal_width  petal_length  petal_width      species\n",
       "0           5.1          3.5           1.4          0.2  Iris-setosa\n",
       "1           4.9          3.0           1.4          0.2  Iris-setosa\n",
       "2           4.7          3.2           1.3          0.2  Iris-setosa\n",
       "3           4.6          3.1           1.5          0.2  Iris-setosa\n",
       "4           5.0          3.6           1.4          0.2  Iris-setosa"
      ]
     },
     "execution_count": 8,
     "metadata": {},
     "output_type": "execute_result"
    }
   ],
   "source": [
    "url = 'https://raw.githubusercontent.com/um-perez-alvaro/Data-Science-Practice/master/Data/iris.csv'\n",
    "data = pd.read_csv(url)\n",
    "data.head(5) #first 5 rows"
   ]
  },
  {
   "cell_type": "code",
   "execution_count": 9,
   "metadata": {},
   "outputs": [
    {
     "data": {
      "text/plain": [
       "array(['Iris-setosa', 'Iris-versicolor', 'Iris-virginica'], dtype=object)"
      ]
     },
     "execution_count": 9,
     "metadata": {},
     "output_type": "execute_result"
    }
   ],
   "source": [
    "data['species'].unique()"
   ]
  },
  {
   "cell_type": "code",
   "execution_count": 10,
   "metadata": {},
   "outputs": [],
   "source": [
    "X = data[['sepal_length','sepal_width','petal_length','petal_width']].to_numpy()\n",
    "y = data['species'].to_numpy()"
   ]
  },
  {
   "cell_type": "code",
   "execution_count": 11,
   "metadata": {},
   "outputs": [],
   "source": [
    "# map classes to (0,1,2)\n",
    "y[y=='Iris-setosa']=0\n",
    "y[y=='Iris-versicolor']=1\n",
    "y[y=='Iris-virginica']=2\n",
    "y = y.astype(int)"
   ]
  },
  {
   "cell_type": "code",
   "execution_count": 12,
   "metadata": {},
   "outputs": [
    {
     "data": {
      "text/plain": [
       "array([0, 0, 0, 0, 0, 0, 0, 0, 0, 0, 0, 0, 0, 0, 0, 0, 0, 0, 0, 0, 0, 0,\n",
       "       0, 0, 0, 0, 0, 0, 0, 0, 0, 0, 0, 0, 0, 0, 0, 0, 0, 0, 0, 0, 0, 0,\n",
       "       0, 0, 0, 0, 0, 0, 1, 1, 1, 1, 1, 1, 1, 1, 1, 1, 1, 1, 1, 1, 1, 1,\n",
       "       1, 1, 1, 1, 1, 1, 1, 1, 1, 1, 1, 1, 1, 1, 1, 1, 1, 1, 1, 1, 1, 1,\n",
       "       1, 1, 1, 1, 1, 1, 1, 1, 1, 1, 1, 1, 2, 2, 2, 2, 2, 2, 2, 2, 2, 2,\n",
       "       2, 2, 2, 2, 2, 2, 2, 2, 2, 2, 2, 2, 2, 2, 2, 2, 2, 2, 2, 2, 2, 2,\n",
       "       2, 2, 2, 2, 2, 2, 2, 2, 2, 2, 2, 2, 2, 2, 2, 2, 2, 2])"
      ]
     },
     "execution_count": 12,
     "metadata": {},
     "output_type": "execute_result"
    }
   ],
   "source": [
    "y"
   ]
  },
  {
   "cell_type": "code",
   "execution_count": 13,
   "metadata": {},
   "outputs": [],
   "source": [
    "# one hot encoding\n",
    "Y = one_hot_encoding(y)"
   ]
  },
  {
   "cell_type": "code",
   "execution_count": 14,
   "metadata": {},
   "outputs": [],
   "source": [
    "s = 0.05\n",
    "n_iterations = 1000\n",
    "results = softmaxregression_GD(X,y,\n",
    "                               learning_rate = 0.1,\n",
    "                               n_epochs=1000,\n",
    "                               return_cost=True)"
   ]
  },
  {
   "cell_type": "code",
   "execution_count": 15,
   "metadata": {},
   "outputs": [
    {
     "data": {
      "text/plain": [
       "[<matplotlib.lines.Line2D at 0x1a6fb0b7408>]"
      ]
     },
     "execution_count": 15,
     "metadata": {},
     "output_type": "execute_result"
    },
    {
     "data": {
      "image/png": "[encoded data removed]",
      "text/plain": [
       "<Figure size 432x288 with 1 Axes>"
      ]
     },
     "metadata": {
      "needs_background": "light"
     },
     "output_type": "display_data"
    }
   ],
   "source": [
    "cost = results['cost']\n",
    "plt.plot(cost)"
   ]
  },
  {
   "cell_type": "code",
   "execution_count": 16,
   "metadata": {},
   "outputs": [],
   "source": [
    "theta = results['theta']"
   ]
  },
  {
   "cell_type": "code",
   "execution_count": 17,
   "metadata": {},
   "outputs": [
    {
     "data": {
      "text/plain": [
       "array([[0.992, 0.008, 0.   ],\n",
       "       [0.965, 0.035, 0.   ],\n",
       "       [0.987, 0.013, 0.   ],\n",
       "       [0.976, 0.024, 0.   ],\n",
       "       [0.995, 0.005, 0.   ],\n",
       "       [0.994, 0.006, 0.   ],\n",
       "       [0.992, 0.008, 0.   ],\n",
       "       [0.988, 0.012, 0.   ],\n",
       "       [0.967, 0.033, 0.   ],\n",
       "       [0.973, 0.027, 0.   ],\n",
       "       [0.994, 0.006, 0.   ],\n",
       "       [0.987, 0.013, 0.   ],\n",
       "       [0.971, 0.029, 0.   ],\n",
       "       [0.988, 0.012, 0.   ],\n",
       "       [0.998, 0.002, 0.   ],\n",
       "       [0.999, 0.001, 0.   ],\n",
       "       [0.997, 0.003, 0.   ],\n",
       "       [0.991, 0.009, 0.   ],\n",
       "       [0.991, 0.009, 0.   ],\n",
       "       [0.996, 0.004, 0.   ],\n",
       "       [0.976, 0.024, 0.   ],\n",
       "       [0.994, 0.006, 0.   ],\n",
       "       [0.998, 0.002, 0.   ],\n",
       "       [0.964, 0.036, 0.   ],\n",
       "       [0.979, 0.021, 0.   ],\n",
       "       [0.946, 0.054, 0.   ],\n",
       "       [0.982, 0.018, 0.   ],\n",
       "       [0.99 , 0.01 , 0.   ],\n",
       "       [0.988, 0.012, 0.   ],\n",
       "       [0.978, 0.022, 0.   ],\n",
       "       [0.967, 0.033, 0.   ],\n",
       "       [0.979, 0.021, 0.   ],\n",
       "       [0.999, 0.001, 0.   ],\n",
       "       [0.999, 0.001, 0.   ],\n",
       "       [0.973, 0.027, 0.   ],\n",
       "       [0.986, 0.014, 0.   ],\n",
       "       [0.991, 0.009, 0.   ],\n",
       "       [0.973, 0.027, 0.   ],\n",
       "       [0.98 , 0.02 , 0.   ],\n",
       "       [0.987, 0.013, 0.   ],\n",
       "       [0.993, 0.007, 0.   ],\n",
       "       [0.798, 0.202, 0.   ],\n",
       "       [0.99 , 0.01 , 0.   ],\n",
       "       [0.984, 0.016, 0.   ],\n",
       "       [0.991, 0.009, 0.   ],\n",
       "       [0.964, 0.036, 0.   ],\n",
       "       [0.996, 0.004, 0.   ],\n",
       "       [0.985, 0.015, 0.   ],\n",
       "       [0.994, 0.006, 0.   ],\n",
       "       [0.986, 0.014, 0.   ],\n",
       "       [0.007, 0.975, 0.018],\n",
       "       [0.014, 0.927, 0.058],\n",
       "       [0.003, 0.927, 0.07 ],\n",
       "       [0.004, 0.751, 0.245],\n",
       "       [0.003, 0.879, 0.118],\n",
       "       [0.006, 0.696, 0.298],\n",
       "       [0.012, 0.833, 0.155],\n",
       "       [0.048, 0.907, 0.045],\n",
       "       [0.005, 0.952, 0.043],\n",
       "       [0.018, 0.722, 0.26 ],\n",
       "       [0.008, 0.863, 0.129],\n",
       "       [0.018, 0.874, 0.109],\n",
       "       [0.003, 0.96 , 0.037],\n",
       "       [0.004, 0.747, 0.249],\n",
       "       [0.061, 0.918, 0.021],\n",
       "       [0.011, 0.972, 0.017],\n",
       "       [0.009, 0.566, 0.426],\n",
       "       [0.016, 0.947, 0.037],\n",
       "       [0.   , 0.622, 0.377],\n",
       "       [0.012, 0.926, 0.062],\n",
       "       [0.004, 0.368, 0.628],\n",
       "       [0.015, 0.958, 0.027],\n",
       "       [0.   , 0.488, 0.512],\n",
       "       [0.004, 0.824, 0.172],\n",
       "       [0.01 , 0.963, 0.027],\n",
       "       [0.009, 0.965, 0.026],\n",
       "       [0.002, 0.92 , 0.079],\n",
       "       [0.001, 0.711, 0.287],\n",
       "       [0.006, 0.76 , 0.234],\n",
       "       [0.036, 0.956, 0.008],\n",
       "       [0.011, 0.921, 0.068],\n",
       "       [0.015, 0.948, 0.036],\n",
       "       [0.018, 0.946, 0.036],\n",
       "       [0.   , 0.184, 0.816],\n",
       "       [0.008, 0.435, 0.558],\n",
       "       [0.03 , 0.823, 0.147],\n",
       "       [0.006, 0.933, 0.061],\n",
       "       [0.001, 0.871, 0.128],\n",
       "       [0.033, 0.876, 0.091],\n",
       "       [0.008, 0.806, 0.186],\n",
       "       [0.005, 0.648, 0.347],\n",
       "       [0.008, 0.826, 0.166],\n",
       "       [0.011, 0.93 , 0.059],\n",
       "       [0.032, 0.926, 0.042],\n",
       "       [0.009, 0.796, 0.194],\n",
       "       [0.029, 0.898, 0.072],\n",
       "       [0.018, 0.867, 0.115],\n",
       "       [0.011, 0.943, 0.046],\n",
       "       [0.086, 0.903, 0.011],\n",
       "       [0.016, 0.884, 0.1  ],\n",
       "       [0.   , 0.004, 0.996],\n",
       "       [0.   , 0.048, 0.952],\n",
       "       [0.   , 0.09 , 0.91 ],\n",
       "       [0.   , 0.065, 0.934],\n",
       "       [0.   , 0.02 , 0.98 ],\n",
       "       [0.   , 0.035, 0.965],\n",
       "       [0.   , 0.043, 0.956],\n",
       "       [0.   , 0.089, 0.911],\n",
       "       [0.   , 0.05 , 0.95 ],\n",
       "       [0.   , 0.049, 0.951],\n",
       "       [0.001, 0.359, 0.64 ],\n",
       "       [0.   , 0.113, 0.887],\n",
       "       [0.   , 0.144, 0.856],\n",
       "       [0.   , 0.027, 0.973],\n",
       "       [0.   , 0.012, 0.988],\n",
       "       [0.   , 0.077, 0.922],\n",
       "       [0.   , 0.166, 0.834],\n",
       "       [0.   , 0.089, 0.911],\n",
       "       [0.   , 0.005, 0.995],\n",
       "       [0.   , 0.154, 0.846],\n",
       "       [0.   , 0.077, 0.923],\n",
       "       [0.   , 0.047, 0.953],\n",
       "       [0.   , 0.032, 0.968],\n",
       "       [0.   , 0.339, 0.661],\n",
       "       [0.   , 0.1  , 0.9  ],\n",
       "       [0.   , 0.255, 0.745],\n",
       "       [0.001, 0.395, 0.605],\n",
       "       [0.001, 0.336, 0.663],\n",
       "       [0.   , 0.029, 0.971],\n",
       "       [0.   , 0.473, 0.527],\n",
       "       [0.   , 0.132, 0.868],\n",
       "       [0.   , 0.463, 0.536],\n",
       "       [0.   , 0.021, 0.979],\n",
       "       [0.001, 0.451, 0.549],\n",
       "       [0.   , 0.081, 0.919],\n",
       "       [0.   , 0.116, 0.884],\n",
       "       [0.   , 0.024, 0.976],\n",
       "       [0.   , 0.153, 0.847],\n",
       "       [0.002, 0.35 , 0.648],\n",
       "       [0.   , 0.267, 0.732],\n",
       "       [0.   , 0.04 , 0.96 ],\n",
       "       [0.   , 0.343, 0.657],\n",
       "       [0.   , 0.048, 0.952],\n",
       "       [0.   , 0.032, 0.968],\n",
       "       [0.   , 0.03 , 0.97 ],\n",
       "       [0.   , 0.156, 0.844],\n",
       "       [0.   , 0.159, 0.841],\n",
       "       [0.   , 0.221, 0.779],\n",
       "       [0.   , 0.047, 0.952],\n",
       "       [0.   , 0.132, 0.868]])"
      ]
     },
     "execution_count": 17,
     "metadata": {},
     "output_type": "execute_result"
    }
   ],
   "source": [
    "P = softmax(X,theta)\n",
    "np.round(P,3) #round entries of P to three decimals"
   ]
  },
  {
   "cell_type": "code",
   "execution_count": 18,
   "metadata": {},
   "outputs": [],
   "source": [
    "def predictor_softmax(X,theta):\n",
    "    P = softmax(X,theta)\n",
    "    return np.argmax(P,axis=1)"
   ]
  },
  {
   "cell_type": "code",
   "execution_count": 19,
   "metadata": {},
   "outputs": [],
   "source": [
    "y_pred = predictor_softmax(X,theta)"
   ]
  },
  {
   "cell_type": "code",
   "execution_count": 20,
   "metadata": {},
   "outputs": [
    {
     "data": {
      "text/plain": [
       "array([[50.,  0.,  0.],\n",
       "       [ 0., 46.,  4.],\n",
       "       [ 0.,  0., 50.]])"
      ]
     },
     "execution_count": 20,
     "metadata": {},
     "output_type": "execute_result"
    }
   ],
   "source": [
    "'Confusion matrix'\n",
    "C = np.zeros((3,3))\n",
    "for i in range(3):\n",
    "    for j in range(3):\n",
    "        C[i,j]=sum(y_pred[y==i]==j)\n",
    "C"
   ]
  },
  {
   "cell_type": "code",
   "execution_count": 21,
   "metadata": {},
   "outputs": [
    {
     "data": {
      "text/plain": [
       "97.33333333333333"
      ]
     },
     "execution_count": 21,
     "metadata": {},
     "output_type": "execute_result"
    }
   ],
   "source": [
    "'percentage of incorrect classification'\n",
    "100*np.sum(y_pred==y)/len(y)"
   ]
  }
 ],
 "metadata": {
  "kernelspec": {
   "display_name": "Python 3",
   "language": "python",
   "name": "python3"
  },
  "language_info": {
   "codemirror_mode": {
    "name": "ipython",
    "version": 3
   },
   "file_extension": ".py",
   "mimetype": "text/x-python",
   "name": "python",
   "nbconvert_exporter": "python",
   "pygments_lexer": "ipython3",
   "version": "3.7.6"
  }
 },
 "nbformat": 4,
 "nbformat_minor": 4
}
