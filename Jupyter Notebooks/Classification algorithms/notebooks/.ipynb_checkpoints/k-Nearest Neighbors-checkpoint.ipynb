{
 "cells": [
  {
   "cell_type": "code",
   "execution_count": 1,
   "metadata": {},
   "outputs": [],
   "source": [
    "import numpy as np\n",
    "import matplotlib.pyplot as plt\n",
    "import pandas as pd"
   ]
  },
  {
   "cell_type": "markdown",
   "metadata": {},
   "source": [
    "# K-Nearest Neighbors (kNN)"
   ]
  },
  {
   "cell_type": "markdown",
   "metadata": {},
   "source": [
    "$k$-Nearest neighbors is one of the simplest predictive models there is. \n",
    "The only things it requires are:\n",
    "   1. Some notion of distance.\n",
    "   2. An assumption that points that are close to one another are similar."
   ]
  },
  {
   "cell_type": "markdown",
   "metadata": {},
   "source": [
    "Let's say we've picked a number  $𝑘$  (like 3 or 5). Then, when we want to classify some new data point, we find the  𝑘  nearest labeled points and let them vote on the new ouput."
   ]
  },
  {
   "cell_type": "markdown",
   "metadata": {},
   "source": [
    "**Contents**\n",
    "\n",
    "- [knn implementation](#1.knn-implementation)\n",
    "- [Example: the MNIST dataset](#2.-Example:-the-MNIST-dataset)\n",
    "- [Choosing k](#3.-Choosing-k)"
   ]
  },
  {
   "cell_type": "markdown",
   "metadata": {},
   "source": [
    "## 1. knn implementation"
   ]
  },
  {
   "cell_type": "code",
   "execution_count": 2,
   "metadata": {},
   "outputs": [],
   "source": [
    "def knn_classifier_slow(k,X,y,X_new):\n",
    "    'one-loop version'\n",
    "    '''\n",
    "    INPUT\n",
    "    k: number of neighbors\n",
    "    X,y : data points and their classes\n",
    "    X_new : points to be classified\n",
    "    \n",
    "    OUTPUT:\n",
    "    y_pred: class predictions\n",
    "    '''\n",
    "    \n",
    "    # number of points\n",
    "    m = X.shape[0] # number of rows of X (number of points)\n",
    "    m_new = X_new.shape[0] # number of rows of X_new (number of new points)\n",
    "    \n",
    "    # number of classes\n",
    "    n_classes = len(np.unique(y))\n",
    "    \n",
    "    # initialize y_pred vector\n",
    "    y_pred = np.zeros(m_new)\n",
    "\n",
    "    for i in range(m_new):\n",
    "        # distances from X_new[i] to data points X\n",
    "        dist = np.linalg.norm(X-X_new[i], axis=1)\n",
    "        # k nearest kneighbors\n",
    "        knn = np.argsort(dist)[0:k] \n",
    "        # labels\n",
    "        nearest_labels = y[knn]\n",
    "        # majority vote; break ties by choosing the smaller label.                          \n",
    "        y_pred[i] = np.argmax(np.bincount(nearest_labels, minlength=n_classes))\n",
    "    return y_pred"
   ]
  },
  {
   "cell_type": "code",
   "execution_count": 3,
   "metadata": {},
   "outputs": [],
   "source": [
    "def knn_classifier(k,X,y,X_new, weights='uniform'):\n",
    "    'no-loop version'\n",
    "    \n",
    "    m,_ = X.shape\n",
    "    m_new,_ = X_new.shape\n",
    "    \n",
    "    # number of classes\n",
    "    n_classes = len(np.unique(y))\n",
    "    \n",
    "    \n",
    "    \n",
    "    # distance matrix\n",
    "    dist = np.sqrt(np.sum(X_new**2,axis=1)[:,None]+np.sum(X**2,axis=1)[None,:]-2*X_new.dot(X.T))\n",
    "    \n",
    "    # k nearest neighbor\n",
    "    knn = np.argsort(dist,axis=1)[:,0:k]\n",
    "    \n",
    "    y_pred = np.zeros(m_new)\n",
    "    for i in range(m_new):\n",
    "        # labels\n",
    "        nearest_labels = y[knn[i]]\n",
    "        # weights\n",
    "        if weights=='uniform':\n",
    "            w = np.ones(k)\n",
    "        elif weights=='distance':\n",
    "            w=1/dist[i,knn[i]]\n",
    "        else:\n",
    "            print('weights not recognized: should be uniform or distance')\n",
    "            return \n",
    "        # prediction\n",
    "        y_pred[i] = np.argmax(np.bincount(nearest_labels, minlength=n_classes, weights=w))\n",
    "    \n",
    "    return y_pred"
   ]
  },
  {
   "cell_type": "code",
   "execution_count": null,
   "metadata": {},
   "outputs": [],
   "source": []
  },
  {
   "cell_type": "markdown",
   "metadata": {},
   "source": [
    "## 2. Example: the MNIST (handwritten digits) dataset"
   ]
  },
  {
   "cell_type": "code",
   "execution_count": 4,
   "metadata": {},
   "outputs": [
    {
     "data": {
      "text/html": [
       "<div>\n",
       "<style scoped>\n",
       "    .dataframe tbody tr th:only-of-type {\n",
       "        vertical-align: middle;\n",
       "    }\n",
       "\n",
       "    .dataframe tbody tr th {\n",
       "        vertical-align: top;\n",
       "    }\n",
       "\n",
       "    .dataframe thead th {\n",
       "        text-align: right;\n",
       "    }\n",
       "</style>\n",
       "<table border=\"1\" class=\"dataframe\">\n",
       "  <thead>\n",
       "    <tr style=\"text-align: right;\">\n",
       "      <th></th>\n",
       "      <th>pixel 0</th>\n",
       "      <th>pixel 1</th>\n",
       "      <th>pixel 2</th>\n",
       "      <th>pixel 3</th>\n",
       "      <th>pixel 4</th>\n",
       "      <th>pixel 5</th>\n",
       "      <th>pixel 6</th>\n",
       "      <th>pixel 7</th>\n",
       "      <th>pixel 8</th>\n",
       "      <th>pixel 9</th>\n",
       "      <th>...</th>\n",
       "      <th>pixel 775</th>\n",
       "      <th>pixel 776</th>\n",
       "      <th>pixel 777</th>\n",
       "      <th>pixel 778</th>\n",
       "      <th>pixel 779</th>\n",
       "      <th>pixel 780</th>\n",
       "      <th>pixel 781</th>\n",
       "      <th>pixel 782</th>\n",
       "      <th>pixel 783</th>\n",
       "      <th>label</th>\n",
       "    </tr>\n",
       "  </thead>\n",
       "  <tbody>\n",
       "    <tr>\n",
       "      <th>0</th>\n",
       "      <td>0.0</td>\n",
       "      <td>0.0</td>\n",
       "      <td>0.0</td>\n",
       "      <td>0.0</td>\n",
       "      <td>0.0</td>\n",
       "      <td>0.0</td>\n",
       "      <td>0.0</td>\n",
       "      <td>0.0</td>\n",
       "      <td>0.0</td>\n",
       "      <td>0.0</td>\n",
       "      <td>...</td>\n",
       "      <td>0.0</td>\n",
       "      <td>0.0</td>\n",
       "      <td>0.0</td>\n",
       "      <td>0.0</td>\n",
       "      <td>0.0</td>\n",
       "      <td>0.0</td>\n",
       "      <td>0.0</td>\n",
       "      <td>0.0</td>\n",
       "      <td>0.0</td>\n",
       "      <td>5</td>\n",
       "    </tr>\n",
       "    <tr>\n",
       "      <th>1</th>\n",
       "      <td>0.0</td>\n",
       "      <td>0.0</td>\n",
       "      <td>0.0</td>\n",
       "      <td>0.0</td>\n",
       "      <td>0.0</td>\n",
       "      <td>0.0</td>\n",
       "      <td>0.0</td>\n",
       "      <td>0.0</td>\n",
       "      <td>0.0</td>\n",
       "      <td>0.0</td>\n",
       "      <td>...</td>\n",
       "      <td>0.0</td>\n",
       "      <td>0.0</td>\n",
       "      <td>0.0</td>\n",
       "      <td>0.0</td>\n",
       "      <td>0.0</td>\n",
       "      <td>0.0</td>\n",
       "      <td>0.0</td>\n",
       "      <td>0.0</td>\n",
       "      <td>0.0</td>\n",
       "      <td>0</td>\n",
       "    </tr>\n",
       "    <tr>\n",
       "      <th>2</th>\n",
       "      <td>0.0</td>\n",
       "      <td>0.0</td>\n",
       "      <td>0.0</td>\n",
       "      <td>0.0</td>\n",
       "      <td>0.0</td>\n",
       "      <td>0.0</td>\n",
       "      <td>0.0</td>\n",
       "      <td>0.0</td>\n",
       "      <td>0.0</td>\n",
       "      <td>0.0</td>\n",
       "      <td>...</td>\n",
       "      <td>0.0</td>\n",
       "      <td>0.0</td>\n",
       "      <td>0.0</td>\n",
       "      <td>0.0</td>\n",
       "      <td>0.0</td>\n",
       "      <td>0.0</td>\n",
       "      <td>0.0</td>\n",
       "      <td>0.0</td>\n",
       "      <td>0.0</td>\n",
       "      <td>4</td>\n",
       "    </tr>\n",
       "    <tr>\n",
       "      <th>3</th>\n",
       "      <td>0.0</td>\n",
       "      <td>0.0</td>\n",
       "      <td>0.0</td>\n",
       "      <td>0.0</td>\n",
       "      <td>0.0</td>\n",
       "      <td>0.0</td>\n",
       "      <td>0.0</td>\n",
       "      <td>0.0</td>\n",
       "      <td>0.0</td>\n",
       "      <td>0.0</td>\n",
       "      <td>...</td>\n",
       "      <td>0.0</td>\n",
       "      <td>0.0</td>\n",
       "      <td>0.0</td>\n",
       "      <td>0.0</td>\n",
       "      <td>0.0</td>\n",
       "      <td>0.0</td>\n",
       "      <td>0.0</td>\n",
       "      <td>0.0</td>\n",
       "      <td>0.0</td>\n",
       "      <td>1</td>\n",
       "    </tr>\n",
       "    <tr>\n",
       "      <th>4</th>\n",
       "      <td>0.0</td>\n",
       "      <td>0.0</td>\n",
       "      <td>0.0</td>\n",
       "      <td>0.0</td>\n",
       "      <td>0.0</td>\n",
       "      <td>0.0</td>\n",
       "      <td>0.0</td>\n",
       "      <td>0.0</td>\n",
       "      <td>0.0</td>\n",
       "      <td>0.0</td>\n",
       "      <td>...</td>\n",
       "      <td>0.0</td>\n",
       "      <td>0.0</td>\n",
       "      <td>0.0</td>\n",
       "      <td>0.0</td>\n",
       "      <td>0.0</td>\n",
       "      <td>0.0</td>\n",
       "      <td>0.0</td>\n",
       "      <td>0.0</td>\n",
       "      <td>0.0</td>\n",
       "      <td>9</td>\n",
       "    </tr>\n",
       "  </tbody>\n",
       "</table>\n",
       "<p>5 rows × 785 columns</p>\n",
       "</div>"
      ],
      "text/plain": [
       "   pixel 0  pixel 1  pixel 2  pixel 3  pixel 4  pixel 5  pixel 6  pixel 7  \\\n",
       "0      0.0      0.0      0.0      0.0      0.0      0.0      0.0      0.0   \n",
       "1      0.0      0.0      0.0      0.0      0.0      0.0      0.0      0.0   \n",
       "2      0.0      0.0      0.0      0.0      0.0      0.0      0.0      0.0   \n",
       "3      0.0      0.0      0.0      0.0      0.0      0.0      0.0      0.0   \n",
       "4      0.0      0.0      0.0      0.0      0.0      0.0      0.0      0.0   \n",
       "\n",
       "   pixel 8  pixel 9  ...  pixel 775  pixel 776  pixel 777  pixel 778  \\\n",
       "0      0.0      0.0  ...        0.0        0.0        0.0        0.0   \n",
       "1      0.0      0.0  ...        0.0        0.0        0.0        0.0   \n",
       "2      0.0      0.0  ...        0.0        0.0        0.0        0.0   \n",
       "3      0.0      0.0  ...        0.0        0.0        0.0        0.0   \n",
       "4      0.0      0.0  ...        0.0        0.0        0.0        0.0   \n",
       "\n",
       "   pixel 779  pixel 780  pixel 781  pixel 782  pixel 783  label  \n",
       "0        0.0        0.0        0.0        0.0        0.0      5  \n",
       "1        0.0        0.0        0.0        0.0        0.0      0  \n",
       "2        0.0        0.0        0.0        0.0        0.0      4  \n",
       "3        0.0        0.0        0.0        0.0        0.0      1  \n",
       "4        0.0        0.0        0.0        0.0        0.0      9  \n",
       "\n",
       "[5 rows x 785 columns]"
      ]
     },
     "execution_count": 4,
     "metadata": {},
     "output_type": "execute_result"
    }
   ],
   "source": [
    "# load the data\n",
    "url = 'https://raw.githubusercontent.com/um-perez-alvaro/Data-Science-Theory/master/Data/digits.csv'\n",
    "data = pd.read_csv(url)\n",
    "data.head(5) # display first 5 rows of the dataset"
   ]
  },
  {
   "cell_type": "code",
   "execution_count": 5,
   "metadata": {},
   "outputs": [
    {
     "data": {
      "text/plain": [
       "(5000, 785)"
      ]
     },
     "execution_count": 5,
     "metadata": {},
     "output_type": "execute_result"
    }
   ],
   "source": [
    "data.shape"
   ]
  },
  {
   "cell_type": "code",
   "execution_count": 6,
   "metadata": {},
   "outputs": [],
   "source": [
    "X = data.iloc[:,0:784].to_numpy() # pixels\n",
    "y = data['label'].to_numpy() # labels"
   ]
  },
  {
   "cell_type": "code",
   "execution_count": 7,
   "metadata": {},
   "outputs": [
    {
     "data": {
      "text/plain": [
       "(5000, 784)"
      ]
     },
     "execution_count": 7,
     "metadata": {},
     "output_type": "execute_result"
    }
   ],
   "source": [
    "X.shape"
   ]
  },
  {
   "cell_type": "code",
   "execution_count": 8,
   "metadata": {},
   "outputs": [
    {
     "data": {
      "text/plain": [
       "<matplotlib.image.AxesImage at 0x28ca1e742c8>"
      ]
     },
     "execution_count": 8,
     "metadata": {},
     "output_type": "execute_result"
    },
    {
     "data": {
      "image/png": "[encoded data removed]",
      "text/plain": [
       "<Figure size 432x288 with 1 Axes>"
      ]
     },
     "metadata": {
      "needs_background": "light"
     },
     "output_type": "display_data"
    }
   ],
   "source": [
    "# each row is a 28 x 28 pixels image of a hand-written digit\n",
    "row = 300 # grab a row\n",
    "plt.imshow(X[row].reshape(28,28), cmap='binary')"
   ]
  },
  {
   "cell_type": "code",
   "execution_count": 9,
   "metadata": {},
   "outputs": [
    {
     "data": {
      "text/plain": [
       "8"
      ]
     },
     "execution_count": 9,
     "metadata": {},
     "output_type": "execute_result"
    }
   ],
   "source": [
    "y[row]"
   ]
  },
  {
   "cell_type": "code",
   "execution_count": 10,
   "metadata": {},
   "outputs": [],
   "source": [
    "# load test data\n",
    "url = 'https://raw.githubusercontent.com/um-perez-alvaro/Data-Science-Theory/master/Data/digits_test.csv'\n",
    "test_data = pd.read_csv(url)"
   ]
  },
  {
   "cell_type": "code",
   "execution_count": 11,
   "metadata": {},
   "outputs": [
    {
     "data": {
      "text/plain": [
       "(2000, 785)"
      ]
     },
     "execution_count": 11,
     "metadata": {},
     "output_type": "execute_result"
    }
   ],
   "source": [
    "test_data.shape"
   ]
  },
  {
   "cell_type": "code",
   "execution_count": 12,
   "metadata": {},
   "outputs": [],
   "source": [
    "X_test = test_data.iloc[:,0:784].to_numpy() # pixels\n",
    "y_test = test_data['label'].to_numpy() # labels"
   ]
  },
  {
   "cell_type": "code",
   "execution_count": 24,
   "metadata": {},
   "outputs": [
    {
     "name": "stdout",
     "output_type": "stream",
     "text": [
      "Wall time: 1min 30s\n"
     ]
    }
   ],
   "source": [
    "%%time\n",
    "y_test_pred = knn_classifier_slow(10,X,y,X_test)"
   ]
  },
  {
   "cell_type": "code",
   "execution_count": 25,
   "metadata": {},
   "outputs": [
    {
     "name": "stdout",
     "output_type": "stream",
     "text": [
      "Wall time: 920 ms\n"
     ]
    }
   ],
   "source": [
    "%%time\n",
    "y_test_pred = knn_classifier(10,X,y,X_test)"
   ]
  },
  {
   "cell_type": "code",
   "execution_count": 15,
   "metadata": {},
   "outputs": [
    {
     "data": {
      "text/plain": [
       "array([[202.,   0.,   0.,   0.,   0.,   0.,   3.,   0.,   0.,   0.],\n",
       "       [  0., 222.,   1.,   0.,   1.,   0.,   0.,   0.,   0.,   0.],\n",
       "       [  1.,   7., 173.,   1.,   0.,   0.,   0.,   2.,   1.,   0.],\n",
       "       [  0.,  12.,   6., 171.,   0.,   1.,   1.,   2.,   2.,   0.],\n",
       "       [  0.,   7.,   0.,   0., 183.,   0.,   1.,   0.,   0.,  13.],\n",
       "       [  1.,   2.,   0.,   2.,   0., 172.,   4.,   0.,   3.,   1.],\n",
       "       [  2.,   2.,   0.,   0.,   0.,   1., 189.,   0.,   0.,   0.],\n",
       "       [  0.,   1.,   0.,   0.,   2.,   0.,   0., 201.,   0.,   6.],\n",
       "       [  2.,  15.,   0.,   6.,   2.,   1.,   4.,   1., 145.,   7.],\n",
       "       [  0.,   2.,   0.,   4.,   2.,   0.,   0.,   3.,   0., 204.]])"
      ]
     },
     "execution_count": 15,
     "metadata": {},
     "output_type": "execute_result"
    }
   ],
   "source": [
    "'confusion matrix'\n",
    "n_classes = 10\n",
    "C = np.zeros((n_classes,n_classes))\n",
    "for i in range(n_classes):\n",
    "    for j in range(n_classes):\n",
    "        C[i,j] = sum(y_test_pred[y_test==i]==j)\n",
    "C"
   ]
  },
  {
   "cell_type": "code",
   "execution_count": 16,
   "metadata": {},
   "outputs": [
    {
     "data": {
      "text/plain": [
       "93.1"
      ]
     },
     "execution_count": 16,
     "metadata": {},
     "output_type": "execute_result"
    }
   ],
   "source": [
    "# percentage of correct classification\n",
    "100*np.sum(y_test==y_test_pred)/len(y_test)"
   ]
  },
  {
   "cell_type": "markdown",
   "metadata": {},
   "source": [
    "## 3. Choosing weights and k"
   ]
  },
  {
   "cell_type": "markdown",
   "metadata": {},
   "source": [
    "We'll split the data (X,y) into a training set and a validation set "
   ]
  },
  {
   "cell_type": "code",
   "execution_count": 17,
   "metadata": {},
   "outputs": [],
   "source": [
    "# shuffle the data\n",
    "permutation = np.random.permutation(X.shape[0]) \n",
    "X = X[permutation]\n",
    "y = y[permutation]"
   ]
  },
  {
   "cell_type": "code",
   "execution_count": 18,
   "metadata": {},
   "outputs": [],
   "source": [
    "# split data into train and validation sets\n",
    "X_train, y_train = X[0:3000], y[0:3000]\n",
    "X_val, y_val = X[3000:5000], y[3000:5000]"
   ]
  },
  {
   "cell_type": "code",
   "execution_count": 19,
   "metadata": {},
   "outputs": [
    {
     "data": {
      "text/plain": [
       "<matplotlib.legend.Legend at 0x28cfe75b148>"
      ]
     },
     "execution_count": 19,
     "metadata": {},
     "output_type": "execute_result"
    },
    {
     "data": {
      "image/png": "[encoded data removed]",
      "text/plain": [
       "<Figure size 864x360 with 1 Axes>"
      ]
     },
     "metadata": {
      "needs_background": "light"
     },
     "output_type": "display_data"
    }
   ],
   "source": [
    "weights = ['uniform', 'distance']\n",
    "k_list = np.arange(1,25)\n",
    "\n",
    "plt.figure(figsize=(12,5))\n",
    "\n",
    "for i in range(len(weights)):\n",
    "    pct_incorrect = np.zeros(len(k_list))\n",
    "    for j in range(len(k_list)):\n",
    "        y_val_pred = knn_classifier(k_list[j],\n",
    "                                    X_train,y_train,X_val,\n",
    "                                    weights=weights[i])\n",
    "        # percentage of incorrect classification\n",
    "        pct_incorrect[j] = 100*np.sum(y_val!=y_val_pred)/len(y_val)\n",
    "    plt.plot(k_list, pct_incorrect,'o-.', label=weights[i])\n",
    "plt.legend(fontsize=15)"
   ]
  },
  {
   "cell_type": "markdown",
   "metadata": {},
   "source": [
    "## 4. Testing the classifier"
   ]
  },
  {
   "cell_type": "code",
   "execution_count": 20,
   "metadata": {},
   "outputs": [],
   "source": [
    "y_test_pred = knn_classifier(4,X,y,X_test, weights='distance')"
   ]
  },
  {
   "cell_type": "code",
   "execution_count": 21,
   "metadata": {},
   "outputs": [
    {
     "data": {
      "text/plain": [
       "94.5"
      ]
     },
     "execution_count": 21,
     "metadata": {},
     "output_type": "execute_result"
    }
   ],
   "source": [
    "# percentage of correct classification\n",
    "100*np.sum(y_test==y_test_pred)/len(y_test)"
   ]
  },
  {
   "cell_type": "code",
   "execution_count": 22,
   "metadata": {},
   "outputs": [
    {
     "data": {
      "text/plain": [
       "array([[202.,   0.,   1.,   0.,   0.,   0.,   2.,   0.,   0.,   0.],\n",
       "       [  0., 222.,   0.,   1.,   1.,   0.,   0.,   0.,   0.,   0.],\n",
       "       [  2.,   5., 176.,   0.,   0.,   0.,   0.,   0.,   2.,   0.],\n",
       "       [  0.,   4.,   7., 173.,   0.,   2.,   0.,   3.,   6.,   0.],\n",
       "       [  0.,   4.,   0.,   0., 185.,   1.,   1.,   0.,   0.,  13.],\n",
       "       [  1.,   0.,   0.,   3.,   0., 175.,   3.,   0.,   2.,   1.],\n",
       "       [  2.,   1.,   0.,   0.,   0.,   1., 190.,   0.,   0.,   0.],\n",
       "       [  0.,   0.,   0.,   0.,   0.,   0.,   0., 205.,   1.,   4.],\n",
       "       [  1.,   5.,   0.,   8.,   3.,   0.,   3.,   1., 157.,   5.],\n",
       "       [  0.,   1.,   0.,   4.,   3.,   1.,   0.,   1.,   0., 205.]])"
      ]
     },
     "execution_count": 22,
     "metadata": {},
     "output_type": "execute_result"
    }
   ],
   "source": [
    "'confusion matrix'\n",
    "n_classes = 10\n",
    "C = np.zeros((n_classes,n_classes))\n",
    "for i in range(n_classes):\n",
    "    for j in range(n_classes):\n",
    "        C[i,j] = sum(y_test_pred[y_test==i]==j)\n",
    "C"
   ]
  }
 ],
 "metadata": {
  "kernelspec": {
   "display_name": "Python 3",
   "language": "python",
   "name": "python3"
  },
  "language_info": {
   "codemirror_mode": {
    "name": "ipython",
    "version": 3
   },
   "file_extension": ".py",
   "mimetype": "text/x-python",
   "name": "python",
   "nbconvert_exporter": "python",
   "pygments_lexer": "ipython3",
   "version": "3.7.6"
  }
 },
 "nbformat": 4,
 "nbformat_minor": 4
}
