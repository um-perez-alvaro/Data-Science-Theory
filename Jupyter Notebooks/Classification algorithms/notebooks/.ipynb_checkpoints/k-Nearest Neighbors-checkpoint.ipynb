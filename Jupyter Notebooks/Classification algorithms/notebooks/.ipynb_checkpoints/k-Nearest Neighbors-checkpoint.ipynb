{
 "cells": [
  {
   "cell_type": "code",
   "execution_count": 4,
   "metadata": {},
   "outputs": [],
   "source": [
    "import numpy as np\n",
    "import matplotlib.pyplot as plt\n",
    "import pandas as pd"
   ]
  },
  {
   "cell_type": "markdown",
   "metadata": {},
   "source": [
    "# K-Nearest Neighbors (kNN)"
   ]
  },
  {
   "cell_type": "markdown",
   "metadata": {},
   "source": [
    "$k$-Nearest neighbors is one of the simplest predictive models there is. \n",
    "The only things it requires are:\n",
    "   1. Some notion of distance.\n",
    "   2. An assumption that points that are close to one another are similar."
   ]
  },
  {
   "cell_type": "markdown",
   "metadata": {},
   "source": [
    "Let's say we've picked a number  $𝑘$  (like 3 or 5). Then, when we want to classify some new data point, we find the  𝑘  nearest labeled points and let them vote on the new ouput."
   ]
  },
  {
   "cell_type": "markdown",
   "metadata": {},
   "source": [
    "**Contents**\n",
    "\n",
    "- [knn implementation](#1.knn-implementation)\n",
    "- [Example: the MNIST dataset](#2.-Example:-the-MNIST-dataset)\n",
    "- [Choosing k](#3.-Choosing-k)"
   ]
  },
  {
   "cell_type": "markdown",
   "metadata": {},
   "source": [
    "## 1. knn implementation"
   ]
  },
  {
   "cell_type": "code",
   "execution_count": 28,
   "metadata": {},
   "outputs": [],
   "source": [
    "def knn_classifier(k,X,y,X_new):\n",
    "    'one-loop version'\n",
    "    '''\n",
    "    INPUT\n",
    "    k: number of neighbors\n",
    "    X,y : data points and their classes\n",
    "    X_new : points to be classified\n",
    "    \n",
    "    OUTPUT:\n",
    "    y_pred: class predictions\n",
    "    '''\n",
    "    \n",
    "    # number of points\n",
    "    m = X.shape[0] # number of rows of X (number of points)\n",
    "    m_new = X_new.shape[0] # number of rows of X_new (number of new points)\n",
    "    \n",
    "    # number of classes\n",
    "    n_classes = len(np.unique(y))\n",
    "    \n",
    "    # initialize y_pred vector\n",
    "    y_pred = np.zeros(m_new)\n",
    "\n",
    "    for i in range(m_new):\n",
    "        # distances from X_new[i] to data points X\n",
    "        dist = np.linalg.norm(X-X_new[i], axis=1)\n",
    "        # k nearest kneighbors\n",
    "        knn = np.argsort(dist)[0:k] \n",
    "        # labels\n",
    "        nearest_labels = y[knn]\n",
    "        # majority vote; break ties by choosing the smaller label.                          \n",
    "        y_pred[i] = np.argmax(np.bincount(nearest_labels, minlength=n_classes))\n",
    "    return y_pred"
   ]
  },
  {
   "cell_type": "code",
   "execution_count": 13,
   "metadata": {},
   "outputs": [],
   "source": [
    "def knn_classifier(X,y,X_new,k):\n",
    "    'no-loop version'\n",
    "    \n",
    "    m = X.shape[0] # number of rows of X (number of points)\n",
    "    m_new = X_new[0] # number of rows of X_new (number of new points)\n",
    "    \n",
    "    # number of classes\n",
    "    n_classes = len(np.unique(y))\n",
    "    \n",
    "    # distance matrix\n",
    "    dist = np.sqrt(np.square(X_new).sum(1).reshape([-1,1])+np.square(X).sum(1).reshape([1,-1])-2*X_new.dot(X.T))\n",
    "    \n",
    "    # k nearest neighbor\n",
    "    knn = np.argsort(dist,axis=1)[:,0:k]\n",
    "    \n",
    "    # labels\n",
    "    nearest_labels = y[knn]\n",
    "    # prediction\n",
    "    y_pred = np.argmax(np.apply_along_axis(np.bincount, 1,nearest_labels, minlength=n_classes),axis=1)\n",
    "    \n",
    "    return y_pred"
   ]
  },
  {
   "cell_type": "code",
   "execution_count": 42,
   "metadata": {},
   "outputs": [],
   "source": [
    "def knn_classifier(X,y,X_new,k, weights='uniform'):\n",
    "    'no-loop version V2'\n",
    "    \n",
    "    m,_ = X.shape\n",
    "    m_new,_ = X_new.shape\n",
    "    \n",
    "    # number of classes\n",
    "    n_classes = len(np.unique(y))\n",
    "    \n",
    "    \n",
    "    \n",
    "    # distance matrix\n",
    "    dist = np.sqrt(np.square(X_new).sum(axis=1).reshape([m_new,1])+np.square(X).sum(axis=1).reshape([1,m])-2*X_new.dot(X.T))\n",
    "    \n",
    "    # k nearest neighbor\n",
    "    knn = np.argsort(dist,axis=1)[:,0:k]\n",
    "    \n",
    "    y_pred = np.zeros(m_new)\n",
    "    for i in range(m_new):\n",
    "        # labels\n",
    "        nearest_labels = y[knn[i]]\n",
    "        # weights\n",
    "        if weights=='uniform':\n",
    "            w = np.ones(k)\n",
    "        elif weights=='distance':\n",
    "            w=1/dist[i,knn[i]]\n",
    "        # prediction\n",
    "        y_pred[i] = np.argmax(np.bincount(nearest_labels, minlength=n_classes, weights=w))\n",
    "    \n",
    "    return y_pred"
   ]
  },
  {
   "cell_type": "markdown",
   "metadata": {},
   "source": [
    "## 2. Example: the MNIST (handwritten digits) dataset"
   ]
  },
  {
   "cell_type": "code",
   "execution_count": 6,
   "metadata": {},
   "outputs": [
    {
     "data": {
      "text/html": [
       "<div>\n",
       "<style scoped>\n",
       "    .dataframe tbody tr th:only-of-type {\n",
       "        vertical-align: middle;\n",
       "    }\n",
       "\n",
       "    .dataframe tbody tr th {\n",
       "        vertical-align: top;\n",
       "    }\n",
       "\n",
       "    .dataframe thead th {\n",
       "        text-align: right;\n",
       "    }\n",
       "</style>\n",
       "<table border=\"1\" class=\"dataframe\">\n",
       "  <thead>\n",
       "    <tr style=\"text-align: right;\">\n",
       "      <th></th>\n",
       "      <th>pixel 0</th>\n",
       "      <th>pixel 1</th>\n",
       "      <th>pixel 2</th>\n",
       "      <th>pixel 3</th>\n",
       "      <th>pixel 4</th>\n",
       "      <th>pixel 5</th>\n",
       "      <th>pixel 6</th>\n",
       "      <th>pixel 7</th>\n",
       "      <th>pixel 8</th>\n",
       "      <th>pixel 9</th>\n",
       "      <th>...</th>\n",
       "      <th>pixel 775</th>\n",
       "      <th>pixel 776</th>\n",
       "      <th>pixel 777</th>\n",
       "      <th>pixel 778</th>\n",
       "      <th>pixel 779</th>\n",
       "      <th>pixel 780</th>\n",
       "      <th>pixel 781</th>\n",
       "      <th>pixel 782</th>\n",
       "      <th>pixel 783</th>\n",
       "      <th>label</th>\n",
       "    </tr>\n",
       "  </thead>\n",
       "  <tbody>\n",
       "    <tr>\n",
       "      <th>0</th>\n",
       "      <td>0.0</td>\n",
       "      <td>0.0</td>\n",
       "      <td>0.0</td>\n",
       "      <td>0.0</td>\n",
       "      <td>0.0</td>\n",
       "      <td>0.0</td>\n",
       "      <td>0.0</td>\n",
       "      <td>0.0</td>\n",
       "      <td>0.0</td>\n",
       "      <td>0.0</td>\n",
       "      <td>...</td>\n",
       "      <td>0.0</td>\n",
       "      <td>0.0</td>\n",
       "      <td>0.0</td>\n",
       "      <td>0.0</td>\n",
       "      <td>0.0</td>\n",
       "      <td>0.0</td>\n",
       "      <td>0.0</td>\n",
       "      <td>0.0</td>\n",
       "      <td>0.0</td>\n",
       "      <td>5</td>\n",
       "    </tr>\n",
       "    <tr>\n",
       "      <th>1</th>\n",
       "      <td>0.0</td>\n",
       "      <td>0.0</td>\n",
       "      <td>0.0</td>\n",
       "      <td>0.0</td>\n",
       "      <td>0.0</td>\n",
       "      <td>0.0</td>\n",
       "      <td>0.0</td>\n",
       "      <td>0.0</td>\n",
       "      <td>0.0</td>\n",
       "      <td>0.0</td>\n",
       "      <td>...</td>\n",
       "      <td>0.0</td>\n",
       "      <td>0.0</td>\n",
       "      <td>0.0</td>\n",
       "      <td>0.0</td>\n",
       "      <td>0.0</td>\n",
       "      <td>0.0</td>\n",
       "      <td>0.0</td>\n",
       "      <td>0.0</td>\n",
       "      <td>0.0</td>\n",
       "      <td>0</td>\n",
       "    </tr>\n",
       "    <tr>\n",
       "      <th>2</th>\n",
       "      <td>0.0</td>\n",
       "      <td>0.0</td>\n",
       "      <td>0.0</td>\n",
       "      <td>0.0</td>\n",
       "      <td>0.0</td>\n",
       "      <td>0.0</td>\n",
       "      <td>0.0</td>\n",
       "      <td>0.0</td>\n",
       "      <td>0.0</td>\n",
       "      <td>0.0</td>\n",
       "      <td>...</td>\n",
       "      <td>0.0</td>\n",
       "      <td>0.0</td>\n",
       "      <td>0.0</td>\n",
       "      <td>0.0</td>\n",
       "      <td>0.0</td>\n",
       "      <td>0.0</td>\n",
       "      <td>0.0</td>\n",
       "      <td>0.0</td>\n",
       "      <td>0.0</td>\n",
       "      <td>4</td>\n",
       "    </tr>\n",
       "    <tr>\n",
       "      <th>3</th>\n",
       "      <td>0.0</td>\n",
       "      <td>0.0</td>\n",
       "      <td>0.0</td>\n",
       "      <td>0.0</td>\n",
       "      <td>0.0</td>\n",
       "      <td>0.0</td>\n",
       "      <td>0.0</td>\n",
       "      <td>0.0</td>\n",
       "      <td>0.0</td>\n",
       "      <td>0.0</td>\n",
       "      <td>...</td>\n",
       "      <td>0.0</td>\n",
       "      <td>0.0</td>\n",
       "      <td>0.0</td>\n",
       "      <td>0.0</td>\n",
       "      <td>0.0</td>\n",
       "      <td>0.0</td>\n",
       "      <td>0.0</td>\n",
       "      <td>0.0</td>\n",
       "      <td>0.0</td>\n",
       "      <td>1</td>\n",
       "    </tr>\n",
       "    <tr>\n",
       "      <th>4</th>\n",
       "      <td>0.0</td>\n",
       "      <td>0.0</td>\n",
       "      <td>0.0</td>\n",
       "      <td>0.0</td>\n",
       "      <td>0.0</td>\n",
       "      <td>0.0</td>\n",
       "      <td>0.0</td>\n",
       "      <td>0.0</td>\n",
       "      <td>0.0</td>\n",
       "      <td>0.0</td>\n",
       "      <td>...</td>\n",
       "      <td>0.0</td>\n",
       "      <td>0.0</td>\n",
       "      <td>0.0</td>\n",
       "      <td>0.0</td>\n",
       "      <td>0.0</td>\n",
       "      <td>0.0</td>\n",
       "      <td>0.0</td>\n",
       "      <td>0.0</td>\n",
       "      <td>0.0</td>\n",
       "      <td>9</td>\n",
       "    </tr>\n",
       "  </tbody>\n",
       "</table>\n",
       "<p>5 rows × 785 columns</p>\n",
       "</div>"
      ],
      "text/plain": [
       "   pixel 0  pixel 1  pixel 2  pixel 3  pixel 4  pixel 5  pixel 6  pixel 7  \\\n",
       "0      0.0      0.0      0.0      0.0      0.0      0.0      0.0      0.0   \n",
       "1      0.0      0.0      0.0      0.0      0.0      0.0      0.0      0.0   \n",
       "2      0.0      0.0      0.0      0.0      0.0      0.0      0.0      0.0   \n",
       "3      0.0      0.0      0.0      0.0      0.0      0.0      0.0      0.0   \n",
       "4      0.0      0.0      0.0      0.0      0.0      0.0      0.0      0.0   \n",
       "\n",
       "   pixel 8  pixel 9  ...  pixel 775  pixel 776  pixel 777  pixel 778  \\\n",
       "0      0.0      0.0  ...        0.0        0.0        0.0        0.0   \n",
       "1      0.0      0.0  ...        0.0        0.0        0.0        0.0   \n",
       "2      0.0      0.0  ...        0.0        0.0        0.0        0.0   \n",
       "3      0.0      0.0  ...        0.0        0.0        0.0        0.0   \n",
       "4      0.0      0.0  ...        0.0        0.0        0.0        0.0   \n",
       "\n",
       "   pixel 779  pixel 780  pixel 781  pixel 782  pixel 783  label  \n",
       "0        0.0        0.0        0.0        0.0        0.0      5  \n",
       "1        0.0        0.0        0.0        0.0        0.0      0  \n",
       "2        0.0        0.0        0.0        0.0        0.0      4  \n",
       "3        0.0        0.0        0.0        0.0        0.0      1  \n",
       "4        0.0        0.0        0.0        0.0        0.0      9  \n",
       "\n",
       "[5 rows x 785 columns]"
      ]
     },
     "execution_count": 6,
     "metadata": {},
     "output_type": "execute_result"
    }
   ],
   "source": [
    "# load the data\n",
    "url = 'https://raw.githubusercontent.com/um-perez-alvaro/Data-Science-Theory/master/Data/digits.csv'\n",
    "data = pd.read_csv(url)\n",
    "data.head(5) # display first 5 rows of the dataset"
   ]
  },
  {
   "cell_type": "code",
   "execution_count": 36,
   "metadata": {},
   "outputs": [],
   "source": [
    "X = data.iloc[:,0:784].to_numpy() # pixels\n",
    "y = data['label'].to_numpy() # labels"
   ]
  },
  {
   "cell_type": "code",
   "execution_count": 37,
   "metadata": {},
   "outputs": [],
   "source": [
    "X = X[0:3000]"
   ]
  },
  {
   "cell_type": "code",
   "execution_count": 12,
   "metadata": {},
   "outputs": [
    {
     "data": {
      "text/plain": [
       "<matplotlib.image.AxesImage at 0x17f44ae53c8>"
      ]
     },
     "execution_count": 12,
     "metadata": {},
     "output_type": "execute_result"
    },
    {
     "data": {
      "image/png": "[encoded data removed]",
      "text/plain": [
       "<Figure size 432x288 with 1 Axes>"
      ]
     },
     "metadata": {
      "needs_background": "light"
     },
     "output_type": "display_data"
    }
   ],
   "source": [
    "# each row is a 28 x 28 pixels image\n",
    "row = 25 # grab a row\n",
    "plt.imshow(X[row].reshape(28,28), cmap='binary')"
   ]
  },
  {
   "cell_type": "code",
   "execution_count": 13,
   "metadata": {},
   "outputs": [
    {
     "data": {
      "text/plain": [
       "2"
      ]
     },
     "execution_count": 13,
     "metadata": {},
     "output_type": "execute_result"
    }
   ],
   "source": [
    "y[row]"
   ]
  },
  {
   "cell_type": "code",
   "execution_count": 33,
   "metadata": {},
   "outputs": [],
   "source": [
    "# load test data\n",
    "url = 'https://raw.githubusercontent.com/um-perez-alvaro/Data-Science-Theory/master/Data/digits_test.csv'\n",
    "test_data = pd.read_csv(url)"
   ]
  },
  {
   "cell_type": "code",
   "execution_count": 38,
   "metadata": {},
   "outputs": [],
   "source": [
    "X_test = test_data.iloc[:,0:784].to_numpy() # pixels\n",
    "y_test = test_data['label'].to_numpy() # labels"
   ]
  },
  {
   "cell_type": "code",
   "execution_count": 39,
   "metadata": {},
   "outputs": [],
   "source": [
    "# let's use (X,y) and the knn method to predict the class of the X_test points\n",
    "y_test_pred = knn_classifier(10,X,y,X_test)"
   ]
  },
  {
   "cell_type": "code",
   "execution_count": 40,
   "metadata": {},
   "outputs": [
    {
     "data": {
      "text/plain": [
       "array([[202.,   0.,   0.,   0.,   0.,   0.,   3.,   0.,   0.,   0.],\n",
       "       [  0., 222.,   1.,   0.,   1.,   0.,   0.,   0.,   0.,   0.],\n",
       "       [  1.,   9., 168.,   1.,   2.,   0.,   0.,   2.,   2.,   0.],\n",
       "       [  0.,  11.,   8., 169.,   0.,   1.,   1.,   4.,   1.,   0.],\n",
       "       [  0.,  10.,   0.,   0., 174.,   0.,   0.,   2.,   0.,  18.],\n",
       "       [  1.,   3.,   0.,   4.,   0., 168.,   4.,   0.,   3.,   2.],\n",
       "       [  4.,   2.,   1.,   0.,   0.,   2., 185.,   0.,   0.,   0.],\n",
       "       [  0.,   3.,   0.,   0.,   2.,   0.,   0., 200.,   0.,   5.],\n",
       "       [  3.,  17.,   1.,   7.,   3.,   6.,   4.,   1., 134.,   7.],\n",
       "       [  0.,   3.,   0.,   4.,   6.,   0.,   0.,   4.,   0., 198.]])"
      ]
     },
     "execution_count": 40,
     "metadata": {},
     "output_type": "execute_result"
    }
   ],
   "source": [
    "'confusion matrix'\n",
    "n_classes = 10\n",
    "C = np.zeros((n_classes,n_classes))\n",
    "for i in range(n_classes):\n",
    "    for j in range(n_classes):\n",
    "        C[i,j] = sum(y_test_pred[y_test==i]==j)\n",
    "C"
   ]
  },
  {
   "cell_type": "code",
   "execution_count": 42,
   "metadata": {},
   "outputs": [
    {
     "data": {
      "text/plain": [
       "91.0"
      ]
     },
     "execution_count": 42,
     "metadata": {},
     "output_type": "execute_result"
    }
   ],
   "source": [
    "# percentage of correct classification\n",
    "100*np.sum(y_test==y_test_pred)/len(y_test)"
   ]
  },
  {
   "cell_type": "markdown",
   "metadata": {},
   "source": [
    "## 3. Choosing k"
   ]
  }
 ],
 "metadata": {
  "kernelspec": {
   "display_name": "Python 3",
   "language": "python",
   "name": "python3"
  },
  "language_info": {
   "codemirror_mode": {
    "name": "ipython",
    "version": 3
   },
   "file_extension": ".py",
   "mimetype": "text/x-python",
   "name": "python",
   "nbconvert_exporter": "python",
   "pygments_lexer": "ipython3",
   "version": "3.7.6"
  }
 },
 "nbformat": 4,
 "nbformat_minor": 4
}
