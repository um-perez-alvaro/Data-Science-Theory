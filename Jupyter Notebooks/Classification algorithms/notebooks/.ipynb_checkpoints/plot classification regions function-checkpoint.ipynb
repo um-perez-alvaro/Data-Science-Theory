{
 "cells": [
  {
   "cell_type": "code",
   "execution_count": 1,
   "metadata": {},
   "outputs": [],
   "source": [
    "def plot_logregression_regions(X, y, theta, degree=0):\n",
    "    from matplotlib.colors import ListedColormap\n",
    "    # create a 500x500 meshgrid\n",
    "    m_plot = 500\n",
    "    x1 = np.linspace(X[:,0].min()-0.5, X[:,0].max()+0.5, m_plot)\n",
    "    x2 = np.linspace(X[:,1].min()-0.5,X[:,1].max()+0.5, m_plot)\n",
    "    X1, X2 = np.meshgrid(x1, x2) \n",
    "    X_plot = np.c_[X1.ravel(), X2.ravel()]\n",
    "    \n",
    "    X_plot_poly = build_poly_features(X_plot,degree=degree)\n",
    "\n",
    "    # evaluate the logistic regression model at each point of the mesh grid    \n",
    "    y_plot = sigmoid(X_plot_poly.dot(theta))\n",
    "        \n",
    "    # class prediction    \n",
    "    y_plot[y_plot>=0.5]=1\n",
    "    y_plot[y_plot<0.5]=0\n",
    "    y_plot = y_plot.reshape(X1.shape)\n",
    "\n",
    "    custom_cmap = ListedColormap(['C0','C1'])\n",
    "    # contour map\n",
    "    plt.figure(figsize=(12,5))\n",
    "    plt.contourf(X1, X2, y_plot, alpha=0.3, cmap=custom_cmap)\n",
    "    \n",
    "    \n",
    "    plt.plot(X[y==0,0],X[y==0,1],'o',label = 'class '+str(0))\n",
    "    plt.plot(X[y==1,0],X[y==1,1],'o',label = 'class '+str(1))\n",
    "    plt.legend(fontsize=15)"
   ]
  },
  {
   "cell_type": "code",
   "execution_count": null,
   "metadata": {},
   "outputs": [],
   "source": []
  }
 ],
 "metadata": {
  "kernelspec": {
   "display_name": "Python 3",
   "language": "python",
   "name": "python3"
  },
  "language_info": {
   "codemirror_mode": {
    "name": "ipython",
    "version": 3
   },
   "file_extension": ".py",
   "mimetype": "text/x-python",
   "name": "python",
   "nbconvert_exporter": "python",
   "pygments_lexer": "ipython3",
   "version": "3.8.5"
  }
 },
 "nbformat": 4,
 "nbformat_minor": 4
}
