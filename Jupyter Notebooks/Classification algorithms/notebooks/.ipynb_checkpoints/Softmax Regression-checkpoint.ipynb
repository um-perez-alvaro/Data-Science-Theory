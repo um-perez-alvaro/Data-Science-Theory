{
 "cells": [
  {
   "cell_type": "code",
   "execution_count": 3,
   "metadata": {},
   "outputs": [],
   "source": [
    "import numpy as np\n",
    "import matplotlib.pyplot as plt\n",
    "import pandas as pd"
   ]
  },
  {
   "cell_type": "markdown",
   "metadata": {},
   "source": [
    "# Softmax Regression"
   ]
  },
  {
   "cell_type": "markdown",
   "metadata": {},
   "source": [
    "Softmax regression is a generalization of logistic regression to the case where we want to handle multiple classes (k  classes)"
   ]
  },
  {
   "cell_type": "code",
   "execution_count": 17,
   "metadata": {},
   "outputs": [],
   "source": [
    "def softmax(X,theta):\n",
    "    m,n = X.shape\n",
    "    Y = np.exp(X.dot(theta))\n",
    "    row_sum = np.sum(Y,axis=1)[:,None]\n",
    "    return Y/row_sum"
   ]
  },
  {
   "cell_type": "code",
   "execution_count": 18,
   "metadata": {},
   "outputs": [
    {
     "data": {
      "text/plain": [
       "array([[0.50782848, 0.49217152],\n",
       "       [0.95844098, 0.04155902],\n",
       "       [0.9832829 , 0.0167171 ],\n",
       "       [0.84114387, 0.15885613],\n",
       "       [0.08197904, 0.91802096]])"
      ]
     },
     "execution_count": 18,
     "metadata": {},
     "output_type": "execute_result"
    }
   ],
   "source": [
    "# check that it works; notice that the entries of each row add to 1'\n",
    "X = np.random.randn(5,3)\n",
    "theta = np.random.randn(3,2)\n",
    "softmax(X,theta)"
   ]
  },
  {
   "cell_type": "code",
   "execution_count": 4,
   "metadata": {},
   "outputs": [],
   "source": [
    "def softmax_cost(X,theta,Y):\n",
    "    m = X.shape[0]\n",
    "    P = softmax(X,theta)\n",
    "    return (-1/m)*np.sum(Y*np.log(P))"
   ]
  },
  {
   "cell_type": "code",
   "execution_count": 5,
   "metadata": {},
   "outputs": [],
   "source": [
    "def one_hot_encoding(y):\n",
    "    Y = np.zeros((len(y),len(np.unique(y))))\n",
    "    Y[np.arange(len(y)),y] = 1\n",
    "    return Y"
   ]
  },
  {
   "cell_type": "code",
   "execution_count": 6,
   "metadata": {},
   "outputs": [
    {
     "data": {
      "text/plain": [
       "array([[1., 0., 0., 0., 0.],\n",
       "       [0., 1., 0., 0., 0.],\n",
       "       [0., 1., 0., 0., 0.],\n",
       "       [0., 0., 0., 1., 0.],\n",
       "       [0., 0., 0., 0., 1.],\n",
       "       [0., 0., 1., 0., 0.],\n",
       "       [0., 0., 1., 0., 0.],\n",
       "       [1., 0., 0., 0., 0.]])"
      ]
     },
     "execution_count": 6,
     "metadata": {},
     "output_type": "execute_result"
    }
   ],
   "source": [
    "# chekc that it works\n",
    "y = np.array([0,1,1,3,4,2,2,0])\n",
    "Y = one_hot_encoding(y)\n",
    "Y"
   ]
  },
  {
   "cell_type": "code",
   "execution_count": 7,
   "metadata": {},
   "outputs": [],
   "source": [
    "def softmaxregression_GD(X,Y,learning_rate,n_epochs, return_cost=False):\n",
    "    \n",
    "    m,n = X.shape\n",
    "    k = len(np.unique(y))\n",
    "        \n",
    "    # initialize vector theta\n",
    "    theta = np.random.randn(n,k)\n",
    "    \n",
    "    # initialize cost vector\n",
    "    if return_cost:\n",
    "        cost = np.zeros(n_epochs)\n",
    "        \n",
    "    # gradient descent iterations    \n",
    "    for i in range(n_epochs):\n",
    "        gradient = (1/m)*X.T.dot(softmax(X,theta)-Y)\n",
    "        theta = theta - learning_rate * gradient\n",
    "        if return_cost:\n",
    "            cost[i] = softmax_cost(X,theta,Y)\n",
    "            \n",
    "    # store results        \n",
    "    results = {}\n",
    "    results['theta'] = theta\n",
    "    if return_cost:\n",
    "        results['cost'] = cost\n",
    "        \n",
    "    return results"
   ]
  },
  {
   "cell_type": "markdown",
   "metadata": {},
   "source": [
    "## Example: The Iris Dataset"
   ]
  },
  {
   "cell_type": "code",
   "execution_count": 8,
   "metadata": {},
   "outputs": [
    {
     "data": {
      "text/html": [
       "<div>\n",
       "<style scoped>\n",
       "    .dataframe tbody tr th:only-of-type {\n",
       "        vertical-align: middle;\n",
       "    }\n",
       "\n",
       "    .dataframe tbody tr th {\n",
       "        vertical-align: top;\n",
       "    }\n",
       "\n",
       "    .dataframe thead th {\n",
       "        text-align: right;\n",
       "    }\n",
       "</style>\n",
       "<table border=\"1\" class=\"dataframe\">\n",
       "  <thead>\n",
       "    <tr style=\"text-align: right;\">\n",
       "      <th></th>\n",
       "      <th>sepal_length</th>\n",
       "      <th>sepal_width</th>\n",
       "      <th>petal_length</th>\n",
       "      <th>petal_width</th>\n",
       "      <th>species</th>\n",
       "    </tr>\n",
       "  </thead>\n",
       "  <tbody>\n",
       "    <tr>\n",
       "      <th>0</th>\n",
       "      <td>5.1</td>\n",
       "      <td>3.5</td>\n",
       "      <td>1.4</td>\n",
       "      <td>0.2</td>\n",
       "      <td>Iris-setosa</td>\n",
       "    </tr>\n",
       "    <tr>\n",
       "      <th>1</th>\n",
       "      <td>4.9</td>\n",
       "      <td>3.0</td>\n",
       "      <td>1.4</td>\n",
       "      <td>0.2</td>\n",
       "      <td>Iris-setosa</td>\n",
       "    </tr>\n",
       "    <tr>\n",
       "      <th>2</th>\n",
       "      <td>4.7</td>\n",
       "      <td>3.2</td>\n",
       "      <td>1.3</td>\n",
       "      <td>0.2</td>\n",
       "      <td>Iris-setosa</td>\n",
       "    </tr>\n",
       "    <tr>\n",
       "      <th>3</th>\n",
       "      <td>4.6</td>\n",
       "      <td>3.1</td>\n",
       "      <td>1.5</td>\n",
       "      <td>0.2</td>\n",
       "      <td>Iris-setosa</td>\n",
       "    </tr>\n",
       "    <tr>\n",
       "      <th>4</th>\n",
       "      <td>5.0</td>\n",
       "      <td>3.6</td>\n",
       "      <td>1.4</td>\n",
       "      <td>0.2</td>\n",
       "      <td>Iris-setosa</td>\n",
       "    </tr>\n",
       "  </tbody>\n",
       "</table>\n",
       "</div>"
      ],
      "text/plain": [
       "   sepal_length  sepal_width  petal_length  petal_width      species\n",
       "0           5.1          3.5           1.4          0.2  Iris-setosa\n",
       "1           4.9          3.0           1.4          0.2  Iris-setosa\n",
       "2           4.7          3.2           1.3          0.2  Iris-setosa\n",
       "3           4.6          3.1           1.5          0.2  Iris-setosa\n",
       "4           5.0          3.6           1.4          0.2  Iris-setosa"
      ]
     },
     "execution_count": 8,
     "metadata": {},
     "output_type": "execute_result"
    }
   ],
   "source": [
    "url = 'https://raw.githubusercontent.com/um-perez-alvaro/Data-Science-Practice/master/Data/iris.csv'\n",
    "data = pd.read_csv(url)\n",
    "data.head(5) #first 5 rows"
   ]
  },
  {
   "cell_type": "code",
   "execution_count": 9,
   "metadata": {},
   "outputs": [
    {
     "data": {
      "text/plain": [
       "array(['Iris-setosa', 'Iris-versicolor', 'Iris-virginica'], dtype=object)"
      ]
     },
     "execution_count": 9,
     "metadata": {},
     "output_type": "execute_result"
    }
   ],
   "source": [
    "data['species'].unique()"
   ]
  },
  {
   "cell_type": "code",
   "execution_count": 10,
   "metadata": {},
   "outputs": [],
   "source": [
    "X = data[['sepal_length','sepal_width','petal_length','petal_width']].to_numpy()\n",
    "y = data['species'].to_numpy()"
   ]
  },
  {
   "cell_type": "code",
   "execution_count": 11,
   "metadata": {},
   "outputs": [],
   "source": [
    "# map classes to (0,1,2)\n",
    "y[y=='Iris-setosa']=0\n",
    "y[y=='Iris-versicolor']=1\n",
    "y[y=='Iris-virginica']=2\n",
    "y = y.astype(int)"
   ]
  },
  {
   "cell_type": "code",
   "execution_count": 12,
   "metadata": {},
   "outputs": [
    {
     "data": {
      "text/plain": [
       "array([0, 0, 0, 0, 0, 0, 0, 0, 0, 0, 0, 0, 0, 0, 0, 0, 0, 0, 0, 0, 0, 0,\n",
       "       0, 0, 0, 0, 0, 0, 0, 0, 0, 0, 0, 0, 0, 0, 0, 0, 0, 0, 0, 0, 0, 0,\n",
       "       0, 0, 0, 0, 0, 0, 1, 1, 1, 1, 1, 1, 1, 1, 1, 1, 1, 1, 1, 1, 1, 1,\n",
       "       1, 1, 1, 1, 1, 1, 1, 1, 1, 1, 1, 1, 1, 1, 1, 1, 1, 1, 1, 1, 1, 1,\n",
       "       1, 1, 1, 1, 1, 1, 1, 1, 1, 1, 1, 1, 2, 2, 2, 2, 2, 2, 2, 2, 2, 2,\n",
       "       2, 2, 2, 2, 2, 2, 2, 2, 2, 2, 2, 2, 2, 2, 2, 2, 2, 2, 2, 2, 2, 2,\n",
       "       2, 2, 2, 2, 2, 2, 2, 2, 2, 2, 2, 2, 2, 2, 2, 2, 2, 2])"
      ]
     },
     "execution_count": 12,
     "metadata": {},
     "output_type": "execute_result"
    }
   ],
   "source": [
    "y"
   ]
  },
  {
   "cell_type": "code",
   "execution_count": 13,
   "metadata": {},
   "outputs": [],
   "source": [
    "# one hot encoding\n",
    "Y = one_hot_encoding(y)"
   ]
  },
  {
   "cell_type": "code",
   "execution_count": 14,
   "metadata": {},
   "outputs": [],
   "source": [
    "s = 0.1\n",
    "n_iterations = 1000\n",
    "results = softmaxregression_GD(X,Y,\n",
    "                               learning_rate = 0.1,\n",
    "                               n_epochs=1000,\n",
    "                               return_cost=True)"
   ]
  },
  {
   "cell_type": "code",
   "execution_count": 15,
   "metadata": {},
   "outputs": [
    {
     "data": {
      "text/plain": [
       "[<matplotlib.lines.Line2D at 0x27ec7979ec8>]"
      ]
     },
     "execution_count": 15,
     "metadata": {},
     "output_type": "execute_result"
    },
    {
     "data": {
      "image/png": "[encoded data removed]",
      "text/plain": [
       "<Figure size 432x288 with 1 Axes>"
      ]
     },
     "metadata": {
      "needs_background": "light"
     },
     "output_type": "display_data"
    }
   ],
   "source": [
    "cost = results['cost']\n",
    "plt.plot(cost)"
   ]
  },
  {
   "cell_type": "code",
   "execution_count": 16,
   "metadata": {},
   "outputs": [],
   "source": [
    "theta = results['theta']"
   ]
  },
  {
   "cell_type": "code",
   "execution_count": 17,
   "metadata": {},
   "outputs": [
    {
     "data": {
      "text/plain": [
       "array([[0.99 , 0.01 , 0.   ],\n",
       "       [0.974, 0.026, 0.   ],\n",
       "       [0.985, 0.015, 0.   ],\n",
       "       [0.967, 0.033, 0.   ],\n",
       "       [0.992, 0.008, 0.   ],\n",
       "       [0.991, 0.009, 0.   ],\n",
       "       [0.986, 0.014, 0.   ],\n",
       "       [0.984, 0.016, 0.   ],\n",
       "       [0.962, 0.038, 0.   ],\n",
       "       [0.971, 0.029, 0.   ],\n",
       "       [0.992, 0.008, 0.   ],\n",
       "       [0.976, 0.024, 0.   ],\n",
       "       [0.973, 0.027, 0.   ],\n",
       "       [0.986, 0.014, 0.   ],\n",
       "       [0.998, 0.002, 0.   ],\n",
       "       [0.998, 0.002, 0.   ],\n",
       "       [0.997, 0.003, 0.   ],\n",
       "       [0.991, 0.009, 0.   ],\n",
       "       [0.99 , 0.01 , 0.   ],\n",
       "       [0.993, 0.007, 0.   ],\n",
       "       [0.976, 0.024, 0.   ],\n",
       "       [0.991, 0.009, 0.   ],\n",
       "       [0.997, 0.003, 0.   ],\n",
       "       [0.969, 0.031, 0.   ],\n",
       "       [0.944, 0.056, 0.   ],\n",
       "       [0.956, 0.044, 0.   ],\n",
       "       [0.979, 0.021, 0.   ],\n",
       "       [0.988, 0.012, 0.   ],\n",
       "       [0.989, 0.011, 0.   ],\n",
       "       [0.965, 0.035, 0.   ],\n",
       "       [0.96 , 0.04 , 0.   ],\n",
       "       [0.987, 0.013, 0.   ],\n",
       "       [0.996, 0.004, 0.   ],\n",
       "       [0.998, 0.002, 0.   ],\n",
       "       [0.971, 0.029, 0.   ],\n",
       "       [0.991, 0.009, 0.   ],\n",
       "       [0.994, 0.006, 0.   ],\n",
       "       [0.971, 0.029, 0.   ],\n",
       "       [0.976, 0.024, 0.   ],\n",
       "       [0.985, 0.015, 0.   ],\n",
       "       [0.993, 0.007, 0.   ],\n",
       "       [0.923, 0.077, 0.   ],\n",
       "       [0.983, 0.017, 0.   ],\n",
       "       [0.983, 0.017, 0.   ],\n",
       "       [0.977, 0.023, 0.   ],\n",
       "       [0.974, 0.026, 0.   ],\n",
       "       [0.99 , 0.01 , 0.   ],\n",
       "       [0.979, 0.021, 0.   ],\n",
       "       [0.992, 0.008, 0.   ],\n",
       "       [0.986, 0.014, 0.   ],\n",
       "       [0.009, 0.974, 0.017],\n",
       "       [0.012, 0.928, 0.061],\n",
       "       [0.004, 0.929, 0.067],\n",
       "       [0.005, 0.749, 0.246],\n",
       "       [0.004, 0.875, 0.12 ],\n",
       "       [0.003, 0.725, 0.272],\n",
       "       [0.007, 0.834, 0.159],\n",
       "       [0.045, 0.91 , 0.045],\n",
       "       [0.006, 0.955, 0.04 ],\n",
       "       [0.012, 0.715, 0.273],\n",
       "       [0.012, 0.866, 0.122],\n",
       "       [0.015, 0.868, 0.117],\n",
       "       [0.007, 0.96 , 0.033],\n",
       "       [0.003, 0.767, 0.231],\n",
       "       [0.066, 0.91 , 0.024],\n",
       "       [0.016, 0.967, 0.017],\n",
       "       [0.004, 0.576, 0.421],\n",
       "       [0.011, 0.957, 0.031],\n",
       "       [0.001, 0.613, 0.385],\n",
       "       [0.013, 0.93 , 0.057],\n",
       "       [0.002, 0.351, 0.648],\n",
       "       [0.022, 0.95 , 0.028],\n",
       "       [0.001, 0.507, 0.492],\n",
       "       [0.002, 0.854, 0.143],\n",
       "       [0.012, 0.961, 0.027],\n",
       "       [0.012, 0.961, 0.027],\n",
       "       [0.003, 0.924, 0.074],\n",
       "       [0.002, 0.704, 0.294],\n",
       "       [0.005, 0.76 , 0.235],\n",
       "       [0.053, 0.939, 0.008],\n",
       "       [0.014, 0.922, 0.065],\n",
       "       [0.019, 0.948, 0.034],\n",
       "       [0.021, 0.943, 0.036],\n",
       "       [0.   , 0.2  , 0.799],\n",
       "       [0.002, 0.448, 0.549],\n",
       "       [0.013, 0.83 , 0.157],\n",
       "       [0.006, 0.932, 0.061],\n",
       "       [0.003, 0.874, 0.123],\n",
       "       [0.017, 0.892, 0.09 ],\n",
       "       [0.008, 0.805, 0.187],\n",
       "       [0.002, 0.688, 0.309],\n",
       "       [0.005, 0.839, 0.156],\n",
       "       [0.013, 0.93 , 0.057],\n",
       "       [0.039, 0.919, 0.042],\n",
       "       [0.007, 0.806, 0.187],\n",
       "       [0.014, 0.92 , 0.067],\n",
       "       [0.011, 0.878, 0.111],\n",
       "       [0.011, 0.944, 0.044],\n",
       "       [0.137, 0.851, 0.012],\n",
       "       [0.013, 0.889, 0.099],\n",
       "       [0.   , 0.003, 0.997],\n",
       "       [0.   , 0.046, 0.954],\n",
       "       [0.   , 0.087, 0.913],\n",
       "       [0.   , 0.073, 0.927],\n",
       "       [0.   , 0.018, 0.982],\n",
       "       [0.   , 0.039, 0.961],\n",
       "       [0.   , 0.042, 0.958],\n",
       "       [0.   , 0.11 , 0.89 ],\n",
       "       [0.   , 0.056, 0.944],\n",
       "       [0.   , 0.04 , 0.96 ],\n",
       "       [0.001, 0.323, 0.676],\n",
       "       [0.   , 0.109, 0.891],\n",
       "       [0.   , 0.129, 0.871],\n",
       "       [0.   , 0.024, 0.976],\n",
       "       [0.   , 0.008, 0.992],\n",
       "       [0.   , 0.06 , 0.939],\n",
       "       [0.   , 0.176, 0.824],\n",
       "       [0.   , 0.098, 0.902],\n",
       "       [0.   , 0.005, 0.995],\n",
       "       [0.   , 0.172, 0.828],\n",
       "       [0.   , 0.065, 0.935],\n",
       "       [0.   , 0.041, 0.959],\n",
       "       [0.   , 0.039, 0.961],\n",
       "       [0.   , 0.319, 0.681],\n",
       "       [0.   , 0.095, 0.905],\n",
       "       [0.   , 0.287, 0.713],\n",
       "       [0.001, 0.368, 0.631],\n",
       "       [0.001, 0.32 , 0.679],\n",
       "       [0.   , 0.027, 0.973],\n",
       "       [0.   , 0.527, 0.473],\n",
       "       [0.   , 0.145, 0.855],\n",
       "       [0.   , 0.492, 0.507],\n",
       "       [0.   , 0.018, 0.982],\n",
       "       [0.   , 0.486, 0.513],\n",
       "       [0.   , 0.113, 0.887],\n",
       "       [0.   , 0.102, 0.898],\n",
       "       [0.   , 0.019, 0.981],\n",
       "       [0.   , 0.164, 0.836],\n",
       "       [0.001, 0.33 , 0.669],\n",
       "       [0.   , 0.237, 0.763],\n",
       "       [0.   , 0.031, 0.969],\n",
       "       [0.001, 0.265, 0.734],\n",
       "       [0.   , 0.046, 0.954],\n",
       "       [0.   , 0.028, 0.972],\n",
       "       [0.   , 0.023, 0.977],\n",
       "       [0.   , 0.118, 0.882],\n",
       "       [0.   , 0.143, 0.857],\n",
       "       [0.   , 0.199, 0.801],\n",
       "       [0.   , 0.039, 0.961],\n",
       "       [0.   , 0.133, 0.867]])"
      ]
     },
     "execution_count": 17,
     "metadata": {},
     "output_type": "execute_result"
    }
   ],
   "source": [
    "P = softmax(X,theta)\n",
    "np.round(P,3) #round entries of P to three decimals"
   ]
  },
  {
   "cell_type": "code",
   "execution_count": 18,
   "metadata": {},
   "outputs": [],
   "source": [
    "def predictor_softmax(X,theta):\n",
    "    P = softmax(X,theta)\n",
    "    return np.argmax(P,axis=1)"
   ]
  },
  {
   "cell_type": "code",
   "execution_count": 19,
   "metadata": {},
   "outputs": [],
   "source": [
    "y_pred = predictor_softmax(X,theta)"
   ]
  },
  {
   "cell_type": "code",
   "execution_count": 20,
   "metadata": {},
   "outputs": [
    {
     "data": {
      "text/plain": [
       "array([[50.,  0.,  0.],\n",
       "       [ 0., 47.,  3.],\n",
       "       [ 0.,  1., 49.]])"
      ]
     },
     "execution_count": 20,
     "metadata": {},
     "output_type": "execute_result"
    }
   ],
   "source": [
    "'Confusion matrix'\n",
    "C = np.zeros((3,3))\n",
    "for i in range(3):\n",
    "    for j in range(3):\n",
    "        C[i,j]=sum(y_pred[y==i]==j)\n",
    "C"
   ]
  },
  {
   "cell_type": "code",
   "execution_count": 21,
   "metadata": {},
   "outputs": [
    {
     "data": {
      "text/plain": [
       "97.33333333333333"
      ]
     },
     "execution_count": 21,
     "metadata": {},
     "output_type": "execute_result"
    }
   ],
   "source": [
    "'percentage of incorrect classification'\n",
    "100*np.sum(y_pred==y)/len(y)"
   ]
  }
 ],
 "metadata": {
  "kernelspec": {
   "display_name": "Python 3",
   "language": "python",
   "name": "python3"
  },
  "language_info": {
   "codemirror_mode": {
    "name": "ipython",
    "version": 3
   },
   "file_extension": ".py",
   "mimetype": "text/x-python",
   "name": "python",
   "nbconvert_exporter": "python",
   "pygments_lexer": "ipython3",
   "version": "3.7.6"
  }
 },
 "nbformat": 4,
 "nbformat_minor": 4
}
