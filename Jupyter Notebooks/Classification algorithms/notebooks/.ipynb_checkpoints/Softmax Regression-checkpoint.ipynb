{
 "cells": [
  {
   "cell_type": "code",
   "execution_count": 2,
   "metadata": {},
   "outputs": [],
   "source": [
    "import numpy as np\n",
    "import matplotlib.pyplot as plt\n",
    "import pandas as pd"
   ]
  },
  {
   "cell_type": "markdown",
   "metadata": {},
   "source": [
    "# Softmax Regression"
   ]
  },
  {
   "cell_type": "markdown",
   "metadata": {},
   "source": [
    "Softmax regression is a generalization of logistic regression to the case where we want to handle multiple classes ( 𝑘  classes)"
   ]
  },
  {
   "cell_type": "code",
   "execution_count": 19,
   "metadata": {},
   "outputs": [],
   "source": [
    "def softmax(X,theta):\n",
    "    m,n = X.shape\n",
    "    k = theta.shape[1] # number of classes\n",
    "    Y = np.exp(X.dot(theta))\n",
    "    return Y/np.sum(Y,axis=1,keepdims=True)"
   ]
  },
  {
   "cell_type": "code",
   "execution_count": 20,
   "metadata": {},
   "outputs": [
    {
     "data": {
      "text/plain": [
       "array([[0.05634195, 0.94365805],\n",
       "       [0.55827508, 0.44172492],\n",
       "       [0.81336337, 0.18663663],\n",
       "       [0.65611192, 0.34388808],\n",
       "       [0.37927256, 0.62072744]])"
      ]
     },
     "execution_count": 20,
     "metadata": {},
     "output_type": "execute_result"
    }
   ],
   "source": [
    "# check that it works; notice that the entries of each row add to 1'\n",
    "X = np.random.randn(5,3)\n",
    "theta = np.random.randn(3,2)\n",
    "softmax(X,theta)"
   ]
  },
  {
   "cell_type": "code",
   "execution_count": 26,
   "metadata": {},
   "outputs": [],
   "source": [
    "def softmax_cost(X,theta,Y):\n",
    "    m = X.shape[0]\n",
    "    Yhat = softmax(X,theta)\n",
    "    return (-1/m)*np.sum(Y*np.log(Yhat))"
   ]
  },
  {
   "cell_type": "code",
   "execution_count": 95,
   "metadata": {},
   "outputs": [],
   "source": [
    "def one_hot_encoding(y):\n",
    "    Y = np.zeros((len(y),len(np.unique(y))))\n",
    "    Y[np.arange(len(y)),y] = 1\n",
    "    return Y"
   ]
  },
  {
   "cell_type": "code",
   "execution_count": 96,
   "metadata": {},
   "outputs": [
    {
     "data": {
      "text/plain": [
       "array([[1., 0., 0., 0., 0.],\n",
       "       [0., 1., 0., 0., 0.],\n",
       "       [0., 1., 0., 0., 0.],\n",
       "       [0., 0., 0., 1., 0.],\n",
       "       [0., 0., 0., 0., 1.],\n",
       "       [0., 0., 1., 0., 0.],\n",
       "       [0., 0., 1., 0., 0.],\n",
       "       [1., 0., 0., 0., 0.]])"
      ]
     },
     "execution_count": 96,
     "metadata": {},
     "output_type": "execute_result"
    }
   ],
   "source": [
    "# chekc that it works\n",
    "y = np.array([0,1,1,3,4,2,2,0])\n",
    "Y = one_hot_encoding(y)\n",
    "Y"
   ]
  },
  {
   "cell_type": "code",
   "execution_count": 173,
   "metadata": {},
   "outputs": [],
   "source": [
    "def softmaxregression_GD(X,Y,learning_rate,n_epochs, return_cost=False):\n",
    "    \n",
    "    m,n = X.shape\n",
    "    k = len(np.unique(y))\n",
    "        \n",
    "    # initialize vector theta\n",
    "    theta = np.random.randn(n,k)\n",
    "    \n",
    "    # initialize cost vector\n",
    "    if return_cost:\n",
    "        cost = np.zeros(n_epochs)\n",
    "        \n",
    "    # gradient descent iterations    \n",
    "    for i in range(n_epochs):\n",
    "        gradient = (1/m)*X.T.dot(softmax(X,theta)-Y)\n",
    "        theta = theta - learning_rate * gradient\n",
    "        if return_cost:\n",
    "            cost[i] = softmax_cost(X,theta,Y)\n",
    "            \n",
    "    # store results        \n",
    "    results = {}\n",
    "    results['theta'] = theta\n",
    "    if return_cost:\n",
    "        results['cost'] = cost\n",
    "        \n",
    "    return results"
   ]
  },
  {
   "cell_type": "markdown",
   "metadata": {},
   "source": [
    "## Example: The Iris Dataset"
   ]
  },
  {
   "cell_type": "code",
   "execution_count": 166,
   "metadata": {},
   "outputs": [
    {
     "data": {
      "text/html": [
       "<div>\n",
       "<style scoped>\n",
       "    .dataframe tbody tr th:only-of-type {\n",
       "        vertical-align: middle;\n",
       "    }\n",
       "\n",
       "    .dataframe tbody tr th {\n",
       "        vertical-align: top;\n",
       "    }\n",
       "\n",
       "    .dataframe thead th {\n",
       "        text-align: right;\n",
       "    }\n",
       "</style>\n",
       "<table border=\"1\" class=\"dataframe\">\n",
       "  <thead>\n",
       "    <tr style=\"text-align: right;\">\n",
       "      <th></th>\n",
       "      <th>sepal_length</th>\n",
       "      <th>sepal_width</th>\n",
       "      <th>petal_length</th>\n",
       "      <th>petal_width</th>\n",
       "      <th>species</th>\n",
       "    </tr>\n",
       "  </thead>\n",
       "  <tbody>\n",
       "    <tr>\n",
       "      <th>0</th>\n",
       "      <td>5.1</td>\n",
       "      <td>3.5</td>\n",
       "      <td>1.4</td>\n",
       "      <td>0.2</td>\n",
       "      <td>Iris-setosa</td>\n",
       "    </tr>\n",
       "    <tr>\n",
       "      <th>1</th>\n",
       "      <td>4.9</td>\n",
       "      <td>3.0</td>\n",
       "      <td>1.4</td>\n",
       "      <td>0.2</td>\n",
       "      <td>Iris-setosa</td>\n",
       "    </tr>\n",
       "    <tr>\n",
       "      <th>2</th>\n",
       "      <td>4.7</td>\n",
       "      <td>3.2</td>\n",
       "      <td>1.3</td>\n",
       "      <td>0.2</td>\n",
       "      <td>Iris-setosa</td>\n",
       "    </tr>\n",
       "    <tr>\n",
       "      <th>3</th>\n",
       "      <td>4.6</td>\n",
       "      <td>3.1</td>\n",
       "      <td>1.5</td>\n",
       "      <td>0.2</td>\n",
       "      <td>Iris-setosa</td>\n",
       "    </tr>\n",
       "    <tr>\n",
       "      <th>4</th>\n",
       "      <td>5.0</td>\n",
       "      <td>3.6</td>\n",
       "      <td>1.4</td>\n",
       "      <td>0.2</td>\n",
       "      <td>Iris-setosa</td>\n",
       "    </tr>\n",
       "  </tbody>\n",
       "</table>\n",
       "</div>"
      ],
      "text/plain": [
       "   sepal_length  sepal_width  petal_length  petal_width      species\n",
       "0           5.1          3.5           1.4          0.2  Iris-setosa\n",
       "1           4.9          3.0           1.4          0.2  Iris-setosa\n",
       "2           4.7          3.2           1.3          0.2  Iris-setosa\n",
       "3           4.6          3.1           1.5          0.2  Iris-setosa\n",
       "4           5.0          3.6           1.4          0.2  Iris-setosa"
      ]
     },
     "execution_count": 166,
     "metadata": {},
     "output_type": "execute_result"
    }
   ],
   "source": [
    "url = 'https://raw.githubusercontent.com/um-perez-alvaro/Data-Science-Practice/master/Data/iris.csv'\n",
    "data = pd.read_csv(url)\n",
    "data.head(5) #first 5 rows"
   ]
  },
  {
   "cell_type": "code",
   "execution_count": 167,
   "metadata": {},
   "outputs": [
    {
     "data": {
      "text/plain": [
       "array(['Iris-setosa', 'Iris-versicolor', 'Iris-virginica'], dtype=object)"
      ]
     },
     "execution_count": 167,
     "metadata": {},
     "output_type": "execute_result"
    }
   ],
   "source": [
    "data['species'].unique()"
   ]
  },
  {
   "cell_type": "code",
   "execution_count": 168,
   "metadata": {},
   "outputs": [],
   "source": [
    "X = data[['sepal_length','sepal_width','petal_length','petal_width']].to_numpy()\n",
    "y = data['species'].to_numpy()"
   ]
  },
  {
   "cell_type": "code",
   "execution_count": 169,
   "metadata": {},
   "outputs": [],
   "source": [
    "# map classes to (0,1,2)\n",
    "y[y=='Iris-setosa']=0\n",
    "y[y=='Iris-versicolor']=1\n",
    "y[y=='Iris-virginica']=2\n",
    "y = y.astype(int)"
   ]
  },
  {
   "cell_type": "code",
   "execution_count": 170,
   "metadata": {},
   "outputs": [
    {
     "data": {
      "text/plain": [
       "array([0, 0, 0, 0, 0, 0, 0, 0, 0, 0, 0, 0, 0, 0, 0, 0, 0, 0, 0, 0, 0, 0,\n",
       "       0, 0, 0, 0, 0, 0, 0, 0, 0, 0, 0, 0, 0, 0, 0, 0, 0, 0, 0, 0, 0, 0,\n",
       "       0, 0, 0, 0, 0, 0, 1, 1, 1, 1, 1, 1, 1, 1, 1, 1, 1, 1, 1, 1, 1, 1,\n",
       "       1, 1, 1, 1, 1, 1, 1, 1, 1, 1, 1, 1, 1, 1, 1, 1, 1, 1, 1, 1, 1, 1,\n",
       "       1, 1, 1, 1, 1, 1, 1, 1, 1, 1, 1, 1, 2, 2, 2, 2, 2, 2, 2, 2, 2, 2,\n",
       "       2, 2, 2, 2, 2, 2, 2, 2, 2, 2, 2, 2, 2, 2, 2, 2, 2, 2, 2, 2, 2, 2,\n",
       "       2, 2, 2, 2, 2, 2, 2, 2, 2, 2, 2, 2, 2, 2, 2, 2, 2, 2])"
      ]
     },
     "execution_count": 170,
     "metadata": {},
     "output_type": "execute_result"
    }
   ],
   "source": [
    "y"
   ]
  },
  {
   "cell_type": "code",
   "execution_count": 171,
   "metadata": {},
   "outputs": [],
   "source": [
    "# one hot encoding\n",
    "Y = one_hot_encoding(y)"
   ]
  },
  {
   "cell_type": "code",
   "execution_count": 182,
   "metadata": {},
   "outputs": [],
   "source": [
    "s = 0.1\n",
    "n_iterations = 1000\n",
    "results = softmaxregression_GD(X,Y,\n",
    "                               learning_rate = 0.1,\n",
    "                               n_epochs=1000,\n",
    "                               return_cost=True)"
   ]
  },
  {
   "cell_type": "code",
   "execution_count": 183,
   "metadata": {},
   "outputs": [
    {
     "data": {
      "text/plain": [
       "[<matplotlib.lines.Line2D at 0x160e9625348>]"
      ]
     },
     "execution_count": 183,
     "metadata": {},
     "output_type": "execute_result"
    },
    {
     "data": {
      "image/png": "[encoded data removed]",
      "text/plain": [
       "<Figure size 432x288 with 1 Axes>"
      ]
     },
     "metadata": {
      "needs_background": "light"
     },
     "output_type": "display_data"
    }
   ],
   "source": [
    "cost = results['cost']\n",
    "plt.plot(cost)"
   ]
  },
  {
   "cell_type": "code",
   "execution_count": 185,
   "metadata": {},
   "outputs": [],
   "source": [
    "theta = results['theta']"
   ]
  },
  {
   "cell_type": "code",
   "execution_count": 186,
   "metadata": {},
   "outputs": [
    {
     "data": {
      "text/plain": [
       "array([[0.991, 0.009, 0.   ],\n",
       "       [0.98 , 0.02 , 0.   ],\n",
       "       [0.987, 0.013, 0.   ],\n",
       "       [0.965, 0.035, 0.   ],\n",
       "       [0.991, 0.009, 0.   ],\n",
       "       [0.991, 0.009, 0.   ],\n",
       "       [0.985, 0.015, 0.   ],\n",
       "       [0.984, 0.016, 0.   ],\n",
       "       [0.962, 0.038, 0.   ],\n",
       "       [0.971, 0.029, 0.   ],\n",
       "       [0.993, 0.007, 0.   ],\n",
       "       [0.971, 0.029, 0.   ],\n",
       "       [0.975, 0.025, 0.   ],\n",
       "       [0.986, 0.014, 0.   ],\n",
       "       [0.999, 0.001, 0.   ],\n",
       "       [0.998, 0.002, 0.   ],\n",
       "       [0.998, 0.002, 0.   ],\n",
       "       [0.992, 0.008, 0.   ],\n",
       "       [0.991, 0.009, 0.   ],\n",
       "       [0.992, 0.008, 0.   ],\n",
       "       [0.977, 0.023, 0.   ],\n",
       "       [0.992, 0.008, 0.   ],\n",
       "       [0.997, 0.003, 0.   ],\n",
       "       [0.976, 0.024, 0.   ],\n",
       "       [0.913, 0.087, 0.   ],\n",
       "       [0.962, 0.038, 0.   ],\n",
       "       [0.982, 0.018, 0.   ],\n",
       "       [0.989, 0.011, 0.   ],\n",
       "       [0.991, 0.009, 0.   ],\n",
       "       [0.959, 0.041, 0.   ],\n",
       "       [0.958, 0.042, 0.   ],\n",
       "       [0.992, 0.008, 0.   ],\n",
       "       [0.994, 0.006, 0.   ],\n",
       "       [0.998, 0.002, 0.   ],\n",
       "       [0.971, 0.029, 0.   ],\n",
       "       [0.993, 0.007, 0.   ],\n",
       "       [0.996, 0.004, 0.   ],\n",
       "       [0.971, 0.029, 0.   ],\n",
       "       [0.977, 0.023, 0.   ],\n",
       "       [0.986, 0.014, 0.   ],\n",
       "       [0.994, 0.006, 0.   ],\n",
       "       [0.957, 0.043, 0.   ],\n",
       "       [0.982, 0.018, 0.   ],\n",
       "       [0.988, 0.012, 0.   ],\n",
       "       [0.969, 0.031, 0.   ],\n",
       "       [0.98 , 0.02 , 0.   ],\n",
       "       [0.987, 0.013, 0.   ],\n",
       "       [0.979, 0.021, 0.   ],\n",
       "       [0.992, 0.008, 0.   ],\n",
       "       [0.988, 0.012, 0.   ],\n",
       "       [0.008, 0.974, 0.018],\n",
       "       [0.01 , 0.937, 0.053],\n",
       "       [0.003, 0.925, 0.072],\n",
       "       [0.005, 0.727, 0.268],\n",
       "       [0.004, 0.866, 0.13 ],\n",
       "       [0.002, 0.727, 0.271],\n",
       "       [0.005, 0.861, 0.134],\n",
       "       [0.039, 0.918, 0.043],\n",
       "       [0.005, 0.95 , 0.045],\n",
       "       [0.011, 0.751, 0.238],\n",
       "       [0.011, 0.845, 0.144],\n",
       "       [0.014, 0.886, 0.1  ],\n",
       "       [0.007, 0.946, 0.047],\n",
       "       [0.002, 0.764, 0.234],\n",
       "       [0.072, 0.909, 0.019],\n",
       "       [0.016, 0.966, 0.017],\n",
       "       [0.002, 0.622, 0.375],\n",
       "       [0.007, 0.958, 0.035],\n",
       "       [0.001, 0.54 , 0.458],\n",
       "       [0.011, 0.927, 0.063],\n",
       "       [0.001, 0.419, 0.579],\n",
       "       [0.024, 0.949, 0.027],\n",
       "       [0.   , 0.447, 0.552],\n",
       "       [0.001, 0.838, 0.161],\n",
       "       [0.012, 0.96 , 0.028],\n",
       "       [0.013, 0.96 , 0.027],\n",
       "       [0.003, 0.908, 0.09 ],\n",
       "       [0.002, 0.7  , 0.299],\n",
       "       [0.004, 0.773, 0.223],\n",
       "       [0.056, 0.936, 0.008],\n",
       "       [0.012, 0.916, 0.072],\n",
       "       [0.016, 0.946, 0.038],\n",
       "       [0.02 , 0.945, 0.036],\n",
       "       [0.   , 0.187, 0.813],\n",
       "       [0.001, 0.506, 0.493],\n",
       "       [0.009, 0.874, 0.117],\n",
       "       [0.006, 0.933, 0.061],\n",
       "       [0.003, 0.834, 0.163],\n",
       "       [0.012, 0.911, 0.077],\n",
       "       [0.007, 0.803, 0.19 ],\n",
       "       [0.001, 0.673, 0.325],\n",
       "       [0.003, 0.846, 0.151],\n",
       "       [0.012, 0.928, 0.061],\n",
       "       [0.038, 0.919, 0.042],\n",
       "       [0.005, 0.812, 0.183],\n",
       "       [0.008, 0.932, 0.06 ],\n",
       "       [0.008, 0.891, 0.102],\n",
       "       [0.009, 0.946, 0.045],\n",
       "       [0.177, 0.813, 0.01 ],\n",
       "       [0.01 , 0.897, 0.093],\n",
       "       [0.   , 0.005, 0.995],\n",
       "       [0.   , 0.048, 0.952],\n",
       "       [0.   , 0.08 , 0.92 ],\n",
       "       [0.   , 0.069, 0.931],\n",
       "       [0.   , 0.02 , 0.98 ],\n",
       "       [0.   , 0.029, 0.971],\n",
       "       [0.   , 0.049, 0.951],\n",
       "       [0.   , 0.08 , 0.92 ],\n",
       "       [0.   , 0.04 , 0.96 ],\n",
       "       [0.   , 0.053, 0.947],\n",
       "       [0.001, 0.369, 0.63 ],\n",
       "       [0.   , 0.101, 0.899],\n",
       "       [0.   , 0.132, 0.868],\n",
       "       [0.   , 0.024, 0.975],\n",
       "       [0.   , 0.011, 0.989],\n",
       "       [0.   , 0.08 , 0.92 ],\n",
       "       [0.   , 0.172, 0.828],\n",
       "       [0.   , 0.105, 0.895],\n",
       "       [0.   , 0.003, 0.997],\n",
       "       [0.   , 0.128, 0.872],\n",
       "       [0.   , 0.074, 0.926],\n",
       "       [0.   , 0.05 , 0.95 ],\n",
       "       [0.   , 0.025, 0.975],\n",
       "       [0.001, 0.311, 0.689],\n",
       "       [0.   , 0.109, 0.891],\n",
       "       [0.   , 0.258, 0.742],\n",
       "       [0.001, 0.379, 0.62 ],\n",
       "       [0.001, 0.352, 0.647],\n",
       "       [0.   , 0.026, 0.974],\n",
       "       [0.   , 0.457, 0.543],\n",
       "       [0.   , 0.106, 0.894],\n",
       "       [0.   , 0.496, 0.504],\n",
       "       [0.   , 0.019, 0.981],\n",
       "       [0.   , 0.454, 0.546],\n",
       "       [0.   , 0.086, 0.914],\n",
       "       [0.   , 0.088, 0.912],\n",
       "       [0.   , 0.028, 0.972],\n",
       "       [0.   , 0.169, 0.831],\n",
       "       [0.001, 0.371, 0.628],\n",
       "       [0.   , 0.249, 0.751],\n",
       "       [0.   , 0.037, 0.963],\n",
       "       [0.001, 0.304, 0.695],\n",
       "       [0.   , 0.048, 0.952],\n",
       "       [0.   , 0.032, 0.968],\n",
       "       [0.   , 0.03 , 0.97 ],\n",
       "       [0.   , 0.136, 0.864],\n",
       "       [0.   , 0.13 , 0.87 ],\n",
       "       [0.   , 0.214, 0.785],\n",
       "       [0.   , 0.057, 0.943],\n",
       "       [0.   , 0.151, 0.849]])"
      ]
     },
     "execution_count": 186,
     "metadata": {},
     "output_type": "execute_result"
    }
   ],
   "source": [
    "P = softmax(X,theta)\n",
    "np.round(P,3) #round entries of P to three decimals"
   ]
  },
  {
   "cell_type": "code",
   "execution_count": 187,
   "metadata": {},
   "outputs": [],
   "source": [
    "def predictor_softmax(X,theta):\n",
    "    P = softmax(X,theta)\n",
    "    return np.argmax(P,axis=1)"
   ]
  },
  {
   "cell_type": "code",
   "execution_count": 189,
   "metadata": {},
   "outputs": [],
   "source": [
    "y_pred = predictor_softmax(X,theta)"
   ]
  },
  {
   "cell_type": "code",
   "execution_count": 190,
   "metadata": {},
   "outputs": [
    {
     "data": {
      "text/plain": [
       "array([[50.,  0.,  0.],\n",
       "       [ 0., 47.,  3.],\n",
       "       [ 0.,  0., 50.]])"
      ]
     },
     "execution_count": 190,
     "metadata": {},
     "output_type": "execute_result"
    }
   ],
   "source": [
    "'Confusion matrix'\n",
    "C = np.zeros((3,3))\n",
    "for i in range(3):\n",
    "    for j in range(3):\n",
    "        C[i,j]=sum(y_pred[y==i]==j)\n",
    "C"
   ]
  },
  {
   "cell_type": "code",
   "execution_count": 192,
   "metadata": {},
   "outputs": [
    {
     "data": {
      "text/plain": [
       "98.0"
      ]
     },
     "execution_count": 192,
     "metadata": {},
     "output_type": "execute_result"
    }
   ],
   "source": [
    "'percentage of incorrect classification'\n",
    "100*np.sum(y_pred==y)/len(y)"
   ]
  }
 ],
 "metadata": {
  "kernelspec": {
   "display_name": "Python 3",
   "language": "python",
   "name": "python3"
  },
  "language_info": {
   "codemirror_mode": {
    "name": "ipython",
    "version": 3
   },
   "file_extension": ".py",
   "mimetype": "text/x-python",
   "name": "python",
   "nbconvert_exporter": "python",
   "pygments_lexer": "ipython3",
   "version": "3.7.6"
  }
 },
 "nbformat": 4,
 "nbformat_minor": 4
}
