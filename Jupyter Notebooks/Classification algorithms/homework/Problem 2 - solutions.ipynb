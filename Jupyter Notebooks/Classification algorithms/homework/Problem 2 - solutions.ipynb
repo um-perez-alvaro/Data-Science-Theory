{
 "cells": [
  {
   "cell_type": "code",
   "execution_count": 1,
   "metadata": {},
   "outputs": [],
   "source": [
    "import numpy as np\n",
    "import matplotlib.pyplot as plt\n",
    "import pandas as pd"
   ]
  },
  {
   "cell_type": "markdown",
   "metadata": {},
   "source": [
    "# Problem 2: Exponentially Weighted k-Nearest Neighbors"
   ]
  },
  {
   "cell_type": "markdown",
   "metadata": {},
   "source": [
    "The **exponentially weighted knn** method uses all of the neighbors of a new point $x_{\\rm new}$ rather than only the nearest $k$ neighbors. \n",
    "Each neighbor is assigned a weight, according to its distance to $x_{\\rm new}$."
   ]
  },
  {
   "cell_type": "markdown",
   "metadata": {},
   "source": [
    "The weights are a function of a constant $\\alpha$, a number bounded by zero and one.\n",
    "The weight of the $i$th nearest neighbor is given by\n",
    "\n",
    "$$\n",
    "w_i = \\alpha(1-\\alpha)^{i-1} \\quad \\mbox{for }i=1,2,\\ldots,m\n",
    "$$\n",
    "\n",
    "Large values of $\\alpha$ place more weight on the nearest neighbors and produce weights that decay rapidly to zero, whereas the rate of decay is slower for smaller values of $\\alpha$.\n",
    "Notice that the nearest neighbor ($i=1$) receives the weight $w_1=\\alpha$."
   ]
  },
  {
   "cell_type": "markdown",
   "metadata": {},
   "source": [
    "## Part 1"
   ]
  },
  {
   "cell_type": "markdown",
   "metadata": {},
   "source": [
    "Implement the exponentially weighted knn method"
   ]
  },
  {
   "cell_type": "code",
   "execution_count": 3,
   "metadata": {},
   "outputs": [],
   "source": [
    "def exp_knn_classifier(X,y,X_new,alpha):\n",
    "    \n",
    "    from sklearn.metrics import pairwise_distances\n",
    "    \n",
    "    # number of datapoints\n",
    "    m,_ = X.shape\n",
    "    m_new,_ = X_new.shape\n",
    "    \n",
    "    # classes and number of classes\n",
    "    labels = np.unique(y)\n",
    "    n_classes = len(labels)\n",
    "    \n",
    "    # distance matrix\n",
    "    dist = pairwise_distances(X,X_new)\n",
    "    \n",
    "    # sort points by distance\n",
    "    knn = np.argsort(dist,axis=0)\n",
    "    \n",
    "    # initialize prediction vector\n",
    "    y_pred = np.zeros(m_new).astype(int)\n",
    "    \n",
    "    # loop over new points\n",
    "    for i in range(m_new):\n",
    "        # labels\n",
    "        nearest_labels = y[knn[:,i]]\n",
    "        # weights\n",
    "        w = np.array([alpha*(1-alpha)**(i) for i in range(m)])\n",
    "        # prediction\n",
    "        y_pred[i] = np.argmax(np.bincount(nearest_labels, minlength=n_classes, weights=w))\n",
    "    return y_pred"
   ]
  },
  {
   "cell_type": "markdown",
   "metadata": {},
   "source": [
    "## Part 2: The MNIST dataset revisited"
   ]
  },
  {
   "cell_type": "code",
   "execution_count": 4,
   "metadata": {},
   "outputs": [
    {
     "data": {
      "text/html": [
       "<div>\n",
       "<style scoped>\n",
       "    .dataframe tbody tr th:only-of-type {\n",
       "        vertical-align: middle;\n",
       "    }\n",
       "\n",
       "    .dataframe tbody tr th {\n",
       "        vertical-align: top;\n",
       "    }\n",
       "\n",
       "    .dataframe thead th {\n",
       "        text-align: right;\n",
       "    }\n",
       "</style>\n",
       "<table border=\"1\" class=\"dataframe\">\n",
       "  <thead>\n",
       "    <tr style=\"text-align: right;\">\n",
       "      <th></th>\n",
       "      <th>pixel 0</th>\n",
       "      <th>pixel 1</th>\n",
       "      <th>pixel 2</th>\n",
       "      <th>pixel 3</th>\n",
       "      <th>pixel 4</th>\n",
       "      <th>pixel 5</th>\n",
       "      <th>pixel 6</th>\n",
       "      <th>pixel 7</th>\n",
       "      <th>pixel 8</th>\n",
       "      <th>pixel 9</th>\n",
       "      <th>...</th>\n",
       "      <th>pixel 775</th>\n",
       "      <th>pixel 776</th>\n",
       "      <th>pixel 777</th>\n",
       "      <th>pixel 778</th>\n",
       "      <th>pixel 779</th>\n",
       "      <th>pixel 780</th>\n",
       "      <th>pixel 781</th>\n",
       "      <th>pixel 782</th>\n",
       "      <th>pixel 783</th>\n",
       "      <th>label</th>\n",
       "    </tr>\n",
       "  </thead>\n",
       "  <tbody>\n",
       "    <tr>\n",
       "      <th>0</th>\n",
       "      <td>0.0</td>\n",
       "      <td>0.0</td>\n",
       "      <td>0.0</td>\n",
       "      <td>0.0</td>\n",
       "      <td>0.0</td>\n",
       "      <td>0.0</td>\n",
       "      <td>0.0</td>\n",
       "      <td>0.0</td>\n",
       "      <td>0.0</td>\n",
       "      <td>0.0</td>\n",
       "      <td>...</td>\n",
       "      <td>0.0</td>\n",
       "      <td>0.0</td>\n",
       "      <td>0.0</td>\n",
       "      <td>0.0</td>\n",
       "      <td>0.0</td>\n",
       "      <td>0.0</td>\n",
       "      <td>0.0</td>\n",
       "      <td>0.0</td>\n",
       "      <td>0.0</td>\n",
       "      <td>5</td>\n",
       "    </tr>\n",
       "    <tr>\n",
       "      <th>1</th>\n",
       "      <td>0.0</td>\n",
       "      <td>0.0</td>\n",
       "      <td>0.0</td>\n",
       "      <td>0.0</td>\n",
       "      <td>0.0</td>\n",
       "      <td>0.0</td>\n",
       "      <td>0.0</td>\n",
       "      <td>0.0</td>\n",
       "      <td>0.0</td>\n",
       "      <td>0.0</td>\n",
       "      <td>...</td>\n",
       "      <td>0.0</td>\n",
       "      <td>0.0</td>\n",
       "      <td>0.0</td>\n",
       "      <td>0.0</td>\n",
       "      <td>0.0</td>\n",
       "      <td>0.0</td>\n",
       "      <td>0.0</td>\n",
       "      <td>0.0</td>\n",
       "      <td>0.0</td>\n",
       "      <td>0</td>\n",
       "    </tr>\n",
       "    <tr>\n",
       "      <th>2</th>\n",
       "      <td>0.0</td>\n",
       "      <td>0.0</td>\n",
       "      <td>0.0</td>\n",
       "      <td>0.0</td>\n",
       "      <td>0.0</td>\n",
       "      <td>0.0</td>\n",
       "      <td>0.0</td>\n",
       "      <td>0.0</td>\n",
       "      <td>0.0</td>\n",
       "      <td>0.0</td>\n",
       "      <td>...</td>\n",
       "      <td>0.0</td>\n",
       "      <td>0.0</td>\n",
       "      <td>0.0</td>\n",
       "      <td>0.0</td>\n",
       "      <td>0.0</td>\n",
       "      <td>0.0</td>\n",
       "      <td>0.0</td>\n",
       "      <td>0.0</td>\n",
       "      <td>0.0</td>\n",
       "      <td>4</td>\n",
       "    </tr>\n",
       "    <tr>\n",
       "      <th>3</th>\n",
       "      <td>0.0</td>\n",
       "      <td>0.0</td>\n",
       "      <td>0.0</td>\n",
       "      <td>0.0</td>\n",
       "      <td>0.0</td>\n",
       "      <td>0.0</td>\n",
       "      <td>0.0</td>\n",
       "      <td>0.0</td>\n",
       "      <td>0.0</td>\n",
       "      <td>0.0</td>\n",
       "      <td>...</td>\n",
       "      <td>0.0</td>\n",
       "      <td>0.0</td>\n",
       "      <td>0.0</td>\n",
       "      <td>0.0</td>\n",
       "      <td>0.0</td>\n",
       "      <td>0.0</td>\n",
       "      <td>0.0</td>\n",
       "      <td>0.0</td>\n",
       "      <td>0.0</td>\n",
       "      <td>1</td>\n",
       "    </tr>\n",
       "    <tr>\n",
       "      <th>4</th>\n",
       "      <td>0.0</td>\n",
       "      <td>0.0</td>\n",
       "      <td>0.0</td>\n",
       "      <td>0.0</td>\n",
       "      <td>0.0</td>\n",
       "      <td>0.0</td>\n",
       "      <td>0.0</td>\n",
       "      <td>0.0</td>\n",
       "      <td>0.0</td>\n",
       "      <td>0.0</td>\n",
       "      <td>...</td>\n",
       "      <td>0.0</td>\n",
       "      <td>0.0</td>\n",
       "      <td>0.0</td>\n",
       "      <td>0.0</td>\n",
       "      <td>0.0</td>\n",
       "      <td>0.0</td>\n",
       "      <td>0.0</td>\n",
       "      <td>0.0</td>\n",
       "      <td>0.0</td>\n",
       "      <td>9</td>\n",
       "    </tr>\n",
       "  </tbody>\n",
       "</table>\n",
       "<p>5 rows × 785 columns</p>\n",
       "</div>"
      ],
      "text/plain": [
       "   pixel 0  pixel 1  pixel 2  pixel 3  pixel 4  pixel 5  pixel 6  pixel 7  \\\n",
       "0      0.0      0.0      0.0      0.0      0.0      0.0      0.0      0.0   \n",
       "1      0.0      0.0      0.0      0.0      0.0      0.0      0.0      0.0   \n",
       "2      0.0      0.0      0.0      0.0      0.0      0.0      0.0      0.0   \n",
       "3      0.0      0.0      0.0      0.0      0.0      0.0      0.0      0.0   \n",
       "4      0.0      0.0      0.0      0.0      0.0      0.0      0.0      0.0   \n",
       "\n",
       "   pixel 8  pixel 9  ...  pixel 775  pixel 776  pixel 777  pixel 778  \\\n",
       "0      0.0      0.0  ...        0.0        0.0        0.0        0.0   \n",
       "1      0.0      0.0  ...        0.0        0.0        0.0        0.0   \n",
       "2      0.0      0.0  ...        0.0        0.0        0.0        0.0   \n",
       "3      0.0      0.0  ...        0.0        0.0        0.0        0.0   \n",
       "4      0.0      0.0  ...        0.0        0.0        0.0        0.0   \n",
       "\n",
       "   pixel 779  pixel 780  pixel 781  pixel 782  pixel 783  label  \n",
       "0        0.0        0.0        0.0        0.0        0.0      5  \n",
       "1        0.0        0.0        0.0        0.0        0.0      0  \n",
       "2        0.0        0.0        0.0        0.0        0.0      4  \n",
       "3        0.0        0.0        0.0        0.0        0.0      1  \n",
       "4        0.0        0.0        0.0        0.0        0.0      9  \n",
       "\n",
       "[5 rows x 785 columns]"
      ]
     },
     "execution_count": 4,
     "metadata": {},
     "output_type": "execute_result"
    }
   ],
   "source": [
    "# load the data\n",
    "url = 'https://raw.githubusercontent.com/um-perez-alvaro/Data-Science-Theory/master/Data/digits.csv'\n",
    "data = pd.read_csv(url)\n",
    "data.head(5)"
   ]
  },
  {
   "cell_type": "code",
   "execution_count": 8,
   "metadata": {},
   "outputs": [],
   "source": [
    "X = data.iloc[:,0:784].to_numpy() # pixels\n",
    "y = data['label'].to_numpy() # labels"
   ]
  },
  {
   "cell_type": "markdown",
   "metadata": {},
   "source": [
    "**Part 2-a:** Split the dataset into training and validation sets."
   ]
  },
  {
   "cell_type": "code",
   "execution_count": 17,
   "metadata": {},
   "outputs": [],
   "source": [
    "# training (75%), validation (25%)\n",
    "m = len(y)\n",
    "X_train, X_val = X[0:3*m//4], X[3*m//4:m]\n",
    "y_train, y_val = y[0:3*m//4], y[3*m//4:m]"
   ]
  },
  {
   "cell_type": "markdown",
   "metadata": {},
   "source": [
    "**Part 2-b:** Use the validation set to tune-in the parameter $\\alpha$."
   ]
  },
  {
   "cell_type": "code",
   "execution_count": 33,
   "metadata": {},
   "outputs": [
    {
     "data": {
      "text/plain": [
       "Text(0.5, 0, 'alpha')"
      ]
     },
     "execution_count": 33,
     "metadata": {},
     "output_type": "execute_result"
    },
    {
     "data": {
      "image/png": "[encoded data removed]",
      "text/plain": [
       "<Figure size 432x288 with 1 Axes>"
      ]
     },
     "metadata": {
      "needs_background": "light"
     },
     "output_type": "display_data"
    }
   ],
   "source": [
    "alphas = np.linspace(0,1,20)\n",
    "\n",
    "pct_incorrect = np.zeros(len(alphas))\n",
    "# loop over k values\n",
    "for i,alpha in enumerate(alphas):\n",
    "    # exp weighted knn classifier\n",
    "    y_val_pred = exp_knn_classifier(X_train,y_train,X_val,alpha)\n",
    "    # percentage of incorrect classification\n",
    "    pct_incorrect[i] = 100*np.mean(y_val!=y_val_pred)\n",
    "plt.plot(alphas[1:], pct_incorrect[1:],'o-.', label=alpha)\n",
    "plt.legend(fontsize=15)\n",
    "plt.ylabel('percentage of incorrect classifications', fontsize=15)\n",
    "plt.xlabel('alpha', fontsize=15)\n"
   ]
  },
  {
   "cell_type": "markdown",
   "metadata": {},
   "source": [
    "**Part 2-c:** Test your classifier on the following test set"
   ]
  },
  {
   "cell_type": "code",
   "execution_count": 25,
   "metadata": {},
   "outputs": [],
   "source": [
    "# load test data\n",
    "url = 'https://raw.githubusercontent.com/um-perez-alvaro/Data-Science-Theory/master/Data/digits_test.csv'\n",
    "test_data = pd.read_csv(url)"
   ]
  },
  {
   "cell_type": "code",
   "execution_count": 26,
   "metadata": {},
   "outputs": [],
   "source": [
    "X_test = test_data.iloc[:,0:784].to_numpy() # pixels\n",
    "y_test = test_data['label'].to_numpy() # labels"
   ]
  },
  {
   "cell_type": "code",
   "execution_count": 35,
   "metadata": {},
   "outputs": [
    {
     "data": {
      "text/plain": [
       "93.30000000000001"
      ]
     },
     "execution_count": 35,
     "metadata": {},
     "output_type": "execute_result"
    }
   ],
   "source": [
    "alpha = 0.5\n",
    "y_test_pred = exp_knn_classifier(X_train,y_train,X_test,alpha)\n",
    "# percentage of correct classifications\n",
    "100*np.mean(y_test==y_test_pred)"
   ]
  }
 ],
 "metadata": {
  "kernelspec": {
   "display_name": "Python 3",
   "language": "python",
   "name": "python3"
  },
  "language_info": {
   "codemirror_mode": {
    "name": "ipython",
    "version": 3
   },
   "file_extension": ".py",
   "mimetype": "text/x-python",
   "name": "python",
   "nbconvert_exporter": "python",
   "pygments_lexer": "ipython3",
   "version": "3.8.3"
  }
 },
 "nbformat": 4,
 "nbformat_minor": 4
}
