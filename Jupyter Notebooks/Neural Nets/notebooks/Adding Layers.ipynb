{
 "cells": [
  {
   "cell_type": "code",
   "execution_count": 1,
   "metadata": {},
   "outputs": [],
   "source": [
    "import numpy as np\n",
    "import matplotlib.pyplot as plt"
   ]
  },
  {
   "cell_type": "markdown",
   "metadata": {},
   "source": [
    "# Neural network layers"
   ]
  },
  {
   "cell_type": "code",
   "execution_count": 7,
   "metadata": {},
   "outputs": [],
   "source": [
    "class layer_dense:\n",
    "      \n",
    "    # initialization (weights and biases)\n",
    "    def __init__(self, n_inputs, n_neurons):\n",
    "        self.weights = 0.1*np.random.randn(n_inputs, n_neurons)\n",
    "        self.biases = np.zeros((1,n_neurons))\n",
    "\n",
    "    # forward pass: pass the data through the layer\n",
    "    def forward(self, inputs):\n",
    "        self.output = inputs.dot(self.weights) + self.biases"
   ]
  },
  {
   "cell_type": "code",
   "execution_count": 8,
   "metadata": {},
   "outputs": [
    {
     "data": {
      "text/plain": [
       "array([[-2.05549297, -0.76379982],\n",
       "       [ 0.65620053, -0.45714017],\n",
       "       [-0.06712164, -0.15144689],\n",
       "       [ 1.42022374, -0.23109866],\n",
       "       [ 1.40175426, -0.2212946 ],\n",
       "       [-0.32321032,  1.75847582],\n",
       "       [ 0.72643631,  1.1688175 ],\n",
       "       [-1.02328841, -0.63058377],\n",
       "       [-0.52226426,  0.33961414],\n",
       "       [-0.55001917,  0.83251677]])"
      ]
     },
     "execution_count": 8,
     "metadata": {},
     "output_type": "execute_result"
    }
   ],
   "source": [
    "X = np.random.randn(10,2)\n",
    "X"
   ]
  },
  {
   "cell_type": "code",
   "execution_count": 9,
   "metadata": {},
   "outputs": [],
   "source": [
    "# create 1 dense layer\n",
    "layer1 = layer(n_inputs = 2, n_neurons = 5)"
   ]
  },
  {
   "cell_type": "code",
   "execution_count": 10,
   "metadata": {},
   "outputs": [],
   "source": [
    "layer1.forward(X)"
   ]
  },
  {
   "cell_type": "code",
   "execution_count": 10,
   "metadata": {},
   "outputs": [
    {
     "data": {
      "text/plain": [
       "array([[-0.26010442, -0.22189632, -0.06639757,  0.16420568,  0.03741141],\n",
       "       [-0.14006761, -0.16938984, -0.14533857,  0.00252236, -0.00322501],\n",
       "       [-0.1378963 , -0.03924949,  0.1369573 ,  0.22201155,  0.0565509 ],\n",
       "       [ 0.62082597,  0.59191967,  0.29527924, -0.28469335, -0.06011905],\n",
       "       [-0.53703171, -0.50307939, -0.2357744 ,  0.26167174,  0.05619555],\n",
       "       [ 0.16235258,  0.17344191,  0.11817413, -0.04234494, -0.00698702],\n",
       "       [-0.01269847, -0.04927239, -0.08766053, -0.05816021, -0.01617794],\n",
       "       [-0.26628093, -0.34216344, -0.32052863, -0.02987485, -0.01556355],\n",
       "       [-0.21520564, -0.31037144, -0.3333626 , -0.08240042, -0.02842768],\n",
       "       [-0.23972595, -0.22410294, -0.10422186,  0.11761184,  0.02530392]])"
      ]
     },
     "execution_count": 10,
     "metadata": {},
     "output_type": "execute_result"
    }
   ],
   "source": [
    "layer1.output"
   ]
  },
  {
   "cell_type": "code",
   "execution_count": 6,
   "metadata": {},
   "outputs": [
    {
     "ename": "NameError",
     "evalue": "name 'layer' is not defined",
     "output_type": "error",
     "traceback": [
      "\u001b[1;31m---------------------------------------------------------------------------\u001b[0m",
      "\u001b[1;31mNameError\u001b[0m                                 Traceback (most recent call last)",
      "\u001b[1;32m<ipython-input-6-08f54faff155>\u001b[0m in \u001b[0;36m<module>\u001b[1;34m\u001b[0m\n\u001b[0;32m      1\u001b[0m \u001b[1;31m# create multiple layers\u001b[0m\u001b[1;33m\u001b[0m\u001b[1;33m\u001b[0m\u001b[1;33m\u001b[0m\u001b[0m\n\u001b[1;32m----> 2\u001b[1;33m \u001b[0mlayer1\u001b[0m \u001b[1;33m=\u001b[0m \u001b[0mlayer\u001b[0m\u001b[1;33m(\u001b[0m\u001b[0mn_inputs\u001b[0m \u001b[1;33m=\u001b[0m \u001b[1;36m2\u001b[0m\u001b[1;33m,\u001b[0m \u001b[0mn_neurons\u001b[0m \u001b[1;33m=\u001b[0m \u001b[1;36m5\u001b[0m\u001b[1;33m)\u001b[0m\u001b[1;33m\u001b[0m\u001b[1;33m\u001b[0m\u001b[0m\n\u001b[0m\u001b[0;32m      3\u001b[0m \u001b[0mlayer2\u001b[0m \u001b[1;33m=\u001b[0m \u001b[0mlayer\u001b[0m\u001b[1;33m(\u001b[0m\u001b[0mn_inputs\u001b[0m \u001b[1;33m=\u001b[0m \u001b[1;36m5\u001b[0m\u001b[1;33m,\u001b[0m \u001b[0mn_neurons\u001b[0m \u001b[1;33m=\u001b[0m \u001b[1;36m10\u001b[0m\u001b[1;33m)\u001b[0m\u001b[1;33m\u001b[0m\u001b[1;33m\u001b[0m\u001b[0m\n\u001b[0;32m      4\u001b[0m \u001b[0mlayer3\u001b[0m \u001b[1;33m=\u001b[0m \u001b[0mlayer\u001b[0m\u001b[1;33m(\u001b[0m\u001b[0mn_inputs\u001b[0m \u001b[1;33m=\u001b[0m\u001b[1;36m10\u001b[0m\u001b[1;33m,\u001b[0m \u001b[0mn_neurons\u001b[0m \u001b[1;33m=\u001b[0m \u001b[1;36m2\u001b[0m\u001b[1;33m)\u001b[0m\u001b[1;33m\u001b[0m\u001b[1;33m\u001b[0m\u001b[0m\n",
      "\u001b[1;31mNameError\u001b[0m: name 'layer' is not defined"
     ]
    }
   ],
   "source": [
    "# create multiple layers\n",
    "layer1 = layer(n_inputs = 2, n_neurons = 5)\n",
    "layer2 = layer(n_inputs = 5, n_neurons = 10)\n",
    "layer3 = layer(n_inputs =10, n_neurons = 2)"
   ]
  },
  {
   "cell_type": "code",
   "execution_count": 14,
   "metadata": {},
   "outputs": [],
   "source": [
    "layer1.forward(X)\n",
    "layer2.forward(layer1.output)\n",
    "layer3.forward(layer2.output)"
   ]
  },
  {
   "cell_type": "code",
   "execution_count": 15,
   "metadata": {},
   "outputs": [
    {
     "data": {
      "text/plain": [
       "array([[-0.00649856,  0.01241683],\n",
       "       [ 0.00803505,  0.00037554],\n",
       "       [-0.02156642,  0.01649763],\n",
       "       [ 0.00111169, -0.02175852],\n",
       "       [-0.00303001,  0.0199534 ],\n",
       "       [-0.0040202 , -0.00333142],\n",
       "       [ 0.00856856, -0.00425556],\n",
       "       [ 0.01993063, -0.00183314],\n",
       "       [ 0.02392998, -0.00576136],\n",
       "       [-0.00146053,  0.00896608]])"
      ]
     },
     "execution_count": 15,
     "metadata": {},
     "output_type": "execute_result"
    }
   ],
   "source": [
    "layer3.output"
   ]
  }
 ],
 "metadata": {
  "kernelspec": {
   "display_name": "Python 3",
   "language": "python",
   "name": "python3"
  },
  "language_info": {
   "codemirror_mode": {
    "name": "ipython",
    "version": 3
   },
   "file_extension": ".py",
   "mimetype": "text/x-python",
   "name": "python",
   "nbconvert_exporter": "python",
   "pygments_lexer": "ipython3",
   "version": "3.8.3"
  }
 },
 "nbformat": 4,
 "nbformat_minor": 4
}
