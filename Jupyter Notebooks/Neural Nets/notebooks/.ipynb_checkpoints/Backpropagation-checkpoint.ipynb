{
 "cells": [
  {
   "cell_type": "code",
   "execution_count": 1,
   "metadata": {},
   "outputs": [],
   "source": [
    "import numpy as np\n",
    "import matplotlib.pyplot as plt"
   ]
  },
  {
   "cell_type": "code",
   "execution_count": null,
   "metadata": {},
   "outputs": [],
   "source": [
    "# neural network layer\n",
    "class layer:\n",
    "    \n",
    "    # initialization (weights and biases)\n",
    "    def __init__(self,n_inputs, n_neurons): # self represents the instance of the class\n",
    "        self.weights = 0.1*np.random.randn(n_inputs,n_neurons) # small random numbers\n",
    "        self.biases = np.zeros((1,n_neurons))# zeros\n",
    "        \n",
    "    # forward pass: pass the data through the layer\n",
    "    def forward(self, inputs):\n",
    "        # we need to store the output\n",
    "        self.output = inputs.dot(self.weights) + self.biases\n",
    "        \n",
    "    def backward(self, dinputs):\n",
    "        \n",
    "        # gradient\n",
    "        self.dinputs = dinputs.dot(self.weights.T)\n",
    "        \n",
    "        # gradients on parameters\n",
    "        self.dweights = self.inputs.T.dot(dinputs)\n",
    "        self.dbiases = np.sum(dinputs, axis=0, keepdims=True)\n",
    "        \n",
    "\n",
    "        \n",
    "# activation function\n",
    "class ReLU:\n",
    "    def forward(self, inputs):\n",
    "        self.output = np.maximum(0, inputs)\n",
    "        \n",
    "        # remember input values\n",
    "        self.inputs = inputs\n",
    "        \n",
    "    def backward(self, dvalues):\n",
    "\n",
    "        # copy dvalues\n",
    "        self.dinputs = dvalues.copy()\n",
    "        \n",
    "        # zero gradient where input values were negative\n",
    "        self.dinputs[self.inputs <= 0] = 0\n",
    "        \n",
    "        \n",
    "# linear activation function: outputs = inputs\n",
    "class activation_linear:\n",
    "\n",
    "    def forward(self, inputs):\n",
    "        # flatten the output\n",
    "        self.inputs = inputs\n",
    "        self.output = inputs.flatten()\n",
    "\n",
    "    def backward(self, dinputs):\n",
    "        # derivative of x is 1 \n",
    "        self.dinputs = dinputs.copy().reshape(-1,1) # reshape the result as a column vector\n"
   ]
  }
 ],
 "metadata": {
  "kernelspec": {
   "display_name": "Python 3",
   "language": "python",
   "name": "python3"
  },
  "language_info": {
   "codemirror_mode": {
    "name": "ipython",
    "version": 3
   },
   "file_extension": ".py",
   "mimetype": "text/x-python",
   "name": "python",
   "nbconvert_exporter": "python",
   "pygments_lexer": "ipython3",
   "version": "3.8.3"
  }
 },
 "nbformat": 4,
 "nbformat_minor": 4
}
