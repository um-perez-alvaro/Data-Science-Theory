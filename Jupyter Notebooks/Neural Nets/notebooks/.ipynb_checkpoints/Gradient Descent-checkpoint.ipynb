{
 "cells": [
  {
   "cell_type": "code",
   "execution_count": 1,
   "metadata": {},
   "outputs": [],
   "source": [
    "import numpy as np\n",
    "import matplotlib.pyplot as plt"
   ]
  },
  {
   "cell_type": "markdown",
   "metadata": {},
   "source": [
    "# Gradient Descent "
   ]
  },
  {
   "cell_type": "code",
   "execution_count": 2,
   "metadata": {},
   "outputs": [],
   "source": [
    "class layer:\n",
    "    'Neural network dense layer'\n",
    "    \n",
    "    # initialization (weights and biases)\n",
    "    def __init__(self, n_inputs, n_neurons):\n",
    "        self.weights = 0.01*np.random.randn(n_inputs, n_neurons) \n",
    "        self.biases = np.zeros((1,n_neurons))\n",
    "\n",
    "    # output\n",
    "    def forward(self, inputs):\n",
    "        self.output = inputs.dot(self.weights) + self.biases\n",
    "        \n",
    "        # remember input values\n",
    "        self.inputs = inputs\n",
    "      \n",
    "    def backward(self, dvalues):\n",
    "        \n",
    "        # gradient\n",
    "        self.dinputs = dvalues.dot(self.weights.T)\n",
    "        \n",
    "        # Gradients on parameters\n",
    "        self.dweights = self.inputs.T.dot(dvalues)\n",
    "        self.dbiases = np.sum(dvalues, axis=0, keepdims=True)\n",
    "\n",
    "        \n",
    "class activation_ReLU:\n",
    "    'rectified linear unit activation function'\n",
    "    \n",
    "    def forward(self, inputs):\n",
    "        self.output = np.maximum(0, inputs)\n",
    "        \n",
    "        # remember input values\n",
    "        self.inputs = inputs\n",
    "        \n",
    "    def backward(self, dvalues):\n",
    "\n",
    "        # copy dvalues\n",
    "        self.dinputs = dvalues.copy()\n",
    "        \n",
    "        # zero gradient where input values were negative\n",
    "        self.dinputs[self.inputs <= 0] = 0\n",
    "        \n",
    "class activation_softmax:\n",
    "    'softmax activation function'\n",
    "    \n",
    "    def forward(self, inputs):\n",
    "        \n",
    "        # unnormalized probabilities\n",
    "        exp_values = np.exp(inputs-np.max(inputs,axis=1, keepdims=True))\n",
    "        \n",
    "        # normalized probabilities\n",
    "        probabilities = exp_values / np.sum(exp_values, axis=1, keepdims=True)\n",
    "        self.output = probabilities\n",
    "        \n",
    "        # remember input values\n",
    "        self.inputs = inputs\n",
    "        \n",
    "    def backward(self,dvalues):\n",
    "\n",
    "        \n",
    "        # initialized gradient (derivative) array\n",
    "        self.dinputs = np.zeros(dvalues.shape)\n",
    "        \n",
    "        # For each data point, compute gradient\n",
    "        for i in range(len(dvalues)):\n",
    "            output_row = self.output[i]\n",
    "            dvalues_row = dvalues[i]\n",
    "            \n",
    "            # Flatten output array\n",
    "            output_row = output_row.reshape(-1, 1)\n",
    "\n",
    "            # Calculate derivative matrix of the output\n",
    "            derivative_matrix = np.diagflat(output_row) - output_row.dot(output_row.T)\n",
    "            \n",
    "            # store gradient\n",
    "            self.dinputs[i] = dvalues_row.dot(derivative_matrix)\n",
    "\n",
    "\n",
    "class loss:\n",
    "    def calculate(self, output,y):\n",
    "        sample_losses = self.forward(output,y)\n",
    "        loss = np.mean(sample_losses)\n",
    "        return loss\n",
    "    \n",
    "# cross-entropy loss        \n",
    "class loss_crossentropy(loss):\n",
    "    \n",
    "    def forward(self, y_pred, y_true):\n",
    "        \n",
    "        # number of data points\n",
    "        n_samples = len(y_pred)\n",
    "        \n",
    "        # clip data to prevent division by 0\n",
    "        y_pred_clipped = np.clip(y_pred, 1e-7,1 - 1e-7)\n",
    "        \n",
    "        # confidence values\n",
    "        confidence_values = y_pred_clipped[range(n_samples),y_true]\n",
    "       \n",
    "        # sample losses \n",
    "        losses = -np.log(confidence_values)\n",
    "        return losses\n",
    "    \n",
    "    \n",
    "    def backward(self, dvalues, y_true):\n",
    "        \n",
    "        \n",
    "        # Number of samples\n",
    "        n_samples = len(dvalues)\n",
    "    \n",
    "        #one-hot matrix\n",
    "        Y = np.zeros(dvalues.shape)\n",
    "        Y[np.arange(len(y_true)),y_true] = 1\n",
    "        \n",
    "        # Calculate gradient\n",
    "        self.dinputs = -Y / dvalues\n",
    "        \n",
    "        # Normalize gradient\n",
    "        self.dinputs = self.dinputs / n_samples\n",
    "        \n",
    "# GD optimizer\n",
    "class optimizer_GD:\n",
    "\n",
    "    def __init__(self, learning_rate=1.0):\n",
    "        self.learning_rate = learning_rate\n",
    "        \n",
    "    def update_parameters(self, layer):\n",
    "        layer.weights = layer.weights - self.learning_rate*layer.dweights\n",
    "        layer.biases = layer.biases - self.learning_rate*layer.dbiases"
   ]
  },
  {
   "cell_type": "code",
   "execution_count": 3,
   "metadata": {},
   "outputs": [],
   "source": [
    "gd = optimizer_GD(learning_rate=0.1)"
   ]
  },
  {
   "cell_type": "code",
   "execution_count": 4,
   "metadata": {},
   "outputs": [
    {
     "data": {
      "text/plain": [
       "0.1"
      ]
     },
     "execution_count": 4,
     "metadata": {},
     "output_type": "execute_result"
    }
   ],
   "source": [
    "gd.learning_rate"
   ]
  },
  {
   "cell_type": "markdown",
   "metadata": {},
   "source": [
    "## Example"
   ]
  },
  {
   "cell_type": "code",
   "execution_count": 21,
   "metadata": {},
   "outputs": [],
   "source": [
    "X = np.zeros((10,2))\n",
    "X[0:5] = 0.1*np.random.randn(5,2)\n",
    "X[5:10] = 0.1*np.random.randn(5,2) + [2,2]\n",
    "y = np.array([0,0,0,0,0,1,1,1,1,1])"
   ]
  },
  {
   "cell_type": "code",
   "execution_count": 22,
   "metadata": {},
   "outputs": [
    {
     "data": {
      "text/plain": [
       "<matplotlib.legend.Legend at 0x2006d433408>"
      ]
     },
     "execution_count": 22,
     "metadata": {},
     "output_type": "execute_result"
    },
    {
     "data": {
      "image/png": "[encoded data removed]",
      "text/plain": [
       "<Figure size 432x288 with 1 Axes>"
      ]
     },
     "metadata": {
      "needs_background": "light"
     },
     "output_type": "display_data"
    }
   ],
   "source": [
    "plt.plot(X[y==0,0],X[y==0,1],'o', label = 'class 0')\n",
    "plt.plot(X[y==1,0],X[y==1,1],'o', label = 'class 1')\n",
    "plt.legend()"
   ]
  },
  {
   "cell_type": "code",
   "execution_count": 23,
   "metadata": {},
   "outputs": [],
   "source": [
    "# neural network \n",
    "layer1 = layer(n_inputs = 2, n_neurons = 10)\n",
    "activation1 = activation_ReLU()\n",
    "layer2 = layer(n_inputs = 10, n_neurons = 2)\n",
    "activation2 = activation_softmax()\n",
    "loss_function = loss_crossentropy()"
   ]
  },
  {
   "cell_type": "code",
   "execution_count": 24,
   "metadata": {},
   "outputs": [],
   "source": [
    "# optimizer\n",
    "optimizer = optimizer_GD(learning_rate=1)"
   ]
  },
  {
   "cell_type": "code",
   "execution_count": 25,
   "metadata": {},
   "outputs": [],
   "source": [
    "n_epochs = 100\n",
    "Loss = np.zeros(n_epochs)\n",
    "for i in range(n_epochs):\n",
    "    \n",
    "    # forward pass\n",
    "    layer1.forward(X)\n",
    "    activation1.forward(layer1.output)\n",
    "    layer2.forward(activation1.output)\n",
    "    activation2.forward(layer2.output)\n",
    "    losses = loss_function.forward(activation2.output,y)\n",
    "    Loss[i] = np.mean(losses)\n",
    "    \n",
    "    # backward pass\n",
    "    loss_function.backward(activation2.output,y)\n",
    "    activation2.backward(loss_function.dinputs)\n",
    "    layer2.backward(activation2.dinputs)\n",
    "    activation1.backward(layer2.dinputs)\n",
    "    layer1.backward(activation1.dinputs)\n",
    "    \n",
    "    # update weights and biases\n",
    "    optimizer.update_parameters(layer1)\n",
    "    optimizer.update_parameters(layer2)"
   ]
  },
  {
   "cell_type": "code",
   "execution_count": 26,
   "metadata": {},
   "outputs": [
    {
     "data": {
      "text/plain": [
       "Text(0, 0.5, 'Loss')"
      ]
     },
     "execution_count": 26,
     "metadata": {},
     "output_type": "execute_result"
    },
    {
     "data": {
      "image/png": "[encoded data removed]",
      "text/plain": [
       "<Figure size 432x288 with 1 Axes>"
      ]
     },
     "metadata": {
      "needs_background": "light"
     },
     "output_type": "display_data"
    }
   ],
   "source": [
    "plt.plot(Loss)\n",
    "plt.xlabel('epochs')\n",
    "plt.ylabel('Loss')"
   ]
  },
  {
   "cell_type": "code",
   "execution_count": 27,
   "metadata": {},
   "outputs": [
    {
     "data": {
      "text/plain": [
       "array([[0.99, 0.01],\n",
       "       [0.99, 0.01],\n",
       "       [0.99, 0.01],\n",
       "       [0.99, 0.01],\n",
       "       [0.99, 0.01],\n",
       "       [0.  , 1.  ],\n",
       "       [0.  , 1.  ],\n",
       "       [0.  , 1.  ],\n",
       "       [0.  , 1.  ],\n",
       "       [0.  , 1.  ]])"
      ]
     },
     "execution_count": 27,
     "metadata": {},
     "output_type": "execute_result"
    }
   ],
   "source": [
    "# probabilities \n",
    "np.round(activation2.output,2)"
   ]
  },
  {
   "cell_type": "code",
   "execution_count": 28,
   "metadata": {},
   "outputs": [
    {
     "data": {
      "text/plain": [
       "array([0, 0, 0, 0, 0, 1, 1, 1, 1, 1], dtype=int64)"
      ]
     },
     "execution_count": 28,
     "metadata": {},
     "output_type": "execute_result"
    }
   ],
   "source": [
    "# predictions\n",
    "y_pred = np.argmax(activation2.output,axis=1)\n",
    "y_pred"
   ]
  },
  {
   "cell_type": "code",
   "execution_count": 29,
   "metadata": {},
   "outputs": [
    {
     "data": {
      "text/plain": [
       "100.0"
      ]
     },
     "execution_count": 29,
     "metadata": {},
     "output_type": "execute_result"
    }
   ],
   "source": [
    "# accuracy\n",
    "100*np.sum(y_pred == y)/len(y)"
   ]
  },
  {
   "cell_type": "code",
   "execution_count": null,
   "metadata": {},
   "outputs": [],
   "source": []
  }
 ],
 "metadata": {
  "kernelspec": {
   "display_name": "Python 3",
   "language": "python",
   "name": "python3"
  },
  "language_info": {
   "codemirror_mode": {
    "name": "ipython",
    "version": 3
   },
   "file_extension": ".py",
   "mimetype": "text/x-python",
   "name": "python",
   "nbconvert_exporter": "python",
   "pygments_lexer": "ipython3",
   "version": "3.7.6"
  }
 },
 "nbformat": 4,
 "nbformat_minor": 4
}
