{
 "cells": [
  {
   "cell_type": "code",
   "execution_count": 28,
   "metadata": {},
   "outputs": [],
   "source": [
    "import numpy as np\n",
    "import matplotlib.pyplot as plt"
   ]
  },
  {
   "cell_type": "markdown",
   "metadata": {},
   "source": [
    "# Activation Functions"
   ]
  },
  {
   "cell_type": "code",
   "execution_count": 36,
   "metadata": {},
   "outputs": [],
   "source": [
    "class layer_dense:\n",
    "      \n",
    "    # initialization (weights and biases)\n",
    "    def __init__(self, n_inputs, n_neurons):\n",
    "        self.weights = 0.1*np.random.randn(n_inputs, n_neurons)\n",
    "        self.biases = np.zeros((1,n_neurons))\n",
    "\n",
    "    # output\n",
    "    def forward(self, inputs):\n",
    "        self.output = inputs.dot(self.weights) + self.biases\n",
    "\n",
    "class activation_ReLU:\n",
    "    'rectified linear unit activation function'\n",
    "    \n",
    "    def forward(self, inputs):\n",
    "        self.output = np.maximum(0, inputs)\n",
    "        \n",
    "class activation_softmax:\n",
    "    'softmax activation function'\n",
    "    \n",
    "    def forward(self, inputs):\n",
    "        exp_values = np.exp(inputs-np.max(inputs,axis=1, keepdims=True))\n",
    "        probabilities = exp_values / np.sum(exp_values, axis=1, keepdims=True)\n",
    "        self.output = probabilities"
   ]
  },
  {
   "cell_type": "code",
   "execution_count": 37,
   "metadata": {},
   "outputs": [
    {
     "data": {
      "text/plain": [
       "array([[ 0.25712961,  0.31158154],\n",
       "       [-2.14005518, -0.71373084],\n",
       "       [ 1.57514807,  0.11307858],\n",
       "       [-1.91041087,  0.35233641],\n",
       "       [ 0.47326827,  0.47637002],\n",
       "       [ 0.49805033,  0.56974781],\n",
       "       [ 0.25310191,  0.27552685],\n",
       "       [-0.23202239, -0.14155938],\n",
       "       [ 0.70610166, -1.23911887],\n",
       "       [-1.55731926,  0.80331133]])"
      ]
     },
     "execution_count": 37,
     "metadata": {},
     "output_type": "execute_result"
    }
   ],
   "source": [
    "X = np.random.randn(10,2)\n",
    "X"
   ]
  },
  {
   "cell_type": "code",
   "execution_count": 38,
   "metadata": {},
   "outputs": [
    {
     "data": {
      "text/plain": [
       "array([[ 0.30737919,  0.79341332, -0.39498332, -0.48030825, -0.28113967],\n",
       "       [-0.21062265, -3.95861812,  0.74414237,  2.07846615,  2.29671503],\n",
       "       [-0.35990406,  2.33355131,  0.01011868, -1.10889102, -1.68098528],\n",
       "       [ 1.04790687, -2.14143765, -0.6746108 ,  0.84512882,  2.02753159],\n",
       "       [ 0.44444516,  1.32367363, -0.59558057, -0.78488154, -0.51522987],\n",
       "       [ 0.55319595,  1.48928513, -0.71936706, -0.89585429, -0.54378111],\n",
       "       [ 0.2636258 ,  0.73711721, -0.34661347, -0.44095456, -0.2760198 ],\n",
       "       [-0.10299765, -0.51949926,  0.16752008,  0.29087307,  0.25048143],\n",
       "       [-1.7723989 , -0.76893899,  1.74982608,  0.81986366, -0.72391905],\n",
       "       [ 1.49886702, -1.01939888, -1.24827434,  0.16197124,  1.64093843]])"
      ]
     },
     "execution_count": 38,
     "metadata": {},
     "output_type": "execute_result"
    }
   ],
   "source": [
    "layer1 = layer_dense(n_inputs = 2, n_neurons = 5)\n",
    "layer1.forward(X)\n",
    "y = layer1.output\n",
    "y"
   ]
  },
  {
   "cell_type": "code",
   "execution_count": 39,
   "metadata": {},
   "outputs": [
    {
     "data": {
      "text/plain": [
       "array([[0.30737919, 0.79341332, 0.        , 0.        , 0.        ],\n",
       "       [0.        , 0.        , 0.74414237, 2.07846615, 2.29671503],\n",
       "       [0.        , 2.33355131, 0.01011868, 0.        , 0.        ],\n",
       "       [1.04790687, 0.        , 0.        , 0.84512882, 2.02753159],\n",
       "       [0.44444516, 1.32367363, 0.        , 0.        , 0.        ],\n",
       "       [0.55319595, 1.48928513, 0.        , 0.        , 0.        ],\n",
       "       [0.2636258 , 0.73711721, 0.        , 0.        , 0.        ],\n",
       "       [0.        , 0.        , 0.16752008, 0.29087307, 0.25048143],\n",
       "       [0.        , 0.        , 1.74982608, 0.81986366, 0.        ],\n",
       "       [1.49886702, 0.        , 0.        , 0.16197124, 1.64093843]])"
      ]
     },
     "execution_count": 39,
     "metadata": {},
     "output_type": "execute_result"
    }
   ],
   "source": [
    "# ReLU = max(0,y)\n",
    "np.maximum(0,y)"
   ]
  },
  {
   "cell_type": "code",
   "execution_count": 40,
   "metadata": {},
   "outputs": [],
   "source": [
    "# create multiple layers with their activation functions\n",
    "layer1 = layer_dense(n_inputs = 2, n_neurons = 5)\n",
    "activation1 = activation_ReLU()\n",
    "layer2 = layer_dense(n_inputs = 5, n_neurons = 10)\n",
    "activation2 = activation_ReLU()\n",
    "layer3 = layer_dense(n_inputs =10, n_neurons = 2)"
   ]
  },
  {
   "cell_type": "code",
   "execution_count": 41,
   "metadata": {},
   "outputs": [],
   "source": [
    "# layer 1\n",
    "layer1.forward(X)\n",
    "activation1.forward(layer1.output)\n",
    "# layer 2\n",
    "layer2.forward(activation1.output)\n",
    "activation2.forward(layer2.output)\n",
    "# layer 3\n",
    "layer3.forward(activation2.output)"
   ]
  },
  {
   "cell_type": "code",
   "execution_count": 42,
   "metadata": {},
   "outputs": [
    {
     "data": {
      "text/plain": [
       "array([[ 0.61655537,  0.75137801],\n",
       "       [-5.88187846,  9.54874433],\n",
       "       [ 3.40140249,  1.04156015],\n",
       "       [-2.15574562,  4.5515413 ],\n",
       "       [ 1.2012861 ,  1.11879099],\n",
       "       [ 1.21735754,  1.36352183],\n",
       "       [ 0.62823155,  0.65481119],\n",
       "       [-0.83881794,  1.11452641],\n",
       "       [-0.86051574,  1.2646193 ],\n",
       "       [-0.76870081,  1.64518157]])"
      ]
     },
     "execution_count": 42,
     "metadata": {},
     "output_type": "execute_result"
    }
   ],
   "source": [
    "# layer 3 output\n",
    "y = layer3.output\n",
    "y"
   ]
  },
  {
   "cell_type": "code",
   "execution_count": 43,
   "metadata": {},
   "outputs": [],
   "source": [
    "y = y - np.max(y,axis=1, keepdims=True)"
   ]
  },
  {
   "cell_type": "code",
   "execution_count": 44,
   "metadata": {},
   "outputs": [
    {
     "data": {
      "text/plain": [
       "array([[8.73870881e-01, 1.00000000e+00],\n",
       "       [1.98868349e-07, 1.00000000e+00],\n",
       "       [1.00000000e+00, 9.44351111e-02],\n",
       "       [1.22197495e-03, 1.00000000e+00],\n",
       "       [1.00000000e+00, 9.20815945e-01],\n",
       "       [8.64015743e-01, 1.00000000e+00],\n",
       "       [9.73770487e-01, 1.00000000e+00],\n",
       "       [1.41799052e-01, 1.00000000e+00],\n",
       "       [1.19416841e-01, 1.00000000e+00],\n",
       "       [8.94672733e-02, 1.00000000e+00]])"
      ]
     },
     "execution_count": 44,
     "metadata": {},
     "output_type": "execute_result"
    }
   ],
   "source": [
    "# softmax\n",
    "exp_values = np.exp(y)\n",
    "exp_values"
   ]
  },
  {
   "cell_type": "code",
   "execution_count": 45,
   "metadata": {},
   "outputs": [
    {
     "data": {
      "text/plain": [
       "array([[4.66345301e-01, 5.33654699e-01],\n",
       "       [1.98868309e-07, 9.99999801e-01],\n",
       "       [9.13713376e-01, 8.62866242e-02],\n",
       "       [1.22048355e-03, 9.98779516e-01],\n",
       "       [5.20612088e-01, 4.79387912e-01],\n",
       "       [4.63523844e-01, 5.36476156e-01],\n",
       "       [4.93355480e-01, 5.06644520e-01],\n",
       "       [1.24189148e-01, 8.75810852e-01],\n",
       "       [1.06677724e-01, 8.93322276e-01],\n",
       "       [8.21202027e-02, 9.17879797e-01]])"
      ]
     },
     "execution_count": 45,
     "metadata": {},
     "output_type": "execute_result"
    }
   ],
   "source": [
    "exp_values/np.sum(exp_values, axis=1, keepdims=True)"
   ]
  },
  {
   "cell_type": "code",
   "execution_count": 46,
   "metadata": {},
   "outputs": [
    {
     "name": "stderr",
     "output_type": "stream",
     "text": [
      "C:\\Users\\javier.perez-alvaro\\Anaconda3\\lib\\site-packages\\ipykernel_launcher.py:2: RuntimeWarning: overflow encountered in exp\n",
      "  \n"
     ]
    },
    {
     "data": {
      "text/plain": [
       "inf"
      ]
     },
     "execution_count": 46,
     "metadata": {},
     "output_type": "execute_result"
    }
   ],
   "source": [
    "# problem: overflow (a number larger than the largest float number)\n",
    "np.exp(1000)"
   ]
  },
  {
   "cell_type": "code",
   "execution_count": 47,
   "metadata": {},
   "outputs": [],
   "source": [
    "# solution: subtract from the y values the max value (it won't change the probabilities)"
   ]
  },
  {
   "cell_type": "markdown",
   "metadata": {},
   "source": [
    "**Example**"
   ]
  },
  {
   "cell_type": "code",
   "execution_count": 48,
   "metadata": {},
   "outputs": [],
   "source": [
    "layer1 = layer_dense(n_inputs = 2, n_neurons = 5)\n",
    "activation1 = activation_ReLU()\n",
    "layer2 = layer_dense(n_inputs = 5, n_neurons = 10)\n",
    "activation2 = activation_ReLU()\n",
    "layer3 = layer_dense(n_inputs =10, n_neurons = 10)\n",
    "activation3  = activation_ReLU()\n",
    "layer4 = layer_dense(n_inputs=10, n_neurons = 3)\n",
    "activation4 = activation_softmax()"
   ]
  },
  {
   "cell_type": "code",
   "execution_count": 49,
   "metadata": {},
   "outputs": [
    {
     "data": {
      "text/plain": [
       "array([[3.33333333e-01, 3.33333333e-01, 3.33333333e-01],\n",
       "       [1.41729348e-01, 8.57462199e-01, 8.08452956e-04],\n",
       "       [3.25717031e-01, 3.86651643e-01, 2.87631327e-01],\n",
       "       [9.99853163e-01, 4.17049880e-06, 1.42666983e-04],\n",
       "       [3.33333333e-01, 3.33333333e-01, 3.33333333e-01],\n",
       "       [3.33333333e-01, 3.33333333e-01, 3.33333333e-01],\n",
       "       [3.33333333e-01, 3.33333333e-01, 3.33333333e-01],\n",
       "       [2.15421122e-01, 6.63392997e-01, 1.21185881e-01],\n",
       "       [1.58108372e-02, 9.64626091e-01, 1.95630720e-02],\n",
       "       [9.99995711e-01, 1.61219754e-08, 4.27241031e-06]])"
      ]
     },
     "execution_count": 49,
     "metadata": {},
     "output_type": "execute_result"
    }
   ],
   "source": [
    "# layer 1\n",
    "layer1.forward(X)\n",
    "activation1.forward(layer1.output)\n",
    "# layer 2\n",
    "layer2.forward(activation1.output)\n",
    "activation2.forward(layer2.output)\n",
    "# layer 3\n",
    "layer3.forward(activation2.output)\n",
    "activation3.forward(layer3.output)\n",
    "# layer 4\n",
    "layer4.forward(activation3.output)\n",
    "activation4.forward(layer4.output)\n",
    "\n",
    "activation4.output"
   ]
  },
  {
   "cell_type": "code",
   "execution_count": null,
   "metadata": {},
   "outputs": [],
   "source": []
  }
 ],
 "metadata": {
  "kernelspec": {
   "display_name": "Python 3",
   "language": "python",
   "name": "python3"
  },
  "language_info": {
   "codemirror_mode": {
    "name": "ipython",
    "version": 3
   },
   "file_extension": ".py",
   "mimetype": "text/x-python",
   "name": "python",
   "nbconvert_exporter": "python",
   "pygments_lexer": "ipython3",
   "version": "3.7.6"
  }
 },
 "nbformat": 4,
 "nbformat_minor": 4
}
