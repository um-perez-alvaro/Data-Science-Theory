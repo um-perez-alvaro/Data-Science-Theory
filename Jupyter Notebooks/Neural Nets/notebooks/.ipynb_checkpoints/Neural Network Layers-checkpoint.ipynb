{
 "cells": [
  {
   "cell_type": "code",
   "execution_count": 1,
   "metadata": {},
   "outputs": [],
   "source": [
    "import numpy as np\n",
    "import matplotlib.pyplot as plt"
   ]
  },
  {
   "cell_type": "code",
   "execution_count": 1,
   "metadata": {},
   "outputs": [],
   "source": [
    "# neural network layer\n",
    "class layer:\n",
    "    \n",
    "    # initialization (weights and biases)\n",
    "    def __init__(self,n_inputs, n_neurons): # self represents the instance of the class\n",
    "        self.weights = 0.1*np.random.randn(n_inputs,n_neurons) # small random numbers\n",
    "        self.biases = np.zeros((1,n_neurons))# zeros\n",
    "        \n",
    "    # forward pass: pass the data through the layer\n",
    "    def forward(self, inputs):\n",
    "        # we need to store the output\n",
    "        self.output = inputs.dot(self.weights) + self.biases\n",
    "        \n",
    "\n",
    "        \n",
    "# activation function\n",
    "class ReLU:\n",
    "    def forward(self, inputs):\n",
    "        self.output = np.maximum(0, inputs)\n",
    "        \n",
    "\n"
   ]
  },
  {
   "cell_type": "code",
   "execution_count": 38,
   "metadata": {},
   "outputs": [
    {
     "data": {
      "text/plain": [
       "array([[-1.2168713 ,  0.65494249],\n",
       "       [ 0.9562867 ,  0.08300234],\n",
       "       [ 0.09693561,  0.08955399],\n",
       "       [-0.69214926, -0.70565582],\n",
       "       [ 2.18906227, -0.79243633],\n",
       "       [ 0.86705275, -1.17103244],\n",
       "       [ 0.01062746,  0.90507617],\n",
       "       [ 0.48183792,  0.43726013],\n",
       "       [-0.89327517,  1.2583573 ],\n",
       "       [-1.57851825, -0.71743417]])"
      ]
     },
     "execution_count": 38,
     "metadata": {},
     "output_type": "execute_result"
    }
   ],
   "source": [
    "# random data: 10 data points in R^2\n",
    "X = np.random.randn(10,2)\n",
    "X"
   ]
  },
  {
   "cell_type": "code",
   "execution_count": 39,
   "metadata": {},
   "outputs": [],
   "source": [
    "# we can create a layer (an instance of the layer class)\n",
    "layer1 = dense_layer(n_inputs=2, n_neurons=4)"
   ]
  },
  {
   "cell_type": "code",
   "execution_count": 40,
   "metadata": {},
   "outputs": [
    {
     "data": {
      "text/plain": [
       "array([[-0.03238615,  0.01632633, -0.02217908, -0.03170802],\n",
       "       [-0.04008265, -0.13426744, -0.14898534,  0.0218093 ]])"
      ]
     },
     "execution_count": 40,
     "metadata": {},
     "output_type": "execute_result"
    }
   ],
   "source": [
    "# layer 1 weights\n",
    "layer1.weights"
   ]
  },
  {
   "cell_type": "code",
   "execution_count": 41,
   "metadata": {},
   "outputs": [
    {
     "data": {
      "text/plain": [
       "array([[0., 0., 0., 0.]])"
      ]
     },
     "execution_count": 41,
     "metadata": {},
     "output_type": "execute_result"
    }
   ],
   "source": [
    "# layer 2 biases\n",
    "layer1.biases"
   ]
  },
  {
   "cell_type": "code",
   "execution_count": 42,
   "metadata": {},
   "outputs": [],
   "source": [
    "# we can create multiple layers\n",
    "layer2 = dense_layer(n_inputs = 4, n_neurons = 10)\n",
    "layer3 = dense_layer(n_inputs = 10, n_neurons = 1)"
   ]
  },
  {
   "cell_type": "code",
   "execution_count": 43,
   "metadata": {},
   "outputs": [],
   "source": [
    "layer1.forward(X)"
   ]
  },
  {
   "cell_type": "code",
   "execution_count": 44,
   "metadata": {},
   "outputs": [
    {
     "data": {
      "text/plain": [
       "array([[ 0.01315795, -0.10780449, -0.07058775,  0.05286842],\n",
       "       [-0.0342974 ,  0.00446814, -0.03357569, -0.02851174],\n",
       "       [-0.00672893, -0.01044158, -0.01549217, -0.00112053],\n",
       "       [ 0.05070061,  0.08344635,  0.12048361,  0.00655682],\n",
       "       [-0.03913236,  0.14213775,  0.06951001, -0.08669331],\n",
       "       [ 0.01885758,  0.17138732,  0.15523624, -0.05303193],\n",
       "       [-0.03662204, -0.12134876, -0.13507879,  0.0194021 ],\n",
       "       [-0.03313142, -0.05084316, -0.07583207, -0.00574179],\n",
       "       [-0.02150855, -0.18354032, -0.16766477,  0.05576788],\n",
       "       [ 0.0798788 ,  0.07055665,  0.14189726,  0.03440495]])"
      ]
     },
     "execution_count": 44,
     "metadata": {},
     "output_type": "execute_result"
    }
   ],
   "source": [
    "# output \n",
    "layer1.output"
   ]
  },
  {
   "cell_type": "code",
   "execution_count": 45,
   "metadata": {},
   "outputs": [
    {
     "data": {
      "text/plain": [
       "array([[0.01315795, 0.        , 0.        , 0.05286842],\n",
       "       [0.        , 0.00446814, 0.        , 0.        ],\n",
       "       [0.        , 0.        , 0.        , 0.        ],\n",
       "       [0.05070061, 0.08344635, 0.12048361, 0.00655682],\n",
       "       [0.        , 0.14213775, 0.06951001, 0.        ],\n",
       "       [0.01885758, 0.17138732, 0.15523624, 0.        ],\n",
       "       [0.        , 0.        , 0.        , 0.0194021 ],\n",
       "       [0.        , 0.        , 0.        , 0.        ],\n",
       "       [0.        , 0.        , 0.        , 0.05576788],\n",
       "       [0.0798788 , 0.07055665, 0.14189726, 0.03440495]])"
      ]
     },
     "execution_count": 45,
     "metadata": {},
     "output_type": "execute_result"
    }
   ],
   "source": [
    "# ReLu\n",
    "np.maximum(0,layer1.output)"
   ]
  },
  {
   "cell_type": "code",
   "execution_count": 47,
   "metadata": {},
   "outputs": [],
   "source": [
    "# our first neural network\n",
    "layer1 = layer(n_inputs = 2, n_neurons=10) # input layer\n",
    "activation1 = ReLU()\n",
    "layer2 = layer(n_inputs = 10, n_neurons = 20) # hidden layer\n",
    "activation2 = ReLU()\n",
    "layer3 = layer(n_inputs=20, n_neurons = 1) # output layer"
   ]
  },
  {
   "cell_type": "code",
   "execution_count": 48,
   "metadata": {},
   "outputs": [],
   "source": [
    "# forward pass\n",
    "layer1.forward(X)\n",
    "activation1.forward(layer1.output)\n",
    "layer2.forward(activation1.output)\n",
    "activation2.forward(layer2.output)\n",
    "layer3.forward(activation2.output)"
   ]
  },
  {
   "cell_type": "code",
   "execution_count": 49,
   "metadata": {},
   "outputs": [
    {
     "data": {
      "text/plain": [
       "array([[ 0.00156315],\n",
       "       [ 0.0034069 ],\n",
       "       [ 0.00091638],\n",
       "       [-0.00122697],\n",
       "       [ 0.00411929],\n",
       "       [-0.00081187],\n",
       "       [ 0.00442422],\n",
       "       [ 0.00452393],\n",
       "       [ 0.00288873],\n",
       "       [-0.00145782]])"
      ]
     },
     "execution_count": 49,
     "metadata": {},
     "output_type": "execute_result"
    }
   ],
   "source": [
    "layer3.output"
   ]
  },
  {
   "cell_type": "code",
   "execution_count": null,
   "metadata": {},
   "outputs": [],
   "source": []
  }
 ],
 "metadata": {
  "kernelspec": {
   "display_name": "Python 3",
   "language": "python",
   "name": "python3"
  },
  "language_info": {
   "codemirror_mode": {
    "name": "ipython",
    "version": 3
   },
   "file_extension": ".py",
   "mimetype": "text/x-python",
   "name": "python",
   "nbconvert_exporter": "python",
   "pygments_lexer": "ipython3",
   "version": "3.8.3"
  }
 },
 "nbformat": 4,
 "nbformat_minor": 4
}
