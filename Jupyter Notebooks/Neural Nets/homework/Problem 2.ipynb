{
 "cells": [
  {
   "cell_type": "code",
   "execution_count": 4,
   "metadata": {},
   "outputs": [],
   "source": [
    "import numpy as np\n",
    "import matplotlib.pyplot as plt"
   ]
  },
  {
   "cell_type": "markdown",
   "metadata": {},
   "source": [
    "# Problem 2: Overfitting a Neural Network"
   ]
  },
  {
   "cell_type": "markdown",
   "metadata": {},
   "source": [
    "**Contents**\n",
    "\n",
    "- [Neural network stuff](#Neural-network-stuff)\n",
    "- [A toy dataset](#A-toy-dataset)\n",
    "- [A two-layer neural network](#A-two-layer-neural-network)\n",
    "- [A three-layer neural network](#A-three-layer-neural-network)"
   ]
  },
  {
   "cell_type": "markdown",
   "metadata": {},
   "source": [
    "### Neural network stuff"
   ]
  },
  {
   "cell_type": "code",
   "execution_count": 5,
   "metadata": {},
   "outputs": [],
   "source": [
    "# neural network layer\n",
    "class layer:\n",
    "    \n",
    "    # initialization (weights and biases)\n",
    "    def __init__(self,n_inputs, n_neurons): # self represents the instance of the class\n",
    "        self.weights = 0.1*np.random.randn(n_inputs,n_neurons) # small random numbers\n",
    "        self.biases = np.zeros((1,n_neurons))# zeros\n",
    "        \n",
    "        # initialize momentums and caches\n",
    "        self.weight_momentums = np.zeros(self.weights.shape)\n",
    "        self.weight_caches = np.zeros(self.weights.shape)\n",
    "        self.bias_momentums = np.zeros(self.biases.shape)\n",
    "        self.bias_caches = np.zeros(self.biases.shape)\n",
    "        \n",
    "    # forward pass: pass the data through the layer\n",
    "    def forward(self, inputs):\n",
    "        # we need to store the output\n",
    "        self.output = inputs.dot(self.weights) + self.biases\n",
    "        \n",
    "        # remember input values\n",
    "        self.inputs = inputs\n",
    "        \n",
    "    def backward(self, dinputs):\n",
    "        \n",
    "        # gradient\n",
    "        self.dinputs = dinputs.dot(self.weights.T)\n",
    "        \n",
    "        # gradients on parameters\n",
    "        self.dweights = self.inputs.T.dot(dinputs)\n",
    "        self.dbiases = np.sum(dinputs, axis=0, keepdims=True)\n",
    "        \n",
    "\n",
    "        \n",
    "# activation function\n",
    "class ReLU:\n",
    "    def forward(self, inputs):\n",
    "        self.output = np.maximum(0, inputs)\n",
    "        \n",
    "        # remember input values\n",
    "        self.inputs = inputs\n",
    "        \n",
    "    def backward(self, dinputs):\n",
    "\n",
    "        # copy dvalues\n",
    "        self.dinputs = dinputs.copy()\n",
    "        \n",
    "        # zero gradient where input values were negative\n",
    "        self.dinputs[self.inputs <= 0] = 0\n",
    "        \n",
    "        \n",
    "# linear activation function: outputs = inputs\n",
    "class linear:\n",
    "\n",
    "    def forward(self, inputs):\n",
    "        # flatten the output\n",
    "        self.inputs = inputs\n",
    "        self.output = inputs.flatten()\n",
    "\n",
    "    def backward(self, dinputs):\n",
    "        # derivative of x is 1 \n",
    "        self.dinputs = dinputs.copy().reshape(-1,1) # reshape the result as a column vector\n",
    "        \n",
    "# softmax activation function\n",
    "class softmax:\n",
    "    \n",
    "    def forward(self, inputs):\n",
    "        \n",
    "        # unnormalized probabilities\n",
    "        exp_values = np.exp(inputs)\n",
    "        \n",
    "        # normalized probabilities\n",
    "        probabilities = exp_values / np.sum(exp_values, axis=1, keepdims=True)\n",
    "        self.output = probabilities\n",
    "        \n",
    "        # remember input values\n",
    "        self.inputs = inputs\n",
    "        \n",
    "    def backward(self,dinputs):\n",
    "\n",
    "        \n",
    "        # initialized gradient array\n",
    "        self.dinputs = np.zeros(dinputs.shape)\n",
    "        \n",
    "        # For each data point, compute gradient\n",
    "        for i in range(len(dinputs)):\n",
    "            \n",
    "            # probabilities \n",
    "            proba = self.output[i]\n",
    "            \n",
    "            # loss gradients\n",
    "            dinputs_row = dinputs[i]\n",
    "\n",
    "\n",
    "            # calculate derivative matrix of the output\n",
    "            derivative_matrix = np.diag(proba) - proba.reshape(-1,1).dot(proba.reshape(1,-1))\n",
    "            \n",
    "            # store gradient\n",
    "            self.dinputs[i] = dinputs_row.dot(derivative_matrix)\n",
    "            \n",
    "\n",
    "# mean squeared error        \n",
    "class loss_mse():\n",
    "\n",
    "    def forward(self, y_pred, y_true):\n",
    "\n",
    "    # calculate loss\n",
    "        sample_losses = (y_true - y_pred)**2\n",
    "        # return losses\n",
    "        return sample_losses\n",
    "\n",
    "    def backward(self, y_pred, y_true):\n",
    "\n",
    "        # number of data points\n",
    "        samples = len(y_pred)\n",
    "\n",
    "        # gradient \n",
    "        self.dinputs = -2 * (y_true - y_pred) \n",
    "\n",
    "        # normalize gradient\n",
    "        self.dinputs = self.dinputs / samples\n",
    "        \n",
    "# categorical cross entropy\n",
    "class loss_crossentropy():\n",
    "    \n",
    "    def forward(self, y_hat, y):\n",
    "        \n",
    "        # number of data points\n",
    "        n_samples = len(y)\n",
    "        \n",
    "        # clip data to prevent division by 0\n",
    "        y_hat_clipped = np.clip(y_hat, 1e-7,1 - 1e-7)\n",
    "        \n",
    "        # predicted class probabilities\n",
    "        pred_proba = y_hat_clipped[range(n_samples),y]\n",
    "       \n",
    "        # sample losses \n",
    "        losses = -np.log(pred_proba)\n",
    "        \n",
    "        return losses\n",
    "    \n",
    "    \n",
    "    def backward(self, p, y):\n",
    "        \n",
    "        \n",
    "        # number of samples\n",
    "        n_samples = len(y)\n",
    "    \n",
    "        # one-hot matrix\n",
    "        Y = np.zeros(p.shape)\n",
    "        Y[np.arange(len(y)),y] = 1\n",
    "        \n",
    "        # calculate gradient\n",
    "        self.dinputs = -Y / p\n",
    "        \n",
    "        # normalized gradient\n",
    "        self.dinputs = self.dinputs / n_samples\n",
    "            \n",
    "            \n",
    "        \n",
    "class optimizer_GD:\n",
    "\n",
    "    def __init__(self, learning_rate=1):\n",
    "        self.learning_rate = learning_rate\n",
    "        \n",
    "    def update_parameters(self, layer):\n",
    "        \n",
    "        # apply gradient descent iteration\n",
    "        layer.weights = layer.weights - self.learning_rate*layer.dweights\n",
    "        layer.biases = layer.biases - self.learning_rate*layer.dbiases\n",
    "        \n",
    "        \n",
    "# Adam optimizer\n",
    "class optimizer_ADAM:\n",
    "    \n",
    "    # Initialize optimizer - set parameters\n",
    "    def __init__(self, learning_rate=0.001, decay=0., epsilon=1e-7,beta_1=0.9, beta_2=0.999):\n",
    "        \n",
    "        # initial learning rate\n",
    "        self.learning_rate = learning_rate\n",
    "        self.current_learning_rate = learning_rate\n",
    "        \n",
    "        # decay parameters\n",
    "        self.decay = decay\n",
    "        \n",
    "        # number of epochs\n",
    "        self.epoch = 0\n",
    "        \n",
    "        # update learning rate parameter\n",
    "        self.epsilon = epsilon\n",
    "        \n",
    "        # momentum parameter\n",
    "        self.beta_1 = beta_1\n",
    "        \n",
    "        # cache parameter\n",
    "        self.beta_2 = beta_2\n",
    "        \n",
    "        \n",
    "    # update learning rate\n",
    "    def pre_update_parameters(self):\n",
    "        \n",
    "        # update learning rate\n",
    "        self.current_learning_rate = self.learning_rate * (1 / (1 + self.decay * self.epoch))\n",
    "            \n",
    "    # Update weights/biases\n",
    "    def update_parameters(self, layer):\n",
    "                   \n",
    "        # momentums\n",
    "        layer.weight_momentums = self.beta_1 * layer.weight_momentums + (1 - self.beta_1) * layer.dweights\n",
    "        layer.bias_momentums = self.beta_1 * layer.bias_momentums + (1 - self.beta_1) * layer.dbiases\n",
    "        \n",
    "        # corrected momentums\n",
    "        weight_momentums_corrected = layer.weight_momentums / (1 - self.beta_1 ** (self.epoch + 1))\n",
    "        bias_momentums_corrected = layer.bias_momentums / (1 - self.beta_1 ** (self.epoch + 1))\n",
    "        \n",
    "        # cache\n",
    "        layer.weight_caches = self.beta_2 * layer.weight_caches + (1 - self.beta_2) * layer.dweights**2  \n",
    "        layer.bias_caches = self.beta_2 * layer.bias_caches + (1 - self.beta_2) * layer.dbiases**2\n",
    "        \n",
    "        # corrected cache\n",
    "        weight_caches_corrected = layer.weight_caches / (1 - self.beta_2 ** (self.epoch + 1))\n",
    "        bias_caches_corrected = layer.bias_caches / (1 - self.beta_2 ** (self.epoch + 1))\n",
    "        \n",
    "        # update weights and biases\n",
    "        layer.weights += -self.current_learning_rate * weight_momentums_corrected / (np.sqrt(weight_caches_corrected) + self.epsilon)\n",
    "        layer.biases += -self.current_learning_rate * bias_momentums_corrected / (np.sqrt(bias_caches_corrected) + self.epsilon)\n",
    "        \n",
    "    # update epoch\n",
    "    def post_update_parameters(self):\n",
    "        self.epoch += 1\n",
    "        \n",
    "        \n",
    "# dropout layer\n",
    "class dropout:\n",
    "    \n",
    "    # initialization - set the dropout rate\n",
    "    def __init__(self, rate):\n",
    "        self.rate = rate\n",
    "        \n",
    "    # forward pass\n",
    "    def forward(self, inputs):\n",
    "        # save inputs \n",
    "        self.inputs = inputs\n",
    "        # mask\n",
    "        self.mask = np.random.binomial(1, 1 - self.rate, size = inputs.shape) / (1 - self.rate)\n",
    "        # apply mask\n",
    "        self.output = inputs * self.mask\n",
    "        \n",
    "    # backward pass\n",
    "    def backward(self, dinputs):\n",
    "        self.dinputs = dinputs*self.mask"
   ]
  },
  {
   "cell_type": "markdown",
   "metadata": {},
   "source": [
    "### A toy dataset"
   ]
  },
  {
   "cell_type": "code",
   "execution_count": 6,
   "metadata": {
    "scrolled": true
   },
   "outputs": [
    {
     "data": {
      "image/png": "[encoded data removed]",
      "text/plain": [
       "<Figure size 432x288 with 1 Axes>"
      ]
     },
     "metadata": {
      "needs_background": "light"
     },
     "output_type": "display_data"
    }
   ],
   "source": [
    "# run this cell to generate and plot a toy dataset\n",
    "from sklearn.datasets import make_circles\n",
    "X,y = make_circles(n_samples = 400, noise=0.3, factor=0.5)\n",
    "\n",
    "for i in range(2):\n",
    "    plt.scatter(X[y==i,0],X[y==i,1])"
   ]
  },
  {
   "cell_type": "markdown",
   "metadata": {},
   "source": [
    "### A two-layer neural network"
   ]
  },
  {
   "cell_type": "code",
   "execution_count": 12,
   "metadata": {},
   "outputs": [],
   "source": [
    "# build a neural network with two layers (with 8 neurons each)\n"
   ]
  },
  {
   "cell_type": "code",
   "execution_count": 1,
   "metadata": {},
   "outputs": [],
   "source": [
    "# fit the neural network to the data (use the Adam optimizer)\n"
   ]
  },
  {
   "cell_type": "code",
   "execution_count": 2,
   "metadata": {},
   "outputs": [],
   "source": [
    "# visualize the classification regions\n"
   ]
  },
  {
   "cell_type": "markdown",
   "metadata": {},
   "source": [
    "### A three-layer neural network"
   ]
  },
  {
   "cell_type": "code",
   "execution_count": 3,
   "metadata": {},
   "outputs": [],
   "source": [
    "# build a neural network with three layers (with 64 neurons each)\n"
   ]
  },
  {
   "cell_type": "code",
   "execution_count": 4,
   "metadata": {},
   "outputs": [],
   "source": [
    "# fit the neural network to the data (use the Adam optimizer)\n"
   ]
  },
  {
   "cell_type": "code",
   "execution_count": 5,
   "metadata": {},
   "outputs": [],
   "source": [
    "# visualize the classification regions\n"
   ]
  },
  {
   "cell_type": "markdown",
   "metadata": {},
   "source": [
    "Which neural network is overfitting the data?"
   ]
  },
  {
   "cell_type": "code",
   "execution_count": null,
   "metadata": {},
   "outputs": [],
   "source": []
  }
 ],
 "metadata": {
  "kernelspec": {
   "display_name": "Python 3",
   "language": "python",
   "name": "python3"
  },
  "language_info": {
   "codemirror_mode": {
    "name": "ipython",
    "version": 3
   },
   "file_extension": ".py",
   "mimetype": "text/x-python",
   "name": "python",
   "nbconvert_exporter": "python",
   "pygments_lexer": "ipython3",
   "version": "3.8.3"
  }
 },
 "nbformat": 4,
 "nbformat_minor": 4
}
