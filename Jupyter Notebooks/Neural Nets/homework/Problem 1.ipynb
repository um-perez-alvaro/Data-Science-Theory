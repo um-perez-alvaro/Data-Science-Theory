{
 "cells": [
  {
   "cell_type": "code",
   "execution_count": 1,
   "metadata": {},
   "outputs": [],
   "source": [
    "import numpy as np\n",
    "import matplotlib.pyplot as plt"
   ]
  },
  {
   "cell_type": "markdown",
   "metadata": {},
   "source": [
    "## Problem 1: function approximation"
   ]
  },
  {
   "cell_type": "code",
   "execution_count": 2,
   "metadata": {},
   "outputs": [],
   "source": [
    "# neural network stuff\n",
    "class layer:\n",
    "    \n",
    "    # initialization (weights and biases)\n",
    "    def __init__(self,n_inputs, n_neurons): # self represents the instance of the class\n",
    "        self.weights = 0.1*np.random.randn(n_inputs,n_neurons) # small random numbers\n",
    "        self.biases = np.zeros((1,n_neurons))# zeros\n",
    "        \n",
    "    # forward pass: pass the data through the layer\n",
    "    def forward(self, inputs):\n",
    "        # we need to store the output\n",
    "        self.output = inputs.dot(self.weights) + self.biases\n",
    "        \n",
    "        # remember input values\n",
    "        self.inputs = inputs\n",
    "        \n",
    "    def backward(self, dinputs):\n",
    "        \n",
    "        # gradient\n",
    "        self.dinputs = dinputs.dot(self.weights.T)\n",
    "        \n",
    "        # gradients on parameters\n",
    "        self.dweights = self.inputs.T.dot(dinputs)\n",
    "        self.dbiases = np.sum(dinputs, axis=0, keepdims=True)\n",
    "        \n",
    "\n",
    "        \n",
    "# activation function\n",
    "class ReLU:\n",
    "    def forward(self, inputs):\n",
    "        self.output = np.maximum(0, inputs)\n",
    "        \n",
    "        # remember input values\n",
    "        self.inputs = inputs\n",
    "        \n",
    "    def backward(self, dinputs):\n",
    "\n",
    "        # copy dvalues\n",
    "        self.dinputs = dinputs.copy()\n",
    "        \n",
    "        # zero gradient where input values were negative\n",
    "        self.dinputs[self.inputs <= 0] = 0\n",
    "        \n",
    "        \n",
    "# linear activation function: outputs = inputs\n",
    "class linear:\n",
    "\n",
    "    def forward(self, inputs):\n",
    "        # flatten the output\n",
    "        self.inputs = inputs\n",
    "        self.output = inputs.flatten()\n",
    "\n",
    "    def backward(self, dinputs):\n",
    "        # derivative of x is 1 \n",
    "        self.dinputs = dinputs.copy().reshape(-1,1) # reshape the result as a column vector\n",
    "\n",
    "        \n",
    "# mean squeared error        \n",
    "class loss_mse():\n",
    "\n",
    "    def forward(self, y_pred, y_true):\n",
    "\n",
    "    # calculate loss\n",
    "        sample_losses = (y_true - y_pred)**2\n",
    "        # return losses\n",
    "        return sample_losses\n",
    "\n",
    "    def backward(self, y_pred, y_true):\n",
    "\n",
    "        # number of data points\n",
    "        samples = len(y_pred)\n",
    "\n",
    "        # gradient \n",
    "        self.dinputs = -2 * (y_true - y_pred) \n",
    "\n",
    "        # normalize gradient\n",
    "        self.dinputs = self.dinputs / samples\n",
    "\n",
    "        \n",
    "class optimizer_GD:\n",
    "\n",
    "    def __init__(self, learning_rate=1):\n",
    "        self.learning_rate = learning_rate\n",
    "        \n",
    "    def update_parameters(self, layer):\n",
    "        \n",
    "        # apply gradient descent iteration\n",
    "        layer.weights = layer.weights - self.learning_rate*layer.dweights\n",
    "        layer.biases = layer.biases - self.learning_rate*layer.dbiases"
   ]
  },
  {
   "cell_type": "code",
   "execution_count": 7,
   "metadata": {},
   "outputs": [
    {
     "data": {
      "text/plain": [
       "[<matplotlib.lines.Line2D at 0x1e4e0283340>]"
      ]
     },
     "execution_count": 7,
     "metadata": {},
     "output_type": "execute_result"
    },
    {
     "data": {
      "image/png": "[encoded data removed]",
      "text/plain": [
       "<Figure size 432x288 with 1 Axes>"
      ]
     },
     "metadata": {
      "needs_background": "light"
     },
     "output_type": "display_data"
    }
   ],
   "source": [
    "# toy data\n",
    "x = np.linspace(0,3,500)\n",
    "num = np.sin(x**x)\n",
    "den = 2**((x**x-np.pi/2)/np.pi)\n",
    "y = np.abs(num/den)\n",
    "plt.plot(x,y)"
   ]
  },
  {
   "cell_type": "code",
   "execution_count": 10,
   "metadata": {},
   "outputs": [
    {
     "data": {
      "text/plain": [
       "(500, 1)"
      ]
     },
     "execution_count": 10,
     "metadata": {},
     "output_type": "execute_result"
    }
   ],
   "source": [
    "# reshape x as a column vector\n",
    "X = x.reshape(-1,1)\n",
    "X.shape"
   ]
  },
  {
   "cell_type": "code",
   "execution_count": 38,
   "metadata": {},
   "outputs": [],
   "source": [
    "'neural network initialization'\n",
    "\n",
    "# layer 1\n",
    "layer1 = layer(n_inputs = 1, n_neurons = 100)\n",
    "activation1 = ReLU()\n",
    "\n",
    "# layer 2\n",
    "layer2 = layer(n_inputs = 100, n_neurons = 100)\n",
    "activation2 = ReLU() \n",
    "\n",
    "# layer 3 \n",
    "layer3 = layer(n_inputs = 100, n_neurons = 100)\n",
    "activation3  = ReLU()\n",
    "\n",
    "# layer 4 \n",
    "layer4 = layer(n_inputs = 100, n_neurons = 1)\n",
    "activation4  = linear()\n",
    "\n",
    "# loss function = mean squared error\n",
    "loss_function = loss_mse()\n",
    "\n",
    "# optimizer\n",
    "optimizer = optimizer_GD(learning_rate = 0.5)"
   ]
  },
  {
   "cell_type": "code",
   "execution_count": null,
   "metadata": {},
   "outputs": [
    {
     "name": "stdout",
     "output_type": "stream",
     "text": [
      "epoch: 0\n",
      "loss: 0.467\n",
      "------------------------\n",
      "epoch: 100\n",
      "loss: 0.042\n",
      "------------------------\n",
      "epoch: 200\n",
      "loss: 0.035\n",
      "------------------------\n",
      "epoch: 300\n",
      "loss: 0.024\n",
      "------------------------\n",
      "epoch: 400\n",
      "loss: 0.018\n",
      "------------------------\n",
      "epoch: 500\n",
      "loss: 0.016\n",
      "------------------------\n",
      "epoch: 600\n",
      "loss: 0.016\n",
      "------------------------\n",
      "epoch: 700\n",
      "loss: 0.014\n",
      "------------------------\n",
      "epoch: 800\n",
      "loss: 0.012\n",
      "------------------------\n",
      "epoch: 900\n",
      "loss: 0.011\n",
      "------------------------\n",
      "epoch: 1000\n",
      "loss: 0.011\n",
      "------------------------\n",
      "epoch: 1100\n",
      "loss: 0.01\n",
      "------------------------\n",
      "epoch: 1200\n",
      "loss: 0.01\n",
      "------------------------\n",
      "epoch: 1300\n",
      "loss: 0.009\n",
      "------------------------\n"
     ]
    }
   ],
   "source": [
    "n_epochs = 2000\n",
    "error = np.zeros(n_epochs)\n",
    "y_pred = np.zeros(y.shape)\n",
    "\n",
    "# gradient descent iterations\n",
    "for epoch in range(n_epochs):\n",
    "\n",
    "    # forward pass\n",
    "    layer1.forward(X)\n",
    "    activation1.forward(layer1.output)\n",
    "    layer2.forward(activation1.output)\n",
    "    activation2.forward(layer2.output)\n",
    "    layer3.forward(activation2.output)\n",
    "    activation3.forward(layer3.output)\n",
    "    layer4.forward(activation3.output)\n",
    "    activation4.forward(layer4.output)\n",
    "\n",
    "    # loss (mean squared error)\n",
    "    losses = loss_function.forward(activation4.output,y)\n",
    "\n",
    "\n",
    "    # backward pass\n",
    "    loss_function.backward(activation4.output,y)\n",
    "    activation4.backward(loss_function.dinputs)\n",
    "    layer4.backward(activation4.dinputs)\n",
    "    activation3.backward(layer4.dinputs)\n",
    "    layer3.backward(activation3.dinputs)\n",
    "    activation2.backward(layer3.dinputs)\n",
    "    layer2.backward(activation2.dinputs)\n",
    "    activation1.backward(layer2.dinputs)\n",
    "    layer1.backward(activation1.dinputs)\n",
    "    \n",
    "    \n",
    "    # update weights and biases\n",
    "    optimizer.update_parameters(layer1)\n",
    "    optimizer.update_parameters(layer2)\n",
    "    optimizer.update_parameters(layer3)\n",
    "    optimizer.update_parameters(layer4)\n",
    "\n",
    "    \n",
    "    # print loss (every 50 epochs)\n",
    "    \n",
    "    if epoch % 100 == 0:\n",
    "        print('epoch: '+str(epoch))\n",
    "        print('loss: '+str(np.round(np.mean(losses),3)))\n",
    "        print('------------------------')"
   ]
  },
  {
   "cell_type": "code",
   "execution_count": 36,
   "metadata": {},
   "outputs": [
    {
     "data": {
      "text/plain": [
       "[<matplotlib.lines.Line2D at 0x1e4e1586e80>]"
      ]
     },
     "execution_count": 36,
     "metadata": {},
     "output_type": "execute_result"
    },
    {
     "data": {
      "image/png": "[encoded data removed]",
      "text/plain": [
       "<Figure size 432x288 with 1 Axes>"
      ]
     },
     "metadata": {
      "needs_background": "light"
     },
     "output_type": "display_data"
    }
   ],
   "source": [
    "plt.plot(x,activation3.output)"
   ]
  },
  {
   "cell_type": "code",
   "execution_count": null,
   "metadata": {},
   "outputs": [],
   "source": []
  }
 ],
 "metadata": {
  "kernelspec": {
   "display_name": "Python 3",
   "language": "python",
   "name": "python3"
  },
  "language_info": {
   "codemirror_mode": {
    "name": "ipython",
    "version": 3
   },
   "file_extension": ".py",
   "mimetype": "text/x-python",
   "name": "python",
   "nbconvert_exporter": "python",
   "pygments_lexer": "ipython3",
   "version": "3.8.5"
  }
 },
 "nbformat": 4,
 "nbformat_minor": 4
}
