{
 "cells": [
  {
   "cell_type": "code",
   "execution_count": 27,
   "metadata": {},
   "outputs": [],
   "source": [
    "import numpy as np\n",
    "import matplotlib.pyplot as plt\n",
    "import pandas as pd"
   ]
  },
  {
   "cell_type": "code",
   "execution_count": 28,
   "metadata": {},
   "outputs": [],
   "source": [
    "class layer_dense:\n",
    "    'Neural network dense layer'\n",
    "    \n",
    "    # initialization (weights and biases)\n",
    "    def __init__(self, n_inputs, n_neurons):\n",
    "        self.weights = 0.01*np.random.randn(n_inputs, n_neurons) \n",
    "        self.biases = np.zeros((1,n_neurons))\n",
    "\n",
    "    # output\n",
    "    def forward(self, inputs):\n",
    "        self.output = inputs.dot(self.weights) + self.biases\n",
    "        \n",
    "        # remember input values\n",
    "        self.inputs = inputs\n",
    "      \n",
    "    def backward(self, dvalues):\n",
    "        \n",
    "        # gradient\n",
    "        self.dinputs = dvalues.dot(self.weights.T)\n",
    "        \n",
    "        # Gradients on parameters\n",
    "        self.dweights = self.inputs.T.dot(dvalues)\n",
    "        self.dbiases = np.sum(dvalues, axis=0, keepdims=True)\n",
    "\n",
    "        \n",
    "class activation_ReLU:\n",
    "    'rectified linear unit activation function'\n",
    "    \n",
    "    def forward(self, inputs):\n",
    "        self.output = np.maximum(0, inputs)\n",
    "        \n",
    "        # remember input values\n",
    "        self.inputs = inputs\n",
    "        \n",
    "    def backward(self, dvalues):\n",
    "\n",
    "        # copy dvalues\n",
    "        self.dinputs = dvalues.copy()\n",
    "        \n",
    "        # zero gradient where input values were negative\n",
    "        self.dinputs[self.inputs <= 0] = 0\n",
    "        \n",
    "class activation_softmax:\n",
    "    'softmax activation function'\n",
    "    \n",
    "    def forward(self, inputs):\n",
    "        \n",
    "        # unnormalized probabilities\n",
    "        exp_values = np.exp(inputs-np.max(inputs,axis=1, keepdims=True))\n",
    "        \n",
    "        # normalized probabilities\n",
    "        probabilities = exp_values / np.sum(exp_values, axis=1, keepdims=True)\n",
    "        self.output = probabilities\n",
    "        \n",
    "        # remember input values\n",
    "        self.inputs = inputs\n",
    "        \n",
    "    def backward(self,dvalues):\n",
    "\n",
    "        \n",
    "        # initialized gradient (derivative) array\n",
    "        self.dinputs = np.zeros(dvalues.shape)\n",
    "        \n",
    "        # For each data point, compute gradient\n",
    "        for i in range(len(dvalues)):\n",
    "            output_row = self.output[i]\n",
    "            dvalues_row = dvalues[i]\n",
    "            \n",
    "            # Flatten output array\n",
    "            output_row = output_row.reshape(-1, 1)\n",
    "\n",
    "            # Calculate derivative matrix of the output\n",
    "            derivative_matrix = np.diagflat(output_row) - output_row.dot(output_row.T)\n",
    "            \n",
    "            # store gradient\n",
    "            self.dinputs[i] = dvalues_row.dot(derivative_matrix)\n",
    "\n",
    "\n",
    "class loss:\n",
    "    def calculate(self, output,y):\n",
    "        sample_losses = self.forward(output,y)\n",
    "        loss = np.mean(sample_losses)\n",
    "        return loss\n",
    "    \n",
    "# cross-entropy loss        \n",
    "class loss_crossentropy(loss):\n",
    "    \n",
    "    def forward(self, y_pred, y_true):\n",
    "        \n",
    "        # number of data points\n",
    "        n_samples = len(y_pred)\n",
    "        \n",
    "        # clip data to prevent division by 0\n",
    "        y_pred_clipped = np.clip(y_pred, 1e-7,1 - 1e-7)\n",
    "        \n",
    "        # confidence values\n",
    "        confidence_values = y_pred_clipped[range(n_samples),y_true]\n",
    "       \n",
    "        # sample losses \n",
    "        losses = -np.log(confidence_values)\n",
    "        return losses\n",
    "    \n",
    "    \n",
    "    def backward(self, dvalues, y_true):\n",
    "        \n",
    "        \n",
    "        # Number of samples\n",
    "        n_samples = len(dvalues)\n",
    "    \n",
    "        #one-hot matrix\n",
    "        Y = np.zeros(dvalues.shape)\n",
    "        Y[np.arange(len(y_true)),y_true] = 1\n",
    "        \n",
    "        # Calculate gradient\n",
    "        self.dinputs = -Y / dvalues\n",
    "        \n",
    "        # Normalize gradient\n",
    "        self.dinputs = self.dinputs / n_samples\n",
    "        \n",
    "# SGD optimizer\n",
    "class optimizer_SGD:\n",
    "\n",
    "    def __init__(self, learning_rate=1.0):\n",
    "        self.learning_rate = learning_rate\n",
    "        \n",
    "    def update_parameters(self, layer):\n",
    "        layer.weights = layer.weights - self.learning_rate*layer.dweights\n",
    "        layer.biases = layer.biases - self.learning_rate*layer.dbiases"
   ]
  },
  {
   "cell_type": "code",
   "execution_count": 29,
   "metadata": {},
   "outputs": [],
   "source": [
    "url = 'https://raw.githubusercontent.com/um-perez-alvaro/Data-Science-Theory/master/Data/fashion-mnist_train.csv'\n",
    "data = pd.read_csv(url)"
   ]
  },
  {
   "cell_type": "code",
   "execution_count": 30,
   "metadata": {},
   "outputs": [],
   "source": [
    "y = data.label.to_numpy() # labels \n",
    "X = data.iloc[:,1:785].to_numpy() # pixels"
   ]
  },
  {
   "cell_type": "code",
   "execution_count": 31,
   "metadata": {},
   "outputs": [
    {
     "data": {
      "text/plain": [
       "(5000, 784)"
      ]
     },
     "execution_count": 31,
     "metadata": {},
     "output_type": "execute_result"
    }
   ],
   "source": [
    "X.shape"
   ]
  },
  {
   "cell_type": "code",
   "execution_count": 89,
   "metadata": {},
   "outputs": [],
   "source": [
    "# neural network \n",
    "layer1 = layer_dense(n_inputs = 784, n_neurons = 64)\n",
    "activation1 = activation_ReLU()\n",
    "layer2 = layer_dense(n_inputs = 64, n_neurons = 64)\n",
    "activation2 = activation_ReLU()\n",
    "layer3 = layer_dense(n_inputs = 64, n_neurons = 10)\n",
    "activation3 = activation_softmax()\n",
    "loss_function = loss_crossentropy()"
   ]
  },
  {
   "cell_type": "code",
   "execution_count": 90,
   "metadata": {},
   "outputs": [],
   "source": [
    "# optimizer\n",
    "optimizer = optimizer_SGD(learning_rate=0.1)"
   ]
  },
  {
   "cell_type": "code",
   "execution_count": 96,
   "metadata": {},
   "outputs": [
    {
     "name": "stdout",
     "output_type": "stream",
     "text": [
      "epoch: 0\n",
      "loss: 1.791\n",
      "accuracy: 31.64\n",
      "------------------------\n",
      "epoch: 100\n",
      "loss: 1.779\n",
      "accuracy: 31.72\n",
      "------------------------\n",
      "epoch: 200\n",
      "loss: 1.769\n",
      "accuracy: 32.28\n",
      "------------------------\n",
      "epoch: 300\n",
      "loss: 1.759\n",
      "accuracy: 33.1\n",
      "------------------------\n",
      "epoch: 400\n",
      "loss: 1.75\n",
      "accuracy: 34.08\n",
      "------------------------\n",
      "epoch: 500\n",
      "loss: 1.741\n",
      "accuracy: 35.04\n",
      "------------------------\n",
      "epoch: 600\n",
      "loss: 1.731\n",
      "accuracy: 36.3\n",
      "------------------------\n",
      "epoch: 700\n",
      "loss: 1.72\n",
      "accuracy: 37.54\n",
      "------------------------\n",
      "epoch: 800\n",
      "loss: 1.709\n",
      "accuracy: 38.5\n",
      "------------------------\n",
      "epoch: 900\n",
      "loss: 1.698\n",
      "accuracy: 42.34\n",
      "------------------------\n"
     ]
    }
   ],
   "source": [
    "n_epochs = 1000\n",
    "loss = np.zeros(n_epochs)\n",
    "accuracy = np.zeros(n_epochs)\n",
    "for i in range(n_epochs):\n",
    "    \n",
    "    # forward pass\n",
    "    layer1.forward(X)\n",
    "    activation1.forward(layer1.output)\n",
    "    layer2.forward(activation1.output)\n",
    "    activation2.forward(layer2.output)\n",
    "    layer3.forward(activation2.output)\n",
    "    activation3.forward(layer3.output)\n",
    "    \n",
    "    # loss\n",
    "    losses = loss_function.forward(activation3.output,y)\n",
    "    loss[i] = np.mean(losses)\n",
    "    \n",
    "    # accuracy\n",
    "    y_pred = np.argmax(activation3.output,axis=1)\n",
    "    accuracy[i] = 100*np.sum(y_pred == y)/len(y)\n",
    "    \n",
    "    # backward pass\n",
    "    loss_function.backward(activation3.output,y)\n",
    "    activation3.backward(loss_function.dinputs)\n",
    "    layer3.backward(activation3.dinputs)\n",
    "    activation2.backward(layer3.dinputs)\n",
    "    layer2.backward(activation2.dinputs)\n",
    "    activation1.backward(layer2.dinputs)\n",
    "    layer1.backward(activation1.dinputs)\n",
    "\n",
    "    \n",
    "    # update weights and biases\n",
    "    optimizer.update_parameters(layer1)\n",
    "    optimizer.update_parameters(layer2)\n",
    "    optimizer.update_parameters(layer3)\n",
    "\n",
    "    \n",
    "    \n",
    "    # print loss and accuracy every 100 epochs\n",
    "    if i % 100 == 0:\n",
    "        print('epoch: '+str(i))\n",
    "        print('loss: '+str(np.round(loss[i],3)))\n",
    "        print('accuracy: '+str(accuracy[i]))\n",
    "        print('------------------------')"
   ]
  },
  {
   "cell_type": "code",
   "execution_count": 93,
   "metadata": {},
   "outputs": [
    {
     "data": {
      "text/plain": [
       "[<matplotlib.lines.Line2D at 0x1a71051eb08>]"
      ]
     },
     "execution_count": 93,
     "metadata": {},
     "output_type": "execute_result"
    },
    {
     "data": {
      "image/png": "[encoded data removed]",
      "text/plain": [
       "<Figure size 432x288 with 1 Axes>"
      ]
     },
     "metadata": {
      "needs_background": "light"
     },
     "output_type": "display_data"
    }
   ],
   "source": [
    "plt.plot(loss)"
   ]
  },
  {
   "cell_type": "code",
   "execution_count": 94,
   "metadata": {},
   "outputs": [
    {
     "data": {
      "text/plain": [
       "[<matplotlib.lines.Line2D at 0x1a71028dcc8>]"
      ]
     },
     "execution_count": 94,
     "metadata": {},
     "output_type": "execute_result"
    },
    {
     "data": {
      "image/png": "[encoded data removed]",
      "text/plain": [
       "<Figure size 432x288 with 1 Axes>"
      ]
     },
     "metadata": {
      "needs_background": "light"
     },
     "output_type": "display_data"
    }
   ],
   "source": [
    "plt.plot(accuracy)"
   ]
  },
  {
   "cell_type": "code",
   "execution_count": 78,
   "metadata": {},
   "outputs": [],
   "source": [
    "url = 'https://raw.githubusercontent.com/um-perez-alvaro/Data-Science-Theory/master/Data/fashion-mnist_test.csv'\n",
    "data_test = pd.read_csv(url)"
   ]
  },
  {
   "cell_type": "code",
   "execution_count": 79,
   "metadata": {},
   "outputs": [],
   "source": [
    "y_test = data_test.label.to_numpy() # labels \n",
    "X_test = data_test.iloc[:,1:785].to_numpy() # pixels"
   ]
  },
  {
   "cell_type": "code",
   "execution_count": 80,
   "metadata": {},
   "outputs": [],
   "source": [
    "# forward pass \n",
    "layer1.forward(X_test)\n",
    "activation1.forward(layer1.output)\n",
    "layer2.forward(activation1.output)\n",
    "activation2.forward(layer2.output)"
   ]
  },
  {
   "cell_type": "code",
   "execution_count": 81,
   "metadata": {},
   "outputs": [],
   "source": [
    "y_test_pred = np.argmax(activation2.output,axis=1)"
   ]
  },
  {
   "cell_type": "code",
   "execution_count": 82,
   "metadata": {},
   "outputs": [
    {
     "data": {
      "text/plain": [
       "0.6675"
      ]
     },
     "execution_count": 82,
     "metadata": {},
     "output_type": "execute_result"
    }
   ],
   "source": [
    "# accuracy\n",
    "np.sum(y_test==y_test_pred)/len(y_test)"
   ]
  },
  {
   "cell_type": "code",
   "execution_count": null,
   "metadata": {},
   "outputs": [],
   "source": []
  }
 ],
 "metadata": {
  "kernelspec": {
   "display_name": "Python 3",
   "language": "python",
   "name": "python3"
  },
  "language_info": {
   "codemirror_mode": {
    "name": "ipython",
    "version": 3
   },
   "file_extension": ".py",
   "mimetype": "text/x-python",
   "name": "python",
   "nbconvert_exporter": "python",
   "pygments_lexer": "ipython3",
   "version": "3.7.6"
  }
 },
 "nbformat": 4,
 "nbformat_minor": 4
}
