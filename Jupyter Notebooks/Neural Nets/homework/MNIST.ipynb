{
 "cells": [
  {
   "cell_type": "code",
   "execution_count": null,
   "metadata": {},
   "outputs": [],
   "source": [
    "import numpy as np\n",
    "import matplotlib.pyplot as plt\n",
    "import pandas as pd"
   ]
  },
  {
   "cell_type": "markdown",
   "metadata": {},
   "source": [
    "# Problem 2: The MNIST dataset "
   ]
  },
  {
   "cell_type": "markdown",
   "metadata": {},
   "source": [
    "The goal is to build a neural network to recognize handwritten digits.\n",
    "We'll use the MNIST dataset."
   ]
  },
  {
   "cell_type": "markdown",
   "metadata": {},
   "source": [
    "**Contents:**\n",
    "- [Neural Network Stuff](#Neural-Network-Stuff)\n",
    "- [The train and test MNIST datasets](#The-train-and-test-MNIST-datasets)\n",
    "- [Two-layer Neural Network](#Two-layer-Neural-Network)\n",
    "- [Three-layer Neural Network](#Three-layer-Neural-Network)"
   ]
  },
  {
   "cell_type": "markdown",
   "metadata": {},
   "source": [
    "## Neural Network Stuff"
   ]
  },
  {
   "cell_type": "code",
   "execution_count": null,
   "metadata": {},
   "outputs": [],
   "source": [
    "class layer:\n",
    "    'Neural network dense layer'\n",
    "    \n",
    "    # initialization (weights and biases)\n",
    "    def __init__(self, n_inputs, n_neurons):\n",
    "        self.weights = 0.01*np.random.randn(n_inputs, n_neurons) \n",
    "        self.biases = np.zeros((1,n_neurons))\n",
    "\n",
    "    # output\n",
    "    def forward(self, inputs):\n",
    "        self.output = inputs.dot(self.weights) + self.biases\n",
    "        \n",
    "        # remember input values\n",
    "        self.inputs = inputs\n",
    "      \n",
    "    def backward(self, dvalues):\n",
    "        \n",
    "        # gradient\n",
    "        self.dinputs = dvalues.dot(self.weights.T)\n",
    "        \n",
    "        # Gradients on parameters\n",
    "        self.dweights = self.inputs.T.dot(dvalues)\n",
    "        self.dbiases = np.sum(dvalues, axis=0, keepdims=True)\n",
    "\n",
    "        \n",
    "class activation_ReLU:\n",
    "    'rectified linear unit activation function'\n",
    "    \n",
    "    def forward(self, inputs):\n",
    "        self.output = np.maximum(0, inputs)\n",
    "        \n",
    "        # remember input values\n",
    "        self.inputs = inputs\n",
    "        \n",
    "    def backward(self, dvalues):\n",
    "\n",
    "        # copy dvalues\n",
    "        self.dinputs = dvalues.copy()\n",
    "        \n",
    "        # zero gradient where input values were negative\n",
    "        self.dinputs[self.inputs <= 0] = 0\n",
    "        \n",
    "class activation_softmax:\n",
    "    'softmax activation function'\n",
    "    \n",
    "    def forward(self, inputs):\n",
    "        \n",
    "        # unnormalized probabilities\n",
    "        exp_values = np.exp(inputs-np.max(inputs,axis=1, keepdims=True))\n",
    "        \n",
    "        # normalized probabilities\n",
    "        probabilities = exp_values / np.sum(exp_values, axis=1, keepdims=True)\n",
    "        self.output = probabilities\n",
    "        \n",
    "        # remember input values\n",
    "        self.inputs = inputs\n",
    "        \n",
    "    def backward(self,dvalues):\n",
    "\n",
    "        \n",
    "        # initialized gradient (derivative) array\n",
    "        self.dinputs = np.zeros(dvalues.shape)\n",
    "        \n",
    "        # For each data point, compute gradient\n",
    "        for i in range(len(dvalues)):\n",
    "            output_row = self.output[i]\n",
    "            dvalues_row = dvalues[i]\n",
    "            \n",
    "            # Flatten output array\n",
    "            output_row = output_row.reshape(-1, 1)\n",
    "\n",
    "            # Calculate derivative matrix of the output\n",
    "            derivative_matrix = np.diagflat(output_row) - output_row.dot(output_row.T)\n",
    "            \n",
    "            # store gradient\n",
    "            self.dinputs[i] = dvalues_row.dot(derivative_matrix)\n",
    "\n",
    "\n",
    "class loss:\n",
    "    def calculate(self, output,y):\n",
    "        sample_losses = self.forward(output,y)\n",
    "        loss = np.mean(sample_losses)\n",
    "        return loss\n",
    "    \n",
    "# cross-entropy loss        \n",
    "class loss_crossentropy(loss):\n",
    "    \n",
    "    def forward(self, y_pred, y_true):\n",
    "        \n",
    "        # number of data points\n",
    "        n_samples = len(y_pred)\n",
    "        \n",
    "        # clip data to prevent division by 0\n",
    "        y_pred_clipped = np.clip(y_pred, 1e-7,1 - 1e-7)\n",
    "        \n",
    "        # confidence values\n",
    "        confidence_values = y_pred_clipped[range(n_samples),y_true]\n",
    "       \n",
    "        # sample losses \n",
    "        losses = -np.log(confidence_values)\n",
    "        return losses\n",
    "    \n",
    "    \n",
    "    def backward(self, dvalues, y_true):\n",
    "        \n",
    "        \n",
    "        # Number of samples\n",
    "        n_samples = len(dvalues)\n",
    "    \n",
    "        #one-hot matrix\n",
    "        Y = np.zeros(dvalues.shape)\n",
    "        Y[np.arange(len(y_true)),y_true] = 1\n",
    "        \n",
    "        # Calculate gradient\n",
    "        self.dinputs = -Y / dvalues\n",
    "        \n",
    "        # Normalize gradient\n",
    "        self.dinputs = self.dinputs / n_samples\n",
    "        \n",
    "# DS optimizer\n",
    "class optimizer_GD:\n",
    "\n",
    "    def __init__(self, learning_rate=1.0):\n",
    "        self.learning_rate = learning_rate\n",
    "        \n",
    "    def update_parameters(self, layer):\n",
    "        layer.weights = layer.weights - self.learning_rate*layer.dweights\n",
    "        layer.biases = layer.biases - self.learning_rate*layer.dbiases"
   ]
  },
  {
   "cell_type": "markdown",
   "metadata": {},
   "source": [
    "## The train and test MNIST datasets"
   ]
  },
  {
   "cell_type": "code",
   "execution_count": null,
   "metadata": {},
   "outputs": [],
   "source": [
    "# load the train dataset\n",
    "url = 'https://raw.githubusercontent.com/um-perez-alvaro/Data-Science-Theory/master/Data/digits.csv'\n",
    "data_train = pd.read_csv(url)"
   ]
  },
  {
   "cell_type": "code",
   "execution_count": null,
   "metadata": {},
   "outputs": [],
   "source": [
    "X = data_train.iloc[:,0:784].to_numpy() # pixels\n",
    "y = data_train['label'].to_numpy() # labels"
   ]
  },
  {
   "cell_type": "code",
   "execution_count": null,
   "metadata": {},
   "outputs": [],
   "source": [
    "# load the test dataset\n",
    "url = 'https://raw.githubusercontent.com/um-perez-alvaro/Data-Science-Theory/master/Data/digits_test.csv'\n",
    "data_test = pd.read_csv(url)"
   ]
  },
  {
   "cell_type": "code",
   "execution_count": null,
   "metadata": {},
   "outputs": [],
   "source": [
    "X_test = data_test.iloc[:,0:784].to_numpy() # pixels\n",
    "y_test = data_test['label'].to_numpy() # labels"
   ]
  },
  {
   "cell_type": "markdown",
   "metadata": {},
   "source": [
    "## Two-layer Neural Network"
   ]
  },
  {
   "cell_type": "markdown",
   "metadata": {},
   "source": [
    "**Part 1:** Fit a neural network with two layers to the training dataset"
   ]
  },
  {
   "cell_type": "code",
   "execution_count": null,
   "metadata": {},
   "outputs": [],
   "source": [
    "# build the neural network \n"
   ]
  },
  {
   "cell_type": "code",
   "execution_count": null,
   "metadata": {},
   "outputs": [],
   "source": [
    "# fit the neural network to the training dataset\n"
   ]
  },
  {
   "cell_type": "code",
   "execution_count": null,
   "metadata": {},
   "outputs": [],
   "source": [
    "# plot the loss as a function of the number of epochs\n"
   ]
  },
  {
   "cell_type": "code",
   "execution_count": null,
   "metadata": {},
   "outputs": [],
   "source": [
    "# plot the accuracy as a function of the number of epochs\n"
   ]
  },
  {
   "cell_type": "markdown",
   "metadata": {},
   "source": [
    "**Part 2:** Test your neural network on the test set.\n",
    "Compute the accuracy and the confusion matrix."
   ]
  },
  {
   "cell_type": "code",
   "execution_count": null,
   "metadata": {},
   "outputs": [],
   "source": [
    "# forward pass \n"
   ]
  },
  {
   "cell_type": "code",
   "execution_count": null,
   "metadata": {},
   "outputs": [],
   "source": [
    "# predictions\n"
   ]
  },
  {
   "cell_type": "code",
   "execution_count": null,
   "metadata": {},
   "outputs": [],
   "source": [
    "# accuracy\n"
   ]
  },
  {
   "cell_type": "code",
   "execution_count": null,
   "metadata": {},
   "outputs": [],
   "source": [
    "# confusion matrix\n"
   ]
  },
  {
   "cell_type": "markdown",
   "metadata": {},
   "source": [
    "**Part 3:** Display some of the misclassified digits."
   ]
  },
  {
   "cell_type": "code",
   "execution_count": null,
   "metadata": {},
   "outputs": [],
   "source": []
  },
  {
   "cell_type": "markdown",
   "metadata": {},
   "source": [
    "## Three-layer Neural Network"
   ]
  },
  {
   "cell_type": "markdown",
   "metadata": {},
   "source": [
    "**Part 1:** Fit a neural network with three layers to the training dataset"
   ]
  },
  {
   "cell_type": "code",
   "execution_count": null,
   "metadata": {},
   "outputs": [],
   "source": [
    "# build the neural network \n"
   ]
  },
  {
   "cell_type": "code",
   "execution_count": null,
   "metadata": {
    "scrolled": true
   },
   "outputs": [],
   "source": [
    "# fit the neural network to the training dataset\n"
   ]
  },
  {
   "cell_type": "code",
   "execution_count": null,
   "metadata": {},
   "outputs": [],
   "source": [
    "# plot the loss as a function of the number of epochs\n"
   ]
  },
  {
   "cell_type": "code",
   "execution_count": null,
   "metadata": {},
   "outputs": [],
   "source": [
    "# plot the accuracy as a function of the number of epochs\n"
   ]
  },
  {
   "cell_type": "markdown",
   "metadata": {},
   "source": [
    "**Part 2:** Test your neural network on the test set.\n",
    "Compute the accuracy and the confusion matrix."
   ]
  },
  {
   "cell_type": "code",
   "execution_count": null,
   "metadata": {},
   "outputs": [],
   "source": [
    "# forward pass \n"
   ]
  },
  {
   "cell_type": "code",
   "execution_count": null,
   "metadata": {},
   "outputs": [],
   "source": [
    "# predictions\n"
   ]
  },
  {
   "cell_type": "code",
   "execution_count": null,
   "metadata": {},
   "outputs": [],
   "source": [
    "# accuracy\n"
   ]
  },
  {
   "cell_type": "code",
   "execution_count": null,
   "metadata": {},
   "outputs": [],
   "source": [
    "# confusion matrix\n"
   ]
  },
  {
   "cell_type": "markdown",
   "metadata": {},
   "source": [
    "**Part 3:** Display some of the misclassified digits."
   ]
  },
  {
   "cell_type": "code",
   "execution_count": null,
   "metadata": {},
   "outputs": [],
   "source": []
  },
  {
   "cell_type": "code",
   "execution_count": null,
   "metadata": {},
   "outputs": [],
   "source": []
  }
 ],
 "metadata": {
  "kernelspec": {
   "display_name": "Python 3",
   "language": "python",
   "name": "python3"
  },
  "language_info": {
   "codemirror_mode": {
    "name": "ipython",
    "version": 3
   },
   "file_extension": ".py",
   "mimetype": "text/x-python",
   "name": "python",
   "nbconvert_exporter": "python",
   "pygments_lexer": "ipython3",
   "version": "3.7.6"
  }
 },
 "nbformat": 4,
 "nbformat_minor": 4
}
