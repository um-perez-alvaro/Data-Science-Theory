{
 "cells": [
  {
   "cell_type": "code",
   "execution_count": null,
   "metadata": {},
   "outputs": [],
   "source": [
    "import numpy as np\n",
    "import matplotlib.pyplot as plt\n",
    "from matplotlib import ticker, cm, colors"
   ]
  },
  {
   "cell_type": "markdown",
   "metadata": {},
   "source": [
    "# Problem 4: Rosenbrock's banana"
   ]
  },
  {
   "cell_type": "markdown",
   "metadata": {},
   "source": [
    "Let us consider the **Rosenbrock's banana function**  \n",
    "\n",
    "$$\n",
    "f(x,y) = (x-1)^2 + 10(y-x^2)^2\n",
    "$$"
   ]
  },
  {
   "cell_type": "code",
   "execution_count": null,
   "metadata": {},
   "outputs": [],
   "source": [
    "# the Rosenbrock function\n",
    "def ros(x,y):\n",
    "    # your code here"
   ]
  },
  {
   "cell_type": "code",
   "execution_count": null,
   "metadata": {},
   "outputs": [],
   "source": [
    "# run this cell to plot the Rosenbrock function\n",
    "\n",
    "# Initialize figure and axes\n",
    "from mpl_toolkits import mplot3d\n",
    "fig = plt.figure(figsize=(12, 7))\n",
    "ax = plt.axes(projection='3d')\n",
    "\n",
    "# Evaluate Rosenbrock's function\n",
    "x = np.linspace(-2, 2, 1000) \n",
    "y = np.linspace(-1, 3, 1000)\n",
    "X, Y = np.meshgrid(x, y)\n",
    "Z = ros(X,Y)\n",
    "\n",
    "# Plot the surface\n",
    "surf = ax.plot_surface(X, Y, Z, cmap=cm.gist_heat_r,\n",
    "                       linewidth=0, antialiased=False)\n",
    "ax.set_zlim(0, 200)\n",
    "fig.colorbar(surf, shrink=0.5, aspect=10)\n",
    "plt.show()"
   ]
  },
  {
   "cell_type": "markdown",
   "metadata": {},
   "source": [
    "The minimum value of  the Rosenbrock function is zero.\n",
    "That minimum is reached at the point  (1,1).\n",
    "This minimum is inside a long, narrow, banana shaped flat valley. "
   ]
  },
  {
   "cell_type": "code",
   "execution_count": null,
   "metadata": {},
   "outputs": [],
   "source": [
    "# run this cell to plot the contours of the Rosenbrock function\n",
    "plt.figure(figsize=(12,5))\n",
    "plt.contour(X,Y,Z,200, cmap=cm.coolwarm)\n",
    "plt.plot(1,1,'ko')\n",
    "plt.annotate('minimum', xy = (1,1),xytext=(1,1-0.2), fontsize=15)\n",
    "plt.colorbar()\n",
    "plt.title('Contour plot of the Rosenbrock function')"
   ]
  },
  {
   "cell_type": "markdown",
   "metadata": {},
   "source": [
    "Find the **gradient** of the Rosenbrock function\n",
    "\n",
    "$$\n",
    "\\nabla f(x,y) = \n",
    "\\begin{bmatrix}\n",
    "\\frac{\\partial f}{\\partial x} \\\\ \\frac{\\partial f}{\\partial y}\n",
    "\\end{bmatrix}\n",
    "$$"
   ]
  },
  {
   "cell_type": "code",
   "execution_count": null,
   "metadata": {},
   "outputs": [],
   "source": [
    "# gradient of the Rosenbrock function\n",
    "def grad_ros(x,y):\n",
    "    # your code here"
   ]
  },
  {
   "cell_type": "markdown",
   "metadata": {},
   "source": [
    "Starting at the point $(x,y)=(-1.25,2.75)$ and using a learning rate $s=0.01$, how many iterations (epochs) does Gradient Descent need to find the minimum?"
   ]
  },
  {
   "cell_type": "code",
   "execution_count": null,
   "metadata": {
    "scrolled": true
   },
   "outputs": [],
   "source": [
    "# this cell runs Gradient Descent\n",
    "\n",
    "plt.figure(figsize=(12,5))\n",
    "plt.contour(X,Y,Z,cmap=cm.coolwarm, levels=250)\n",
    "plt.scatter(1,1,color='black')\n",
    "plt.annotate('minimum', xy = (1,1),xytext=(1,1-0.2), fontsize=15)\n",
    "plt.colorbar()\n",
    "plt.title('Gradient Descent',fontsize = 20)\n",
    "\n",
    "s = 0.01 #learning rate\n",
    "\n",
    "x = np.array([-1.25,2.75]) # initial point \n",
    "plt.scatter(x[0],x[1],color='blue')\n",
    "\n",
    "######################################\n",
    "# Set number of epochs\n",
    "epochs = \n",
    "######################################\n",
    "\n",
    "for epoch in range(epochs): \n",
    "    new_x = x-s*grad_ros(x[0],x[1])\n",
    "    plt.scatter(new_x[0],new_x[1],color'blue)\n",
    "    plt.plot([x[0],new_x[0]],[x[1],new_x[1]],'r--')\n",
    "    x = new_x"
   ]
  },
  {
   "cell_type": "markdown",
   "metadata": {},
   "source": [
    "Add momentum to the Gradient Descent method. \n",
    "How many epochs does Gradient Descent with Momentum need to find the minimum?"
   ]
  },
  {
   "cell_type": "code",
   "execution_count": null,
   "metadata": {},
   "outputs": [],
   "source": [
    "# This cell runs Gradient Descent with Momentum.\n",
    "\n",
    "plt.figure(figsize=(12,5))\n",
    "plt.contour(X,Y,Z,cmap=cm.coolwarm, levels=250)\n",
    "plt.scatter(1,1,color='black')\n",
    "plt.annotate('minimum', xy = (1,1),xytext=(1,1-0.2), fontsize=15)\n",
    "plt.colorbar()\n",
    "plt.title('Gradient Descent with Momentum',fontsize = 20)\n",
    "\n",
    "# learning rate\n",
    "s = 0.01 \n",
    "\n",
    "######################################\n",
    "# set momentum coefficient\n",
    "beta  = \n",
    "######################################\n",
    "\n",
    "x = np.array([-1.25,2.75]) # initial point \n",
    "plt.scatter(x[0],x[1],color='blue')\n",
    "\n",
    "######################################\n",
    "# set number of epochs\n",
    "epochs = \n",
    "######################################\n",
    "\n",
    "for epoch in range(epochs): \n",
    "    \n",
    "    d_current = -s*grad_ros(x[0],x[1]) + beta*d_previous\n",
    "    \n",
    "    new_x = x+d_current\n",
    "    plt.scatter(new_x[0],new_x[1],color='blue')\n",
    "    plt.plot([x[0],new_x[0]],[x[1],new_x[1]],'r--')a\n",
    "    x = new_x\n",
    "    d_previous = d_current"
   ]
  }
 ],
 "metadata": {
  "kernelspec": {
   "display_name": "Python 3",
   "language": "python",
   "name": "python3"
  },
  "language_info": {
   "codemirror_mode": {
    "name": "ipython",
    "version": 3
   },
   "file_extension": ".py",
   "mimetype": "text/x-python",
   "name": "python",
   "nbconvert_exporter": "python",
   "pygments_lexer": "ipython3",
   "version": "3.8.5"
  }
 },
 "nbformat": 4,
 "nbformat_minor": 4
}
