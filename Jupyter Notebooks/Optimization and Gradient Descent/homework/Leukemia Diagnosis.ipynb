{
 "cells": [
  {
   "cell_type": "markdown",
   "metadata": {},
   "source": [
    "# Leukemia Diagnosis"
   ]
  },
  {
   "cell_type": "code",
   "execution_count": 2,
   "metadata": {},
   "outputs": [],
   "source": [
    "import numpy as np\n",
    "import matplotlib.pyplot as plt\n",
    "import pandas as pd"
   ]
  },
  {
   "cell_type": "code",
   "execution_count": 3,
   "metadata": {},
   "outputs": [
    {
     "data": {
      "text/html": [
       "<div>\n",
       "<style scoped>\n",
       "    .dataframe tbody tr th:only-of-type {\n",
       "        vertical-align: middle;\n",
       "    }\n",
       "\n",
       "    .dataframe tbody tr th {\n",
       "        vertical-align: top;\n",
       "    }\n",
       "\n",
       "    .dataframe thead th {\n",
       "        text-align: right;\n",
       "    }\n",
       "</style>\n",
       "<table border=\"1\" class=\"dataframe\">\n",
       "  <thead>\n",
       "    <tr style=\"text-align: right;\">\n",
       "      <th></th>\n",
       "      <th>0</th>\n",
       "      <th>1</th>\n",
       "      <th>2</th>\n",
       "      <th>3</th>\n",
       "      <th>4</th>\n",
       "      <th>5</th>\n",
       "      <th>6</th>\n",
       "      <th>7</th>\n",
       "      <th>8</th>\n",
       "      <th>9</th>\n",
       "      <th>...</th>\n",
       "      <th>16053</th>\n",
       "      <th>16054</th>\n",
       "      <th>16055</th>\n",
       "      <th>16056</th>\n",
       "      <th>16057</th>\n",
       "      <th>16058</th>\n",
       "      <th>16059</th>\n",
       "      <th>16060</th>\n",
       "      <th>16061</th>\n",
       "      <th>16062</th>\n",
       "    </tr>\n",
       "  </thead>\n",
       "  <tbody>\n",
       "    <tr>\n",
       "      <th>0</th>\n",
       "      <td>-73.0</td>\n",
       "      <td>-69.0</td>\n",
       "      <td>-48.0</td>\n",
       "      <td>13.0</td>\n",
       "      <td>-86.0</td>\n",
       "      <td>-147.0</td>\n",
       "      <td>-65.0</td>\n",
       "      <td>-71.0</td>\n",
       "      <td>-32.0</td>\n",
       "      <td>100.0</td>\n",
       "      <td>...</td>\n",
       "      <td>-134.0</td>\n",
       "      <td>352.0</td>\n",
       "      <td>-67.0</td>\n",
       "      <td>121.0</td>\n",
       "      <td>-5.0</td>\n",
       "      <td>-11.0</td>\n",
       "      <td>-21.0</td>\n",
       "      <td>-41.0</td>\n",
       "      <td>-967.0</td>\n",
       "      <td>-120.0</td>\n",
       "    </tr>\n",
       "    <tr>\n",
       "      <th>1</th>\n",
       "      <td>-16.0</td>\n",
       "      <td>-63.0</td>\n",
       "      <td>-97.0</td>\n",
       "      <td>-42.0</td>\n",
       "      <td>-91.0</td>\n",
       "      <td>-164.0</td>\n",
       "      <td>-53.0</td>\n",
       "      <td>-77.0</td>\n",
       "      <td>-17.0</td>\n",
       "      <td>122.0</td>\n",
       "      <td>...</td>\n",
       "      <td>-51.0</td>\n",
       "      <td>244.0</td>\n",
       "      <td>-15.0</td>\n",
       "      <td>119.0</td>\n",
       "      <td>-32.0</td>\n",
       "      <td>4.0</td>\n",
       "      <td>-14.0</td>\n",
       "      <td>-28.0</td>\n",
       "      <td>-205.0</td>\n",
       "      <td>-31.0</td>\n",
       "    </tr>\n",
       "    <tr>\n",
       "      <th>2</th>\n",
       "      <td>4.0</td>\n",
       "      <td>-45.0</td>\n",
       "      <td>-112.0</td>\n",
       "      <td>-25.0</td>\n",
       "      <td>-85.0</td>\n",
       "      <td>-127.0</td>\n",
       "      <td>56.0</td>\n",
       "      <td>-110.0</td>\n",
       "      <td>81.0</td>\n",
       "      <td>41.0</td>\n",
       "      <td>...</td>\n",
       "      <td>14.0</td>\n",
       "      <td>163.0</td>\n",
       "      <td>-14.0</td>\n",
       "      <td>7.0</td>\n",
       "      <td>15.0</td>\n",
       "      <td>-8.0</td>\n",
       "      <td>-104.0</td>\n",
       "      <td>-36.0</td>\n",
       "      <td>-245.0</td>\n",
       "      <td>34.0</td>\n",
       "    </tr>\n",
       "    <tr>\n",
       "      <th>3</th>\n",
       "      <td>-31.0</td>\n",
       "      <td>-110.0</td>\n",
       "      <td>-20.0</td>\n",
       "      <td>-50.0</td>\n",
       "      <td>-115.0</td>\n",
       "      <td>-113.0</td>\n",
       "      <td>-17.0</td>\n",
       "      <td>-40.0</td>\n",
       "      <td>-17.0</td>\n",
       "      <td>80.0</td>\n",
       "      <td>...</td>\n",
       "      <td>26.0</td>\n",
       "      <td>625.0</td>\n",
       "      <td>18.0</td>\n",
       "      <td>59.0</td>\n",
       "      <td>-10.0</td>\n",
       "      <td>32.0</td>\n",
       "      <td>-2.0</td>\n",
       "      <td>10.0</td>\n",
       "      <td>-495.0</td>\n",
       "      <td>-37.0</td>\n",
       "    </tr>\n",
       "    <tr>\n",
       "      <th>4</th>\n",
       "      <td>-33.0</td>\n",
       "      <td>-39.0</td>\n",
       "      <td>-45.0</td>\n",
       "      <td>14.0</td>\n",
       "      <td>-56.0</td>\n",
       "      <td>-106.0</td>\n",
       "      <td>73.0</td>\n",
       "      <td>-34.0</td>\n",
       "      <td>18.0</td>\n",
       "      <td>64.0</td>\n",
       "      <td>...</td>\n",
       "      <td>-69.0</td>\n",
       "      <td>398.0</td>\n",
       "      <td>38.0</td>\n",
       "      <td>215.0</td>\n",
       "      <td>-2.0</td>\n",
       "      <td>44.0</td>\n",
       "      <td>3.0</td>\n",
       "      <td>68.0</td>\n",
       "      <td>-293.0</td>\n",
       "      <td>-34.0</td>\n",
       "    </tr>\n",
       "  </tbody>\n",
       "</table>\n",
       "<p>5 rows × 16063 columns</p>\n",
       "</div>"
      ],
      "text/plain": [
       "   0      1      2      3      4      5      6      7      8      9      ...  \\\n",
       "0  -73.0  -69.0  -48.0   13.0  -86.0 -147.0  -65.0  -71.0  -32.0  100.0  ...   \n",
       "1  -16.0  -63.0  -97.0  -42.0  -91.0 -164.0  -53.0  -77.0  -17.0  122.0  ...   \n",
       "2    4.0  -45.0 -112.0  -25.0  -85.0 -127.0   56.0 -110.0   81.0   41.0  ...   \n",
       "3  -31.0 -110.0  -20.0  -50.0 -115.0 -113.0  -17.0  -40.0  -17.0   80.0  ...   \n",
       "4  -33.0  -39.0  -45.0   14.0  -56.0 -106.0   73.0  -34.0   18.0   64.0  ...   \n",
       "\n",
       "   16053  16054  16055  16056  16057  16058  16059  16060  16061  16062  \n",
       "0 -134.0  352.0  -67.0  121.0   -5.0  -11.0  -21.0  -41.0 -967.0 -120.0  \n",
       "1  -51.0  244.0  -15.0  119.0  -32.0    4.0  -14.0  -28.0 -205.0  -31.0  \n",
       "2   14.0  163.0  -14.0    7.0   15.0   -8.0 -104.0  -36.0 -245.0   34.0  \n",
       "3   26.0  625.0   18.0   59.0  -10.0   32.0   -2.0   10.0 -495.0  -37.0  \n",
       "4  -69.0  398.0   38.0  215.0   -2.0   44.0    3.0   68.0 -293.0  -34.0  \n",
       "\n",
       "[5 rows x 16063 columns]"
      ]
     },
     "execution_count": 3,
     "metadata": {},
     "output_type": "execute_result"
    }
   ],
   "source": [
    "# load data\n",
    "url1 = 'https://raw.githubusercontent.com/um-perez-alvaro/lin-regress/master/14cancer.xtrain'\n",
    "url2 = 'https://raw.githubusercontent.com/um-perez-alvaro/lin-regress/master/14cancer.xtest'\n",
    "\n",
    "data_train = pd.read_csv(url1,sep = '\\s+',header = None)\n",
    "data_train = data_train.T\n",
    "\n",
    "data_test = pd.read_csv(url2,sep = '\\s+',header = None)\n",
    "data_test = data_test.T\n",
    "\n",
    "data_train.head(5) #show first 10 rows of data_train"
   ]
  },
  {
   "cell_type": "code",
   "execution_count": 4,
   "metadata": {},
   "outputs": [
    {
     "data": {
      "text/html": [
       "<div>\n",
       "<style scoped>\n",
       "    .dataframe tbody tr th:only-of-type {\n",
       "        vertical-align: middle;\n",
       "    }\n",
       "\n",
       "    .dataframe tbody tr th {\n",
       "        vertical-align: top;\n",
       "    }\n",
       "\n",
       "    .dataframe thead th {\n",
       "        text-align: right;\n",
       "    }\n",
       "</style>\n",
       "<table border=\"1\" class=\"dataframe\">\n",
       "  <thead>\n",
       "    <tr style=\"text-align: right;\">\n",
       "      <th></th>\n",
       "      <th>0</th>\n",
       "    </tr>\n",
       "  </thead>\n",
       "  <tbody>\n",
       "    <tr>\n",
       "      <th>0</th>\n",
       "      <td>1</td>\n",
       "    </tr>\n",
       "    <tr>\n",
       "      <th>1</th>\n",
       "      <td>1</td>\n",
       "    </tr>\n",
       "    <tr>\n",
       "      <th>2</th>\n",
       "      <td>1</td>\n",
       "    </tr>\n",
       "    <tr>\n",
       "      <th>3</th>\n",
       "      <td>1</td>\n",
       "    </tr>\n",
       "    <tr>\n",
       "      <th>4</th>\n",
       "      <td>1</td>\n",
       "    </tr>\n",
       "  </tbody>\n",
       "</table>\n",
       "</div>"
      ],
      "text/plain": [
       "   0\n",
       "0  1\n",
       "1  1\n",
       "2  1\n",
       "3  1\n",
       "4  1"
      ]
     },
     "execution_count": 4,
     "metadata": {},
     "output_type": "execute_result"
    }
   ],
   "source": [
    "url1 = 'https://raw.githubusercontent.com/um-perez-alvaro/lin-regress/master/14cancerlabels.ytrain'\n",
    "url2 = 'https://raw.githubusercontent.com/um-perez-alvaro/lin-regress/master/14cancer.ytest'\n",
    "\n",
    "labels_train = pd.read_csv(url1,sep='\\s+',header = None)\n",
    "labels_train = labels_train.T\n",
    "\n",
    "labels_test = pd.read_csv(url2,sep='\\s+',header = None)\n",
    "labels_test = labels_test.T\n",
    "\n",
    "labels_train.head(5)"
   ]
  },
  {
   "cell_type": "code",
   "execution_count": 9,
   "metadata": {},
   "outputs": [
    {
     "data": {
      "text/html": [
       "<div>\n",
       "<style scoped>\n",
       "    .dataframe tbody tr th:only-of-type {\n",
       "        vertical-align: middle;\n",
       "    }\n",
       "\n",
       "    .dataframe tbody tr th {\n",
       "        vertical-align: top;\n",
       "    }\n",
       "\n",
       "    .dataframe thead th {\n",
       "        text-align: right;\n",
       "    }\n",
       "</style>\n",
       "<table border=\"1\" class=\"dataframe\">\n",
       "  <thead>\n",
       "    <tr style=\"text-align: right;\">\n",
       "      <th></th>\n",
       "      <th>0</th>\n",
       "    </tr>\n",
       "  </thead>\n",
       "  <tbody>\n",
       "    <tr>\n",
       "      <th>0</th>\n",
       "      <td>1</td>\n",
       "    </tr>\n",
       "    <tr>\n",
       "      <th>1</th>\n",
       "      <td>1</td>\n",
       "    </tr>\n",
       "    <tr>\n",
       "      <th>2</th>\n",
       "      <td>1</td>\n",
       "    </tr>\n",
       "    <tr>\n",
       "      <th>3</th>\n",
       "      <td>2</td>\n",
       "    </tr>\n",
       "    <tr>\n",
       "      <th>4</th>\n",
       "      <td>2</td>\n",
       "    </tr>\n",
       "  </tbody>\n",
       "</table>\n",
       "</div>"
      ],
      "text/plain": [
       "   0\n",
       "0  1\n",
       "1  1\n",
       "2  1\n",
       "3  2\n",
       "4  2"
      ]
     },
     "execution_count": 9,
     "metadata": {},
     "output_type": "execute_result"
    }
   ],
   "source": [
    "labels_test.head(5)"
   ]
  },
  {
   "cell_type": "code",
   "execution_count": 6,
   "metadata": {},
   "outputs": [
    {
     "data": {
      "text/html": [
       "<div>\n",
       "<style scoped>\n",
       "    .dataframe tbody tr th:only-of-type {\n",
       "        vertical-align: middle;\n",
       "    }\n",
       "\n",
       "    .dataframe tbody tr th {\n",
       "        vertical-align: top;\n",
       "    }\n",
       "\n",
       "    .dataframe thead th {\n",
       "        text-align: right;\n",
       "    }\n",
       "</style>\n",
       "<table border=\"1\" class=\"dataframe\">\n",
       "  <thead>\n",
       "    <tr style=\"text-align: right;\">\n",
       "      <th></th>\n",
       "      <th>gene 0</th>\n",
       "      <th>gene 1</th>\n",
       "      <th>gene 2</th>\n",
       "      <th>gene 3</th>\n",
       "      <th>gene 4</th>\n",
       "      <th>gene 5</th>\n",
       "      <th>gene 6</th>\n",
       "      <th>gene 7</th>\n",
       "      <th>gene 8</th>\n",
       "      <th>gene 9</th>\n",
       "      <th>...</th>\n",
       "      <th>gene 16053</th>\n",
       "      <th>gene 16054</th>\n",
       "      <th>gene 16055</th>\n",
       "      <th>gene 16056</th>\n",
       "      <th>gene 16057</th>\n",
       "      <th>gene 16058</th>\n",
       "      <th>gene 16059</th>\n",
       "      <th>gene 16060</th>\n",
       "      <th>gene 16061</th>\n",
       "      <th>gene 16062</th>\n",
       "    </tr>\n",
       "  </thead>\n",
       "  <tbody>\n",
       "    <tr>\n",
       "      <th>0</th>\n",
       "      <td>-73.0</td>\n",
       "      <td>-69.0</td>\n",
       "      <td>-48.0</td>\n",
       "      <td>13.0</td>\n",
       "      <td>-86.0</td>\n",
       "      <td>-147.0</td>\n",
       "      <td>-65.0</td>\n",
       "      <td>-71.0</td>\n",
       "      <td>-32.0</td>\n",
       "      <td>100.0</td>\n",
       "      <td>...</td>\n",
       "      <td>-134.0</td>\n",
       "      <td>352.0</td>\n",
       "      <td>-67.0</td>\n",
       "      <td>121.0</td>\n",
       "      <td>-5.0</td>\n",
       "      <td>-11.0</td>\n",
       "      <td>-21.0</td>\n",
       "      <td>-41.0</td>\n",
       "      <td>-967.0</td>\n",
       "      <td>-120.0</td>\n",
       "    </tr>\n",
       "  </tbody>\n",
       "</table>\n",
       "<p>1 rows × 16063 columns</p>\n",
       "</div>"
      ],
      "text/plain": [
       "   gene 0  gene 1  gene 2  gene 3  gene 4  gene 5  gene 6  gene 7  gene 8  \\\n",
       "0   -73.0   -69.0   -48.0    13.0   -86.0  -147.0   -65.0   -71.0   -32.0   \n",
       "\n",
       "   gene 9  ...  gene 16053  gene 16054  gene 16055  gene 16056  gene 16057  \\\n",
       "0   100.0  ...      -134.0       352.0       -67.0       121.0        -5.0   \n",
       "\n",
       "   gene 16058  gene 16059  gene 16060  gene 16061  gene 16062  \n",
       "0       -11.0       -21.0       -41.0      -967.0      -120.0  \n",
       "\n",
       "[1 rows x 16063 columns]"
      ]
     },
     "execution_count": 6,
     "metadata": {},
     "output_type": "execute_result"
    }
   ],
   "source": [
    "labels = ['gene '+str(i) for i in range(16063)]\n",
    "data_train.columns = labels\n",
    "data_train.head(1)"
   ]
  },
  {
   "cell_type": "code",
   "execution_count": 7,
   "metadata": {},
   "outputs": [
    {
     "data": {
      "text/html": [
       "<div>\n",
       "<style scoped>\n",
       "    .dataframe tbody tr th:only-of-type {\n",
       "        vertical-align: middle;\n",
       "    }\n",
       "\n",
       "    .dataframe tbody tr th {\n",
       "        vertical-align: top;\n",
       "    }\n",
       "\n",
       "    .dataframe thead th {\n",
       "        text-align: right;\n",
       "    }\n",
       "</style>\n",
       "<table border=\"1\" class=\"dataframe\">\n",
       "  <thead>\n",
       "    <tr style=\"text-align: right;\">\n",
       "      <th></th>\n",
       "      <th>gene 0</th>\n",
       "      <th>gene 1</th>\n",
       "      <th>gene 2</th>\n",
       "      <th>gene 3</th>\n",
       "      <th>gene 4</th>\n",
       "      <th>gene 5</th>\n",
       "      <th>gene 6</th>\n",
       "      <th>gene 7</th>\n",
       "      <th>gene 8</th>\n",
       "      <th>gene 9</th>\n",
       "      <th>...</th>\n",
       "      <th>gene 16054</th>\n",
       "      <th>gene 16055</th>\n",
       "      <th>gene 16056</th>\n",
       "      <th>gene 16057</th>\n",
       "      <th>gene 16058</th>\n",
       "      <th>gene 16059</th>\n",
       "      <th>gene 16060</th>\n",
       "      <th>gene 16061</th>\n",
       "      <th>gene 16062</th>\n",
       "      <th>label</th>\n",
       "    </tr>\n",
       "  </thead>\n",
       "  <tbody>\n",
       "    <tr>\n",
       "      <th>0</th>\n",
       "      <td>-73.0</td>\n",
       "      <td>-69.0</td>\n",
       "      <td>-48.0</td>\n",
       "      <td>13.0</td>\n",
       "      <td>-86.0</td>\n",
       "      <td>-147.0</td>\n",
       "      <td>-65.0</td>\n",
       "      <td>-71.0</td>\n",
       "      <td>-32.0</td>\n",
       "      <td>100.0</td>\n",
       "      <td>...</td>\n",
       "      <td>352.0</td>\n",
       "      <td>-67.0</td>\n",
       "      <td>121.0</td>\n",
       "      <td>-5.0</td>\n",
       "      <td>-11.0</td>\n",
       "      <td>-21.0</td>\n",
       "      <td>-41.0</td>\n",
       "      <td>-967.0</td>\n",
       "      <td>-120.0</td>\n",
       "      <td>1</td>\n",
       "    </tr>\n",
       "  </tbody>\n",
       "</table>\n",
       "<p>1 rows × 16064 columns</p>\n",
       "</div>"
      ],
      "text/plain": [
       "   gene 0  gene 1  gene 2  gene 3  gene 4  gene 5  gene 6  gene 7  gene 8  \\\n",
       "0   -73.0   -69.0   -48.0    13.0   -86.0  -147.0   -65.0   -71.0   -32.0   \n",
       "\n",
       "   gene 9  ...  gene 16054  gene 16055  gene 16056  gene 16057  gene 16058  \\\n",
       "0   100.0  ...       352.0       -67.0       121.0        -5.0       -11.0   \n",
       "\n",
       "   gene 16059  gene 16060  gene 16061  gene 16062  label  \n",
       "0       -21.0       -41.0      -967.0      -120.0      1  \n",
       "\n",
       "[1 rows x 16064 columns]"
      ]
     },
     "execution_count": 7,
     "metadata": {},
     "output_type": "execute_result"
    }
   ],
   "source": [
    "data_train['label'] = labels_train\n",
    "data_train.head(1)"
   ]
  },
  {
   "cell_type": "code",
   "execution_count": 8,
   "metadata": {},
   "outputs": [
    {
     "data": {
      "text/html": [
       "<div>\n",
       "<style scoped>\n",
       "    .dataframe tbody tr th:only-of-type {\n",
       "        vertical-align: middle;\n",
       "    }\n",
       "\n",
       "    .dataframe tbody tr th {\n",
       "        vertical-align: top;\n",
       "    }\n",
       "\n",
       "    .dataframe thead th {\n",
       "        text-align: right;\n",
       "    }\n",
       "</style>\n",
       "<table border=\"1\" class=\"dataframe\">\n",
       "  <thead>\n",
       "    <tr style=\"text-align: right;\">\n",
       "      <th></th>\n",
       "      <th>gene 0</th>\n",
       "      <th>gene 1</th>\n",
       "      <th>gene 2</th>\n",
       "      <th>gene 3</th>\n",
       "      <th>gene 4</th>\n",
       "      <th>gene 5</th>\n",
       "      <th>gene 6</th>\n",
       "      <th>gene 7</th>\n",
       "      <th>gene 8</th>\n",
       "      <th>gene 9</th>\n",
       "      <th>...</th>\n",
       "      <th>gene 16054</th>\n",
       "      <th>gene 16055</th>\n",
       "      <th>gene 16056</th>\n",
       "      <th>gene 16057</th>\n",
       "      <th>gene 16058</th>\n",
       "      <th>gene 16059</th>\n",
       "      <th>gene 16060</th>\n",
       "      <th>gene 16061</th>\n",
       "      <th>gene 16062</th>\n",
       "      <th>label</th>\n",
       "    </tr>\n",
       "  </thead>\n",
       "  <tbody>\n",
       "    <tr>\n",
       "      <th>0</th>\n",
       "      <td>-44.0</td>\n",
       "      <td>-254.0</td>\n",
       "      <td>-166.0</td>\n",
       "      <td>-55.0</td>\n",
       "      <td>-130.0</td>\n",
       "      <td>-133.0</td>\n",
       "      <td>80.0</td>\n",
       "      <td>-62.0</td>\n",
       "      <td>1.0</td>\n",
       "      <td>22.0</td>\n",
       "      <td>...</td>\n",
       "      <td>715.0</td>\n",
       "      <td>25.0</td>\n",
       "      <td>47.0</td>\n",
       "      <td>-270.0</td>\n",
       "      <td>-265.0</td>\n",
       "      <td>-290.0</td>\n",
       "      <td>-235.0</td>\n",
       "      <td>-826.0</td>\n",
       "      <td>-262.0</td>\n",
       "      <td>1</td>\n",
       "    </tr>\n",
       "  </tbody>\n",
       "</table>\n",
       "<p>1 rows × 16064 columns</p>\n",
       "</div>"
      ],
      "text/plain": [
       "   gene 0  gene 1  gene 2  gene 3  gene 4  gene 5  gene 6  gene 7  gene 8  \\\n",
       "0   -44.0  -254.0  -166.0   -55.0  -130.0  -133.0    80.0   -62.0     1.0   \n",
       "\n",
       "   gene 9  ...  gene 16054  gene 16055  gene 16056  gene 16057  gene 16058  \\\n",
       "0    22.0  ...       715.0        25.0        47.0      -270.0      -265.0   \n",
       "\n",
       "   gene 16059  gene 16060  gene 16061  gene 16062  label  \n",
       "0      -290.0      -235.0      -826.0      -262.0      1  \n",
       "\n",
       "[1 rows x 16064 columns]"
      ]
     },
     "execution_count": 8,
     "metadata": {},
     "output_type": "execute_result"
    }
   ],
   "source": [
    "data_test.columns = labels\n",
    "data_test['label'] = labels_test\n",
    "data_test.head(1)"
   ]
  },
  {
   "cell_type": "code",
   "execution_count": 10,
   "metadata": {},
   "outputs": [],
   "source": [
    "data_train.to_csv('leukemia.csv', index=False)\n",
    "data_test.to_csv('leukemia_test.csv', index=False)"
   ]
  },
  {
   "cell_type": "code",
   "execution_count": 11,
   "metadata": {},
   "outputs": [],
   "source": [
    "X_train = data_train.to_numpy()\n",
    "X_test = data_test.to_numpy()\n",
    "y_train = labels_train.iloc[:,0].to_numpy()\n",
    "y_test = labels_test.iloc[:,0].to_numpy()"
   ]
  },
  {
   "cell_type": "code",
   "execution_count": 12,
   "metadata": {},
   "outputs": [],
   "source": [
    "y_leuk_train = np.zeros(len(y_train))"
   ]
  },
  {
   "cell_type": "code",
   "execution_count": 13,
   "metadata": {},
   "outputs": [
    {
     "data": {
      "text/plain": [
       "(144,)"
      ]
     },
     "execution_count": 13,
     "metadata": {},
     "output_type": "execute_result"
    }
   ],
   "source": [
    "y_train.shape"
   ]
  },
  {
   "cell_type": "code",
   "execution_count": 14,
   "metadata": {},
   "outputs": [],
   "source": [
    "y_leuk_train[y_train==9] = 1"
   ]
  },
  {
   "cell_type": "markdown",
   "metadata": {},
   "source": [
    "## Regularized regression"
   ]
  },
  {
   "cell_type": "code",
   "execution_count": 15,
   "metadata": {},
   "outputs": [],
   "source": [
    "# no regularization; the matrix X.T.dot(X) is not invertible"
   ]
  },
  {
   "cell_type": "code",
   "execution_count": 19,
   "metadata": {},
   "outputs": [
    {
     "data": {
      "text/plain": [
       "(16063, 16063)"
      ]
     },
     "execution_count": 19,
     "metadata": {},
     "output_type": "execute_result"
    }
   ],
   "source": [
    "M = X_train.T.dot(X_train)\n",
    "M.shape"
   ]
  },
  {
   "cell_type": "code",
   "execution_count": 21,
   "metadata": {},
   "outputs": [],
   "source": [
    "b = X_train.T.dot(y_leuk_train)"
   ]
  },
  {
   "cell_type": "code",
   "execution_count": 22,
   "metadata": {},
   "outputs": [
    {
     "ename": "LinAlgError",
     "evalue": "Singular matrix",
     "output_type": "error",
     "traceback": [
      "\u001b[1;31m---------------------------------------------------------------------------\u001b[0m",
      "\u001b[1;31mLinAlgError\u001b[0m                               Traceback (most recent call last)",
      "\u001b[1;32m<ipython-input-22-d06b2de536c4>\u001b[0m in \u001b[0;36m<module>\u001b[1;34m\u001b[0m\n\u001b[1;32m----> 1\u001b[1;33m \u001b[0mtheta\u001b[0m \u001b[1;33m=\u001b[0m \u001b[0mnp\u001b[0m\u001b[1;33m.\u001b[0m\u001b[0mlinalg\u001b[0m\u001b[1;33m.\u001b[0m\u001b[0msolve\u001b[0m\u001b[1;33m(\u001b[0m\u001b[0mM\u001b[0m\u001b[1;33m,\u001b[0m\u001b[0mb\u001b[0m\u001b[1;33m)\u001b[0m\u001b[1;33m\u001b[0m\u001b[1;33m\u001b[0m\u001b[0m\n\u001b[0m",
      "\u001b[1;32m<__array_function__ internals>\u001b[0m in \u001b[0;36msolve\u001b[1;34m(*args, **kwargs)\u001b[0m\n",
      "\u001b[1;32m~\\Anaconda3\\lib\\site-packages\\numpy\\linalg\\linalg.py\u001b[0m in \u001b[0;36msolve\u001b[1;34m(a, b)\u001b[0m\n\u001b[0;32m    392\u001b[0m     \u001b[0msignature\u001b[0m \u001b[1;33m=\u001b[0m \u001b[1;34m'DD->D'\u001b[0m \u001b[1;32mif\u001b[0m \u001b[0misComplexType\u001b[0m\u001b[1;33m(\u001b[0m\u001b[0mt\u001b[0m\u001b[1;33m)\u001b[0m \u001b[1;32melse\u001b[0m \u001b[1;34m'dd->d'\u001b[0m\u001b[1;33m\u001b[0m\u001b[1;33m\u001b[0m\u001b[0m\n\u001b[0;32m    393\u001b[0m     \u001b[0mextobj\u001b[0m \u001b[1;33m=\u001b[0m \u001b[0mget_linalg_error_extobj\u001b[0m\u001b[1;33m(\u001b[0m\u001b[0m_raise_linalgerror_singular\u001b[0m\u001b[1;33m)\u001b[0m\u001b[1;33m\u001b[0m\u001b[1;33m\u001b[0m\u001b[0m\n\u001b[1;32m--> 394\u001b[1;33m     \u001b[0mr\u001b[0m \u001b[1;33m=\u001b[0m \u001b[0mgufunc\u001b[0m\u001b[1;33m(\u001b[0m\u001b[0ma\u001b[0m\u001b[1;33m,\u001b[0m \u001b[0mb\u001b[0m\u001b[1;33m,\u001b[0m \u001b[0msignature\u001b[0m\u001b[1;33m=\u001b[0m\u001b[0msignature\u001b[0m\u001b[1;33m,\u001b[0m \u001b[0mextobj\u001b[0m\u001b[1;33m=\u001b[0m\u001b[0mextobj\u001b[0m\u001b[1;33m)\u001b[0m\u001b[1;33m\u001b[0m\u001b[1;33m\u001b[0m\u001b[0m\n\u001b[0m\u001b[0;32m    395\u001b[0m \u001b[1;33m\u001b[0m\u001b[0m\n\u001b[0;32m    396\u001b[0m     \u001b[1;32mreturn\u001b[0m \u001b[0mwrap\u001b[0m\u001b[1;33m(\u001b[0m\u001b[0mr\u001b[0m\u001b[1;33m.\u001b[0m\u001b[0mastype\u001b[0m\u001b[1;33m(\u001b[0m\u001b[0mresult_t\u001b[0m\u001b[1;33m,\u001b[0m \u001b[0mcopy\u001b[0m\u001b[1;33m=\u001b[0m\u001b[1;32mFalse\u001b[0m\u001b[1;33m)\u001b[0m\u001b[1;33m)\u001b[0m\u001b[1;33m\u001b[0m\u001b[1;33m\u001b[0m\u001b[0m\n",
      "\u001b[1;32m~\\Anaconda3\\lib\\site-packages\\numpy\\linalg\\linalg.py\u001b[0m in \u001b[0;36m_raise_linalgerror_singular\u001b[1;34m(err, flag)\u001b[0m\n\u001b[0;32m     86\u001b[0m \u001b[1;33m\u001b[0m\u001b[0m\n\u001b[0;32m     87\u001b[0m \u001b[1;32mdef\u001b[0m \u001b[0m_raise_linalgerror_singular\u001b[0m\u001b[1;33m(\u001b[0m\u001b[0merr\u001b[0m\u001b[1;33m,\u001b[0m \u001b[0mflag\u001b[0m\u001b[1;33m)\u001b[0m\u001b[1;33m:\u001b[0m\u001b[1;33m\u001b[0m\u001b[1;33m\u001b[0m\u001b[0m\n\u001b[1;32m---> 88\u001b[1;33m     \u001b[1;32mraise\u001b[0m \u001b[0mLinAlgError\u001b[0m\u001b[1;33m(\u001b[0m\u001b[1;34m\"Singular matrix\"\u001b[0m\u001b[1;33m)\u001b[0m\u001b[1;33m\u001b[0m\u001b[1;33m\u001b[0m\u001b[0m\n\u001b[0m\u001b[0;32m     89\u001b[0m \u001b[1;33m\u001b[0m\u001b[0m\n\u001b[0;32m     90\u001b[0m \u001b[1;32mdef\u001b[0m \u001b[0m_raise_linalgerror_nonposdef\u001b[0m\u001b[1;33m(\u001b[0m\u001b[0merr\u001b[0m\u001b[1;33m,\u001b[0m \u001b[0mflag\u001b[0m\u001b[1;33m)\u001b[0m\u001b[1;33m:\u001b[0m\u001b[1;33m\u001b[0m\u001b[1;33m\u001b[0m\u001b[0m\n",
      "\u001b[1;31mLinAlgError\u001b[0m: Singular matrix"
     ]
    }
   ],
   "source": [
    "theta = np.linalg.solve(M,b)"
   ]
  },
  {
   "cell_type": "code",
   "execution_count": 76,
   "metadata": {},
   "outputs": [],
   "source": [
    "# regularized regression\n",
    "C = 1e-4\n",
    "theta = np.linalg.solve(M+C*np.identity(16063),b)"
   ]
  },
  {
   "cell_type": "code",
   "execution_count": 77,
   "metadata": {},
   "outputs": [],
   "source": [
    "y_leuk_test = np.zeros(len(y_test))\n",
    "y_leuk_test[y_test==9] = 1"
   ]
  },
  {
   "cell_type": "code",
   "execution_count": 78,
   "metadata": {},
   "outputs": [],
   "source": [
    "y_leuk_test_pred = X_test.dot(theta)"
   ]
  },
  {
   "cell_type": "code",
   "execution_count": 79,
   "metadata": {},
   "outputs": [],
   "source": [
    "y_leuk_test_pred[y_leuk_test_pred>=0.5] = 1\n",
    "y_leuk_test_pred[y_leuk_test_pred<0.5] = 0"
   ]
  },
  {
   "cell_type": "code",
   "execution_count": 80,
   "metadata": {},
   "outputs": [],
   "source": [
    "'confusion matrix'\n",
    "C = np.zeros((2,2))\n",
    "for i in range(2):\n",
    "    for j in range(2):\n",
    "        C[i,j] = sum(y_leuk_test_pred[y_leuk_test==i]==j)"
   ]
  },
  {
   "cell_type": "code",
   "execution_count": 81,
   "metadata": {},
   "outputs": [
    {
     "data": {
      "text/plain": [
       "array([[48.,  0.],\n",
       "       [ 1.,  5.]])"
      ]
     },
     "execution_count": 81,
     "metadata": {},
     "output_type": "execute_result"
    }
   ],
   "source": [
    "C"
   ]
  }
 ],
 "metadata": {
  "kernelspec": {
   "display_name": "Python 3",
   "language": "python",
   "name": "python3"
  },
  "language_info": {
   "codemirror_mode": {
    "name": "ipython",
    "version": 3
   },
   "file_extension": ".py",
   "mimetype": "text/x-python",
   "name": "python",
   "nbconvert_exporter": "python",
   "pygments_lexer": "ipython3",
   "version": "3.7.6"
  }
 },
 "nbformat": 4,
 "nbformat_minor": 4
}
