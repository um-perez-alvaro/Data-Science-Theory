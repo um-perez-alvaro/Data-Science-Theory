{
 "cells": [
  {
   "cell_type": "code",
   "execution_count": 1,
   "metadata": {},
   "outputs": [],
   "source": [
    "import numpy as np\n",
    "import matplotlib.pyplot as plt"
   ]
  },
  {
   "cell_type": "code",
   "execution_count": 2,
   "metadata": {},
   "outputs": [],
   "source": [
    "def build_poly_features(X,degree):\n",
    "    from itertools import combinations_with_replacement as comb_w_r\n",
    "    from itertools import chain\n",
    "    \n",
    "    # number of datapoints (rows), number of features (columns)\n",
    "    try:\n",
    "        m,n = X.shape # this won't work if X is a vector (n=1 features)\n",
    "    except: \n",
    "        m = len(X)\n",
    "        n = 1\n",
    "        X = X.reshape(m,1) #  \n",
    "    \n",
    "    # number of polynomial features\n",
    "    combinations = chain.from_iterable(comb_w_r(range(n),i) for i in range(degree+1))\n",
    "    n_poly = sum(1 for combination in combinations) \n",
    "    \n",
    "    # polynomial features matrix\n",
    "    X_poly = np.ones((m,n_poly))\n",
    "    combinations = chain.from_iterable(comb_w_r(range(n),i) for i in range(degree+1))\\\n",
    "    \n",
    "    \n",
    "    for column_index, combination in enumerate(combinations):\n",
    "        X_poly[:,column_index] = np.prod(X[:,combination],axis=1)\n",
    "        \n",
    "    return X_poly"
   ]
  },
  {
   "cell_type": "code",
   "execution_count": 3,
   "metadata": {},
   "outputs": [],
   "source": [
    "def linregression_GD(X,y,learning_rate, n_epochs = 100, test_data = None):\n",
    "    '''\n",
    "    linear regression with Gradient Descent\n",
    "    \n",
    "    INPUT: \n",
    "    - the feature matrix X\n",
    "    - the target vector y\n",
    "    - learning rate\n",
    "    - epochs: number of Gradient Descent iterations (default 100)\n",
    "    - test_data (optional): data (X_test,y_test) for monitoring overfitting\n",
    "    \n",
    "    OUTPUT:\n",
    "    - the vector theta\n",
    "    - mean squared error at each iteration\n",
    "    '''\n",
    "    m,n = X.shape # size of data set, number of features\n",
    "    theta = np.random.randn(n) # random initialization\n",
    "    \n",
    "    # initialize mse vector \n",
    "    mse = np.zeros(n_epochs)\n",
    "\n",
    "    # initialize mse_test vector (if test_data is not None)\n",
    "    if test_data: \n",
    "        X_test,y_test = test_data\n",
    "        mse_test = np.zeros(n_epochs)\n",
    "        \n",
    "    \n",
    "    \n",
    "    # gradient descent iterations\n",
    "    for epoch in range(n_epochs):\n",
    "        gradient = 2*X.T.dot(X.dot(theta)-y) # gradient \n",
    "        theta = theta - learning_rate*gradient # update the vector theta\n",
    "        # compute mean squared error \n",
    "        mse[epoch] = np.mean((y-X.dot(theta))**2)\n",
    "        # compute test mean squared error\n",
    "        if test_data:\n",
    "            mse_test[epoch] = np.mean((y_test-X_test.dot(theta))**2)\n",
    "            \n",
    "            \n",
    "    results = {}\n",
    "    results['theta'] = theta\n",
    "    results['mse'] = mse\n",
    "    if test_data:\n",
    "        results['mse_test'] = mse_test\n",
    "    return results"
   ]
  },
  {
   "cell_type": "markdown",
   "metadata": {},
   "source": [
    "# Early Stopping of Gradient Descent"
   ]
  },
  {
   "cell_type": "markdown",
   "metadata": {},
   "source": [
    "In machine learning, **early stopping** is a form of **regularization** used to avoid overfitting.\n",
    "As soon as the test error reaches a minimum, we will stop Gradient Descent."
   ]
  },
  {
   "cell_type": "code",
   "execution_count": 4,
   "metadata": {
    "scrolled": true
   },
   "outputs": [
    {
     "data": {
      "text/plain": [
       "[<matplotlib.lines.Line2D at 0x205c45a2dc0>]"
      ]
     },
     "execution_count": 4,
     "metadata": {},
     "output_type": "execute_result"
    },
    {
     "data": {
      "image/png": "[encoded data removed]",
      "text/plain": [
       "<Figure size 864x360 with 1 Axes>"
      ]
     },
     "metadata": {
      "needs_background": "light"
     },
     "output_type": "display_data"
    }
   ],
   "source": [
    "# generate and plot a toy dataset\n",
    "m = 15\n",
    "x = -1 + 2*np.random.rand(m)\n",
    "y = 2*x+1 + 0.25*np.random.randn(m)\n",
    "\n",
    "plt.figure(figsize=(12,5))\n",
    "plt.plot(x,y,'o')"
   ]
  },
  {
   "cell_type": "code",
   "execution_count": 5,
   "metadata": {},
   "outputs": [],
   "source": [
    "# split data into training and test sets\n",
    "m = len(x)\n",
    "x_train,y_train = x[0:3*m//4],y[0:3*m//4]\n",
    "x_test,y_test = x[3*m//4:m],y[3*m//4:m]\n",
    "m_train = len(y_train)\n",
    "m_test = len(y_test)"
   ]
  },
  {
   "cell_type": "code",
   "execution_count": 6,
   "metadata": {},
   "outputs": [
    {
     "data": {
      "text/plain": [
       "11"
      ]
     },
     "execution_count": 6,
     "metadata": {},
     "output_type": "execute_result"
    }
   ],
   "source": [
    "len(x_train)"
   ]
  },
  {
   "cell_type": "code",
   "execution_count": 7,
   "metadata": {},
   "outputs": [],
   "source": [
    "d = 11\n",
    "X_train = build_poly_features(x_train,degree=d)\n",
    "X_test = build_poly_features(x_test,degree=d)"
   ]
  },
  {
   "cell_type": "markdown",
   "metadata": {},
   "source": [
    "## Linear Regression (without gradient descent)"
   ]
  },
  {
   "cell_type": "code",
   "execution_count": 8,
   "metadata": {},
   "outputs": [],
   "source": [
    "theta = np.linalg.lstsq(X_train,y_train,rcond=None)[0]"
   ]
  },
  {
   "cell_type": "code",
   "execution_count": 9,
   "metadata": {},
   "outputs": [
    {
     "name": "stdout",
     "output_type": "stream",
     "text": [
      "mse training set  0.0\n",
      "mse testing set  11.19\n"
     ]
    },
    {
     "data": {
      "image/png": "[encoded data removed]",
      "text/plain": [
       "<Figure size 432x288 with 1 Axes>"
      ]
     },
     "metadata": {
      "needs_background": "light"
     },
     "output_type": "display_data"
    }
   ],
   "source": [
    "plt.scatter(x_train,y_train)\n",
    "plt.scatter(x_test,y_test)\n",
    "\n",
    "m_plot = 100\n",
    "x_plot = np.linspace(-1,1,m_plot)\n",
    "X_plot = build_poly_features(x_plot,degree=d)\n",
    "y_plot = X_plot.dot(theta)\n",
    "plt.plot(x_plot,y_plot,color='red')\n",
    "\n",
    "plt.ylim([-10,10])\n",
    "\n",
    "mse_train = np.mean((y_train-X_train.dot(theta))**2)\n",
    "mse_test = np.mean((y_test-X_test.dot(theta))**2)\n",
    "print('mse training set ', mse_train.round(2))\n",
    "print('mse testing set ', mse_test.round(2))"
   ]
  },
  {
   "cell_type": "markdown",
   "metadata": {},
   "source": [
    "## Linear Regression with gradient descent"
   ]
  },
  {
   "cell_type": "code",
   "execution_count": 10,
   "metadata": {},
   "outputs": [],
   "source": [
    "# Gradient Descent\n",
    "results = linregression_GD(X_train,y_train, \n",
    "                           n_epochs = 5000, \n",
    "                           learning_rate = 0.01, \n",
    "                           test_data = (X_test,y_test))"
   ]
  },
  {
   "cell_type": "code",
   "execution_count": 11,
   "metadata": {},
   "outputs": [],
   "source": [
    "theta = results['theta']\n",
    "mse_train = results['mse']\n",
    "mse_test = results['mse_test']"
   ]
  },
  {
   "cell_type": "code",
   "execution_count": 12,
   "metadata": {},
   "outputs": [
    {
     "data": {
      "text/plain": [
       "Text(0.5, 1.0, 'Mean Squared Error')"
      ]
     },
     "execution_count": 12,
     "metadata": {},
     "output_type": "execute_result"
    },
    {
     "data": {
      "image/png": "[encoded data removed]",
      "text/plain": [
       "<Figure size 864x360 with 1 Axes>"
      ]
     },
     "metadata": {
      "needs_background": "light"
     },
     "output_type": "display_data"
    }
   ],
   "source": [
    "plt.figure(figsize=(12,5))\n",
    "plt.semilogy(mse_train, color='blue', label = 'training set')\n",
    "plt.semilogy(mse_test, color='red', label = 'test set')\n",
    "plt.legend(fontsize=15)\n",
    "plt.title('Mean Squared Error', fontsize=20)"
   ]
  },
  {
   "cell_type": "code",
   "execution_count": 13,
   "metadata": {},
   "outputs": [],
   "source": [
    "# Gradient Descent\n",
    "results = linregression_GD(X_train,y_train, \n",
    "                           n_epochs = 500, \n",
    "                           learning_rate = 0.01, \n",
    "                           test_data = (X_test,y_test))"
   ]
  },
  {
   "cell_type": "code",
   "execution_count": 14,
   "metadata": {
    "scrolled": true
   },
   "outputs": [
    {
     "name": "stdout",
     "output_type": "stream",
     "text": [
      "mse training set  0.05\n",
      "mse testing set  0.11\n"
     ]
    },
    {
     "data": {
      "image/png": "[encoded data removed]",
      "text/plain": [
       "<Figure size 432x288 with 1 Axes>"
      ]
     },
     "metadata": {
      "needs_background": "light"
     },
     "output_type": "display_data"
    }
   ],
   "source": [
    "plt.scatter(x_train,y_train)\n",
    "plt.scatter(x_test,y_test)\n",
    "\n",
    "m_plot = 100\n",
    "x_plot = np.linspace(-1,1,m_plot)\n",
    "X_plot = build_poly_features(x_plot,degree=d)\n",
    "y_plot = X_plot.dot(theta)\n",
    "plt.plot(x_plot,y_plot,color='red')\n",
    "\n",
    "plt.ylim([-10,10])\n",
    "\n",
    "mse_train = np.mean((y_train-X_train.dot(theta))**2)\n",
    "mse_test = np.mean((y_test-X_test.dot(theta))**2)\n",
    "print('mse training set ', mse_train.round(2))\n",
    "print('mse testing set ', mse_test.round(2))"
   ]
  }
 ],
 "metadata": {
  "kernelspec": {
   "display_name": "Python 3",
   "language": "python",
   "name": "python3"
  },
  "language_info": {
   "codemirror_mode": {
    "name": "ipython",
    "version": 3
   },
   "file_extension": ".py",
   "mimetype": "text/x-python",
   "name": "python",
   "nbconvert_exporter": "python",
   "pygments_lexer": "ipython3",
   "version": "3.8.5"
  }
 },
 "nbformat": 4,
 "nbformat_minor": 4
}
