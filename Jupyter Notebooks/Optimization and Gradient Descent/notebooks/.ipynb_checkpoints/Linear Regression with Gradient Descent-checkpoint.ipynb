{
 "cells": [
  {
   "cell_type": "markdown",
   "metadata": {},
   "source": [
    "# Linear Regression with Gradient Descent"
   ]
  },
  {
   "cell_type": "code",
   "execution_count": 2,
   "metadata": {},
   "outputs": [],
   "source": [
    "import numpy as np\n",
    "import matplotlib.pyplot as plt"
   ]
  },
  {
   "cell_type": "markdown",
   "metadata": {},
   "source": [
    "**Contents**\n",
    "\n",
    "- [Gradient Descent](#1.-Gradient-Descent)\n",
    "- [Linear Regression with Gradient Descent](#2.-Linear-Regression-with-Gradient-Descent)\n",
    "- [Example](#3.-Example)\n",
    "- [Gradient Descent step-by-step](#4.-Gradient-Descent-step-by-step)\n",
    "- [Implementation](5.-Implementation)"
   ]
  },
  {
   "cell_type": "markdown",
   "metadata": {},
   "source": [
    "## 1. Gradient Descent"
   ]
  },
  {
   "cell_type": "markdown",
   "metadata": {},
   "source": [
    "**Gradient descent** is a name for a generic class of algorithms which minimize a function. \n",
    "These algorithms achieve this end by starting with initial parameter values and iteratively moving towards a set of parameter values that minimize some cost function or metric (that's the descent part).\n",
    "The movement toward best-fit is achieved by taking the derivative of the variable or variables involved, towards the direction with the lowest gradient (that's the gradient part)."
   ]
  },
  {
   "cell_type": "markdown",
   "metadata": {},
   "source": [
    "Gradient descent is based on the observation that a multi-variable function $F(x)$ decreases fastest if one goes moves  in the direction of the negative gradient of $F(x)$.\n",
    "\n",
    "**Gradient Descent iteration:**\n",
    "\n",
    "$$\n",
    "x_n = x_{n-1} - s \\nabla F(x_{n-1}),\n",
    "$$\n",
    "\n",
    "where the parameter $s$ is known as the learning rate."
   ]
  },
  {
   "cell_type": "markdown",
   "metadata": {},
   "source": [
    "Linear Regression is a good and simple way of demonstrating how gradient descent works."
   ]
  },
  {
   "cell_type": "markdown",
   "metadata": {},
   "source": [
    "## 2. Linear Regression with Gradient Descent"
   ]
  },
  {
   "cell_type": "markdown",
   "metadata": {},
   "source": [
    "To train a linear (or polynomial) regression model we need to find the vector $\\theta$ that minimizes\n",
    "\n",
    "$$\n",
    "\\mbox{MSE}(\\theta) = \\frac{1}{m}\\| y - X\\theta \\|_2^2,\n",
    "$$\n",
    "\n",
    "where $m$ is the size of the dataset."
   ]
  },
  {
   "cell_type": "markdown",
   "metadata": {},
   "source": [
    "To implement Gradient Descent, we need the gradient of the MSE function:\n",
    "\n",
    "$$\n",
    "\\nabla\\, \\mbox{MSE}(\\theta) = \\frac{2}{m} \\, X^T(X\\theta - y).\n",
    "$$\n",
    "\n",
    "The **Gradient Descent iteration**  is:\n",
    "\n",
    "$$\n",
    "\\theta_n = \\theta_{n-1} - \\frac{2s}{m} \\, X^T(X\\theta_{n-1}-y),\n",
    "$$\n",
    "where $s$ is called the **learning rate**."
   ]
  },
  {
   "cell_type": "markdown",
   "metadata": {},
   "source": [
    "# 3. Example"
   ]
  },
  {
   "cell_type": "markdown",
   "metadata": {},
   "source": [
    "![](grad_des_anim2.gif)"
   ]
  },
  {
   "cell_type": "markdown",
   "metadata": {},
   "source": [
    "## 4. Gradient Descent step-by-step"
   ]
  },
  {
   "cell_type": "code",
   "execution_count": 5,
   "metadata": {},
   "outputs": [
    {
     "data": {
      "text/plain": [
       "<matplotlib.legend.Legend at 0x2437e789e48>"
      ]
     },
     "execution_count": 5,
     "metadata": {},
     "output_type": "execute_result"
    },
    {
     "data": {
      "image/png": "[encoded data removed]",
      "text/plain": [
       "<Figure size 720x360 with 1 Axes>"
      ]
     },
     "metadata": {
      "needs_background": "light"
     },
     "output_type": "display_data"
    }
   ],
   "source": [
    "# generate and plot a toy dataset\n",
    "m = 20 # number of points\n",
    "x = -1 + 2*np.random.rand(m) # m random points over the interval [-1,1]\n",
    "y = 2*x+1+0.25*np.random.randn(m) # y = 2x+1 + random noise\n",
    "plt.figure(figsize=(10,5)) \n",
    "plt.plot(x,y,'o', label='data')\n",
    "plt.xlabel('x',fontsize=20)\n",
    "plt.ylabel('y',fontsize=20)\n",
    "plt.legend(fontsize=15, loc='upper left')"
   ]
  },
  {
   "cell_type": "markdown",
   "metadata": {},
   "source": [
    "Let's look at a quick implementation of the Gradient Descent method. "
   ]
  },
  {
   "cell_type": "code",
   "execution_count": null,
   "metadata": {},
   "outputs": [],
   "source": [
    "m = len(x) # number of datapoints"
   ]
  },
  {
   "cell_type": "code",
   "execution_count": 7,
   "metadata": {},
   "outputs": [],
   "source": [
    "X = np.ones(m,2) # matrix X\n",
    "X[:,1] = x\n",
    "s = 0.1 # learning rate"
   ]
  },
  {
   "cell_type": "code",
   "execution_count": 10,
   "metadata": {},
   "outputs": [
    {
     "data": {
      "text/plain": [
       "Text(0.5, 1.0, 'MSE = 0.5593840126187402')"
      ]
     },
     "execution_count": 10,
     "metadata": {},
     "output_type": "execute_result"
    },
    {
     "data": {
      "image/png": "[encoded data removed]",
      "text/plain": [
       "<Figure size 1080x504 with 1 Axes>"
      ]
     },
     "metadata": {
      "needs_background": "light"
     },
     "output_type": "display_data"
    }
   ],
   "source": [
    "# Initialization:\n",
    "theta = np.random.randn(2) # theta randomly chosen\n",
    "\n",
    "# initial mean squared error\n",
    "MSE = np.linalg.norm(X.dot(theta)-y)/m\n",
    "\n",
    "#plot the data \n",
    "plt.figure(figsize=(15,7))\n",
    "plt.plot(x,y,'bo')\n",
    "\n",
    "# plot the linear regression model\n",
    "m_plot = 100\n",
    "x_plot = np.linspace(-1,1,100)\n",
    "X_plot = np.ones((m_plot,2))\n",
    "X_plot[:,1] = x_plot\n",
    "y_plot = X_plot.dot(theta)\n",
    "plt.plot(x_plot,y_plot,'r-')\n",
    "\n",
    "plt.title('MSE = '+str(MSE),fontsize=15)"
   ]
  },
  {
   "cell_type": "code",
   "execution_count": 27,
   "metadata": {},
   "outputs": [
    {
     "data": {
      "text/plain": [
       "Text(0.5, 1.0, 'MSE = 0.07726317680576308')"
      ]
     },
     "execution_count": 27,
     "metadata": {},
     "output_type": "execute_result"
    },
    {
     "data": {
      "image/png": "[encoded data removed]",
      "text/plain": [
       "<Figure size 1080x504 with 1 Axes>"
      ]
     },
     "metadata": {
      "needs_background": "light"
     },
     "output_type": "display_data"
    }
   ],
   "source": [
    "# Gradient Descent Step\n",
    "gradient = (2/m)*X.T.dot(X.dot(theta)-y)\n",
    "theta = theta - s*gradient\n",
    "\n",
    "# Mean squared error\n",
    "MSE = np.linalg.norm(X.dot(theta)-y)/m\n",
    "\n",
    "#plot the data \n",
    "plt.figure(figsize=(15,7))\n",
    "plt.plot(x,y,'bo')\n",
    "\n",
    "# plot the linear regression model\n",
    "y_plot = X_plot.dot(theta)\n",
    "plt.plot(x_plot,y_plot,'r-')\n",
    "\n",
    "plt.title('MSE = '+str(MSE),fontsize=15)"
   ]
  },
  {
   "cell_type": "markdown",
   "metadata": {},
   "source": [
    "## 5. Implementation"
   ]
  },
  {
   "cell_type": "code",
   "execution_count": 36,
   "metadata": {},
   "outputs": [],
   "source": [
    "def linregression_GD(X,y,learning_rate, epochs):\n",
    "    '''\n",
    "    input: \n",
    "    - the matrix X\n",
    "    - the vector y\n",
    "    - learning rate\n",
    "    - number of Gradient Descent iterations (epochs)\n",
    "    \n",
    "    ouput:\n",
    "    - the vector theta\n",
    "    '''\n",
    "    m,n = X.shape # size of data set, number of features\n",
    "    theta = np.random.randn(n) # random initialization\n",
    "    for iteration in range(epochs):\n",
    "        gradient = (2/m)*X.T.dot(X.dot(theta)-y)\n",
    "        theta = theta - s*gradient\n",
    "    return theta"
   ]
  },
  {
   "cell_type": "code",
   "execution_count": 37,
   "metadata": {},
   "outputs": [
    {
     "name": "stdout",
     "output_type": "stream",
     "text": [
      "hi\n",
      "hi\n",
      "hi\n",
      "hi\n",
      "hi\n",
      "hi\n",
      "hi\n",
      "hi\n",
      "hi\n",
      "hi\n",
      "hi\n",
      "hi\n",
      "hi\n",
      "hi\n",
      "hi\n",
      "hi\n",
      "hi\n",
      "hi\n",
      "hi\n",
      "hi\n",
      "hi\n",
      "hi\n",
      "hi\n",
      "hi\n",
      "hi\n",
      "hi\n",
      "hi\n",
      "hi\n",
      "hi\n",
      "hi\n",
      "hi\n",
      "hi\n",
      "hi\n",
      "hi\n",
      "hi\n",
      "hi\n",
      "hi\n",
      "hi\n",
      "hi\n",
      "hi\n",
      "hi\n",
      "hi\n",
      "hi\n",
      "hi\n",
      "hi\n",
      "hi\n",
      "hi\n",
      "hi\n",
      "hi\n",
      "hi\n"
     ]
    },
    {
     "data": {
      "text/plain": [
       "Text(0.5, 1.0, 'MSE = 0.39873421335220344')"
      ]
     },
     "execution_count": 37,
     "metadata": {},
     "output_type": "execute_result"
    },
    {
     "data": {
      "image/png": "[encoded data removed]",
      "text/plain": [
       "<Figure size 1080x504 with 1 Axes>"
      ]
     },
     "metadata": {
      "needs_background": "light"
     },
     "output_type": "display_data"
    }
   ],
   "source": [
    "# check that the function works\n",
    "\n",
    "theta = linregression_GD(X,y,learning_rate=0.1,epochs=50)\n",
    "\n",
    "# Mean squared error\n",
    "MSE = np.linalg.norm(X.dot(theta)-y)/m\n",
    "\n",
    "#plot the data \n",
    "plt.figure(figsize=(15,7))\n",
    "plt.plot(x,y,'bo')\n",
    "\n",
    "# plot the linear regression model\n",
    "y_plot = X_plot.dot(theta)\n",
    "plt.plot(x_plot,y_plot,'r-')\n",
    "\n",
    "plt.title('MSE = '+str(MSE),fontsize=15)"
   ]
  },
  {
   "cell_type": "code",
   "execution_count": null,
   "metadata": {},
   "outputs": [],
   "source": []
  }
 ],
 "metadata": {
  "kernelspec": {
   "display_name": "Python 3",
   "language": "python",
   "name": "python3"
  },
  "language_info": {
   "codemirror_mode": {
    "name": "ipython",
    "version": 3
   },
   "file_extension": ".py",
   "mimetype": "text/x-python",
   "name": "python",
   "nbconvert_exporter": "python",
   "pygments_lexer": "ipython3",
   "version": "3.7.6"
  }
 },
 "nbformat": 4,
 "nbformat_minor": 4
}
