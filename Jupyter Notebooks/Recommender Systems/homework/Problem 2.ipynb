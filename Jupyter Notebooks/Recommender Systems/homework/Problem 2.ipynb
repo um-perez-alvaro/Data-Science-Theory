{
 "cells": [
  {
   "cell_type": "code",
   "execution_count": 2,
   "metadata": {},
   "outputs": [],
   "source": [
    "import pandas as pd\n",
    "import numpy as np"
   ]
  },
  {
   "cell_type": "markdown",
   "metadata": {},
   "source": [
    "# Problem 2: Joke Recommendations"
   ]
  },
  {
   "cell_type": "markdown",
   "metadata": {},
   "source": [
    "In this problem, we will build two recommender systems to recommend jokes to users. \n",
    "We'll be using the Jester Dataset, which is available [here](http://eigentaste.berkeley.edu/dataset/)."
   ]
  },
  {
   "cell_type": "markdown",
   "metadata": {},
   "source": [
    "Click [here] to download the dataset"
   ]
  },
  {
   "cell_type": "code",
   "execution_count": 6,
   "metadata": {},
   "outputs": [
    {
     "data": {
      "text/plain": [
       "JokeId\n",
       "0     A man visits the doctor. The doctor says \"I ha...\n",
       "1     This couple had an excellent relationship goin...\n",
       "2     Q. What's 200 feet long and has 4 teeth? \\n\\nA...\n",
       "3     Q. What's the difference between a man and a t...\n",
       "4     Q.\\tWhat's O. J. Simpson's Internet address? \\...\n",
       "                            ...                        \n",
       "95    Two attorneys went into a diner and ordered tw...\n",
       "96    A teacher is explaining to her class how diffe...\n",
       "97    Age and Womanhood\\n\\n1. Between the ages of 13...\n",
       "98    A bus station is where a bus stops.\\nA train s...\n",
       "99    Q: Whats the difference between greeting a Que...\n",
       "Name: JokeText, Length: 100, dtype: object"
      ]
     },
     "execution_count": 6,
     "metadata": {},
     "output_type": "execute_result"
    }
   ],
   "source": [
    "jokes = pd.read_csv('JokeText.csv', index_col = 'JokeId', squeeze=True)\n",
    "jokes"
   ]
  },
  {
   "cell_type": "code",
   "execution_count": 12,
   "metadata": {},
   "outputs": [
    {
     "name": "stdout",
     "output_type": "stream",
     "text": [
      "Q: Do you know the difference between an intelligent male and the\n",
      "Sasquatch?\n",
      "\n",
      "A: There have been actual reported sightings of the Sasquatch.\n",
      "\n"
     ]
    }
   ],
   "source": [
    "print(jokes[74])"
   ]
  },
  {
   "cell_type": "code",
   "execution_count": null,
   "metadata": {},
   "outputs": [],
   "source": []
  }
 ],
 "metadata": {
  "kernelspec": {
   "display_name": "Python 3",
   "language": "python",
   "name": "python3"
  },
  "language_info": {
   "codemirror_mode": {
    "name": "ipython",
    "version": 3
   },
   "file_extension": ".py",
   "mimetype": "text/x-python",
   "name": "python",
   "nbconvert_exporter": "python",
   "pygments_lexer": "ipython3",
   "version": "3.7.6"
  }
 },
 "nbformat": 4,
 "nbformat_minor": 4
}
