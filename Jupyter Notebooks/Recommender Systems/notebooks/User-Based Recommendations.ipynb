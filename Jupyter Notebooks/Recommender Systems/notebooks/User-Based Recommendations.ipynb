{
 "cells": [
  {
   "cell_type": "code",
   "execution_count": null,
   "metadata": {},
   "outputs": [],
   "source": [
    "import numpy as np\n",
    "import matplotlib.pyplot as plt\n",
    "import pandas as pd"
   ]
  },
  {
   "cell_type": "markdown",
   "metadata": {},
   "source": [
    "# User-based recommendations"
   ]
  },
  {
   "cell_type": "code",
   "execution_count": null,
   "metadata": {},
   "outputs": [],
   "source": [
    "# the file is in a Box folder \n",
    "ratings = pd.read_csv('ratings_large.csv')\n",
    "ratings"
   ]
  },
  {
   "cell_type": "code",
   "execution_count": null,
   "metadata": {},
   "outputs": [],
   "source": [
    "# (transpose) ratings matrix\n",
    "ratings_matrix = ratings.pivot('title','userId')['rating']\n",
    "ratings_matrix"
   ]
  },
  {
   "cell_type": "code",
   "execution_count": null,
   "metadata": {},
   "outputs": [],
   "source": [
    "# select a userId \n",
    "user = 4\n",
    "user_ratings = ratings_matrix.loc[:,user]\n",
    "user_ratings"
   ]
  },
  {
   "cell_type": "code",
   "execution_count": null,
   "metadata": {},
   "outputs": [],
   "source": [
    "# drop user column from the ratings matrix\n",
    "ratings_matrix.drop(user,axis=1,inplace=True)"
   ]
  },
  {
   "cell_type": "code",
   "execution_count": null,
   "metadata": {},
   "outputs": [],
   "source": [
    "# movies rated by the user\n",
    "user_ratings[user_ratings.notna()].index.to_list()"
   ]
  },
  {
   "cell_type": "code",
   "execution_count": null,
   "metadata": {},
   "outputs": [],
   "source": [
    "# movies not rated by the user\n",
    "user_ratings[user_ratings.isna()].index.to_list()"
   ]
  },
  {
   "cell_type": "code",
   "execution_count": null,
   "metadata": {},
   "outputs": [],
   "source": [
    "# ratings distribution\n",
    "user_ratings.value_counts(dropna=False)"
   ]
  },
  {
   "cell_type": "code",
   "execution_count": null,
   "metadata": {},
   "outputs": [],
   "source": [
    "# user top movies\n",
    "user_ratings.sort_values(ascending=False).head(20)"
   ]
  },
  {
   "cell_type": "code",
   "execution_count": null,
   "metadata": {},
   "outputs": [],
   "source": [
    "# user bottom movies\n",
    "user_ratings.sort_values().head(20)"
   ]
  },
  {
   "cell_type": "code",
   "execution_count": null,
   "metadata": {},
   "outputs": [],
   "source": [
    "# user mean rating\n",
    "user_mean = user_ratings.mean()\n",
    "user_mean"
   ]
  },
  {
   "cell_type": "code",
   "execution_count": null,
   "metadata": {},
   "outputs": [],
   "source": [
    "# user standard deviation rating\n",
    "user_std = user_ratings.std()\n",
    "user_std"
   ]
  },
  {
   "cell_type": "markdown",
   "metadata": {},
   "source": [
    "## The z-scores matrix"
   ]
  },
  {
   "cell_type": "code",
   "execution_count": null,
   "metadata": {},
   "outputs": [],
   "source": [
    "# matrix of z-scores (scale-free ratings)\n",
    "z_scores = (ratings_matrix - ratings_matrix.mean())/ratings_matrix.std()\n",
    "z_scores"
   ]
  },
  {
   "cell_type": "markdown",
   "metadata": {},
   "source": [
    "## Similarities"
   ]
  },
  {
   "cell_type": "code",
   "execution_count": null,
   "metadata": {},
   "outputs": [],
   "source": [
    "# user similarity function = correlation \n",
    "similarities = ratings_matrix.corrwith(user_ratings)\n",
    "similarities"
   ]
  },
  {
   "cell_type": "markdown",
   "metadata": {},
   "source": [
    "## Prediction function"
   ]
  },
  {
   "cell_type": "code",
   "execution_count": null,
   "metadata": {},
   "outputs": [],
   "source": [
    "# select number of neighbors\n",
    "k = 20\n",
    "\n",
    "# select an (unrated) item: 'Dawn of the Dead (2004)', \"Zoolander (2001)\", 'Duck Soup (1933)'\n",
    "item = 'Duck Soup (1933)'"
   ]
  },
  {
   "cell_type": "code",
   "execution_count": null,
   "metadata": {},
   "outputs": [],
   "source": [
    "# k nearest neighbors similarities\n",
    "knn_sim = similarities[ratings_matrix.loc[item].notna()].sort_values(ascending=False).head(k)\n",
    "knn_sim"
   ]
  },
  {
   "cell_type": "code",
   "execution_count": null,
   "metadata": {},
   "outputs": [],
   "source": [
    "# normalization factor\n",
    "total = knn_sim.abs().sum()\n",
    "total"
   ]
  },
  {
   "cell_type": "code",
   "execution_count": null,
   "metadata": {},
   "outputs": [],
   "source": [
    "# k nearest neighbors\n",
    "knn = knn_sim.index\n",
    "knn"
   ]
  },
  {
   "cell_type": "code",
   "execution_count": null,
   "metadata": {},
   "outputs": [],
   "source": [
    "knn_z_scores = z_scores.loc[item,knn]\n",
    "knn_z_scores"
   ]
  },
  {
   "cell_type": "code",
   "execution_count": null,
   "metadata": {},
   "outputs": [],
   "source": [
    "# prediction\n",
    "prediction = user_mean + user_std*knn_z_scores.dot(knn_sim)/total\n",
    "print(item+': '+str(np.round(prediction,1)))"
   ]
  },
  {
   "cell_type": "code",
   "execution_count": null,
   "metadata": {},
   "outputs": [],
   "source": [
    "# the same in one cell:\n",
    "\n",
    "# select number of neighbors\n",
    "k = 20\n",
    "\n",
    "# select item\n",
    "item = \"Zoolander (2001)\"# \n",
    "\n",
    "# k nearest neighbors similarities\n",
    "knn_sim = similarities[ratings_matrix.loc[item].notna()].sort_values(ascending=False).head(k)\n",
    "    \n",
    "# normalization factor\n",
    "total = knn_sim.abs().sum()\n",
    "\n",
    "# k nearest neighbors\n",
    "knn = knn_sim.index\n",
    "\n",
    "# k nearest neighbors z-scores\n",
    "knn_z_scores = z_scores.loc[item,knn]\n",
    "\n",
    "# prediction\n",
    "prediction = user_mean + user_std*knn_sim.dot(knn_z_scores)/total\n",
    "\n",
    "print(item+': '+str(np.round(prediction,1)))"
   ]
  },
  {
   "cell_type": "markdown",
   "metadata": {},
   "source": [
    "## Fake user"
   ]
  },
  {
   "cell_type": "code",
   "execution_count": null,
   "metadata": {
    "scrolled": true
   },
   "outputs": [],
   "source": [
    "# fake user likes sci-fi films, action-adventures films, and doesn't like romance films, kid movies\n",
    "url = 'https://raw.githubusercontent.com/um-perez-alvaro/Data-Science-Theory/master/Data/fake_user.csv'\n",
    "user = pd.read_csv(url,index_col='title', squeeze=True)\n",
    "user"
   ]
  },
  {
   "cell_type": "code",
   "execution_count": null,
   "metadata": {
    "scrolled": true
   },
   "outputs": [],
   "source": [
    "user_mean = user.mean()\n",
    "user_std = user.std()"
   ]
  },
  {
   "cell_type": "code",
   "execution_count": null,
   "metadata": {},
   "outputs": [],
   "source": [
    "# user similarities\n",
    "similarities = ratings_matrix.corrwith(user)"
   ]
  },
  {
   "cell_type": "code",
   "execution_count": null,
   "metadata": {},
   "outputs": [],
   "source": [
    "# not rated movies\n",
    "not_rated_movies = user[user.isna()].index.to_list()\n",
    "not_rated_movies"
   ]
  },
  {
   "cell_type": "code",
   "execution_count": null,
   "metadata": {},
   "outputs": [],
   "source": [
    "k = 20\n",
    "for item in not_rated_movies:\n",
    "    # k nearest neighbors similarities\n",
    "    knn_sim = similarities[ratings_matrix.loc[item].notna()].sort_values(ascending=False).head(k)\n",
    "\n",
    "    # normalization factor\n",
    "    total = knn_sim.abs().sum()\n",
    "    \n",
    "    # k nearest neighbors\n",
    "    knn = knn_sim.index\n",
    "    \n",
    "    # k nearest neighbors z-scores\n",
    "    knn_z_scores = z_scores.loc[item,knn]\n",
    "    \n",
    "\n",
    "    # prediction\n",
    "    prediction = user_mean + user_std*knn_sim.dot(knn_z_scores)/total\n",
    "    user.loc[item] = prediction"
   ]
  },
  {
   "cell_type": "code",
   "execution_count": null,
   "metadata": {},
   "outputs": [],
   "source": [
    "# top 20 recommendations\n",
    "user.loc[not_rated_movies].sort_values(ascending=False).head(20)"
   ]
  },
  {
   "cell_type": "code",
   "execution_count": null,
   "metadata": {},
   "outputs": [],
   "source": [
    "# bottom 20 recommendations\n",
    "user.loc[not_rated_movies].sort_values(ascending=False).tail(20)"
   ]
  },
  {
   "cell_type": "markdown",
   "metadata": {},
   "source": [
    "## The impact of the long tail"
   ]
  },
  {
   "cell_type": "code",
   "execution_count": null,
   "metadata": {},
   "outputs": [],
   "source": [
    "# fake user likes sci-fi films, action-adventures films, and doesn't like romance films, kid movies\n",
    "url = 'https://raw.githubusercontent.com/um-perez-alvaro/Data-Science-Theory/master/Data/fake_user.csv'\n",
    "user = pd.read_csv(url,index_col='title', squeeze=True)\n",
    "user"
   ]
  },
  {
   "cell_type": "code",
   "execution_count": null,
   "metadata": {},
   "outputs": [],
   "source": [
    "# number of ratings each movie received\n",
    "n_ratings = ratings.groupby('title')['rating'].count()\n",
    "n_ratings"
   ]
  },
  {
   "cell_type": "code",
   "execution_count": null,
   "metadata": {},
   "outputs": [],
   "source": [
    "n_ratings.plot.hist(bins=20)\n",
    "plt.xlabel('number of ratings')\n",
    "plt.ylabel('number of movies')"
   ]
  },
  {
   "cell_type": "code",
   "execution_count": null,
   "metadata": {},
   "outputs": [],
   "source": [
    "# popular movies\n",
    "n_ratings[n_ratings>20000].sort_values(ascending=False)"
   ]
  },
  {
   "cell_type": "code",
   "execution_count": null,
   "metadata": {},
   "outputs": [],
   "source": [
    "# number of users\n",
    "n_users = ratings['userId'].nunique()\n",
    "n_users"
   ]
  },
  {
   "cell_type": "code",
   "execution_count": null,
   "metadata": {},
   "outputs": [],
   "source": [
    "# weights\n",
    "weights = np.log(n_users/n_ratings)\n",
    "weights"
   ]
  },
  {
   "cell_type": "code",
   "execution_count": null,
   "metadata": {},
   "outputs": [],
   "source": [
    "weights['Forrest Gump (1994)']"
   ]
  },
  {
   "cell_type": "code",
   "execution_count": null,
   "metadata": {},
   "outputs": [],
   "source": [
    "# pandas does not have a built-in function that computes weighted correlations\n",
    "def weighted_corrwith(y):\n",
    "    \n",
    "    x = user\n",
    "    \n",
    "    # means\n",
    "    mean_x = np.mean(x)\n",
    "    mean_y = np.mean(y)\n",
    "    \n",
    "    # denominator\n",
    "    den1 = np.sqrt(np.sum((weights*(x-mean_x)**2)))\n",
    "    den2 = np.sqrt(np.sum((weights*(y-mean_y)**2)))\n",
    "    den = den1*den2\n",
    "    \n",
    "    # numerator\n",
    "    num = np.sum(weights*(x-mean_x)*(y-mean_y))\n",
    "    \n",
    "    return num/den"
   ]
  },
  {
   "cell_type": "code",
   "execution_count": null,
   "metadata": {},
   "outputs": [],
   "source": [
    "similarities = ratings_matrix.apply(weighted_corrwith)\n",
    "similarities"
   ]
  },
  {
   "cell_type": "code",
   "execution_count": null,
   "metadata": {},
   "outputs": [],
   "source": [
    "# not rated movies\n",
    "not_rated_movies = user[user.isna()].index.to_list()\n",
    "not_rated_movies"
   ]
  },
  {
   "cell_type": "code",
   "execution_count": null,
   "metadata": {},
   "outputs": [],
   "source": [
    "k = 20\n",
    "for item in not_rated_movies:\n",
    "    # k nearest neighbors similarities\n",
    "    knn_sim = similarities[ratings_matrix.loc[item].notna()].sort_values(ascending=False).head(k)\n",
    "\n",
    "    # normalization factor\n",
    "    total = knn_sim.abs().sum()\n",
    "    \n",
    "    # k nearest neighbors\n",
    "    knn = knn_sim.index\n",
    "    \n",
    "    # k nearest neighbors z-scores\n",
    "    knn_z_scores = z_scores.loc[item,knn]\n",
    "    \n",
    "\n",
    "    # prediction\n",
    "    prediction = user_mean + user_std*knn_sim.dot(knn_z_scores)/total\n",
    "    user.loc[item] = prediction"
   ]
  },
  {
   "cell_type": "code",
   "execution_count": null,
   "metadata": {},
   "outputs": [],
   "source": [
    "# top 20 recommendations\n",
    "user.loc[not_rated_movies].sort_values(ascending=False).head(20)"
   ]
  },
  {
   "cell_type": "markdown",
   "metadata": {},
   "source": [
    "## Appendix: create a fake user"
   ]
  },
  {
   "cell_type": "code",
   "execution_count": null,
   "metadata": {},
   "outputs": [],
   "source": [
    "fake_user = pd.DataFrame(index=ratings_matrix.index,columns=['rating'])\n",
    "fake_user"
   ]
  },
  {
   "cell_type": "code",
   "execution_count": null,
   "metadata": {},
   "outputs": [],
   "source": [
    "fake_user.to_csv('fake_kid_user.csv')"
   ]
  },
  {
   "cell_type": "code",
   "execution_count": null,
   "metadata": {},
   "outputs": [],
   "source": []
  }
 ],
 "metadata": {
  "kernelspec": {
   "display_name": "Python 3",
   "language": "python",
   "name": "python3"
  },
  "language_info": {
   "codemirror_mode": {
    "name": "ipython",
    "version": 3
   },
   "file_extension": ".py",
   "mimetype": "text/x-python",
   "name": "python",
   "nbconvert_exporter": "python",
   "pygments_lexer": "ipython3",
   "version": "3.8.5"
  }
 },
 "nbformat": 4,
 "nbformat_minor": 4
}
