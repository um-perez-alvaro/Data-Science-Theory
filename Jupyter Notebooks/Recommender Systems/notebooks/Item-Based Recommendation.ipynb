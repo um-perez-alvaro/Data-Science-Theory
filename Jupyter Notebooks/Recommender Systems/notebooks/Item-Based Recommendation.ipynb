{
 "cells": [
  {
   "cell_type": "code",
   "execution_count": 2,
   "metadata": {},
   "outputs": [],
   "source": [
    "import pandas as pd\n",
    "import matplotlib.pyplot as plt\n",
    "import numpy as np"
   ]
  },
  {
   "cell_type": "markdown",
   "metadata": {},
   "source": [
    "# Item-Based Recommendation"
   ]
  },
  {
   "cell_type": "markdown",
   "metadata": {},
   "source": [
    "**Contents**\n",
    "\n",
    "- [The MovieLens dataset](#1.-The-MovieLens-dataset)\n",
    "- [The movie recommendation problem](#2.-The-movie-recommendation-problem)\n",
    "- [Recommendations based on rating counts](#3.-Recommendations-based-on-rating-counts)\n",
    "    - [Jaccard similarity](#3.1.-Jaccard-similarity)\n",
    "    - [Serendipity similiarity](#3.2.-Serendipity-similarity)\n",
    "- [Recommendations based on ratings](#4.-Recommendations-based-on-ratings)\n",
    "    - [Cosine similarity](#4.1-Cosine-similarity)\n",
    "    - [Correlation similarity](#4.2-correlation-similarity)"
   ]
  },
  {
   "cell_type": "markdown",
   "metadata": {},
   "source": [
    "## 1. The MovieLens dataset"
   ]
  },
  {
   "cell_type": "markdown",
   "metadata": {},
   "source": [
    "We’ll be working with the MovieLens dataset, a common benchmark dataset for recommendation system algorithms. "
   ]
  },
  {
   "cell_type": "code",
   "execution_count": 91,
   "metadata": {},
   "outputs": [
    {
     "data": {
      "text/html": [
       "<div>\n",
       "<style scoped>\n",
       "    .dataframe tbody tr th:only-of-type {\n",
       "        vertical-align: middle;\n",
       "    }\n",
       "\n",
       "    .dataframe tbody tr th {\n",
       "        vertical-align: top;\n",
       "    }\n",
       "\n",
       "    .dataframe thead th {\n",
       "        text-align: right;\n",
       "    }\n",
       "</style>\n",
       "<table border=\"1\" class=\"dataframe\">\n",
       "  <thead>\n",
       "    <tr style=\"text-align: right;\">\n",
       "      <th></th>\n",
       "      <th>userId</th>\n",
       "      <th>movieId</th>\n",
       "      <th>rating</th>\n",
       "      <th>timestamp</th>\n",
       "      <th>title</th>\n",
       "    </tr>\n",
       "  </thead>\n",
       "  <tbody>\n",
       "    <tr>\n",
       "      <th>0</th>\n",
       "      <td>4</td>\n",
       "      <td>1</td>\n",
       "      <td>4.0</td>\n",
       "      <td>1113765937</td>\n",
       "      <td>Toy Story (1995)</td>\n",
       "    </tr>\n",
       "    <tr>\n",
       "      <th>1</th>\n",
       "      <td>4</td>\n",
       "      <td>2</td>\n",
       "      <td>4.0</td>\n",
       "      <td>1113767306</td>\n",
       "      <td>Jumanji (1995)</td>\n",
       "    </tr>\n",
       "    <tr>\n",
       "      <th>2</th>\n",
       "      <td>4</td>\n",
       "      <td>5</td>\n",
       "      <td>2.0</td>\n",
       "      <td>1123990453</td>\n",
       "      <td>Father of the Bride Part II (1995)</td>\n",
       "    </tr>\n",
       "    <tr>\n",
       "      <th>3</th>\n",
       "      <td>4</td>\n",
       "      <td>6</td>\n",
       "      <td>4.5</td>\n",
       "      <td>1113767242</td>\n",
       "      <td>Heat (1995)</td>\n",
       "    </tr>\n",
       "    <tr>\n",
       "      <th>4</th>\n",
       "      <td>4</td>\n",
       "      <td>10</td>\n",
       "      <td>4.0</td>\n",
       "      <td>1113765995</td>\n",
       "      <td>GoldenEye (1995)</td>\n",
       "    </tr>\n",
       "    <tr>\n",
       "      <th>...</th>\n",
       "      <td>...</td>\n",
       "      <td>...</td>\n",
       "      <td>...</td>\n",
       "      <td>...</td>\n",
       "      <td>...</td>\n",
       "    </tr>\n",
       "    <tr>\n",
       "      <th>10395149</th>\n",
       "      <td>283224</td>\n",
       "      <td>1388</td>\n",
       "      <td>2.0</td>\n",
       "      <td>851001995</td>\n",
       "      <td>Jaws 2 (1978)</td>\n",
       "    </tr>\n",
       "    <tr>\n",
       "      <th>10395150</th>\n",
       "      <td>283224</td>\n",
       "      <td>1394</td>\n",
       "      <td>3.0</td>\n",
       "      <td>851002354</td>\n",
       "      <td>Raising Arizona (1987)</td>\n",
       "    </tr>\n",
       "    <tr>\n",
       "      <th>10395151</th>\n",
       "      <td>283224</td>\n",
       "      <td>1396</td>\n",
       "      <td>3.0</td>\n",
       "      <td>851002354</td>\n",
       "      <td>Sneakers (1992)</td>\n",
       "    </tr>\n",
       "    <tr>\n",
       "      <th>10395152</th>\n",
       "      <td>283224</td>\n",
       "      <td>2019</td>\n",
       "      <td>5.0</td>\n",
       "      <td>851000812</td>\n",
       "      <td>Seven Samurai (Shichinin no samurai) (1954)</td>\n",
       "    </tr>\n",
       "    <tr>\n",
       "      <th>10395153</th>\n",
       "      <td>283224</td>\n",
       "      <td>5060</td>\n",
       "      <td>5.0</td>\n",
       "      <td>851000907</td>\n",
       "      <td>M*A*S*H (a.k.a. MASH) (1970)</td>\n",
       "    </tr>\n",
       "  </tbody>\n",
       "</table>\n",
       "<p>10395154 rows × 5 columns</p>\n",
       "</div>"
      ],
      "text/plain": [
       "          userId  movieId  rating   timestamp  \\\n",
       "0              4        1     4.0  1113765937   \n",
       "1              4        2     4.0  1113767306   \n",
       "2              4        5     2.0  1123990453   \n",
       "3              4        6     4.5  1113767242   \n",
       "4              4       10     4.0  1113765995   \n",
       "...          ...      ...     ...         ...   \n",
       "10395149  283224     1388     2.0   851001995   \n",
       "10395150  283224     1394     3.0   851002354   \n",
       "10395151  283224     1396     3.0   851002354   \n",
       "10395152  283224     2019     5.0   851000812   \n",
       "10395153  283224     5060     5.0   851000907   \n",
       "\n",
       "                                                title  \n",
       "0                                    Toy Story (1995)  \n",
       "1                                      Jumanji (1995)  \n",
       "2                  Father of the Bride Part II (1995)  \n",
       "3                                         Heat (1995)  \n",
       "4                                    GoldenEye (1995)  \n",
       "...                                               ...  \n",
       "10395149                                Jaws 2 (1978)  \n",
       "10395150                       Raising Arizona (1987)  \n",
       "10395151                              Sneakers (1992)  \n",
       "10395152  Seven Samurai (Shichinin no samurai) (1954)  \n",
       "10395153                 M*A*S*H (a.k.a. MASH) (1970)  \n",
       "\n",
       "[10395154 rows x 5 columns]"
      ]
     },
     "execution_count": 91,
     "metadata": {},
     "output_type": "execute_result"
    }
   ],
   "source": [
    "# the file is in a box folder\n",
    "ratings = pd.read_csv('ratings_large.csv')\n",
    "ratings"
   ]
  },
  {
   "cell_type": "code",
   "execution_count": 92,
   "metadata": {},
   "outputs": [
    {
     "data": {
      "text/plain": [
       "10395154"
      ]
     },
     "execution_count": 92,
     "metadata": {},
     "output_type": "execute_result"
    }
   ],
   "source": [
    "# number of ratings\n",
    "len(ratings)"
   ]
  },
  {
   "cell_type": "code",
   "execution_count": 93,
   "metadata": {},
   "outputs": [
    {
     "data": {
      "text/plain": [
       "35289"
      ]
     },
     "execution_count": 93,
     "metadata": {},
     "output_type": "execute_result"
    }
   ],
   "source": [
    "# number of users\n",
    "len(ratings['userId'].unique())"
   ]
  },
  {
   "cell_type": "code",
   "execution_count": 94,
   "metadata": {},
   "outputs": [
    {
     "data": {
      "text/plain": [
       "1344"
      ]
     },
     "execution_count": 94,
     "metadata": {},
     "output_type": "execute_result"
    }
   ],
   "source": [
    "# number of movies\n",
    "len(ratings['title'].unique())"
   ]
  },
  {
   "cell_type": "code",
   "execution_count": null,
   "metadata": {},
   "outputs": [],
   "source": [
    "# list of all movies\n",
    "list(ratings['title'])"
   ]
  },
  {
   "cell_type": "code",
   "execution_count": 8,
   "metadata": {},
   "outputs": [
    {
     "data": {
      "text/plain": [
       "array([0.5, 1. , 1.5, 2. , 2.5, 3. , 3.5, 4. , 4.5, 5. ])"
      ]
     },
     "execution_count": 8,
     "metadata": {},
     "output_type": "execute_result"
    }
   ],
   "source": [
    "# ratings\n",
    "np.sort(ratings['rating'].unique())"
   ]
  },
  {
   "cell_type": "code",
   "execution_count": 9,
   "metadata": {},
   "outputs": [
    {
     "data": {
      "text/plain": [
       "<matplotlib.axes._subplots.AxesSubplot at 0x276f52adb08>"
      ]
     },
     "execution_count": 9,
     "metadata": {},
     "output_type": "execute_result"
    },
    {
     "data": {
      "image/png": "[encoded data removed]",
      "text/plain": [
       "<Figure size 432x288 with 1 Axes>"
      ]
     },
     "metadata": {
      "needs_background": "light"
     },
     "output_type": "display_data"
    }
   ],
   "source": [
    "# rating distribution\n",
    "ratings.groupby('rating')['rating'].count().plot(kind='bar')"
   ]
  },
  {
   "cell_type": "markdown",
   "metadata": {},
   "source": [
    "## 2. The movie recommendation problem"
   ]
  },
  {
   "cell_type": "markdown",
   "metadata": {},
   "source": [
    "Suppose a **new user** watches the movie"
   ]
  },
  {
   "cell_type": "code",
   "execution_count": 29,
   "metadata": {},
   "outputs": [],
   "source": [
    "movie = \"Monty Python's Life of Brian (1979)\""
   ]
  },
  {
   "cell_type": "markdown",
   "metadata": {},
   "source": [
    "the goal is to recommend new movies to this user."
   ]
  },
  {
   "cell_type": "markdown",
   "metadata": {},
   "source": [
    "**Item-based recommendations** are calculated based on the similarity between items (movies) using people’s ratings on those items."
   ]
  },
  {
   "cell_type": "markdown",
   "metadata": {},
   "source": [
    "Let's create a pandas DataFrame that contains the set of user that have rated each movie."
   ]
  },
  {
   "cell_type": "code",
   "execution_count": 30,
   "metadata": {},
   "outputs": [
    {
     "data": {
      "text/plain": [
       "title\n",
       "(500) Days of Summer (2009)                               {163851, 229392, 98341, 98342, 32808, 42, 3281...\n",
       "10 Things I Hate About You (1999)                         {65544, 32785, 131095, 32795, 98341, 196649, 9...\n",
       "101 Dalmatians (1996)                                     {262144, 65541, 196636, 131109, 42, 65590, 56,...\n",
       "101 Dalmatians (One Hundred and One Dalmatians) (1961)    {262144, 65539, 65541, 98325, 131095, 163867, ...\n",
       "12 Angry Men (1957)                                       {4, 229392, 32785, 196625, 19, 131092, 98325, ...\n",
       "                                                                                ...                        \n",
       "Zoolander (2001)                                          {262146, 65544, 229386, 163851, 229392, 32785,...\n",
       "Zootopia (2016)                                           {278530, 81924, 253957, 57351, 106507, 163851,...\n",
       "eXistenZ (1999)                                           {8194, 196611, 4, 32773, 65541, 81924, 106503,...\n",
       "xXx (2002)                                                {262146, 196611, 4, 65541, 98315, 131095, 1966...\n",
       "¡Three Amigos! (1986)                                     {262144, 4, 65544, 98315, 32785, 98338, 43, 51...\n",
       "Name: userId, Length: 1344, dtype: object"
      ]
     },
     "execution_count": 30,
     "metadata": {},
     "output_type": "execute_result"
    }
   ],
   "source": [
    "movie_sets = ratings.groupby('title')['userId'].apply(set)\n",
    "movie_sets"
   ]
  },
  {
   "cell_type": "code",
   "execution_count": 31,
   "metadata": {},
   "outputs": [],
   "source": [
    "# keep movies with at least 10 ratings\n",
    "movie_sets = movie_sets[movie_sets.apply(len)>10]"
   ]
  },
  {
   "cell_type": "markdown",
   "metadata": {},
   "source": [
    "## 3. Recommendations based on rating counts"
   ]
  },
  {
   "cell_type": "markdown",
   "metadata": {},
   "source": [
    "### 3.1. Jaccard similarity"
   ]
  },
  {
   "cell_type": "markdown",
   "metadata": {},
   "source": [
    "The **Jaccard Index** measures the similarity between two sets A and B as the size of the intersection divided by the size of the union\n",
    "\n",
    "$$\n",
    "J(A,B) = \\frac{|A\\cap B|}{|A\\cup B|}\n",
    "$$"
   ]
  },
  {
   "cell_type": "code",
   "execution_count": 32,
   "metadata": {},
   "outputs": [],
   "source": [
    "def Jaccard_sim(set_B):\n",
    "    set_A = movie_sets[movie]\n",
    "    return len(set_A.intersection(set_B))/len(set_A.union(set_B))"
   ]
  },
  {
   "cell_type": "code",
   "execution_count": 33,
   "metadata": {},
   "outputs": [
    {
     "data": {
      "text/plain": [
       "title\n",
       "Monty Python's Life of Brian (1979)                                               1.000000\n",
       "Monty Python and the Holy Grail (1975)                                            0.586490\n",
       "Fish Called Wanda, A (1988)                                                       0.449349\n",
       "Clockwork Orange, A (1971)                                                        0.445657\n",
       "Blade Runner (1982)                                                               0.445490\n",
       "2001: A Space Odyssey (1968)                                                      0.444474\n",
       "Raiders of the Lost Ark (Indiana Jones and the Raiders of the Lost Ark) (1981)    0.439354\n",
       "Star Wars: Episode IV - A New Hope (1977)                                         0.437053\n",
       "Star Wars: Episode V - The Empire Strikes Back (1980)                             0.436310\n",
       "Alien (1979)                                                                      0.435004\n",
       "Back to the Future (1985)                                                         0.433802\n",
       "Pulp Fiction (1994)                                                               0.433438\n",
       "Star Wars: Episode VI - Return of the Jedi (1983)                                 0.431940\n",
       "Apocalypse Now (1979)                                                             0.428287\n",
       "Groundhog Day (1993)                                                              0.425607\n",
       "Terminator, The (1984)                                                            0.424432\n",
       "Indiana Jones and the Last Crusade (1989)                                         0.423237\n",
       "Reservoir Dogs (1992)                                                             0.422307\n",
       "Blues Brothers, The (1980)                                                        0.419659\n",
       "Ghostbusters (a.k.a. Ghost Busters) (1984)                                        0.419589\n",
       "Name: userId, dtype: float64"
      ]
     },
     "execution_count": 33,
     "metadata": {},
     "output_type": "execute_result"
    }
   ],
   "source": [
    "# top 20 recommendations\n",
    "movie_sets.apply(Jaccard_sim).sort_values(ascending=False).head(20)"
   ]
  },
  {
   "cell_type": "markdown",
   "metadata": {},
   "source": [
    "### 3.2. Serendipity similarity"
   ]
  },
  {
   "cell_type": "markdown",
   "metadata": {},
   "source": [
    "The **Serendipity Index** measures the similarity between two sets A and B as the size of the intersection divided by the size of the set B\n",
    "\n",
    "$$\n",
    "J(A,B) = \\frac{|A\\cap B|}{|B|}\n",
    "$$"
   ]
  },
  {
   "cell_type": "code",
   "execution_count": 34,
   "metadata": {},
   "outputs": [],
   "source": [
    "def Serendipity_sim(set_B):\n",
    "    set_A = movie_sets[movie]\n",
    "    return len(set_A.intersection(set_B))/len(set_B)"
   ]
  },
  {
   "cell_type": "code",
   "execution_count": 35,
   "metadata": {},
   "outputs": [
    {
     "data": {
      "text/plain": [
       "title\n",
       "Monty Python's Life of Brian (1979)                                 1.000000\n",
       "Monty Python's And Now for Something Completely Different (1971)    0.855663\n",
       "Monty Python's The Meaning of Life (1983)                           0.845268\n",
       "Return of the Pink Panther, The (1975)                              0.725561\n",
       "History of the World: Part I (1981)                                 0.684424\n",
       "Duck Soup (1933)                                                    0.679626\n",
       "Sleeper (1973)                                                      0.675720\n",
       "Producers, The (1968)                                               0.675028\n",
       "Yellow Submarine (1968)                                             0.673108\n",
       "Being There (1979)                                                  0.668960\n",
       "Name of the Rose, The (Name der Rose, Der) (1986)                   0.661648\n",
       "Seventh Seal, The (Sjunde inseglet, Det) (1957)                     0.658739\n",
       "Pink Floyd: The Wall (1982)                                         0.656988\n",
       "Delicatessen (1991)                                                 0.655330\n",
       "Time Bandits (1981)                                                 0.654807\n",
       "Once Upon a Time in the West (C'era una volta il West) (1968)       0.650673\n",
       "Metropolis (1927)                                                   0.648070\n",
       "Grand Day Out with Wallace and Gromit, A (1989)                     0.645841\n",
       "Harold and Maude (1971)                                             0.645155\n",
       "Brazil (1985)                                                       0.644688\n",
       "Name: userId, dtype: float64"
      ]
     },
     "execution_count": 35,
     "metadata": {},
     "output_type": "execute_result"
    }
   ],
   "source": [
    "movie_sets.apply(Serendipity_sim).sort_values(ascending=False).head(20)"
   ]
  },
  {
   "cell_type": "markdown",
   "metadata": {},
   "source": [
    "## 4. Recommendations based on ratings"
   ]
  },
  {
   "cell_type": "code",
   "execution_count": 96,
   "metadata": {},
   "outputs": [
    {
     "data": {
      "text/html": [
       "<div>\n",
       "<style scoped>\n",
       "    .dataframe tbody tr th:only-of-type {\n",
       "        vertical-align: middle;\n",
       "    }\n",
       "\n",
       "    .dataframe tbody tr th {\n",
       "        vertical-align: top;\n",
       "    }\n",
       "\n",
       "    .dataframe thead th {\n",
       "        text-align: right;\n",
       "    }\n",
       "</style>\n",
       "<table border=\"1\" class=\"dataframe\">\n",
       "  <thead>\n",
       "    <tr style=\"text-align: right;\">\n",
       "      <th>title</th>\n",
       "      <th>(500) Days of Summer (2009)</th>\n",
       "      <th>10 Things I Hate About You (1999)</th>\n",
       "      <th>101 Dalmatians (1996)</th>\n",
       "      <th>101 Dalmatians (One Hundred and One Dalmatians) (1961)</th>\n",
       "      <th>12 Angry Men (1957)</th>\n",
       "      <th>12 Years a Slave (2013)</th>\n",
       "      <th>127 Hours (2010)</th>\n",
       "      <th>13 Going on 30 (2004)</th>\n",
       "      <th>13th Warrior, The (1999)</th>\n",
       "      <th>2 Fast 2 Furious (Fast and the Furious 2, The) (2003)</th>\n",
       "      <th>...</th>\n",
       "      <th>You've Got Mail (1998)</th>\n",
       "      <th>Young Frankenstein (1974)</th>\n",
       "      <th>Young Guns (1988)</th>\n",
       "      <th>Zodiac (2007)</th>\n",
       "      <th>Zombieland (2009)</th>\n",
       "      <th>Zoolander (2001)</th>\n",
       "      <th>Zootopia (2016)</th>\n",
       "      <th>eXistenZ (1999)</th>\n",
       "      <th>xXx (2002)</th>\n",
       "      <th>¡Three Amigos! (1986)</th>\n",
       "    </tr>\n",
       "    <tr>\n",
       "      <th>userId</th>\n",
       "      <th></th>\n",
       "      <th></th>\n",
       "      <th></th>\n",
       "      <th></th>\n",
       "      <th></th>\n",
       "      <th></th>\n",
       "      <th></th>\n",
       "      <th></th>\n",
       "      <th></th>\n",
       "      <th></th>\n",
       "      <th></th>\n",
       "      <th></th>\n",
       "      <th></th>\n",
       "      <th></th>\n",
       "      <th></th>\n",
       "      <th></th>\n",
       "      <th></th>\n",
       "      <th></th>\n",
       "      <th></th>\n",
       "      <th></th>\n",
       "      <th></th>\n",
       "    </tr>\n",
       "  </thead>\n",
       "  <tbody>\n",
       "    <tr>\n",
       "      <th>4</th>\n",
       "      <td>NaN</td>\n",
       "      <td>NaN</td>\n",
       "      <td>NaN</td>\n",
       "      <td>NaN</td>\n",
       "      <td>1.5</td>\n",
       "      <td>NaN</td>\n",
       "      <td>NaN</td>\n",
       "      <td>1.0</td>\n",
       "      <td>NaN</td>\n",
       "      <td>2.0</td>\n",
       "      <td>...</td>\n",
       "      <td>2.5</td>\n",
       "      <td>NaN</td>\n",
       "      <td>NaN</td>\n",
       "      <td>NaN</td>\n",
       "      <td>NaN</td>\n",
       "      <td>NaN</td>\n",
       "      <td>NaN</td>\n",
       "      <td>3.5</td>\n",
       "      <td>3.5</td>\n",
       "      <td>3.0</td>\n",
       "    </tr>\n",
       "    <tr>\n",
       "      <th>19</th>\n",
       "      <td>NaN</td>\n",
       "      <td>NaN</td>\n",
       "      <td>NaN</td>\n",
       "      <td>NaN</td>\n",
       "      <td>5.0</td>\n",
       "      <td>NaN</td>\n",
       "      <td>NaN</td>\n",
       "      <td>NaN</td>\n",
       "      <td>NaN</td>\n",
       "      <td>NaN</td>\n",
       "      <td>...</td>\n",
       "      <td>NaN</td>\n",
       "      <td>NaN</td>\n",
       "      <td>NaN</td>\n",
       "      <td>NaN</td>\n",
       "      <td>NaN</td>\n",
       "      <td>NaN</td>\n",
       "      <td>NaN</td>\n",
       "      <td>NaN</td>\n",
       "      <td>NaN</td>\n",
       "      <td>NaN</td>\n",
       "    </tr>\n",
       "    <tr>\n",
       "      <th>42</th>\n",
       "      <td>4.0</td>\n",
       "      <td>NaN</td>\n",
       "      <td>4.0</td>\n",
       "      <td>NaN</td>\n",
       "      <td>NaN</td>\n",
       "      <td>NaN</td>\n",
       "      <td>NaN</td>\n",
       "      <td>NaN</td>\n",
       "      <td>NaN</td>\n",
       "      <td>NaN</td>\n",
       "      <td>...</td>\n",
       "      <td>NaN</td>\n",
       "      <td>NaN</td>\n",
       "      <td>NaN</td>\n",
       "      <td>NaN</td>\n",
       "      <td>NaN</td>\n",
       "      <td>NaN</td>\n",
       "      <td>NaN</td>\n",
       "      <td>NaN</td>\n",
       "      <td>NaN</td>\n",
       "      <td>NaN</td>\n",
       "    </tr>\n",
       "    <tr>\n",
       "      <th>43</th>\n",
       "      <td>NaN</td>\n",
       "      <td>NaN</td>\n",
       "      <td>NaN</td>\n",
       "      <td>NaN</td>\n",
       "      <td>4.5</td>\n",
       "      <td>NaN</td>\n",
       "      <td>NaN</td>\n",
       "      <td>NaN</td>\n",
       "      <td>NaN</td>\n",
       "      <td>NaN</td>\n",
       "      <td>...</td>\n",
       "      <td>NaN</td>\n",
       "      <td>4.5</td>\n",
       "      <td>NaN</td>\n",
       "      <td>NaN</td>\n",
       "      <td>NaN</td>\n",
       "      <td>NaN</td>\n",
       "      <td>NaN</td>\n",
       "      <td>NaN</td>\n",
       "      <td>NaN</td>\n",
       "      <td>3.0</td>\n",
       "    </tr>\n",
       "    <tr>\n",
       "      <th>51</th>\n",
       "      <td>NaN</td>\n",
       "      <td>NaN</td>\n",
       "      <td>NaN</td>\n",
       "      <td>NaN</td>\n",
       "      <td>5.0</td>\n",
       "      <td>NaN</td>\n",
       "      <td>NaN</td>\n",
       "      <td>NaN</td>\n",
       "      <td>NaN</td>\n",
       "      <td>NaN</td>\n",
       "      <td>...</td>\n",
       "      <td>4.0</td>\n",
       "      <td>4.0</td>\n",
       "      <td>4.0</td>\n",
       "      <td>NaN</td>\n",
       "      <td>NaN</td>\n",
       "      <td>NaN</td>\n",
       "      <td>NaN</td>\n",
       "      <td>NaN</td>\n",
       "      <td>NaN</td>\n",
       "      <td>3.0</td>\n",
       "    </tr>\n",
       "    <tr>\n",
       "      <th>...</th>\n",
       "      <td>...</td>\n",
       "      <td>...</td>\n",
       "      <td>...</td>\n",
       "      <td>...</td>\n",
       "      <td>...</td>\n",
       "      <td>...</td>\n",
       "      <td>...</td>\n",
       "      <td>...</td>\n",
       "      <td>...</td>\n",
       "      <td>...</td>\n",
       "      <td>...</td>\n",
       "      <td>...</td>\n",
       "      <td>...</td>\n",
       "      <td>...</td>\n",
       "      <td>...</td>\n",
       "      <td>...</td>\n",
       "      <td>...</td>\n",
       "      <td>...</td>\n",
       "      <td>...</td>\n",
       "      <td>...</td>\n",
       "      <td>...</td>\n",
       "    </tr>\n",
       "    <tr>\n",
       "      <th>283184</th>\n",
       "      <td>4.0</td>\n",
       "      <td>NaN</td>\n",
       "      <td>NaN</td>\n",
       "      <td>NaN</td>\n",
       "      <td>NaN</td>\n",
       "      <td>NaN</td>\n",
       "      <td>NaN</td>\n",
       "      <td>NaN</td>\n",
       "      <td>NaN</td>\n",
       "      <td>NaN</td>\n",
       "      <td>...</td>\n",
       "      <td>NaN</td>\n",
       "      <td>NaN</td>\n",
       "      <td>NaN</td>\n",
       "      <td>NaN</td>\n",
       "      <td>NaN</td>\n",
       "      <td>2.0</td>\n",
       "      <td>NaN</td>\n",
       "      <td>NaN</td>\n",
       "      <td>NaN</td>\n",
       "      <td>NaN</td>\n",
       "    </tr>\n",
       "    <tr>\n",
       "      <th>283185</th>\n",
       "      <td>NaN</td>\n",
       "      <td>NaN</td>\n",
       "      <td>NaN</td>\n",
       "      <td>3.0</td>\n",
       "      <td>NaN</td>\n",
       "      <td>NaN</td>\n",
       "      <td>NaN</td>\n",
       "      <td>NaN</td>\n",
       "      <td>NaN</td>\n",
       "      <td>NaN</td>\n",
       "      <td>...</td>\n",
       "      <td>4.0</td>\n",
       "      <td>NaN</td>\n",
       "      <td>NaN</td>\n",
       "      <td>NaN</td>\n",
       "      <td>NaN</td>\n",
       "      <td>NaN</td>\n",
       "      <td>NaN</td>\n",
       "      <td>NaN</td>\n",
       "      <td>NaN</td>\n",
       "      <td>NaN</td>\n",
       "    </tr>\n",
       "    <tr>\n",
       "      <th>283195</th>\n",
       "      <td>NaN</td>\n",
       "      <td>2.5</td>\n",
       "      <td>NaN</td>\n",
       "      <td>4.5</td>\n",
       "      <td>NaN</td>\n",
       "      <td>NaN</td>\n",
       "      <td>NaN</td>\n",
       "      <td>NaN</td>\n",
       "      <td>NaN</td>\n",
       "      <td>NaN</td>\n",
       "      <td>...</td>\n",
       "      <td>NaN</td>\n",
       "      <td>3.5</td>\n",
       "      <td>4.0</td>\n",
       "      <td>4.5</td>\n",
       "      <td>NaN</td>\n",
       "      <td>3.5</td>\n",
       "      <td>NaN</td>\n",
       "      <td>NaN</td>\n",
       "      <td>NaN</td>\n",
       "      <td>4.5</td>\n",
       "    </tr>\n",
       "    <tr>\n",
       "      <th>283204</th>\n",
       "      <td>NaN</td>\n",
       "      <td>NaN</td>\n",
       "      <td>NaN</td>\n",
       "      <td>NaN</td>\n",
       "      <td>NaN</td>\n",
       "      <td>NaN</td>\n",
       "      <td>NaN</td>\n",
       "      <td>NaN</td>\n",
       "      <td>NaN</td>\n",
       "      <td>NaN</td>\n",
       "      <td>...</td>\n",
       "      <td>NaN</td>\n",
       "      <td>NaN</td>\n",
       "      <td>NaN</td>\n",
       "      <td>NaN</td>\n",
       "      <td>NaN</td>\n",
       "      <td>NaN</td>\n",
       "      <td>NaN</td>\n",
       "      <td>NaN</td>\n",
       "      <td>NaN</td>\n",
       "      <td>NaN</td>\n",
       "    </tr>\n",
       "    <tr>\n",
       "      <th>283224</th>\n",
       "      <td>NaN</td>\n",
       "      <td>NaN</td>\n",
       "      <td>NaN</td>\n",
       "      <td>NaN</td>\n",
       "      <td>5.0</td>\n",
       "      <td>NaN</td>\n",
       "      <td>NaN</td>\n",
       "      <td>NaN</td>\n",
       "      <td>NaN</td>\n",
       "      <td>NaN</td>\n",
       "      <td>...</td>\n",
       "      <td>NaN</td>\n",
       "      <td>4.0</td>\n",
       "      <td>3.0</td>\n",
       "      <td>NaN</td>\n",
       "      <td>NaN</td>\n",
       "      <td>NaN</td>\n",
       "      <td>NaN</td>\n",
       "      <td>NaN</td>\n",
       "      <td>NaN</td>\n",
       "      <td>NaN</td>\n",
       "    </tr>\n",
       "  </tbody>\n",
       "</table>\n",
       "<p>35289 rows × 1344 columns</p>\n",
       "</div>"
      ],
      "text/plain": [
       "title   (500) Days of Summer (2009)  10 Things I Hate About You (1999)  \\\n",
       "userId                                                                   \n",
       "4                               NaN                                NaN   \n",
       "19                              NaN                                NaN   \n",
       "42                              4.0                                NaN   \n",
       "43                              NaN                                NaN   \n",
       "51                              NaN                                NaN   \n",
       "...                             ...                                ...   \n",
       "283184                          4.0                                NaN   \n",
       "283185                          NaN                                NaN   \n",
       "283195                          NaN                                2.5   \n",
       "283204                          NaN                                NaN   \n",
       "283224                          NaN                                NaN   \n",
       "\n",
       "title   101 Dalmatians (1996)  \\\n",
       "userId                          \n",
       "4                         NaN   \n",
       "19                        NaN   \n",
       "42                        4.0   \n",
       "43                        NaN   \n",
       "51                        NaN   \n",
       "...                       ...   \n",
       "283184                    NaN   \n",
       "283185                    NaN   \n",
       "283195                    NaN   \n",
       "283204                    NaN   \n",
       "283224                    NaN   \n",
       "\n",
       "title   101 Dalmatians (One Hundred and One Dalmatians) (1961)  \\\n",
       "userId                                                           \n",
       "4                                                     NaN        \n",
       "19                                                    NaN        \n",
       "42                                                    NaN        \n",
       "43                                                    NaN        \n",
       "51                                                    NaN        \n",
       "...                                                   ...        \n",
       "283184                                                NaN        \n",
       "283185                                                3.0        \n",
       "283195                                                4.5        \n",
       "283204                                                NaN        \n",
       "283224                                                NaN        \n",
       "\n",
       "title   12 Angry Men (1957)  12 Years a Slave (2013)  127 Hours (2010)  \\\n",
       "userId                                                                   \n",
       "4                       1.5                      NaN               NaN   \n",
       "19                      5.0                      NaN               NaN   \n",
       "42                      NaN                      NaN               NaN   \n",
       "43                      4.5                      NaN               NaN   \n",
       "51                      5.0                      NaN               NaN   \n",
       "...                     ...                      ...               ...   \n",
       "283184                  NaN                      NaN               NaN   \n",
       "283185                  NaN                      NaN               NaN   \n",
       "283195                  NaN                      NaN               NaN   \n",
       "283204                  NaN                      NaN               NaN   \n",
       "283224                  5.0                      NaN               NaN   \n",
       "\n",
       "title   13 Going on 30 (2004)  13th Warrior, The (1999)  \\\n",
       "userId                                                    \n",
       "4                         1.0                       NaN   \n",
       "19                        NaN                       NaN   \n",
       "42                        NaN                       NaN   \n",
       "43                        NaN                       NaN   \n",
       "51                        NaN                       NaN   \n",
       "...                       ...                       ...   \n",
       "283184                    NaN                       NaN   \n",
       "283185                    NaN                       NaN   \n",
       "283195                    NaN                       NaN   \n",
       "283204                    NaN                       NaN   \n",
       "283224                    NaN                       NaN   \n",
       "\n",
       "title   2 Fast 2 Furious (Fast and the Furious 2, The) (2003)  ...  \\\n",
       "userId                                                         ...   \n",
       "4                                                     2.0      ...   \n",
       "19                                                    NaN      ...   \n",
       "42                                                    NaN      ...   \n",
       "43                                                    NaN      ...   \n",
       "51                                                    NaN      ...   \n",
       "...                                                   ...      ...   \n",
       "283184                                                NaN      ...   \n",
       "283185                                                NaN      ...   \n",
       "283195                                                NaN      ...   \n",
       "283204                                                NaN      ...   \n",
       "283224                                                NaN      ...   \n",
       "\n",
       "title   You've Got Mail (1998)  Young Frankenstein (1974)  Young Guns (1988)  \\\n",
       "userId                                                                         \n",
       "4                          2.5                        NaN                NaN   \n",
       "19                         NaN                        NaN                NaN   \n",
       "42                         NaN                        NaN                NaN   \n",
       "43                         NaN                        4.5                NaN   \n",
       "51                         4.0                        4.0                4.0   \n",
       "...                        ...                        ...                ...   \n",
       "283184                     NaN                        NaN                NaN   \n",
       "283185                     4.0                        NaN                NaN   \n",
       "283195                     NaN                        3.5                4.0   \n",
       "283204                     NaN                        NaN                NaN   \n",
       "283224                     NaN                        4.0                3.0   \n",
       "\n",
       "title   Zodiac (2007)  Zombieland (2009)  Zoolander (2001)  Zootopia (2016)  \\\n",
       "userId                                                                        \n",
       "4                 NaN                NaN               NaN              NaN   \n",
       "19                NaN                NaN               NaN              NaN   \n",
       "42                NaN                NaN               NaN              NaN   \n",
       "43                NaN                NaN               NaN              NaN   \n",
       "51                NaN                NaN               NaN              NaN   \n",
       "...               ...                ...               ...              ...   \n",
       "283184            NaN                NaN               2.0              NaN   \n",
       "283185            NaN                NaN               NaN              NaN   \n",
       "283195            4.5                NaN               3.5              NaN   \n",
       "283204            NaN                NaN               NaN              NaN   \n",
       "283224            NaN                NaN               NaN              NaN   \n",
       "\n",
       "title   eXistenZ (1999)  xXx (2002)  ¡Three Amigos! (1986)  \n",
       "userId                                                      \n",
       "4                   3.5         3.5                    3.0  \n",
       "19                  NaN         NaN                    NaN  \n",
       "42                  NaN         NaN                    NaN  \n",
       "43                  NaN         NaN                    3.0  \n",
       "51                  NaN         NaN                    3.0  \n",
       "...                 ...         ...                    ...  \n",
       "283184              NaN         NaN                    NaN  \n",
       "283185              NaN         NaN                    NaN  \n",
       "283195              NaN         NaN                    4.5  \n",
       "283204              NaN         NaN                    NaN  \n",
       "283224              NaN         NaN                    NaN  \n",
       "\n",
       "[35289 rows x 1344 columns]"
      ]
     },
     "execution_count": 96,
     "metadata": {},
     "output_type": "execute_result"
    }
   ],
   "source": [
    "# the ratings matrix\n",
    "ratings_matrix = ratings.pivot('userId','title')['rating']\n",
    "ratings_matrix"
   ]
  },
  {
   "cell_type": "code",
   "execution_count": 97,
   "metadata": {},
   "outputs": [
    {
     "data": {
      "text/plain": [
       "(35289, 1344)"
      ]
     },
     "execution_count": 97,
     "metadata": {},
     "output_type": "execute_result"
    }
   ],
   "source": [
    "ratings_matrix.shape"
   ]
  },
  {
   "cell_type": "code",
   "execution_count": 98,
   "metadata": {},
   "outputs": [],
   "source": [
    "movie = 'Dark City (1998)' # fantasy, sci-fi movie; similar to 'the matrix'"
   ]
  },
  {
   "cell_type": "markdown",
   "metadata": {},
   "source": [
    "### 4.1. Cosine similarity"
   ]
  },
  {
   "cell_type": "code",
   "execution_count": 99,
   "metadata": {},
   "outputs": [],
   "source": [
    "def cosine_sim(col_B):\n",
    "    col_A = ratings_matrix.loc[:,movie]\n",
    "    norm_A = np.sqrt(np.nansum(col_A**2))\n",
    "    norm_B = np.sqrt(np.nansum(col_B**2))\n",
    "    return np.nansum(col_A*col_B)/(norm_A*norm_B)"
   ]
  },
  {
   "cell_type": "code",
   "execution_count": 100,
   "metadata": {},
   "outputs": [
    {
     "data": {
      "text/plain": [
       "title\n",
       "Dark City (1998)                                         1.000000\n",
       "Twelve Monkeys (a.k.a. 12 Monkeys) (1995)                0.566409\n",
       "Gattaca (1997)                                           0.559822\n",
       "Blade Runner (1982)                                      0.552317\n",
       "Fifth Element, The (1997)                                0.538819\n",
       "Matrix, The (1999)                                       0.535740\n",
       "Alien (1979)                                             0.528712\n",
       "Aliens (1986)                                            0.525598\n",
       "Terminator 2: Judgment Day (1991)                        0.523453\n",
       "Total Recall (1990)                                      0.518636\n",
       "Terminator, The (1984)                                   0.511142\n",
       "Star Wars: Episode V - The Empire Strikes Back (1980)    0.502098\n",
       "Starship Troopers (1997)                                 0.501088\n",
       "Star Wars: Episode IV - A New Hope (1977)                0.495664\n",
       "Pulp Fiction (1994)                                      0.493738\n",
       "2001: A Space Odyssey (1968)                             0.490337\n",
       "Pi (1998)                                                0.489984\n",
       "Fight Club (1999)                                        0.489545\n",
       "Usual Suspects, The (1995)                               0.489506\n",
       "Being John Malkovich (1999)                              0.489483\n",
       "dtype: float64"
      ]
     },
     "execution_count": 100,
     "metadata": {},
     "output_type": "execute_result"
    }
   ],
   "source": [
    "ratings_matrix.apply(cosine_sim).sort_values(ascending=False).head(20)"
   ]
  },
  {
   "cell_type": "markdown",
   "metadata": {},
   "source": [
    "### 4.2 Correlation similarity"
   ]
  },
  {
   "cell_type": "code",
   "execution_count": 101,
   "metadata": {},
   "outputs": [],
   "source": [
    "def correlation_sim(col_B):\n",
    "    col_A = ratings_matrix.loc[:,movie]\n",
    "    \n",
    "    # means\n",
    "    mean_A = np.nansum(col_A)/np.sum(~np.isnan(col_A))\n",
    "    mean_B = np.nansum(col_B)/np.sum(~np.isnan(col_B))\n",
    "    \n",
    "    norm_A = np.sqrt(np.nansum((col_A-mean_A)**2))\n",
    "    norm_B = np.sqrt(np.nansum((col_B-mean_B)**2))\n",
    "    return np.nansum((col_A-mean_A)*(col_B-mean_B))/(norm_A*norm_B)"
   ]
  },
  {
   "cell_type": "code",
   "execution_count": 102,
   "metadata": {
    "scrolled": true
   },
   "outputs": [
    {
     "data": {
      "text/plain": [
       "title\n",
       "Dark City (1998)                                                   1.000000\n",
       "Gattaca (1997)                                                     0.172906\n",
       "Twelve Monkeys (a.k.a. 12 Monkeys) (1995)                          0.158235\n",
       "Crow, The (1994)                                                   0.132797\n",
       "Fifth Element, The (1997)                                          0.132455\n",
       "Pi (1998)                                                          0.129861\n",
       "City of Lost Children, The (Cité des enfants perdus, La) (1995)    0.124711\n",
       "eXistenZ (1999)                                                    0.121718\n",
       "Cube (1997)                                                        0.116946\n",
       "Truman Show, The (1998)                                            0.115161\n",
       "Blade Runner (1982)                                                0.115103\n",
       "Sleepy Hollow (1999)                                               0.113087\n",
       "Total Recall (1990)                                                0.110739\n",
       "Army of Darkness (1993)                                            0.110021\n",
       "Dogma (1999)                                                       0.109657\n",
       "Game, The (1997)                                                   0.109280\n",
       "Unbreakable (2000)                                                 0.108856\n",
       "Léon: The Professional (a.k.a. The Professional) (Léon) (1994)     0.108601\n",
       "Strange Days (1995)                                                0.108192\n",
       "Dune (1984)                                                        0.107990\n",
       "dtype: float64"
      ]
     },
     "execution_count": 102,
     "metadata": {},
     "output_type": "execute_result"
    }
   ],
   "source": [
    "ratings_matrix.apply(correlation_sim).sort_values(ascending=False).head(20)"
   ]
  }
 ],
 "metadata": {
  "kernelspec": {
   "display_name": "Python 3",
   "language": "python",
   "name": "python3"
  },
  "language_info": {
   "codemirror_mode": {
    "name": "ipython",
    "version": 3
   },
   "file_extension": ".py",
   "mimetype": "text/x-python",
   "name": "python",
   "nbconvert_exporter": "python",
   "pygments_lexer": "ipython3",
   "version": "3.7.6"
  }
 },
 "nbformat": 4,
 "nbformat_minor": 4
}
