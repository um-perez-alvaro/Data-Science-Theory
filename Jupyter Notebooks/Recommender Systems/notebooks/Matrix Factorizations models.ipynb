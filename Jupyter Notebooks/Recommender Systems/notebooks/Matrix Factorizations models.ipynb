{
 "cells": [
  {
   "cell_type": "code",
   "execution_count": null,
   "metadata": {},
   "outputs": [],
   "source": [
    "import numpy as np\n",
    "import matplotlib.pyplot as plt\n",
    "import pandas as pd"
   ]
  },
  {
   "cell_type": "markdown",
   "metadata": {},
   "source": [
    "**Contents**\n",
    "\n",
    "- [Matrix factorization methods](#1.-Matrix-factorization-methods)\n",
    "- [Incorporating User and item biases](#2.-Incorporating-user-and-item-biases)"
   ]
  },
  {
   "cell_type": "markdown",
   "metadata": {},
   "source": [
    "## 1. Matrix factorization methods"
   ]
  },
  {
   "cell_type": "code",
   "execution_count": null,
   "metadata": {},
   "outputs": [],
   "source": [
    "def matrix_factorization(R, k, learning_rate, n_epochs):\n",
    "    m, n = R.shape\n",
    "    \n",
    "    # number of nonzero ratings\n",
    "    n_zero_ratings = np.sum(~np.isnan(R))\n",
    "    \n",
    "    # initialization\n",
    "    U = np.random.randn(m,k)\n",
    "    V = np.random.randn(n,k)\n",
    "    \n",
    "    mean_error = np.zeros(n_epochs)\n",
    "    \n",
    "    # gradient descent steps\n",
    "    for i in range(n_epochs):\n",
    "        \n",
    "        # error matrix\n",
    "        E = R-U.dot(V.T)\n",
    "        E[np.isnan(E)]=0\n",
    "\n",
    "        # update U and V\n",
    "        U,V = U + learning_rate*E.dot(V), V + learning_rate*E.T.dot(U)\n",
    "        \n",
    "        # compute mean_error\n",
    "        error_squared = np.sum(E**2)\n",
    "        mean_error[i] = np.sqrt(error_squared/(n_zero_ratings))\n",
    "        \n",
    "    return U, V, mean_error"
   ]
  },
  {
   "cell_type": "markdown",
   "metadata": {},
   "source": [
    "**Simple example**"
   ]
  },
  {
   "cell_type": "code",
   "execution_count": null,
   "metadata": {},
   "outputs": [],
   "source": [
    "R = np.array([\n",
    "    [2, np.nan, 3, np.nan],\n",
    "    [np.nan, 5, np.nan, 4],\n",
    "    [1, 3, np.nan, 5],\n",
    "    [np.nan, 4, 2, np.nan]\n",
    "])\n",
    "R"
   ]
  },
  {
   "cell_type": "code",
   "execution_count": null,
   "metadata": {},
   "outputs": [],
   "source": [
    "U, V, mean_error = matrix_factorization(R, \n",
    "                                        k = 2,\n",
    "                                        learning_rate = 0.05,\n",
    "                                        n_epochs = 50)"
   ]
  },
  {
   "cell_type": "code",
   "execution_count": null,
   "metadata": {},
   "outputs": [],
   "source": [
    "plt.plot(mean_error)"
   ]
  },
  {
   "cell_type": "code",
   "execution_count": null,
   "metadata": {},
   "outputs": [],
   "source": [
    "R"
   ]
  },
  {
   "cell_type": "code",
   "execution_count": null,
   "metadata": {},
   "outputs": [],
   "source": [
    "# approximation of R\n",
    "U.dot(V.T).round(2)"
   ]
  },
  {
   "cell_type": "markdown",
   "metadata": {},
   "source": [
    "**MoviLens dataset example**"
   ]
  },
  {
   "cell_type": "code",
   "execution_count": null,
   "metadata": {},
   "outputs": [],
   "source": [
    "ratings = pd.read_csv('ratings_large.csv')\n",
    "ratings.head()"
   ]
  },
  {
   "cell_type": "code",
   "execution_count": null,
   "metadata": {},
   "outputs": [],
   "source": [
    "# ratings matrix\n",
    "ratings_matrix = ratings.pivot('title','userId')['rating']\n",
    "ratings_matrix"
   ]
  },
  {
   "cell_type": "code",
   "execution_count": null,
   "metadata": {},
   "outputs": [],
   "source": [
    "# load Javier's fake user (or your fake user, if you created one)\n",
    "url = 'https://raw.githubusercontent.com/um-perez-alvaro/Data-Science-Theory/master/Data/fake_user.csv'\n",
    "user = pd.read_csv(url, index_col='title', squeeze=True)\n",
    "user"
   ]
  },
  {
   "cell_type": "code",
   "execution_count": null,
   "metadata": {},
   "outputs": [],
   "source": [
    "# add fake user to the ratings matrix\n",
    "ratings_matrix['user'] = user\n",
    "ratings_matrix"
   ]
  },
  {
   "cell_type": "code",
   "execution_count": null,
   "metadata": {},
   "outputs": [],
   "source": [
    "R = ratings_matrix.to_numpy()"
   ]
  },
  {
   "cell_type": "code",
   "execution_count": null,
   "metadata": {},
   "outputs": [],
   "source": [
    "U, V, mean_error = matrix_factorization(R, \n",
    "                                        k = 50, \n",
    "                                        learning_rate = .00005, \n",
    "                                        n_epochs = 50)"
   ]
  },
  {
   "cell_type": "code",
   "execution_count": null,
   "metadata": {
    "scrolled": true
   },
   "outputs": [],
   "source": [
    "plt.plot(mean_error)"
   ]
  },
  {
   "cell_type": "code",
   "execution_count": null,
   "metadata": {},
   "outputs": [],
   "source": [
    "# predictions\n",
    "R_pred = U.dot(V.T)\n",
    "user_pred = pd.Series(R_pred[:,-1], index=user.index) \n",
    "user_pred"
   ]
  },
  {
   "cell_type": "code",
   "execution_count": null,
   "metadata": {},
   "outputs": [],
   "source": [
    "# top 20 recommendations\n",
    "user_pred[user.isna()].sort_values(ascending=False).head(20)"
   ]
  },
  {
   "cell_type": "code",
   "execution_count": null,
   "metadata": {},
   "outputs": [],
   "source": [
    "# bottom 20 recommendations\n",
    "user_pred[user.isna()].sort_values().head(20)"
   ]
  },
  {
   "cell_type": "code",
   "execution_count": null,
   "metadata": {},
   "outputs": [],
   "source": [
    "user[user.notna()]"
   ]
  },
  {
   "cell_type": "code",
   "execution_count": null,
   "metadata": {},
   "outputs": [],
   "source": [
    "user_pred[user.notna()]"
   ]
  },
  {
   "cell_type": "markdown",
   "metadata": {},
   "source": [
    "## 2. Incorporating user and item biases"
   ]
  },
  {
   "cell_type": "code",
   "execution_count": null,
   "metadata": {},
   "outputs": [],
   "source": [
    "def matrix_factorization_with_biases(R, k, learning_rate, n_epochs):\n",
    "    m, n = R.shape\n",
    "    \n",
    "    # number of nonzero ratings\n",
    "    n_zero_ratings = np.sum(~np.isnan(R))\n",
    "    \n",
    "    # initialization\n",
    "    U = np.random.randn(m,k+2)\n",
    "    U[:,k+1] = 1 # set (k+2)th column to 1\n",
    "    V = np.random.randn(n,k+2)\n",
    "    V[:,k] = 1 # set (k+1)th column to 1\n",
    "    \n",
    "    mean_error = np.zeros(n_epochs)\n",
    "    \n",
    "    # gradient descent steps\n",
    "    for i in range(n_epochs):\n",
    "        \n",
    "        # error matrix\n",
    "        E = R-U.dot(V.T)\n",
    "        E[np.isnan(E)]=0\n",
    "\n",
    "        # update U and V\n",
    "        U, V  = U + learning_rate*E.dot(V), V + learning_rate*E.T.dot(U)\n",
    "        U[:,k+1] = 1 # restore column of ones\n",
    "        V[:,k] = 1 # # restore column of ones\n",
    "\n",
    "        \n",
    "        # compute mean_error\n",
    "        error_squared = np.sum(E**2)\n",
    "        mean_error[i] = np.sqrt(error_squared/(n_zero_ratings))\n",
    "        \n",
    "    return U, V, mean_error"
   ]
  },
  {
   "cell_type": "markdown",
   "metadata": {},
   "source": [
    "**MovieLens dataset example**"
   ]
  },
  {
   "cell_type": "code",
   "execution_count": null,
   "metadata": {},
   "outputs": [],
   "source": [
    "U, V, mean_error = matrix_factorization_with_biases(R, \n",
    "                                                    k = 20,\n",
    "                                                    learning_rate = .00005, \n",
    "                                                    n_epochs = 50)"
   ]
  },
  {
   "cell_type": "code",
   "execution_count": null,
   "metadata": {},
   "outputs": [],
   "source": [
    "plt.plot(mean_error)"
   ]
  },
  {
   "cell_type": "code",
   "execution_count": null,
   "metadata": {},
   "outputs": [],
   "source": [
    "# predictions\n",
    "R_pred = U.dot(V.T)\n",
    "user_pred = pd.Series(R_pred[:,-1], index=user.index) # "
   ]
  },
  {
   "cell_type": "code",
   "execution_count": null,
   "metadata": {},
   "outputs": [],
   "source": [
    "# top 20 recommendations\n",
    "user_pred[user.isna()].sort_values(ascending=False).head(20)"
   ]
  },
  {
   "cell_type": "code",
   "execution_count": null,
   "metadata": {},
   "outputs": [],
   "source": [
    "# bottom 20 recommendations\n",
    "user_pred[user.isna()].sort_values().head(20)"
   ]
  },
  {
   "cell_type": "code",
   "execution_count": null,
   "metadata": {},
   "outputs": [],
   "source": []
  }
 ],
 "metadata": {
  "kernelspec": {
   "display_name": "Python 3",
   "language": "python",
   "name": "python3"
  },
  "language_info": {
   "codemirror_mode": {
    "name": "ipython",
    "version": 3
   },
   "file_extension": ".py",
   "mimetype": "text/x-python",
   "name": "python",
   "nbconvert_exporter": "python",
   "pygments_lexer": "ipython3",
   "version": "3.8.5"
  }
 },
 "nbformat": 4,
 "nbformat_minor": 4
}
