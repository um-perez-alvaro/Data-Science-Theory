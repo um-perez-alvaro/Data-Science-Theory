{
 "cells": [
  {
   "cell_type": "code",
   "execution_count": 2,
   "metadata": {},
   "outputs": [],
   "source": [
    "import numpy as np\n",
    "import matplotlib.pyplot as plt"
   ]
  },
  {
   "cell_type": "markdown",
   "metadata": {},
   "source": [
    "# Agglomerative (Bottom-Up) Hierarchical Clustering"
   ]
  },
  {
   "cell_type": "markdown",
   "metadata": {},
   "source": [
    "Hierarchical Clustering is an alternative clustering algorithm to k-means. \n",
    "This algorithm can capture complex cluster structures. \n",
    "But it can only be used for relatively small datasets."
   ]
  },
  {
   "cell_type": "markdown",
   "metadata": {},
   "source": [
    "**Contents**\n",
    "\n",
    "- [Hierarchical clustering step-by-step example](#1.-Hierarchical-clustering-steps-by-step-example)\n",
    "- [Hierarchical clustering implementation](#2.-Hierarchical-clustering-implementation)"
   ]
  },
  {
   "cell_type": "markdown",
   "metadata": {},
   "source": [
    "## 1. Hierarchical clustering step-by-step example"
   ]
  },
  {
   "cell_type": "markdown",
   "metadata": {},
   "source": [
    "Let us consider the following (small) toy dataset"
   ]
  },
  {
   "cell_type": "code",
   "execution_count": 34,
   "metadata": {},
   "outputs": [
    {
     "data": {
      "text/plain": [
       "[<matplotlib.lines.Line2D at 0x22e5e1bc848>]"
      ]
     },
     "execution_count": 34,
     "metadata": {},
     "output_type": "execute_result"
    },
    {
     "data": {
      "image/png": "[encoded data removed]",
      "text/plain": [
       "<Figure size 720x360 with 1 Axes>"
      ]
     },
     "metadata": {
      "needs_background": "light"
     },
     "output_type": "display_data"
    }
   ],
   "source": [
    "X = np.zeros((9,2)) #2 features; 9 data points\n",
    "X[0:3] = .5*np.random.randn(3,2) + [-3,3] # blob 1; 3 points\n",
    "X[3:6] = .5*np.random.randn(3,2) + [3,-3] # blob 2; 3 points\n",
    "X[6:9] = .5*np.random.randn(3,2) + [3,3] # blob 3; 3 points\n",
    "\n",
    "\n",
    "'plot dataset'\n",
    "plt.figure(figsize=(10,5))\n",
    "plt.plot(X[:,0],X[:,1],'bo')"
   ]
  },
  {
   "cell_type": "markdown",
   "metadata": {},
   "source": [
    "**Hierarchical Clustering** works as follows:\n",
    "\n",
    "**Step 1**: Make each point its own cluster of one."
   ]
  },
  {
   "cell_type": "code",
   "execution_count": 35,
   "metadata": {},
   "outputs": [],
   "source": [
    "'Make each point its own cluster of one'\n",
    "k = X.shape[0] # number of clusters = number of data points\n",
    "clusters = np.arange(k) #np.array([0,1,...,k-1])"
   ]
  },
  {
   "cell_type": "code",
   "execution_count": 36,
   "metadata": {},
   "outputs": [
    {
     "data": {
      "text/plain": [
       "array([0, 1, 2, 3, 4, 5, 6, 7, 8])"
      ]
     },
     "execution_count": 36,
     "metadata": {},
     "output_type": "execute_result"
    }
   ],
   "source": [
    "clusters"
   ]
  },
  {
   "cell_type": "code",
   "execution_count": 37,
   "metadata": {},
   "outputs": [
    {
     "data": {
      "text/plain": [
       "<matplotlib.legend.Legend at 0x22e5e1fe0c8>"
      ]
     },
     "execution_count": 37,
     "metadata": {},
     "output_type": "execute_result"
    },
    {
     "data": {
      "image/png": "[encoded data removed]",
      "text/plain": [
       "<Figure size 720x360 with 1 Axes>"
      ]
     },
     "metadata": {
      "needs_background": "light"
     },
     "output_type": "display_data"
    }
   ],
   "source": [
    "'plot the clusters'\n",
    "\n",
    "colors = ['C0','C1','C2','C3','C4','C5','C6','C7','C8','C9']\n",
    "plt.figure(figsize=(10,5))\n",
    "for i in range(k):\n",
    "    'plot ith cluster'\n",
    "    plt.plot(X[clusters==i,0],X[clusters==i,1],'o',color=colors[i],label = 'cluster '+str(i))\n",
    "plt.legend(fontsize=15)"
   ]
  },
  {
   "cell_type": "code",
   "execution_count": 38,
   "metadata": {},
   "outputs": [
    {
     "data": {
      "text/plain": [
       "array([[       inf, 0.92706364, 0.59001353, 9.18892685, 8.34084475,\n",
       "        8.81223536, 6.81854695, 6.3984264 , 6.53828795],\n",
       "       [0.92706364,        inf, 0.67736702, 8.53646049, 7.68977902,\n",
       "        8.22512288, 5.89890179, 5.47191638, 5.62246446],\n",
       "       [0.59001353, 0.67736702,        inf, 8.60018061, 7.75217874,\n",
       "        8.22244523, 6.37832181, 6.02485435, 6.08785329],\n",
       "       [9.18892685, 8.53646049, 8.60018061,        inf, 0.84822034,\n",
       "        0.89293618, 5.4872024 , 6.49909574, 5.35119871],\n",
       "       [8.34084475, 7.68977902, 7.75217874, 0.84822034,        inf,\n",
       "        0.91678191, 4.94264322, 5.9087032 , 4.77024282],\n",
       "       [8.81223536, 8.22512288, 8.22244523, 0.89293618, 0.91678191,\n",
       "               inf, 5.85381483, 6.80851536, 5.67472105],\n",
       "       [6.81854695, 5.89890179, 6.37832181, 5.4872024 , 4.94264322,\n",
       "        5.85381483,        inf, 1.07323893, 0.3323611 ],\n",
       "       [6.3984264 , 5.47191638, 6.02485435, 6.49909574, 5.9087032 ,\n",
       "        6.80851536, 1.07323893,        inf, 1.14813064],\n",
       "       [6.53828795, 5.62246446, 6.08785329, 5.35119871, 4.77024282,\n",
       "        5.67472105, 0.3323611 , 1.14813064,        inf]])"
      ]
     },
     "execution_count": 38,
     "metadata": {},
     "output_type": "execute_result"
    }
   ],
   "source": [
    "# distance matrix\n",
    "distances = np.sum(X**2,axis=1)[:,None]+np.sum(X**2,axis=1)[None,:]-2*X.dot(X.T)\n",
    "np.fill_diagonal(distances, np.inf)\n",
    "distances = np.sqrt(distances)\n",
    "distances"
   ]
  },
  {
   "cell_type": "code",
   "execution_count": 22,
   "metadata": {},
   "outputs": [
    {
     "data": {
      "text/plain": [
       "(9, 9)"
      ]
     },
     "execution_count": 22,
     "metadata": {},
     "output_type": "execute_result"
    }
   ],
   "source": [
    "distances.shape"
   ]
  },
  {
   "cell_type": "markdown",
   "metadata": {},
   "source": [
    "**Step 2**: Merge the two closest clusters"
   ]
  },
  {
   "cell_type": "markdown",
   "metadata": {},
   "source": [
    "We need to define **intercluster distance** (The linkage function).\n",
    "We have several options:\n",
    "\n",
    "- **Centroid linkage:** The distance between two clusters is defined as the distance between their centers (means).\n",
    "- **Single linkage:** The distance between two clusters is defined as the **smallest** distance between two points in each cluster.\n",
    "-  **Complete linkage:** The distance between two clusters is defined as the **largest** distance between two points in each cluster.\n",
    "- **Average linkage:** The distance between two clusters is defined as the **average** distance between two points in each cluster.\n",
    "\n",
    "We'll implement the second (single linkage), third (complete linkage) and fourth (average linkage)."
   ]
  },
  {
   "cell_type": "code",
   "execution_count": 28,
   "metadata": {},
   "outputs": [],
   "source": [
    "'Single-linkage distance function'\n",
    "def single_linkage(i,j, distances):\n",
    "    return np.min(distances[cluster1,:][:,cluster2])"
   ]
  },
  {
   "cell_type": "code",
   "execution_count": 29,
   "metadata": {},
   "outputs": [
    {
     "ename": "IndexError",
     "evalue": "too many indices for array: array is 1-dimensional, but 2 were indexed",
     "output_type": "error",
     "traceback": [
      "\u001b[1;31m---------------------------------------------------------------------------\u001b[0m",
      "\u001b[1;31mIndexError\u001b[0m                                Traceback (most recent call last)",
      "\u001b[1;32m<ipython-input-29-5d8bca82fcc4>\u001b[0m in \u001b[0;36m<module>\u001b[1;34m\u001b[0m\n\u001b[1;32m----> 1\u001b[1;33m \u001b[0msingle_linkage\u001b[0m\u001b[1;33m(\u001b[0m\u001b[0mclusters\u001b[0m\u001b[1;33m[\u001b[0m\u001b[1;36m0\u001b[0m\u001b[1;33m]\u001b[0m\u001b[1;33m,\u001b[0m\u001b[0mclusters\u001b[0m\u001b[1;33m[\u001b[0m\u001b[1;36m1\u001b[0m\u001b[1;33m]\u001b[0m\u001b[1;33m,\u001b[0m\u001b[0mdistances\u001b[0m\u001b[1;33m)\u001b[0m\u001b[1;33m\u001b[0m\u001b[1;33m\u001b[0m\u001b[0m\n\u001b[0m",
      "\u001b[1;32m<ipython-input-28-aa78a25c9314>\u001b[0m in \u001b[0;36msingle_linkage\u001b[1;34m(cluster1, cluster2, distances)\u001b[0m\n\u001b[0;32m      1\u001b[0m \u001b[1;34m'Single-linkage distance function'\u001b[0m\u001b[1;33m\u001b[0m\u001b[1;33m\u001b[0m\u001b[0m\n\u001b[0;32m      2\u001b[0m \u001b[1;32mdef\u001b[0m \u001b[0msingle_linkage\u001b[0m\u001b[1;33m(\u001b[0m\u001b[0mcluster1\u001b[0m\u001b[1;33m,\u001b[0m \u001b[0mcluster2\u001b[0m\u001b[1;33m,\u001b[0m \u001b[0mdistances\u001b[0m\u001b[1;33m)\u001b[0m\u001b[1;33m:\u001b[0m\u001b[1;33m\u001b[0m\u001b[1;33m\u001b[0m\u001b[0m\n\u001b[1;32m----> 3\u001b[1;33m     \u001b[1;32mreturn\u001b[0m \u001b[0mnp\u001b[0m\u001b[1;33m.\u001b[0m\u001b[0mmin\u001b[0m\u001b[1;33m(\u001b[0m\u001b[0mdistances\u001b[0m\u001b[1;33m[\u001b[0m\u001b[0mcluster1\u001b[0m\u001b[1;33m,\u001b[0m\u001b[1;33m:\u001b[0m\u001b[1;33m]\u001b[0m\u001b[1;33m[\u001b[0m\u001b[1;33m:\u001b[0m\u001b[1;33m,\u001b[0m\u001b[0mcluster2\u001b[0m\u001b[1;33m]\u001b[0m\u001b[1;33m)\u001b[0m\u001b[1;33m\u001b[0m\u001b[1;33m\u001b[0m\u001b[0m\n\u001b[0m",
      "\u001b[1;31mIndexError\u001b[0m: too many indices for array: array is 1-dimensional, but 2 were indexed"
     ]
    }
   ],
   "source": [
    "single_linkage(clusters[0],clusters[1],distances)"
   ]
  },
  {
   "cell_type": "code",
   "execution_count": 48,
   "metadata": {},
   "outputs": [],
   "source": [
    "ci = np.where(clusters==0)[0]\n",
    "cj = np.where(clusters==1)[0]"
   ]
  },
  {
   "cell_type": "code",
   "execution_count": 51,
   "metadata": {},
   "outputs": [
    {
     "data": {
      "text/plain": [
       "(array([0, 1], dtype=int64), array([1, 0], dtype=int64))"
      ]
     },
     "execution_count": 51,
     "metadata": {},
     "output_type": "execute_result"
    }
   ],
   "source": [
    "np.where(distances==distances[ci,:][:,cj])"
   ]
  },
  {
   "cell_type": "code",
   "execution_count": 47,
   "metadata": {},
   "outputs": [
    {
     "data": {
      "text/plain": [
       "array([[0.92706364]])"
      ]
     },
     "execution_count": 47,
     "metadata": {},
     "output_type": "execute_result"
    }
   ],
   "source": [
    "distances[[0],:][:,[1]]"
   ]
  },
  {
   "cell_type": "code",
   "execution_count": 45,
   "metadata": {},
   "outputs": [
    {
     "data": {
      "text/plain": [
       "array([[7.68977902, 8.22512288, 5.89890179, 5.47191638, 5.62246446],\n",
       "       [7.75217874, 8.22244523, 6.37832181, 6.02485435, 6.08785329]])"
      ]
     },
     "execution_count": 45,
     "metadata": {},
     "output_type": "execute_result"
    }
   ],
   "source": [
    "distances[1:3,4:9]"
   ]
  },
  {
   "cell_type": "code",
   "execution_count": null,
   "metadata": {},
   "outputs": [],
   "source": []
  }
 ],
 "metadata": {
  "kernelspec": {
   "display_name": "Python 3",
   "language": "python",
   "name": "python3"
  },
  "language_info": {
   "codemirror_mode": {
    "name": "ipython",
    "version": 3
   },
   "file_extension": ".py",
   "mimetype": "text/x-python",
   "name": "python",
   "nbconvert_exporter": "python",
   "pygments_lexer": "ipython3",
   "version": "3.7.6"
  }
 },
 "nbformat": 4,
 "nbformat_minor": 4
}
