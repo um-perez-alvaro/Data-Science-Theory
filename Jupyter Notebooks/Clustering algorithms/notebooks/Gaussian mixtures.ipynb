{
 "cells": [
  {
   "cell_type": "code",
   "execution_count": null,
   "metadata": {},
   "outputs": [],
   "source": [
    "import numpy as np\n",
    "import matplotlib.pyplot as plt"
   ]
  },
  {
   "cell_type": "markdown",
   "metadata": {},
   "source": [
    "# Gaussian Mixture Models"
   ]
  },
  {
   "cell_type": "markdown",
   "metadata": {},
   "source": [
    "## (1-dim) Gaussian distribution"
   ]
  },
  {
   "cell_type": "code",
   "execution_count": null,
   "metadata": {},
   "outputs": [],
   "source": [
    "# draw points from two normal distributions\n",
    "values1 = np.random.normal(loc=-10, scale=10, size=10000)\n",
    "values2 = np.random.normal(loc=2, scale=1, size=10000)"
   ]
  },
  {
   "cell_type": "code",
   "execution_count": null,
   "metadata": {},
   "outputs": [],
   "source": [
    "# plot histograms\n",
    "plt.hist(values1,bins=20,label='distribution 1')\n",
    "plt.hist(values2,bins=20,label='distribution 2')\n",
    "plt.legend()\n",
    "plt.show()"
   ]
  },
  {
   "cell_type": "markdown",
   "metadata": {},
   "source": [
    "## Multivariate (2-dim) Gaussian distribution"
   ]
  },
  {
   "cell_type": "code",
   "execution_count": null,
   "metadata": {},
   "outputs": [],
   "source": [
    "def covariance_matrix(direction,evalues):\n",
    "    'builds a 2x2 covariance matrix'\n",
    "    \n",
    "    # first vector\n",
    "    q1 = np.array(direction)\n",
    "    q1 = q1/np.linalg.norm(q1) # normalize\n",
    "    \n",
    "    # second vector (perpendicular to q1)\n",
    "    q2 = np.array([-q1[1],q1[0]])\n",
    "    q2 = q2/np.linalg.norm(q2) # normalize\n",
    "    \n",
    "    # orthogonal matrix Q\n",
    "    Q = np.zeros((2,2))\n",
    "    Q[:,0] = q1\n",
    "    Q[:,1] = q2\n",
    "    \n",
    "    # diagonal matrix\n",
    "    D = np.diag(evalues)\n",
    "    \n",
    "    return Q.dot(D.dot(Q.T))"
   ]
  },
  {
   "cell_type": "code",
   "execution_count": null,
   "metadata": {},
   "outputs": [],
   "source": [
    "cov1 = covariance_matrix(direction=[2,1],evalues=[10,1])\n",
    "cov1"
   ]
  },
  {
   "cell_type": "code",
   "execution_count": null,
   "metadata": {},
   "outputs": [],
   "source": [
    "cov2 = covariance_matrix(direction=[1,0],evalues=[1,1])\n",
    "cov2"
   ]
  },
  {
   "cell_type": "code",
   "execution_count": null,
   "metadata": {},
   "outputs": [],
   "source": [
    "mean1 = np.array([5,5])\n",
    "mean2 = np.array([0,0])"
   ]
  },
  {
   "cell_type": "code",
   "execution_count": null,
   "metadata": {},
   "outputs": [],
   "source": [
    "X1 = np.random.multivariate_normal(mean = mean1, cov = cov1, size = 1000)\n",
    "X2 = np.random.multivariate_normal(mean = mean2, cov = cov2, size = 1000)"
   ]
  },
  {
   "cell_type": "code",
   "execution_count": null,
   "metadata": {},
   "outputs": [],
   "source": [
    "plt.scatter(X1[:,0],X1[:,1],label='distribution 1',alpha=0.5)\n",
    "plt.scatter(X2[:,0],X2[:,1],label='distribution 2',alpha=0.5)"
   ]
  },
  {
   "cell_type": "code",
   "execution_count": null,
   "metadata": {},
   "outputs": [],
   "source": [
    "mean1,mean2"
   ]
  },
  {
   "cell_type": "code",
   "execution_count": null,
   "metadata": {},
   "outputs": [],
   "source": [
    "# maximum likelihood estimation\n",
    "np.mean(X1,axis=0), np.mean(X2,axis=0)"
   ]
  },
  {
   "cell_type": "code",
   "execution_count": null,
   "metadata": {},
   "outputs": [],
   "source": [
    "cov1, cov2"
   ]
  },
  {
   "cell_type": "code",
   "execution_count": null,
   "metadata": {},
   "outputs": [],
   "source": [
    "# maximum likelihood estimation\n",
    "np.cov(X1,rowvar=False), np.cov(X2,rowvar=False)"
   ]
  },
  {
   "cell_type": "markdown",
   "metadata": {},
   "source": [
    "## Gaussian mixtures"
   ]
  },
  {
   "cell_type": "code",
   "execution_count": null,
   "metadata": {},
   "outputs": [],
   "source": [
    "# Gaussian dist. probabilities\n",
    "pi = [0.05,0.25,0.7]\n",
    "# means\n",
    "mean = [[10,5],[0,0],[-10,-10]]\n",
    "#  covariance matrices\n",
    "cov1 = covariance_matrix(direction=[2,1],evalues=[10,1])\n",
    "cov2 = covariance_matrix(direction=[0,1],evalues=[2,2])\n",
    "cov3 = covariance_matrix(direction=[1,1],evalues=[2,20])\n",
    "cov = [cov1, cov2, cov3]"
   ]
  },
  {
   "cell_type": "code",
   "execution_count": null,
   "metadata": {},
   "outputs": [],
   "source": [
    "# sample m points from the Gaussian mixture (k=3)\n",
    "m = 1000\n",
    "k = 3 \n",
    "dist = np.random.choice(k,m,p=pi)\n",
    "X = np.zeros((m,2))\n",
    "for i in range(k):\n",
    "    # number of points from dist. i\n",
    "    ni = np.sum(dist==i)\n",
    "    X[dist==i] = np.random.multivariate_normal(mean = mean[i], cov = cov[i], size=ni)"
   ]
  },
  {
   "cell_type": "code",
   "execution_count": null,
   "metadata": {},
   "outputs": [],
   "source": [
    "plt.scatter(X[:,0],X[:,1])"
   ]
  },
  {
   "cell_type": "code",
   "execution_count": null,
   "metadata": {},
   "outputs": [],
   "source": []
  }
 ],
 "metadata": {
  "kernelspec": {
   "display_name": "Python 3",
   "language": "python",
   "name": "python3"
  },
  "language_info": {
   "codemirror_mode": {
    "name": "ipython",
    "version": 3
   },
   "file_extension": ".py",
   "mimetype": "text/x-python",
   "name": "python",
   "nbconvert_exporter": "python",
   "pygments_lexer": "ipython3",
   "version": "3.8.5"
  }
 },
 "nbformat": 4,
 "nbformat_minor": 4
}
