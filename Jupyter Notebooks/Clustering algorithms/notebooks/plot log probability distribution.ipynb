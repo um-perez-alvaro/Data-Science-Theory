{
 "cells": [
  {
   "cell_type": "code",
   "execution_count": null,
   "metadata": {},
   "outputs": [],
   "source": [
    "def plot_log_probability_distribution(X,cov,mean,pi):\n",
    "    \n",
    "    \"\"\"\n",
    "    this function plots:\n",
    "        - level curves of the proba. distribution (negative logarithm)\n",
    "        - cluster means\n",
    "        - cluster boundaries\n",
    "    \"\"\"\n",
    "    \n",
    "    from matplotlib.colors import LogNorm  \n",
    "    resolution = 500\n",
    "    \n",
    "    # number of clusters\n",
    "    k = len(pi)\n",
    "    \n",
    "    # create a mesh grid\n",
    "    mins = X.min(axis=0) - 0.1\n",
    "    maxs = X.max(axis=0) + 0.1\n",
    "    xx, yy = np.meshgrid(np.linspace(mins[0], maxs[0], resolution),\n",
    "                         np.linspace(mins[1], maxs[1], resolution))\n",
    "    points = np.c_[xx.ravel(), yy.ravel()]\n",
    "    Rpoints = np.zeros((resolution**2,k))\n",
    "    for i in range(k):\n",
    "        Rpoints[:,i] = evaluate_multivariate_normal(points,mean[i],cov[i])\n",
    "    # multiply by cluster probabilities pi\n",
    "    Rpoints = Rpoints*pi\n",
    "    # sum along columns\n",
    "    prob = -np.log(np.sum(Rpoints,axis=1).reshape(xx.shape))\n",
    "    # cluster prediction\n",
    "    pred = np.argmax(Rpoints,axis=1).reshape(xx.shape)\n",
    "\n",
    "    plt.contourf(xx, yy, prob,\n",
    "                norm=LogNorm(vmin=1.0, vmax=30.0),\n",
    "                     levels=np.logspace(0, 2, 12))\n",
    "\n",
    "    plt.contour(xx, yy, prob,linewidths=1,colors='black',\n",
    "               norm=LogNorm(vmin=1.0, vmax=30.0),\n",
    "                     levels=np.logspace(0, 2, 12))\n",
    "    plt.contour(xx, yy, pred,\n",
    "                    linewidths=2, colors='r', linestyles='dashed')\n",
    "    # plot means\n",
    "    for i in range(k):\n",
    "        plt.scatter(mean[i][0],mean[i][1],\n",
    "                    marker='o', s=20, linewidths=8,\n",
    "                    color='w', zorder=10, alpha=0.9)\n",
    "        plt.scatter(mean[i][0],mean[i][1],\n",
    "                    marker='x', s=50, linewidths=2,\n",
    "                    color='r', zorder=11, alpha=1)\n",
    "\n",
    "    plt.plot(X[:, 0], X[:, 1], 'k.', markersize=2)\n",
    "    plt.colorbar()\n",
    "    plt.title('log probability distribution')"
   ]
  }
 ],
 "metadata": {
  "kernelspec": {
   "display_name": "Python 3",
   "language": "python",
   "name": "python3"
  },
  "language_info": {
   "codemirror_mode": {
    "name": "ipython",
    "version": 3
   },
   "file_extension": ".py",
   "mimetype": "text/x-python",
   "name": "python",
   "nbconvert_exporter": "python",
   "pygments_lexer": "ipython3",
   "version": "3.8.3"
  }
 },
 "nbformat": 4,
 "nbformat_minor": 4
}
