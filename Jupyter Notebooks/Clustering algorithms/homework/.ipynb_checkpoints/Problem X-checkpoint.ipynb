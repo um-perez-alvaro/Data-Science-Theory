{
 "cells": [
  {
   "cell_type": "code",
   "execution_count": 2,
   "metadata": {},
   "outputs": [],
   "source": [
    "import numpy as np\n",
    "import matplotlib.pyplot as plt"
   ]
  },
  {
   "cell_type": "markdown",
   "metadata": {},
   "source": [
    "# Problem 7: Cosine Distance"
   ]
  },
  {
   "cell_type": "markdown",
   "metadata": {},
   "source": [
    "In mathematics, a **metric or distance function** is a function that defines a distance between each pair of points.\n",
    "The most used distance metrics are the Euclidean, the Manhattan, and the Cosine distances. "
   ]
  },
  {
   "cell_type": "markdown",
   "metadata": {},
   "source": [
    "**Euclidean distance:**\n",
    "\n",
    "$$\n",
    "d(x,y) = \\sqrt{\\sum_{i=1}^n(x_i-y_i)^2}\n",
    "$$\n",
    "\n",
    "**Manhattan distance:**\n",
    "\n",
    "$$\n",
    "d(x,y) = \\sqrt{\\sum_{i=1}^n|x_i-y_i|}\n",
    "$$\n",
    "\n",
    "**Cosine distance:**\n",
    "\n",
    "$$\n",
    "d(x,y) = 1 + \\dfrac{\\sum_{i=1}^n x_iy_i}{\\sqrt{\\sum_{i=1}^n x_i^2}\\sqrt{\\sum_{i=1}^n y_i^2}}\n",
    "$$"
   ]
  },
  {
   "cell_type": "markdown",
   "metadata": {},
   "source": [
    "## Part 1"
   ]
  },
  {
   "cell_type": "markdown",
   "metadata": {},
   "source": [
    "Write a k-means functions with cosine distance as the distance metric. "
   ]
  },
  {
   "cell_type": "code",
   "execution_count": null,
   "metadata": {},
   "outputs": [],
   "source": [
    "def kmeans_cosine(X,k,max_iterations=1000)\n",
    "\n",
    "    # initialize iteration counter\n",
    "    it = 0\n",
    "    repeat = True\n",
    "    \n",
    "    # number of datapoints\n",
    "    m = X.shape[0] \n",
    "    \n",
    "    # initial means\n",
    "    means = X[np.random.choice(m,k)] \n",
    "    # initial distances\n",
    "    X_norms = np.linalg.norm(X,axis=1)[None,:]\n",
    "    mean_norms = np.linalg.norm(means,axis=1)[:,None]\n",
    "    distances = (X.dot(means)/X_norms)/means_norms\n",
    "    # initial clusters\n",
    "    clusters = np.argmin(distances, axis=1)\n",
    " \n",
    "    \n",
    "    while repeat and it<max_iterations:\n",
    "        \n",
    "        # update means; # if a cluster has no data points associated with it, replace it with a random data point\n",
    "        means = np.array([np.mean(X[clusters==i], axis=0) \n",
    "                          if np.sum(clusters==i)!=0\n",
    "                          else  X[np.random.randint(m)]\n",
    "                          for i in range(k)])\n",
    "        \n",
    "        # update distances\n",
    "        X_norms = np.linalg.norm(X,axis=1)[None,:]\n",
    "        mean_norms = np.linalg.norm(means,axis=1)[:,None]\n",
    "        distances = (X.dot(means)/X_norms)/means_norms\n",
    "    \n",
    "        # update clusters\n",
    "        new_clusters = np.argmin(distances, axis=1)\n",
    "        \n",
    "        # check if the new clusters are equal to the previous clusters\n",
    "        if np.sum(clusters!=new_clusters)==0: \n",
    "            repeat = False\n",
    "        clusters = new_clusters\n",
    "                \n",
    "        it += 1 # increment iteration counter by 1\n",
    "    \n",
    "    \n",
    "    results = {'clusters' : clusters, 'means' : means}\n",
    "\n",
    "    return results"
   ]
  }
 ],
 "metadata": {
  "kernelspec": {
   "display_name": "Python 3",
   "language": "python",
   "name": "python3"
  },
  "language_info": {
   "codemirror_mode": {
    "name": "ipython",
    "version": 3
   },
   "file_extension": ".py",
   "mimetype": "text/x-python",
   "name": "python",
   "nbconvert_exporter": "python",
   "pygments_lexer": "ipython3",
   "version": "3.7.6"
  }
 },
 "nbformat": 4,
 "nbformat_minor": 4
}
