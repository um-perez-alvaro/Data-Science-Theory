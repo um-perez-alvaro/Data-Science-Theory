{
 "cells": [
  {
   "cell_type": "code",
   "execution_count": 1,
   "metadata": {},
   "outputs": [],
   "source": [
    "import pandas as pd\n",
    "import matplotlib.pyplot as plt\n",
    "import numpy as np"
   ]
  },
  {
   "cell_type": "markdown",
   "metadata": {},
   "source": [
    "# Problem 7: : the Old Faithful"
   ]
  },
  {
   "cell_type": "markdown",
   "metadata": {},
   "source": [
    "The data contains waiting times between eruptions and the duration of the eruptions for the Old Faithful geyser in Yellowstone National Park, Wyoming, USA"
   ]
  },
  {
   "cell_type": "code",
   "execution_count": 2,
   "metadata": {},
   "outputs": [
    {
     "data": {
      "text/html": [
       "<div>\n",
       "<style scoped>\n",
       "    .dataframe tbody tr th:only-of-type {\n",
       "        vertical-align: middle;\n",
       "    }\n",
       "\n",
       "    .dataframe tbody tr th {\n",
       "        vertical-align: top;\n",
       "    }\n",
       "\n",
       "    .dataframe thead th {\n",
       "        text-align: right;\n",
       "    }\n",
       "</style>\n",
       "<table border=\"1\" class=\"dataframe\">\n",
       "  <thead>\n",
       "    <tr style=\"text-align: right;\">\n",
       "      <th></th>\n",
       "      <th>eruptions</th>\n",
       "      <th>waiting</th>\n",
       "    </tr>\n",
       "  </thead>\n",
       "  <tbody>\n",
       "    <tr>\n",
       "      <th>1</th>\n",
       "      <td>3.600</td>\n",
       "      <td>79</td>\n",
       "    </tr>\n",
       "    <tr>\n",
       "      <th>2</th>\n",
       "      <td>1.800</td>\n",
       "      <td>54</td>\n",
       "    </tr>\n",
       "    <tr>\n",
       "      <th>3</th>\n",
       "      <td>3.333</td>\n",
       "      <td>74</td>\n",
       "    </tr>\n",
       "    <tr>\n",
       "      <th>4</th>\n",
       "      <td>2.283</td>\n",
       "      <td>62</td>\n",
       "    </tr>\n",
       "    <tr>\n",
       "      <th>5</th>\n",
       "      <td>4.533</td>\n",
       "      <td>85</td>\n",
       "    </tr>\n",
       "    <tr>\n",
       "      <th>...</th>\n",
       "      <td>...</td>\n",
       "      <td>...</td>\n",
       "    </tr>\n",
       "    <tr>\n",
       "      <th>268</th>\n",
       "      <td>4.117</td>\n",
       "      <td>81</td>\n",
       "    </tr>\n",
       "    <tr>\n",
       "      <th>269</th>\n",
       "      <td>2.150</td>\n",
       "      <td>46</td>\n",
       "    </tr>\n",
       "    <tr>\n",
       "      <th>270</th>\n",
       "      <td>4.417</td>\n",
       "      <td>90</td>\n",
       "    </tr>\n",
       "    <tr>\n",
       "      <th>271</th>\n",
       "      <td>1.817</td>\n",
       "      <td>46</td>\n",
       "    </tr>\n",
       "    <tr>\n",
       "      <th>272</th>\n",
       "      <td>4.467</td>\n",
       "      <td>74</td>\n",
       "    </tr>\n",
       "  </tbody>\n",
       "</table>\n",
       "<p>272 rows × 2 columns</p>\n",
       "</div>"
      ],
      "text/plain": [
       "     eruptions  waiting\n",
       "1        3.600       79\n",
       "2        1.800       54\n",
       "3        3.333       74\n",
       "4        2.283       62\n",
       "5        4.533       85\n",
       "..         ...      ...\n",
       "268      4.117       81\n",
       "269      2.150       46\n",
       "270      4.417       90\n",
       "271      1.817       46\n",
       "272      4.467       74\n",
       "\n",
       "[272 rows x 2 columns]"
      ]
     },
     "execution_count": 2,
     "metadata": {},
     "output_type": "execute_result"
    }
   ],
   "source": [
    "url = 'https://raw.githubusercontent.com/um-perez-alvaro/Data-Science-Practice/master/Data/faithful.csv'\n",
    "data = pd.read_csv(url,sep = '\\s+')\n",
    "data"
   ]
  },
  {
   "cell_type": "markdown",
   "metadata": {},
   "source": [
    "![old](https://raw.githubusercontent.com/um-perez-alvaro/Data-Science-Practice/master/Jupyter%20Notebooks/Clustering/practice%20problems/old_faithful.jpg)"
   ]
  },
  {
   "cell_type": "code",
   "execution_count": 7,
   "metadata": {},
   "outputs": [],
   "source": [
    "X = data[['eruptions','waiting']].to_numpy()"
   ]
  },
  {
   "cell_type": "code",
   "execution_count": 8,
   "metadata": {},
   "outputs": [
    {
     "data": {
      "text/plain": [
       "Text(0.5, 0, 'duration of eruption')"
      ]
     },
     "execution_count": 8,
     "metadata": {},
     "output_type": "execute_result"
    },
    {
     "data": {
      "image/png": "[encoded data removed]",
      "text/plain": [
       "<Figure size 432x288 with 1 Axes>"
      ]
     },
     "metadata": {
      "needs_background": "light"
     },
     "output_type": "display_data"
    }
   ],
   "source": [
    "plt.scatter(X[:,0], X[:,1])\n",
    "plt.ylabel('time between eruptions', fontsize=15)\n",
    "plt.xlabel('duration of eruption', fontsize=15)"
   ]
  },
  {
   "cell_type": "markdown",
   "metadata": {},
   "source": [
    "**Part 1:** Fit a Gaussian Mixture model to the data (with k=2)"
   ]
  },
  {
   "cell_type": "code",
   "execution_count": 10,
   "metadata": {},
   "outputs": [],
   "source": [
    "def evaluate_multivariate_normal(X,mean,cov):\n",
    "    m,n = X.shape\n",
    "    return np.exp(-0.5*np.array([(X[i]-mean).dot((np.linalg.inv(cov)).dot(X[i]-mean))\n",
    "                        for i in range(m)])) /  np.sqrt(np.linalg.det(cov)*(2*np.pi)**n)"
   ]
  },
  {
   "cell_type": "code",
   "execution_count": 16,
   "metadata": {},
   "outputs": [],
   "source": [
    "def em(X,k,max_iter=100):\n",
    "    'expectation-maximization algorithm'\n",
    "    \n",
    "    # size of X\n",
    "    m,n = X.shape\n",
    "    \n",
    "    # initializations\n",
    "    cov = [np.eye(n) for i in range(k)] # identity matrices\n",
    "    mean = X[np.random.choice(m,k,replace=False)] \n",
    "    pi = [1/k for i in range(k)]\n",
    "    \n",
    "    # initialize responsibility matrix\n",
    "    R = np.zeros((m,k))\n",
    "    \n",
    "    # EM iterations\n",
    "    for i in range(max_iter):\n",
    "        # EXPECTATION STEP\n",
    "        for i in range(k):\n",
    "            R[:,i] = evaluate_multivariate_normal(X,mean[i],cov[i])\n",
    "        # multiply by cluster probabilities pi\n",
    "        R = R*pi\n",
    "        # normalize rows\n",
    "        R = R/np.sum(R,axis=1,keepdims=True)\n",
    "        \n",
    "        # MAXIMIZATION STEP\n",
    "        mc = np.sum(R,axis=0)\n",
    "        pi = mc/m\n",
    "        for i in range(k):\n",
    "            # weighted mean\n",
    "            mean[i] = np.average(X,axis=0,weights=R[:,i])\n",
    "            # weighted covariance matrix\n",
    "            cov[i] = np.cov(X,rowvar=False,aweights=R[:,i])\n",
    "    return cov,mean,pi"
   ]
  },
  {
   "cell_type": "code",
   "execution_count": 18,
   "metadata": {},
   "outputs": [],
   "source": [
    "k = 2\n",
    "cov, mean,pi = em(X,k)"
   ]
  },
  {
   "cell_type": "code",
   "execution_count": 19,
   "metadata": {},
   "outputs": [
    {
     "data": {
      "text/plain": [
       "array([[ 4.2896878 , 79.96841278],\n",
       "       [ 2.03642144, 54.47887964]])"
      ]
     },
     "execution_count": 19,
     "metadata": {},
     "output_type": "execute_result"
    }
   ],
   "source": [
    "mean"
   ]
  },
  {
   "cell_type": "code",
   "execution_count": 20,
   "metadata": {},
   "outputs": [
    {
     "data": {
      "text/plain": [
       "[array([[ 0.17091213,  0.94562169],\n",
       "        [ 0.94562169, 36.24895215]]),\n",
       " array([[ 0.06991678,  0.4400356 ],\n",
       "        [ 0.4400356 , 34.05107916]])]"
      ]
     },
     "execution_count": 20,
     "metadata": {},
     "output_type": "execute_result"
    }
   ],
   "source": [
    "cov"
   ]
  },
  {
   "cell_type": "code",
   "execution_count": 21,
   "metadata": {},
   "outputs": [
    {
     "data": {
      "text/plain": [
       "array([0.64411455, 0.35588545])"
      ]
     },
     "execution_count": 21,
     "metadata": {},
     "output_type": "execute_result"
    }
   ],
   "source": [
    "pi"
   ]
  },
  {
   "cell_type": "markdown",
   "metadata": {},
   "source": [
    "**Part 2:** Plot the log probability distribution"
   ]
  },
  {
   "cell_type": "code",
   "execution_count": 22,
   "metadata": {},
   "outputs": [],
   "source": [
    "def plot_log_probability_distribution(X,cov,mean,pi):\n",
    "    \"\"\"\n",
    "    this function plots:\n",
    "        - level curves of the proba. distribution (negative logarithm)\n",
    "        - cluster means\n",
    "        - cluster boundaries\n",
    "    \n",
    "    \"\"\"\n",
    "    from matplotlib.colors import LogNorm  \n",
    "    resolution = 500\n",
    "    \n",
    "    # number of clusters\n",
    "    k = len(pi)\n",
    "    \n",
    "    # create a mesh grid\n",
    "    mins = X.min(axis=0) - 0.1\n",
    "    maxs = X.max(axis=0) + 0.1\n",
    "    xx, yy = np.meshgrid(np.linspace(mins[0], maxs[0], resolution),\n",
    "                         np.linspace(mins[1], maxs[1], resolution))\n",
    "    points = np.c_[xx.ravel(), yy.ravel()]\n",
    "    Rpoints = np.zeros((resolution**2,k))\n",
    "    for i in range(k):\n",
    "        Rpoints[:,i] = evaluate_multivariate_normal(points,mean[i],cov[i])\n",
    "    # multiply by cluster probabilities pi\n",
    "    Rpoints = Rpoints*pi\n",
    "    # sum along columns\n",
    "    prob = -np.log(np.sum(Rpoints,axis=1).reshape(xx.shape))\n",
    "    # cluster prediction\n",
    "    pred = np.argmax(Rpoints,axis=1).reshape(xx.shape)\n",
    "\n",
    "    plt.contourf(xx, yy, prob,\n",
    "                norm=LogNorm(vmin=1.0, vmax=30.0),\n",
    "                     levels=np.logspace(0, 2, 12))\n",
    "\n",
    "    plt.contour(xx, yy, prob,linewidths=1,colors='black',\n",
    "               norm=LogNorm(vmin=1.0, vmax=30.0),\n",
    "                     levels=np.logspace(0, 2, 12))\n",
    "    plt.contour(xx, yy, pred,\n",
    "                    linewidths=2, colors='r', linestyles='dashed')\n",
    "    # plot means\n",
    "    for i in range(k):\n",
    "        plt.scatter(mean[i][0],mean[i][1],\n",
    "                    marker='o', s=20, linewidths=8,\n",
    "                    color='w', zorder=10, alpha=0.9)\n",
    "        plt.scatter(mean[i][0],mean[i][1],\n",
    "                    marker='x', s=50, linewidths=2,\n",
    "                    color='r', zorder=11, alpha=1)\n",
    "\n",
    "    plt.plot(X[:, 0], X[:, 1], 'k.', markersize=2)\n",
    "    plt.colorbar()\n",
    "    plt.title('log probability distribution')"
   ]
  },
  {
   "cell_type": "code",
   "execution_count": 23,
   "metadata": {},
   "outputs": [
    {
     "data": {
      "image/png": "[encoded data removed]",
      "text/plain": [
       "<Figure size 432x288 with 2 Axes>"
      ]
     },
     "metadata": {
      "needs_background": "light"
     },
     "output_type": "display_data"
    }
   ],
   "source": [
    "plot_log_probability_distribution(X,cov,mean,pi)"
   ]
  },
  {
   "cell_type": "markdown",
   "metadata": {},
   "source": [
    "**Part 3:** Sample $m=300$ points from the fiited Gaussian mixture. Plot the sampled points."
   ]
  },
  {
   "cell_type": "code",
   "execution_count": 25,
   "metadata": {},
   "outputs": [],
   "source": [
    "def sample_gaussian_mixture(m,cov,mean,pi):\n",
    "    k = len(mean) # number of gaussian distributions\n",
    "    dist = np.random.choice(k,m,p=pi) # distributions\n",
    "    X = np.zeros((m,2))\n",
    "    for i in range(k):\n",
    "        ni = np.sum(dist==i) # number of points from dist. i\n",
    "        X[dist==i] = np.random.multivariate_normal(mean = mean[i], cov = cov[i], size=ni)\n",
    "    return X"
   ]
  },
  {
   "cell_type": "code",
   "execution_count": 27,
   "metadata": {},
   "outputs": [
    {
     "data": {
      "text/plain": [
       "<matplotlib.collections.PathCollection at 0x17e78b186a0>"
      ]
     },
     "execution_count": 27,
     "metadata": {},
     "output_type": "execute_result"
    },
    {
     "data": {
      "image/png": "[encoded data removed]",
      "text/plain": [
       "<Figure size 432x288 with 1 Axes>"
      ]
     },
     "metadata": {
      "needs_background": "light"
     },
     "output_type": "display_data"
    }
   ],
   "source": [
    "m = 300\n",
    "newX = sample_gaussian_mixture(m,cov,mean,pi)\n",
    "plt.scatter(newX[:,0],newX[:,1])"
   ]
  }
 ],
 "metadata": {
  "kernelspec": {
   "display_name": "Python 3",
   "language": "python",
   "name": "python3"
  },
  "language_info": {
   "codemirror_mode": {
    "name": "ipython",
    "version": 3
   },
   "file_extension": ".py",
   "mimetype": "text/x-python",
   "name": "python",
   "nbconvert_exporter": "python",
   "pygments_lexer": "ipython3",
   "version": "3.8.5"
  }
 },
 "nbformat": 4,
 "nbformat_minor": 4
}
