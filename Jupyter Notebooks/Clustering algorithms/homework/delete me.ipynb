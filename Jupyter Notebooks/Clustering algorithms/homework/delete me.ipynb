{
 "cells": [
  {
   "cell_type": "code",
   "execution_count": 1,
   "metadata": {},
   "outputs": [],
   "source": [
    "import numpy as np"
   ]
  },
  {
   "cell_type": "code",
   "execution_count": 3,
   "metadata": {},
   "outputs": [],
   "source": [
    "X = np.random.randn(10,3)\n",
    "X_new = np.random.randn(5,3)"
   ]
  },
  {
   "cell_type": "code",
   "execution_count": 7,
   "metadata": {},
   "outputs": [
    {
     "data": {
      "text/plain": [
       "(5, 10)"
      ]
     },
     "execution_count": 7,
     "metadata": {},
     "output_type": "execute_result"
    }
   ],
   "source": [
    "X_new.dot(X.T).shape"
   ]
  },
  {
   "cell_type": "code",
   "execution_count": 21,
   "metadata": {},
   "outputs": [],
   "source": [
    "norms = np.linalg.norm(X,axis=1)[None,:]\n",
    "new_norms = np.linalg.norm(X_new,axis=1)[:,None]"
   ]
  },
  {
   "cell_type": "code",
   "execution_count": 19,
   "metadata": {},
   "outputs": [
    {
     "data": {
      "text/plain": [
       "((10,), (5,))"
      ]
     },
     "execution_count": 19,
     "metadata": {},
     "output_type": "execute_result"
    }
   ],
   "source": [
    "norms.shape, new_norms.shape"
   ]
  },
  {
   "cell_type": "code",
   "execution_count": 23,
   "metadata": {},
   "outputs": [
    {
     "data": {
      "text/plain": [
       "array([[-0.41479718,  0.86669562,  0.47071006, -0.14769994,  0.88913265,\n",
       "        -0.29487645, -0.05395353,  0.98846295,  0.81025162,  0.13376668],\n",
       "       [-0.29085333,  0.32046985,  0.43635254,  0.56761582,  0.54048781,\n",
       "         0.32358932,  0.56986569,  0.80557426,  0.20781761,  0.76173239],\n",
       "       [ 0.02656188,  0.76164151,  0.22858268, -0.85439877,  0.3612685 ,\n",
       "        -0.91189815, -0.89949956,  0.24404591,  0.83228555, -0.86068073],\n",
       "       [ 0.20492031, -0.33845594, -0.51206276, -0.59560698, -0.49332436,\n",
       "        -0.27366709, -0.52564773, -0.79883154, -0.22591845, -0.73474566],\n",
       "       [-0.80055463,  0.62295919, -0.23965417, -0.69519909,  0.91388696,\n",
       "        -0.21355513, -0.14464598,  0.60091923,  0.63267523, -0.17070148]])"
      ]
     },
     "execution_count": 23,
     "metadata": {},
     "output_type": "execute_result"
    }
   ],
   "source": [
    "(X_new.dot(X.T)/new_norms)/norms"
   ]
  },
  {
   "cell_type": "code",
   "execution_count": 9,
   "metadata": {},
   "outputs": [],
   "source": [
    "from sklearn.metrics.pairwise import cosine_similarity"
   ]
  },
  {
   "cell_type": "code",
   "execution_count": 12,
   "metadata": {},
   "outputs": [
    {
     "data": {
      "text/plain": [
       "array([[-0.41479718,  0.86669562,  0.47071006, -0.14769994,  0.88913265,\n",
       "        -0.29487645, -0.05395353,  0.98846295,  0.81025162,  0.13376668],\n",
       "       [-0.29085333,  0.32046985,  0.43635254,  0.56761582,  0.54048781,\n",
       "         0.32358932,  0.56986569,  0.80557426,  0.20781761,  0.76173239],\n",
       "       [ 0.02656188,  0.76164151,  0.22858268, -0.85439877,  0.3612685 ,\n",
       "        -0.91189815, -0.89949956,  0.24404591,  0.83228555, -0.86068073],\n",
       "       [ 0.20492031, -0.33845594, -0.51206276, -0.59560698, -0.49332436,\n",
       "        -0.27366709, -0.52564773, -0.79883154, -0.22591845, -0.73474566],\n",
       "       [-0.80055463,  0.62295919, -0.23965417, -0.69519909,  0.91388696,\n",
       "        -0.21355513, -0.14464598,  0.60091923,  0.63267523, -0.17070148]])"
      ]
     },
     "execution_count": 12,
     "metadata": {},
     "output_type": "execute_result"
    }
   ],
   "source": [
    "cosine_similarity(X_new,X)"
   ]
  },
  {
   "cell_type": "code",
   "execution_count": null,
   "metadata": {},
   "outputs": [],
   "source": []
  }
 ],
 "metadata": {
  "kernelspec": {
   "display_name": "Python 3",
   "language": "python",
   "name": "python3"
  },
  "language_info": {
   "codemirror_mode": {
    "name": "ipython",
    "version": 3
   },
   "file_extension": ".py",
   "mimetype": "text/x-python",
   "name": "python",
   "nbconvert_exporter": "python",
   "pygments_lexer": "ipython3",
   "version": "3.7.6"
  }
 },
 "nbformat": 4,
 "nbformat_minor": 4
}
