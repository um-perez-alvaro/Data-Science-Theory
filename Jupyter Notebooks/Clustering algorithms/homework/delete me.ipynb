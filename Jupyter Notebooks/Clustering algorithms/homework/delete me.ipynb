{
 "cells": [
  {
   "cell_type": "code",
   "execution_count": 1,
   "metadata": {},
   "outputs": [],
   "source": [
    "import numpy as np"
   ]
  },
  {
   "cell_type": "code",
   "execution_count": 2,
   "metadata": {},
   "outputs": [],
   "source": [
    "X = np.random.randn(10,3)\n",
    "X_new = np.random.randn(5,3)"
   ]
  },
  {
   "cell_type": "code",
   "execution_count": 3,
   "metadata": {},
   "outputs": [
    {
     "data": {
      "text/plain": [
       "(5, 10)"
      ]
     },
     "execution_count": 3,
     "metadata": {},
     "output_type": "execute_result"
    }
   ],
   "source": [
    "X_new.dot(X.T).shape"
   ]
  },
  {
   "cell_type": "code",
   "execution_count": 4,
   "metadata": {},
   "outputs": [],
   "source": [
    "norms = np.linalg.norm(X,axis=1)[None,:]\n",
    "new_norms = np.linalg.norm(X_new,axis=1)[:,None]"
   ]
  },
  {
   "cell_type": "code",
   "execution_count": 5,
   "metadata": {},
   "outputs": [
    {
     "data": {
      "text/plain": [
       "((1, 10), (5, 1))"
      ]
     },
     "execution_count": 5,
     "metadata": {},
     "output_type": "execute_result"
    }
   ],
   "source": [
    "norms.shape, new_norms.shape"
   ]
  },
  {
   "cell_type": "code",
   "execution_count": 6,
   "metadata": {},
   "outputs": [
    {
     "data": {
      "text/plain": [
       "array([[-0.85212928, -0.73281108,  0.01023749, -0.11459002,  0.28518605,\n",
       "         0.92288908,  0.84411869, -0.25476008, -0.27295939, -0.51238684],\n",
       "       [ 0.44403718,  0.37070621,  0.95468427, -0.85057902, -0.59618483,\n",
       "        -0.30413936, -0.16129545,  0.23012302, -0.86189796,  0.81001947],\n",
       "       [-0.40467726, -0.21656965,  0.41025768, -0.11198194, -0.30947099,\n",
       "         0.87925921,  0.94646607,  0.31450796, -0.33028086,  0.00281801],\n",
       "       [ 0.09250102,  0.01641149, -0.84552083,  0.63799656,  0.49982936,\n",
       "        -0.45193974, -0.56594687, -0.26929   ,  0.79316348, -0.4310311 ],\n",
       "       [-0.40265149, -0.56946776, -0.72418068,  0.08099619,  0.91006226,\n",
       "        -0.32146768, -0.54085259, -0.86535903,  0.25346616, -0.68313531]])"
      ]
     },
     "execution_count": 6,
     "metadata": {},
     "output_type": "execute_result"
    }
   ],
   "source": [
    "(X_new.dot(X.T)/new_norms)/norms"
   ]
  },
  {
   "cell_type": "code",
   "execution_count": 7,
   "metadata": {},
   "outputs": [],
   "source": [
    "from sklearn.metrics.pairwise import cosine_similarity"
   ]
  },
  {
   "cell_type": "code",
   "execution_count": 8,
   "metadata": {},
   "outputs": [
    {
     "data": {
      "text/plain": [
       "array([[0.14787072, 0.26718892, 1.01023749, 0.88540998, 1.28518605,\n",
       "        1.92288908, 1.84411869, 0.74523992, 0.72704061, 0.48761316],\n",
       "       [1.44403718, 1.37070621, 1.95468427, 0.14942098, 0.40381517,\n",
       "        0.69586064, 0.83870455, 1.23012302, 0.13810204, 1.81001947],\n",
       "       [0.59532274, 0.78343035, 1.41025768, 0.88801806, 0.69052901,\n",
       "        1.87925921, 1.94646607, 1.31450796, 0.66971914, 1.00281801],\n",
       "       [1.09250102, 1.01641149, 0.15447917, 1.63799656, 1.49982936,\n",
       "        0.54806026, 0.43405313, 0.73071   , 1.79316348, 0.5689689 ],\n",
       "       [0.59734851, 0.43053224, 0.27581932, 1.08099619, 1.91006226,\n",
       "        0.67853232, 0.45914741, 0.13464097, 1.25346616, 0.31686469]])"
      ]
     },
     "execution_count": 8,
     "metadata": {},
     "output_type": "execute_result"
    }
   ],
   "source": [
    "1+cosine_similarity(X_new,X)"
   ]
  },
  {
   "cell_type": "code",
   "execution_count": null,
   "metadata": {},
   "outputs": [],
   "source": []
  }
 ],
 "metadata": {
  "kernelspec": {
   "display_name": "Python 3",
   "language": "python",
   "name": "python3"
  },
  "language_info": {
   "codemirror_mode": {
    "name": "ipython",
    "version": 3
   },
   "file_extension": ".py",
   "mimetype": "text/x-python",
   "name": "python",
   "nbconvert_exporter": "python",
   "pygments_lexer": "ipython3",
   "version": "3.7.6"
  }
 },
 "nbformat": 4,
 "nbformat_minor": 4
}
