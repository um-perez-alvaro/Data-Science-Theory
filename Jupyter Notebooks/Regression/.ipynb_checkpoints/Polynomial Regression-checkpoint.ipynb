{
 "cells": [
  {
   "cell_type": "code",
   "execution_count": 3,
   "metadata": {},
   "outputs": [],
   "source": [
    "import numpy as np\n",
    "import matplotlib.pyplot as plt"
   ]
  },
  {
   "cell_type": "markdown",
   "metadata": {},
   "source": [
    "# Polynomial Regression"
   ]
  },
  {
   "cell_type": "markdown",
   "metadata": {},
   "source": [
    "In many regression problems the relationship between the input feature $(x)$ and the ouput value $(y)$ is **nonlinear**. \n",
    "In this Jupyter Notebook, you'll learn how to use a linear model to fit nonlinear data."
   ]
  },
  {
   "cell_type": "markdown",
   "metadata": {},
   "source": [
    "**Table of Contents**\n",
    "\n",
    "- [A First Example](#1.-A-First-Example)\n",
    "- [Adding Polynomial Features](#2.-Adding-Polynomial-Features)\n",
    "- [Overfitting](#3.-Overfitting)\n",
    "- [Example: Predicting Body Fat Percentage by Body Mass Index](#4.-Example:-Predicting-Body-Fat-Percentage-by-Body-Mass-Index)"
   ]
  },
  {
   "cell_type": "markdown",
   "metadata": {},
   "source": [
    "## 1. A First Example"
   ]
  },
  {
   "cell_type": "markdown",
   "metadata": {},
   "source": [
    "Let us generate some nonlinear data, based on the cubic equation $-10x^3+2x^2+8x$ (plus some random noise)"
   ]
  },
  {
   "cell_type": "code",
   "execution_count": 6,
   "metadata": {},
   "outputs": [
    {
     "data": {
      "text/plain": [
       "(-5.0, 6.0)"
      ]
     },
     "execution_count": 6,
     "metadata": {},
     "output_type": "execute_result"
    },
    {
     "data": {
      "image/png": "[encoded data removed]",
      "text/plain": [
       "<Figure size 864x504 with 1 Axes>"
      ]
     },
     "metadata": {
      "needs_background": "light"
     },
     "output_type": "display_data"
    }
   ],
   "source": [
    "'generate some nonlinear data'\n",
    "m=50\n",
    "x = -1 + 2*np.random.rand(m)\n",
    "y = -10*x**3+2*x**2+8*x + 0.75*np.random.randn(m)\n",
    "\n",
    "plt.figure(figsize=(12,7))\n",
    "plt.plot(x,y,'o')\n",
    "plt.xlabel('x',fontsize=20)\n",
    "plt.ylabel('y',fontsize=20)\n",
    "plt.xlim([-1,1])\n",
    "plt.ylim([-5,6])"
   ]
  },
  {
   "cell_type": "markdown",
   "metadata": {},
   "source": [
    "Clearly, a straight line will never fit this data properly."
   ]
  },
  {
   "cell_type": "code",
   "execution_count": 17,
   "metadata": {},
   "outputs": [
    {
     "name": "stdout",
     "output_type": "stream",
     "text": [
      "Mean Squared Error: 2.5859842454483246\n"
     ]
    },
    {
     "data": {
      "image/png": "[encoded data removed]",
      "text/plain": [
       "<Figure size 864x504 with 1 Axes>"
      ]
     },
     "metadata": {
      "needs_background": "light"
     },
     "output_type": "display_data"
    }
   ],
   "source": [
    "'build feature matrix'\n",
    "m = len(x)\n",
    "X = np.ones((m,2))\n",
    "X[:,1] = x\n",
    "\n",
    "'fit a line to the model'\n",
    "theta = np.linalg.lstsq(X,y,rcond=None)[0]\n",
    "\n",
    "'plot datapoints'\n",
    "plt.figure(figsize=(12,7))\n",
    "plt.plot(x,y,'o')\n",
    "plt.xlabel('x',fontsize=20)\n",
    "plt.ylabel('y',fontsize=20)\n",
    "\n",
    "'plot line'\n",
    "m_plot = 100\n",
    "x_plot = np.linspace(-1,1,m_plot)\n",
    "X_plot = np.ones((m_plot,2))\n",
    "X_plot[:,1] = x_plot\n",
    "y_plot = X_plot.dot(theta)\n",
    "plt.plot(x_plot,y_plot,'r')\n",
    "'Mean squared error'        \n",
    "MSE = np.sum((y-X.dot(theta))**2)/m\n",
    "\n",
    "print('Mean Squared Error: '+str(MSE))"
   ]
  },
  {
   "cell_type": "markdown",
   "metadata": {},
   "source": [
    "## 2.- Adding Polynomial Features"
   ]
  },
  {
   "cell_type": "markdown",
   "metadata": {},
   "source": [
    "One way to fit nonlinear data is to add powers of the feature $x$ as new features."
   ]
  },
  {
   "cell_type": "markdown",
   "metadata": {},
   "source": [
    "Let us add the square and cubic powers of $x$ to our model:\n",
    "\n",
    "$$\n",
    "y = \\theta_3x^3+\\theta_2x^2+\\theta_1 x+\\theta_0\n",
    "$$"
   ]
  },
  {
   "cell_type": "markdown",
   "metadata": {},
   "source": [
    "The Mean Squared Error becomes\n",
    "\n",
    "$$\n",
    "\\mathrm{MSE} =  \\frac{1}{m}\\sum_{i=1}^m\\left(y_i - (\\theta_3x_i^3 + \\theta_2x_i^2 + \\theta_1 x_i+\\theta_0) \\right)^2 = \\frac{1}{m}\\|y-X\\theta\\|_2^2,\n",
    "$$\n",
    "\n",
    "where feature matrix $X$, the target vector $y$ and the parameter vector $\\theta$ are\n",
    "\n",
    "$$\n",
    "X = \\begin{bmatrix}\n",
    "1 & x_1 & x_1^2 & x_1^3 \\\\\n",
    "1 & x_2 & x_2^2 & x_2^3 \\\\\n",
    "\\vdots & \\vdots & \\vdots & \\vdots \\\\\n",
    "1 & x_m & x_m^2 & x_m^3\n",
    "\\end{bmatrix}, \\quad\n",
    "y = \\begin{bmatrix}\n",
    "y_1\\\\\n",
    "y_2\\\\\n",
    "\\vdots\\\\\n",
    "y_m\n",
    "\\end{bmatrix}, \\quad \\mbox{and} \\quad\n",
    "\\theta = \n",
    "\\begin{bmatrix}\n",
    "\\theta_0\\\\ \\theta_1\\\\ \\theta_2 \\\\ \\theta_3\n",
    "\\end{bmatrix}.\n",
    "$$"
   ]
  },
  {
   "cell_type": "code",
   "execution_count": 20,
   "metadata": {},
   "outputs": [
    {
     "name": "stdout",
     "output_type": "stream",
     "text": [
      "theta_0: -0.009413375808484893\n",
      "theta_1: 9.29045933147534\n",
      "theta_2: 2.317601502887319\n",
      "theta_3: -11.853617414464116\n"
     ]
    }
   ],
   "source": [
    "degree = 3\n",
    "m = len(x)\n",
    "\n",
    "'build feature matrix'\n",
    "X = np.ones((m,1))\n",
    "for i in range(degree):\n",
    "    X = np.c_[X,x**(i+1)]\n",
    "    \n",
    "'best linear model'\n",
    "theta = np.linalg.lstsq(X,y,rcond=None)[0]\n",
    "\n",
    "'print model coefficients'\n",
    "print('theta_0: '+str(theta[0]))\n",
    "print('theta_1: '+str(theta[1]))\n",
    "print('theta_2: '+str(theta[2]))\n",
    "print('theta_3: '+str(theta[3]))"
   ]
  },
  {
   "cell_type": "code",
   "execution_count": null,
   "metadata": {},
   "outputs": [],
   "source": [
    "'plot datapoints + linear model'"
   ]
  },
  {
   "cell_type": "code",
   "execution_count": 9,
   "metadata": {},
   "outputs": [],
   "source": [
    "import ipywidgets as widgets\n",
    "from ipywidgets import interact\n",
    "def interactive_polynomial_model(x,y):\n",
    "    degree_widget = widgets.IntText(value=0,min=0,max=100,step=1,description='model degree')\n",
    "    def plot_model(degree):\n",
    "        m = len(x)\n",
    "        m_plot = 200\n",
    "        x_plot = np.linspace(-1,1,m_plot)        \n",
    "        X_plot = np.ones((m_plot,1))\n",
    "        X = np.ones((m,1))\n",
    "        for i in range(degree):\n",
    "            X = np.c_[X,x**(i+1)]\n",
    "            X_plot = np.c_[X_plot,x_plot**(i+1)]\n",
    "        \n",
    "        theta = np.linalg.lstsq(X,y,rcond=None)[0]\n",
    "        y_plot = X_plot.dot(theta)\n",
    "        \n",
    "        plt.figure(figsize=(12,5))\n",
    "        plt.plot(x,y,'o')\n",
    "        plt.xlim([-1,1])\n",
    "        plt.ylim([-5,6])\n",
    "        plt.plot(x_plot,y_plot,'r',label='linear model')\n",
    "    interact(plot_model,degree=degree_widget)"
   ]
  },
  {
   "cell_type": "code",
   "execution_count": 10,
   "metadata": {
    "scrolled": false
   },
   "outputs": [
    {
     "data": {
      "application/vnd.jupyter.widget-view+json": {
       "model_id": "921f814aa08e420bba85437b55ecdfaf",
       "version_major": 2,
       "version_minor": 0
      },
      "text/plain": [
       "interactive(children=(IntText(value=0, description='model degree'), Output()), _dom_classes=('widget-interact'…"
      ]
     },
     "metadata": {},
     "output_type": "display_data"
    }
   ],
   "source": [
    "interactive_polynomial_model(x,y)"
   ]
  },
  {
   "cell_type": "code",
   "execution_count": null,
   "metadata": {
    "collapsed": true
   },
   "outputs": [],
   "source": []
  }
 ],
 "metadata": {
  "kernelspec": {
   "display_name": "Python 3",
   "language": "python",
   "name": "python3"
  },
  "language_info": {
   "codemirror_mode": {
    "name": "ipython",
    "version": 3
   },
   "file_extension": ".py",
   "mimetype": "text/x-python",
   "name": "python",
   "nbconvert_exporter": "python",
   "pygments_lexer": "ipython3",
   "version": "3.7.6"
  }
 },
 "nbformat": 4,
 "nbformat_minor": 4
}
