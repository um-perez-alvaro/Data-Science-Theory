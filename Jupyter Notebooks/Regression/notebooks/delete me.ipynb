{
 "cells": [
  {
   "cell_type": "code",
   "execution_count": 3,
   "id": "9c7d7b5b",
   "metadata": {},
   "outputs": [],
   "source": [
    "import numpy as np"
   ]
  },
  {
   "cell_type": "code",
   "execution_count": 1,
   "id": "360442cf",
   "metadata": {},
   "outputs": [],
   "source": [
    "from itertools import chain\n",
    "from itertools import combinations_with_replacement as comb_wr"
   ]
  },
  {
   "cell_type": "code",
   "execution_count": 10,
   "id": "1630adbd",
   "metadata": {},
   "outputs": [
    {
     "name": "stdout",
     "output_type": "stream",
     "text": [
      "(0, 0, 0)\n",
      "(0, 0, 1)\n",
      "(0, 1, 1)\n",
      "(1, 1, 1)\n"
     ]
    }
   ],
   "source": [
    "degree = 3\n",
    "combinations = comb_wr(np.arange(2),degree)\n",
    "# we can iterate over the list of combinations\n",
    "for combination in combinations:\n",
    "    print(combination)"
   ]
  },
  {
   "cell_type": "code",
   "execution_count": 12,
   "id": "18c8f929",
   "metadata": {},
   "outputs": [],
   "source": [
    "combinations_0 = comb_wr(np.arange(2),0)\n",
    "combinations_1 = comb_wr(np.arange(2),1)\n",
    "combinations_2 = comb_wr(np.arange(2),2)\n",
    "combinations_3 = comb_wr(np.arange(2),3)\n",
    "combinations = chain.from_iterable([combinations_0,combinations_1,combinations_2,combinations_3])"
   ]
  },
  {
   "cell_type": "code",
   "execution_count": 13,
   "id": "7ff1b749",
   "metadata": {},
   "outputs": [
    {
     "name": "stdout",
     "output_type": "stream",
     "text": [
      "()\n",
      "(0,)\n",
      "(1,)\n",
      "(0, 0)\n",
      "(0, 1)\n",
      "(1, 1)\n",
      "(0, 0, 0)\n",
      "(0, 0, 1)\n",
      "(0, 1, 1)\n",
      "(1, 1, 1)\n"
     ]
    }
   ],
   "source": [
    "for combination in combinations:\n",
    "    print(combination)"
   ]
  },
  {
   "cell_type": "code",
   "execution_count": 14,
   "id": "cae4013b",
   "metadata": {},
   "outputs": [
    {
     "name": "stdout",
     "output_type": "stream",
     "text": [
      "()\n",
      "(0,)\n",
      "(1,)\n",
      "(0, 0)\n",
      "(0, 1)\n",
      "(1, 1)\n",
      "(0, 0, 0)\n",
      "(0, 0, 1)\n",
      "(0, 1, 1)\n",
      "(1, 1, 1)\n"
     ]
    }
   ],
   "source": [
    "# bette way: use list comprehension\n",
    "combinations = chain.from_iterable([comb_wr(np.arange(2),i) for i in range(degree+1)])\n",
    "for combination in combinations:\n",
    "    print(combination)"
   ]
  },
  {
   "cell_type": "code",
   "execution_count": null,
   "id": "f3f9d7da",
   "metadata": {},
   "outputs": [],
   "source": []
  }
 ],
 "metadata": {
  "kernelspec": {
   "display_name": "Python 3 (ipykernel)",
   "language": "python",
   "name": "python3"
  },
  "language_info": {
   "codemirror_mode": {
    "name": "ipython",
    "version": 3
   },
   "file_extension": ".py",
   "mimetype": "text/x-python",
   "name": "python",
   "nbconvert_exporter": "python",
   "pygments_lexer": "ipython3",
   "version": "3.9.12"
  }
 },
 "nbformat": 4,
 "nbformat_minor": 5
}
