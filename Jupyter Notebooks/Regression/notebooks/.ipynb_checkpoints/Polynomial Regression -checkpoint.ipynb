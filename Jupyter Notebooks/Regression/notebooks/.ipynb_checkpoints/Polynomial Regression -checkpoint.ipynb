{
 "cells": [
  {
   "cell_type": "code",
   "execution_count": null,
   "metadata": {},
   "outputs": [],
   "source": [
    "import numpy as np\n",
    "import matplotlib.pyplot as plt\n",
    "import pandas as pd"
   ]
  },
  {
   "cell_type": "markdown",
   "metadata": {},
   "source": [
    "# Polynomial Regression"
   ]
  },
  {
   "cell_type": "markdown",
   "metadata": {},
   "source": [
    "In many regression problems the relationship between the input feature $(x)$ and the ouput value $(y)$ is **nonlinear**. \n",
    "In this Jupyter Notebook, you'll learn how to use a linear model to fit nonlinear data."
   ]
  },
  {
   "cell_type": "markdown",
   "metadata": {},
   "source": [
    "**Table of Contents**\n",
    "\n",
    "- [A Toy Dataset](#1.-A-First-Example)\n",
    "- [Adding Polynomial Features](#2.-Adding-Polynomial-Features)\n",
    "- [Predicting house prices revisited](#3.-Predicting-house-prices-revisited)"
   ]
  },
  {
   "cell_type": "markdown",
   "metadata": {},
   "source": [
    "## 1. A Toy Dataset"
   ]
  },
  {
   "cell_type": "markdown",
   "metadata": {},
   "source": [
    "Let us generate some nonlinear data, based on the cubic equation $-10x^3+2x^2+8x$ (plus some random noise)"
   ]
  },
  {
   "cell_type": "code",
   "execution_count": null,
   "metadata": {},
   "outputs": [],
   "source": [
    "'generate some nonlinear data'\n",
    "m=50\n",
    "x = -1 + 2*np.random.rand(m)\n",
    "y = -10*x**3+2*x**2+8*x + 0.75*np.random.randn(m)\n",
    "\n",
    "plt.figure(figsize=(12,7))\n",
    "plt.plot(x,y,'o')\n",
    "plt.xlabel('x',fontsize=20)\n",
    "plt.ylabel('y',fontsize=20)\n",
    "plt.xlim([-1,1])\n",
    "plt.ylim([-5,6])"
   ]
  },
  {
   "cell_type": "markdown",
   "metadata": {},
   "source": [
    "Clearly, a straight line will never fit this data properly."
   ]
  },
  {
   "cell_type": "code",
   "execution_count": null,
   "metadata": {},
   "outputs": [],
   "source": [
    "'build feature matrix'\n",
    "m = len(x)\n",
    "X = np.ones((m,2))\n",
    "X[:,1] = x\n",
    "\n",
    "'fit a line to the model'\n",
    "theta = np.linalg.solve(X.T.dot(X),X.T.dot(y))\n",
    "\n",
    "'plot datapoints'\n",
    "plt.figure(figsize=(12,7))\n",
    "plt.plot(x,y,'o')\n",
    "plt.xlabel('x',fontsize=20)\n",
    "plt.ylabel('y',fontsize=20)\n",
    "\n",
    "'plot line'\n",
    "m_plot = 100\n",
    "x_plot = np.linspace(-1,1,m_plot)\n",
    "X_plot = np.ones((m_plot,2))\n",
    "X_plot[:,1] = x_plot\n",
    "y_plot = X_plot.dot(theta)\n",
    "plt.plot(x_plot,y_plot,'r')\n",
    "'Mean squared error'        \n",
    "MSE = np.linalg.norm(y-X.dot(theta))**2/m\n",
    "\n",
    "print('Mean Squared Error: '+str(MSE))"
   ]
  },
  {
   "cell_type": "markdown",
   "metadata": {},
   "source": [
    "## 2.- Adding Polynomial Features"
   ]
  },
  {
   "cell_type": "markdown",
   "metadata": {},
   "source": [
    "One way to fit nonlinear data is to add powers of the feature $x$ as new features."
   ]
  },
  {
   "cell_type": "markdown",
   "metadata": {},
   "source": [
    "Let us add the square and cubic powers of $x$ to our model:\n",
    "\n",
    "$$\n",
    "y = \\theta_3x^3+\\theta_2x^2+\\theta_1 x+\\theta_0\n",
    "$$"
   ]
  },
  {
   "cell_type": "markdown",
   "metadata": {},
   "source": [
    "The Mean Squared Error becomes\n",
    "\n",
    "$$\n",
    "\\mathrm{MSE} =  \\frac{1}{m}\\sum_{i=1}^m\\left(y_i - (\\theta_3x_i^3 + \\theta_2x_i^2 + \\theta_1 x_i+\\theta_0) \\right)^2 = \\frac{1}{m}\\|y-X\\theta\\|_2^2,\n",
    "$$\n",
    "\n",
    "where feature matrix $X$, the target vector $y$ and the parameter vector $\\theta$ are\n",
    "\n",
    "$$\n",
    "X = \\begin{bmatrix}\n",
    "1 & x_1 & x_1^2 & x_1^3 \\\\\n",
    "1 & x_2 & x_2^2 & x_2^3 \\\\\n",
    "\\vdots & \\vdots & \\vdots & \\vdots \\\\\n",
    "1 & x_m & x_m^2 & x_m^3\n",
    "\\end{bmatrix}, \\quad\n",
    "y = \\begin{bmatrix}\n",
    "y_1\\\\\n",
    "y_2\\\\\n",
    "\\vdots\\\\\n",
    "y_m\n",
    "\\end{bmatrix}, \\quad \\mbox{and} \\quad\n",
    "\\theta = \n",
    "\\begin{bmatrix}\n",
    "\\theta_0\\\\ \\theta_1\\\\ \\theta_2 \\\\ \\theta_3\n",
    "\\end{bmatrix}.\n",
    "$$"
   ]
  },
  {
   "cell_type": "code",
   "execution_count": null,
   "metadata": {},
   "outputs": [],
   "source": [
    "degree = 3\n",
    "m = len(x)\n",
    "\n",
    "'build feature matrix'\n",
    "X = np.ones((m,degree+1))\n",
    "for i in range(degree):\n",
    "    X[:,i+1] = x**(i+1)\n",
    "    \n",
    "'best linear model'\n",
    "theta = np.linalg.solve(X.T.dot(X),X.T.dot(y))\n",
    "\n",
    "'print model coefficients'\n",
    "print('theta_0: '+str(theta[0]))\n",
    "print('theta_1: '+str(theta[1]))\n",
    "print('theta_2: '+str(theta[2]))\n",
    "print('theta_3: '+str(theta[3]))"
   ]
  },
  {
   "cell_type": "code",
   "execution_count": null,
   "metadata": {},
   "outputs": [],
   "source": [
    "'plot datapoints + linear model'\n",
    "\n",
    "'plot datapoints'\n",
    "plt.figure(figsize=(12,7))\n",
    "plt.plot(x,y,'o')\n",
    "plt.xlabel('x',fontsize=20)\n",
    "plt.ylabel('y',fontsize=20)\n",
    "\n",
    "'plot linear model'\n",
    "m_plot = 100\n",
    "x_plot = np.linspace(-1,1,m_plot)        \n",
    "X_plot = np.ones((m_plot,degree+1))\n",
    "for i in range(degree):\n",
    "    X_plot[:,i+1] = x_plot**(i+1)\n",
    "y_plot = X_plot.dot(theta) # evaluate the polynomial regression model at x_plot\n",
    "plt.plot(x_plot,y_plot,'r',label='linear model')\n",
    "\n",
    "'Mean Squared Error'\n",
    "MSE = np.linalg.norm(y-X.dot(theta))**2/m\n",
    "print('Mean Squared Error: '+str(MSE))"
   ]
  },
  {
   "cell_type": "markdown",
   "metadata": {
    "collapsed": true
   },
   "source": [
    "## 3. Predicting house prices revisited"
   ]
  },
  {
   "cell_type": "markdown",
   "metadata": {},
   "source": [
    "### Example 1"
   ]
  },
  {
   "cell_type": "code",
   "execution_count": null,
   "metadata": {},
   "outputs": [],
   "source": [
    "# load data as a pandas dataframe\n",
    "url = 'https://raw.githubusercontent.com/um-perez-alvaro/Data-Science-Theory/master/Data/HousePrice.csv'\n",
    "data = pd.read_csv(url)\n",
    "data"
   ]
  },
  {
   "cell_type": "code",
   "execution_count": null,
   "metadata": {},
   "outputs": [],
   "source": [
    "# figure size\n",
    "plt.figure(figsize=(12,7))\n",
    "\n",
    "# plot price as a function of toal area\n",
    "plt.scatter(data['TotalArea'],data['SalePrice'])\n",
    "\n",
    "# axis labels\n",
    "plt.xlabel('Area', fontsize=15)\n",
    "plt.ylabel('price', fontsize=15)\n",
    "\n",
    "# axis grid\n",
    "plt.grid(True)"
   ]
  },
  {
   "cell_type": "markdown",
   "metadata": {},
   "source": [
    "Let us fit the linear model\n",
    "\n",
    "$$\n",
    "  \\mbox{price} =\\theta_0 + \\theta_1 \\cdot \\mbox{area}+\\theta_2\\cdot\\mbox{area}^2,\n",
    "$$"
   ]
  },
  {
   "cell_type": "code",
   "execution_count": null,
   "metadata": {},
   "outputs": [],
   "source": [
    "x = data['TotalArea'].to_numpy()\n",
    "y = data['SalePrice'].to_numpy()\n",
    "m = len(data)\n",
    "\n",
    "# build feature matrix\n",
    "degree=2\n",
    "\n",
    "X = np.ones((m,degree+1))\n",
    "for i in range(degree):\n",
    "    X[:,i+1] = x**(i+1)\n",
    "\n",
    "# fit linear model\n",
    "theta = np.linalg.lstsq(X,y,rcond=None)[0]\n",
    "\n",
    "# plot data points\n",
    "plt.figure(figsize=(15,5))\n",
    "plt.plot(x,y,'o')\n",
    "\n",
    "# plot linear model\n",
    "m_plot = 100\n",
    "x_plot = np.linspace(0, 5000, m_plot) \n",
    "X_plot = np.ones((m_plot,degree+1))\n",
    "for i in range(degree):\n",
    "    X_plot[:,i+1]=x_plot**(i+1)\n",
    "y_plot = X_plot.dot(theta)\n",
    "plt.plot(x_plot,y_plot,'r-')\n",
    "\n"
   ]
  },
  {
   "cell_type": "code",
   "execution_count": null,
   "metadata": {},
   "outputs": [],
   "source": [
    "# predictions\n",
    "y_pred = X.dot(theta)"
   ]
  },
  {
   "cell_type": "code",
   "execution_count": null,
   "metadata": {},
   "outputs": [],
   "source": [
    "# mean squared error\n",
    "mse = np.mean((y-y_pred)**2)\n",
    "np.sqrt(mse)"
   ]
  },
  {
   "cell_type": "code",
   "execution_count": null,
   "metadata": {},
   "outputs": [],
   "source": [
    "# plot y against y_pred\n",
    "plt.scatter(y,y_pred)\n",
    "plt.xlabel('actual price', fontsize=15)\n",
    "plt.ylabel('predicted price', fontsize=15)\n",
    "\n",
    "# ideal predictions y = y_pred\n",
    "plt.plot([0,600000],[0,600000],'--',color='red')"
   ]
  },
  {
   "cell_type": "markdown",
   "metadata": {},
   "source": [
    "### Example 2"
   ]
  },
  {
   "cell_type": "code",
   "execution_count": null,
   "metadata": {},
   "outputs": [],
   "source": [
    "X = data[['TotalArea','YearBuilt']].to_numpy()"
   ]
  },
  {
   "cell_type": "code",
   "execution_count": null,
   "metadata": {},
   "outputs": [],
   "source": [
    "# number of data points (rows), number of features (columns)\n",
    "m,n = X.shape"
   ]
  },
  {
   "cell_type": "markdown",
   "metadata": {},
   "source": [
    "Let us add polynomial features"
   ]
  },
  {
   "cell_type": "code",
   "execution_count": null,
   "metadata": {},
   "outputs": [],
   "source": [
    "from itertools import chain\n",
    "from itertools import combinations_with_replacement as comb_w_r"
   ]
  },
  {
   "cell_type": "code",
   "execution_count": null,
   "metadata": {},
   "outputs": [],
   "source": [
    "# degree 3 polynomial features\n",
    "degree = 3\n",
    "combinations = comb_w_r(range(n),degree)\n",
    "for combination in combinations:\n",
    "    print(combination)"
   ]
  },
  {
   "cell_type": "code",
   "execution_count": null,
   "metadata": {},
   "outputs": [],
   "source": [
    "# degree 0 + degree 1 + degree 2 + degree 3 polynomial features\n",
    "combinations = chain.from_iterable(comb_w_r(range(n), i) for i in range(degree+1))\n",
    "for combination in combinations:\n",
    "     print(combination)"
   ]
  },
  {
   "cell_type": "code",
   "execution_count": null,
   "metadata": {},
   "outputs": [],
   "source": [
    "# number of polynomial features\n",
    "combinations = chain.from_iterable(comb_w_r(range(n), i) for i in range(degree+1))\n",
    "n_poly = sum(1 for combination in combinations)\n",
    "n_poly"
   ]
  },
  {
   "cell_type": "code",
   "execution_count": null,
   "metadata": {},
   "outputs": [],
   "source": [
    "def build_poly_features(X,degree):\n",
    "    from itertools import combinations_with_replacement as comb_w_r\n",
    "    from itertools import chain\n",
    "    \n",
    "    # number of datapoints (rows), number of features (columns)\n",
    "    try:\n",
    "        m,n = X.shape # this won't work if X is a vector (n=1 features)\n",
    "    except: \n",
    "        m = len(X)\n",
    "        n = 1\n",
    "        X = X.reshape(m,1) #  \n",
    "    \n",
    "    # number of polynomial features\n",
    "    combinations = chain.from_iterable(comb_w_r(range(n),i) for i in range(degree+1))\n",
    "    n_poly = sum(1 for combination in combinations) \n",
    "    \n",
    "    # polynomial features matrix\n",
    "    X_poly = np.ones((m,n_poly))\n",
    "    combinations = chain.from_iterable(comb_w_r(range(n),i) for i in range(degree+1))\\\n",
    "    \n",
    "    \n",
    "    for column_index, combination in enumerate(combinations):\n",
    "        X_poly[:,column_index] = np.prod(X[:,combination],axis=1)\n",
    "        \n",
    "    return X_poly"
   ]
  },
  {
   "cell_type": "code",
   "execution_count": null,
   "metadata": {},
   "outputs": [],
   "source": [
    "# polynomial features matrix\n",
    "X_poly = get_polynomial_features(X,degree=2)"
   ]
  },
  {
   "cell_type": "code",
   "execution_count": null,
   "metadata": {},
   "outputs": [],
   "source": [
    "# fit linear model\n",
    "theta = np.linalg.lstsq(X_poly,y,rcond=None)[0]"
   ]
  },
  {
   "cell_type": "code",
   "execution_count": null,
   "metadata": {},
   "outputs": [],
   "source": [
    "theta"
   ]
  },
  {
   "cell_type": "code",
   "execution_count": null,
   "metadata": {},
   "outputs": [],
   "source": [
    "# EXTRA: plot fitted model + data points\n",
    "fig = plt.figure(figsize=(10,10))\n",
    "# 3d axes\n",
    "ax = fig.add_subplot(projection='3d')\n",
    "\n",
    "\n",
    "# linear model\n",
    "m_plot = 100\n",
    "x1_plot = np.linspace(0,5000,m_plot) # area\n",
    "x2_plot = np.linspace(1880,2010,m_plot) # construction date\n",
    "X1_plot,X2_plot = np.meshgrid(x1_plot,x2_plot)\n",
    "\n",
    "X_plot = np.ones((m_plot*m_plot,2))\n",
    "X_plot[:,0] = X1_plot.flatten()\n",
    "X_plot[:,1] = X2_plot.flatten()\n",
    "X_poly_plot = get_polynomial_features(X_plot,degree=2)\n",
    "Y_plot = X_poly_plot.dot(theta).reshape((m_plot,m_plot))\n",
    "\n",
    "ax.plot_surface(X1_plot,X2_plot,Y_plot,alpha=0.5,cmap='viridis')#,alpha=0.5,cmap='viridis',rstride=10, cstride=10)\n",
    "\n",
    "# data points\n",
    "ax.scatter(data['TotalArea'],data['YearBuilt'],data['SalePrice'])\n",
    "\n",
    "# change view\n",
    "ax.view_init(elev=10, azim=-80) \n",
    "\n",
    "# axis labels\n",
    "ax.set_xlabel('area',fontsize=15)\n",
    "ax.set_ylabel('construction date',fontsize=15)\n",
    "ax.set_zlabel('price',fontsize=15)"
   ]
  },
  {
   "cell_type": "code",
   "execution_count": null,
   "metadata": {},
   "outputs": [],
   "source": [
    "y_pred = X_poly.dot(theta)"
   ]
  },
  {
   "cell_type": "code",
   "execution_count": null,
   "metadata": {},
   "outputs": [],
   "source": [
    "# mean squared error\n",
    "mse = np.mean((y-y_pred)**2)\n",
    "np.sqrt(mse)"
   ]
  },
  {
   "cell_type": "code",
   "execution_count": null,
   "metadata": {},
   "outputs": [],
   "source": [
    "# plot y against y_pred\n",
    "plt.scatter(y,y_pred)\n",
    "plt.xlabel('actual price', fontsize=15)\n",
    "plt.ylabel('predicted price', fontsize=15)\n",
    "\n",
    "# ideal predictions y = y_pred\n",
    "plt.plot([0,600000],[0,600000],'--',color='red')"
   ]
  },
  {
   "cell_type": "code",
   "execution_count": null,
   "metadata": {},
   "outputs": [],
   "source": []
  }
 ],
 "metadata": {
  "kernelspec": {
   "display_name": "Python 3",
   "language": "python",
   "name": "python3"
  },
  "language_info": {
   "codemirror_mode": {
    "name": "ipython",
    "version": 3
   },
   "file_extension": ".py",
   "mimetype": "text/x-python",
   "name": "python",
   "nbconvert_exporter": "python",
   "pygments_lexer": "ipython3",
   "version": "3.8.3"
  }
 },
 "nbformat": 4,
 "nbformat_minor": 4
}
