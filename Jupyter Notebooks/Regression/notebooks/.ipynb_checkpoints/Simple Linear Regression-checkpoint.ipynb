{
 "cells": [
  {
   "cell_type": "code",
   "execution_count": 1,
   "metadata": {},
   "outputs": [],
   "source": [
    "import numpy as np\n",
    "import matplotlib.pyplot as plt\n",
    "import examples\n",
    "import pandas as pd"
   ]
  },
  {
   "cell_type": "markdown",
   "metadata": {},
   "source": [
    "# Simple Linear Regression"
   ]
  },
  {
   "cell_type": "markdown",
   "metadata": {},
   "source": [
    "**Linear regression** attempts to model the relationship between two variables ($x$ and $y$) by fitting a linear equation $y = \\theta_1 x+\\theta_0$ to observed data.\n",
    "One variable is considered to be an explanatory variable ($x)$, and the other is considered to be a dependent variable ($y$). \n",
    "Linear regression is used to predict values within a continuous range, (e.g. sales, price)"
   ]
  },
  {
   "cell_type": "markdown",
   "metadata": {},
   "source": [
    "**Table of Contents**\n",
    "\n",
    "- [A Toy Example](#1.-A-First-Example)\n",
    "- [The Mean Squared Error](#2.-The-Mean-Squared-Error)\n",
    "- [Minimizing the MSE: The Normal Equations](#3.-Minimizing-the-MSE:-The-Normal-Equations)\n",
    "- [Making Predictions](#4.-Making-Predictions)\n",
    "- [Example: The World Happiness Report](#5.-Example:-The-World-Happiness-Report)"
   ]
  },
  {
   "cell_type": "markdown",
   "metadata": {},
   "source": [
    "## 1. A Toy Example"
   ]
  },
  {
   "cell_type": "markdown",
   "metadata": {},
   "source": [
    "The following cell generates (and plots) a linear-looking dataset"
   ]
  },
  {
   "cell_type": "code",
   "execution_count": 2,
   "metadata": {
    "cell_style": "center"
   },
   "outputs": [
    {
     "data": {
      "text/plain": [
       "<matplotlib.legend.Legend at 0x170ebcb48c8>"
      ]
     },
     "execution_count": 2,
     "metadata": {},
     "output_type": "execute_result"
    },
    {
     "data": {
      "image/png": "[encoded data removed]",
      "text/plain": [
       "<Figure size 720x360 with 1 Axes>"
      ]
     },
     "metadata": {
      "needs_background": "light"
     },
     "output_type": "display_data"
    }
   ],
   "source": [
    "'generate and plot a toy dataset'\n",
    "m = 20 # number of points\n",
    "x = -1 + 2*np.random.rand(m) # m random points over the interval [-1,1]\n",
    "y = 2*x+1+0.25*np.random.randn(m) # y = 2x+1 + random noise\n",
    "plt.figure(figsize=(10,5)) \n",
    "plt.plot(x,y,'o', label='data')\n",
    "plt.xlim([-1,1])\n",
    "plt.ylim([-1.5,3.5])\n",
    "plt.xlabel('x',fontsize=20)\n",
    "plt.ylabel('y',fontsize=20)\n",
    "plt.title('A linear-looking dataset',fontsize=20)\n",
    "plt.legend(fontsize=15, loc='upper left')"
   ]
  },
  {
   "cell_type": "markdown",
   "metadata": {
    "cell_style": "center"
   },
   "source": [
    "The plot shows that the two variables $x$ and $y$ are roughly correlated: the larger $x$ is, the larger $y$ is. We can quantify this by attempting to fit a linear model\n",
    "\n",
    "$$\n",
    "y = \\theta_1 x+\\theta_0\n",
    "$$\n",
    "\n",
    "In order to find a good linear model for our data, we need a measure of how well (or poorly) a model fits the data. The most common performance measure is the **Mean Squared Error** (MSE):\n",
    "\n",
    "$$\n",
    "\\mathrm{MSE} = \\frac{1}{m}\\sum_{i=1}^m\\left(y_i - (\\theta_1 x_i+\\theta_0) \\right)^2\n",
    "$$\n"
   ]
  },
  {
   "cell_type": "markdown",
   "metadata": {
    "cell_style": "center"
   },
   "source": [
    "The cell below displays the MSE of a linear model. \n",
    "You can change interactively the slope ($\\theta_1$) and the bias ($\\theta_0$) of the model."
   ]
  },
  {
   "cell_type": "code",
   "execution_count": 3,
   "metadata": {
    "cell_style": "center"
   },
   "outputs": [
    {
     "data": {
      "application/vnd.jupyter.widget-view+json": {
       "model_id": "a2f34df74c704617994ad2bd7e4f5583",
       "version_major": 2,
       "version_minor": 0
      },
      "text/plain": [
       "interactive(children=(FloatText(value=-1.0, description='theta1 (slope)', step=0.1), FloatText(value=0.0, desc…"
      ]
     },
     "metadata": {},
     "output_type": "display_data"
    }
   ],
   "source": [
    "from examples import interactive_example\n",
    "interactive_example(x,y)"
   ]
  },
  {
   "cell_type": "markdown",
   "metadata": {},
   "source": [
    "## 2. The Mean Squared Error"
   ]
  },
  {
   "cell_type": "markdown",
   "metadata": {},
   "source": [
    "Using **Linear Algebra** notation, the MSE can be written more concisely as\n",
    "\n",
    "$$ \n",
    "\\mathrm{MSE} = \\frac{1}{m}\\|y-X\\theta\\|_2^2\n",
    "$$\n",
    "\n",
    "where\n",
    "\n",
    "$$\n",
    "X = \\begin{bmatrix}\n",
    "1 & x_1\\\\\n",
    "1 & x_2\\\\\n",
    "\\vdots & \\vdots \\\\\n",
    "1 & x_m\n",
    "\\end{bmatrix}, \\quad\n",
    "y = \\begin{bmatrix}\n",
    "y_1\\\\\n",
    "y_2\\\\\n",
    "\\vdots\\\\\n",
    "y_m\n",
    "\\end{bmatrix}, \\quad \\mbox{and} \\quad\n",
    "\\theta = \n",
    "\\begin{bmatrix}\n",
    "\\theta_0\\\\ \\theta_1\n",
    "\\end{bmatrix}.\n",
    "$$\n",
    "\n",
    "The matrix $X$ is called the **feature matrix** and the vector $y$ is called the **target vector**. \n",
    "The vector $\\theta$ contains the parameters of the linear model (the slope $\\theta_1$ and the bias $\\theta_0$)."
   ]
  },
  {
   "cell_type": "code",
   "execution_count": 4,
   "metadata": {},
   "outputs": [],
   "source": [
    "'build feature matrix'\n",
    "m = len(x)\n",
    "X = np.ones((m,2))\n",
    "X[:,1] = x"
   ]
  },
  {
   "cell_type": "code",
   "execution_count": null,
   "metadata": {},
   "outputs": [],
   "source": [
    "X"
   ]
  },
  {
   "cell_type": "markdown",
   "metadata": {},
   "source": [
    "The image below displays the MSE function."
   ]
  },
  {
   "cell_type": "code",
   "execution_count": null,
   "metadata": {
    "scrolled": true
   },
   "outputs": [],
   "source": [
    "examples.plot_mse(x,y)"
   ]
  },
  {
   "cell_type": "code",
   "execution_count": null,
   "metadata": {},
   "outputs": [],
   "source": [
    "'MSE function implementation'\n",
    "def MSE(X,y,theta):\n",
    "    MSE = np.sum((y-X.dot(theta))**2)/m\n",
    "    return MSE"
   ]
  },
  {
   "cell_type": "code",
   "execution_count": null,
   "metadata": {},
   "outputs": [],
   "source": [
    "MSE(X,y,np.array([4,2]))"
   ]
  },
  {
   "cell_type": "markdown",
   "metadata": {},
   "source": [
    "## 3. Minimizing the MSE: The Normal Equations"
   ]
  },
  {
   "cell_type": "markdown",
   "metadata": {},
   "source": [
    "To find the line that best fits the datapoints, we need to find the parameters $\\theta_0$, $\\theta_1$ that minimizes the MSE \n",
    "cost function.\n",
    "\n",
    "$$\n",
    "\\min_\\theta \\|y-X\\theta\\|_2^2.\n",
    "$$"
   ]
  },
  {
   "cell_type": "markdown",
   "metadata": {},
   "source": [
    "This is an example of a **least squares problem**. \n",
    "From Linear Algebra, we know that the (unique) vector $\\theta$ that minimizes $\\|y-X\\theta\\|_2^2$ satisfies the **normal equations**\n",
    "\n",
    "$$\n",
    "X^TX\\, \\theta = X^Ty.\n",
    "$$"
   ]
  },
  {
   "cell_type": "markdown",
   "metadata": {},
   "source": [
    "Numpy has a built-in function for solving least squares problems: $\\tt numpy.linalg.lstsq$ ([referenge page](https://numpy.org/doc/stable/reference/generated/numpy.linalg.lstsq.html))"
   ]
  },
  {
   "cell_type": "code",
   "execution_count": null,
   "metadata": {},
   "outputs": [],
   "source": [
    "'best parameters'\n",
    "theta = np.linalg.lstsq(X,y,rcond=None)[0]\n",
    "theta"
   ]
  },
  {
   "cell_type": "code",
   "execution_count": null,
   "metadata": {},
   "outputs": [],
   "source": [
    "'means squared error'\n",
    "MSE(X,y,theta)"
   ]
  },
  {
   "cell_type": "code",
   "execution_count": null,
   "metadata": {
    "scrolled": true
   },
   "outputs": [],
   "source": [
    "' plot datapoints + best linear model'\n",
    "plt.figure(figsize=(10,5)) \n",
    "'plot datapoints'\n",
    "plt.plot(x,y,'o', label='data')\n",
    "plt.xlim([-1,1])\n",
    "plt.ylim([-1.5,3.5])\n",
    "plt.xlabel('x',fontsize=20)\n",
    "plt.ylabel('y',fontsize=20)\n",
    "\n",
    "'plot line'\n",
    "m_plot = 100\n",
    "x_plot = np.linspace(-1,1,m_plot)\n",
    "X_plot = np.ones((m_plot,2))\n",
    "X_plot[:,1] = x_plot\n",
    "y_plot = X_plot.dot(theta)\n",
    "plt.plot(x_plot,y_plot,'r', label='best linear model')\n",
    "\n",
    "plt.legend(fontsize=15, loc='upper left')"
   ]
  },
  {
   "cell_type": "markdown",
   "metadata": {},
   "source": [
    "## 4. Making Predictions"
   ]
  },
  {
   "cell_type": "markdown",
   "metadata": {},
   "source": [
    "We can now predict the output $y_{\\rm new}$ of a new inmput feature $x_{\\rm new}$ by simply plugging the new input into the tuned linear model:\n",
    "\n",
    "$$\n",
    "y_{\\rm new} = \\theta_1 x_{\\rm new} + \\theta_0\n",
    "$$"
   ]
  },
  {
   "cell_type": "code",
   "execution_count": null,
   "metadata": {},
   "outputs": [],
   "source": [
    "from examples import interactive_prediction\n",
    "interactive_prediction(x,y)"
   ]
  },
  {
   "cell_type": "markdown",
   "metadata": {},
   "source": [
    "## 5. Example: The World Happiness Report"
   ]
  },
  {
   "cell_type": "markdown",
   "metadata": {},
   "source": [
    "The **World Happiness 2017** dataset, which ranks 155 countries by their happiness levels, was released at the United Nations at an event celebrating International Day of Happiness on March 20th."
   ]
  },
  {
   "cell_type": "code",
   "execution_count": null,
   "metadata": {},
   "outputs": [],
   "source": [
    "data = pd.read_csv('2017.csv')\n",
    "data.head()"
   ]
  },
  {
   "cell_type": "code",
   "execution_count": null,
   "metadata": {},
   "outputs": [],
   "source": [
    "data.columns"
   ]
  },
  {
   "cell_type": "markdown",
   "metadata": {},
   "source": [
    "The happiness scores and rankings use data from the Gallup World Poll. The scores are based on answers to the main life evaluation question asked in the poll. This question, known as the Cantril ladder, asks respondents to think of a ladder with the best possible life for them being a 10 and the worst possible life being a 0 and to rate their own current lives on that scale. "
   ]
  },
  {
   "cell_type": "markdown",
   "metadata": {},
   "source": [
    "The goal is to use the GDP per Capita to predict the Happiness Score"
   ]
  },
  {
   "cell_type": "code",
   "execution_count": null,
   "metadata": {},
   "outputs": [],
   "source": [
    "x = data['Economy..GDP.per.Capita.'].to_numpy()\n",
    "y = data['Happiness.Score'].to_numpy()"
   ]
  },
  {
   "cell_type": "code",
   "execution_count": null,
   "metadata": {},
   "outputs": [],
   "source": [
    "plt.figure(figsize=(12,7))\n",
    "plt.plot(x,y,'o')\n",
    "plt.xlabel('GDP per Capita',fontsize=20)\n",
    "plt.ylabel('Happiness Score',fontsize=20)"
   ]
  },
  {
   "cell_type": "code",
   "execution_count": null,
   "metadata": {},
   "outputs": [],
   "source": [
    "'build feature matrix'\n",
    "m = len(x)\n",
    "X = np.ones((m,2))\n",
    "X[:,1] = x\n",
    "\n",
    "'fit a line to the model'\n",
    "theta = np.linalg.lstsq(X,y,rcond=None)[0]\n",
    "\n",
    "'plot datapoints'\n",
    "plt.figure(figsize=(12,7))\n",
    "plt.plot(x,y,'o')\n",
    "plt.xlabel('GDP per Capita',fontsize=20)\n",
    "plt.ylabel('Happiness Score',fontsize=20)\n",
    "\n",
    "'plot line'\n",
    "m_plot = 100\n",
    "x_plot = np.linspace(0,2,m_plot)\n",
    "X_plot = np.ones((m_plot,2))\n",
    "X_plot[:,1] = x_plot\n",
    "y_plot = X_plot.dot(theta)\n",
    "plt.plot(x_plot,y_plot,'r', label='best linear model')\n",
    "\n",
    "plt.legend(fontsize=15, loc='upper left')"
   ]
  }
 ],
 "metadata": {
  "kernelspec": {
   "display_name": "Python 3",
   "language": "python",
   "name": "python3"
  },
  "language_info": {
   "codemirror_mode": {
    "name": "ipython",
    "version": 3
   },
   "file_extension": ".py",
   "mimetype": "text/x-python",
   "name": "python",
   "nbconvert_exporter": "python",
   "pygments_lexer": "ipython3",
   "version": "3.7.6"
  }
 },
 "nbformat": 4,
 "nbformat_minor": 4
}
