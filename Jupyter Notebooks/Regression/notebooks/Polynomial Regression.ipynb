{
 "cells": [
  {
   "cell_type": "code",
   "execution_count": 1,
   "metadata": {},
   "outputs": [],
   "source": [
    "import numpy as np\n",
    "import matplotlib.pyplot as plt\n",
    "import examples"
   ]
  },
  {
   "cell_type": "markdown",
   "metadata": {},
   "source": [
    "# Polynomial Regression"
   ]
  },
  {
   "cell_type": "markdown",
   "metadata": {},
   "source": [
    "In many regression problems the relationship between the input feature $(x)$ and the ouput value $(y)$ is **nonlinear**. \n",
    "In this Jupyter Notebook, you'll learn how to use a linear model to fit nonlinear data."
   ]
  },
  {
   "cell_type": "markdown",
   "metadata": {},
   "source": [
    "**Table of Contents**\n",
    "\n",
    "- [A First Example](#1.-A-First-Example)\n",
    "- [Adding Polynomial Features](#2.-Adding-Polynomial-Features)\n",
    "- [Example: Predicting Body Fat Percentage by Body Mass Index](#3.-Example:-Predicting-Body-Fat-Percentage-by-Body-Mass-Index)"
   ]
  },
  {
   "cell_type": "markdown",
   "metadata": {},
   "source": [
    "## 1. A First Example"
   ]
  },
  {
   "cell_type": "markdown",
   "metadata": {},
   "source": [
    "Let us generate some nonlinear data, based on the cubic equation $-10x^3+2x^2+8x$ (plus some random noise)"
   ]
  },
  {
   "cell_type": "code",
   "execution_count": 2,
   "metadata": {},
   "outputs": [
    {
     "data": {
      "text/plain": [
       "(-5.0, 6.0)"
      ]
     },
     "execution_count": 2,
     "metadata": {},
     "output_type": "execute_result"
    },
    {
     "data": {
      "image/png": "[encoded data removed]",
      "text/plain": [
       "<Figure size 864x504 with 1 Axes>"
      ]
     },
     "metadata": {
      "needs_background": "light"
     },
     "output_type": "display_data"
    }
   ],
   "source": [
    "'generate some nonlinear data'\n",
    "m=50\n",
    "x = -1 + 2*np.random.rand(m)\n",
    "y = -10*x**3+2*x**2+8*x + 0.75*np.random.randn(m)\n",
    "\n",
    "plt.figure(figsize=(12,7))\n",
    "plt.plot(x,y,'o')\n",
    "plt.xlabel('x',fontsize=20)\n",
    "plt.ylabel('y',fontsize=20)\n",
    "plt.xlim([-1,1])\n",
    "plt.ylim([-5,6])"
   ]
  },
  {
   "cell_type": "markdown",
   "metadata": {},
   "source": [
    "Clearly, a straight line will never fit this data properly."
   ]
  },
  {
   "cell_type": "code",
   "execution_count": 3,
   "metadata": {},
   "outputs": [
    {
     "name": "stdout",
     "output_type": "stream",
     "text": [
      "Mean Squared Error: 3.7155270919707792\n"
     ]
    },
    {
     "data": {
      "image/png": "[encoded data removed]",
      "text/plain": [
       "<Figure size 864x504 with 1 Axes>"
      ]
     },
     "metadata": {
      "needs_background": "light"
     },
     "output_type": "display_data"
    }
   ],
   "source": [
    "'build feature matrix'\n",
    "m = len(x)\n",
    "X = np.ones((m,2))\n",
    "X[:,1] = x\n",
    "\n",
    "'fit a line to the model'\n",
    "theta = np.linalg.lstsq(X,y,rcond=None)[0]\n",
    "\n",
    "'plot datapoints'\n",
    "plt.figure(figsize=(12,7))\n",
    "plt.plot(x,y,'o')\n",
    "plt.xlabel('x',fontsize=20)\n",
    "plt.ylabel('y',fontsize=20)\n",
    "\n",
    "'plot line'\n",
    "m_plot = 100\n",
    "x_plot = np.linspace(-1,1,m_plot)\n",
    "X_plot = np.ones((m_plot,2))\n",
    "X_plot[:,1] = x_plot\n",
    "y_plot = X_plot.dot(theta)\n",
    "plt.plot(x_plot,y_plot,'r')\n",
    "'Mean squared error'        \n",
    "MSE = np.sum((y-X.dot(theta))**2)/m\n",
    "\n",
    "print('Mean Squared Error: '+str(MSE))"
   ]
  },
  {
   "cell_type": "markdown",
   "metadata": {},
   "source": [
    "## 2.- Adding Polynomial Features"
   ]
  },
  {
   "cell_type": "markdown",
   "metadata": {},
   "source": [
    "One way to fit nonlinear data is to add powers of the feature $x$ as new features."
   ]
  },
  {
   "cell_type": "markdown",
   "metadata": {},
   "source": [
    "Let us add the square and cubic powers of $x$ to our model:\n",
    "\n",
    "$$\n",
    "y = \\theta_3x^3+\\theta_2x^2+\\theta_1 x+\\theta_0\n",
    "$$"
   ]
  },
  {
   "cell_type": "markdown",
   "metadata": {},
   "source": [
    "The Mean Squared Error becomes\n",
    "\n",
    "$$\n",
    "\\mathrm{MSE} =  \\frac{1}{m}\\sum_{i=1}^m\\left(y_i - (\\theta_3x_i^3 + \\theta_2x_i^2 + \\theta_1 x_i+\\theta_0) \\right)^2 = \\frac{1}{m}\\|y-X\\theta\\|_2^2,\n",
    "$$\n",
    "\n",
    "where feature matrix $X$, the target vector $y$ and the parameter vector $\\theta$ are\n",
    "\n",
    "$$\n",
    "X = \\begin{bmatrix}\n",
    "1 & x_1 & x_1^2 & x_1^3 \\\\\n",
    "1 & x_2 & x_2^2 & x_2^3 \\\\\n",
    "\\vdots & \\vdots & \\vdots & \\vdots \\\\\n",
    "1 & x_m & x_m^2 & x_m^3\n",
    "\\end{bmatrix}, \\quad\n",
    "y = \\begin{bmatrix}\n",
    "y_1\\\\\n",
    "y_2\\\\\n",
    "\\vdots\\\\\n",
    "y_m\n",
    "\\end{bmatrix}, \\quad \\mbox{and} \\quad\n",
    "\\theta = \n",
    "\\begin{bmatrix}\n",
    "\\theta_0\\\\ \\theta_1\\\\ \\theta_2 \\\\ \\theta_3\n",
    "\\end{bmatrix}.\n",
    "$$"
   ]
  },
  {
   "cell_type": "code",
   "execution_count": 10,
   "metadata": {},
   "outputs": [
    {
     "name": "stdout",
     "output_type": "stream",
     "text": [
      "theta_0: -0.4084272135123997\n",
      "theta_1: 8.076872672315357\n",
      "theta_2: 2.521904738998451\n",
      "theta_3: -9.94111454403753\n"
     ]
    }
   ],
   "source": [
    "degree = 3\n",
    "m = len(x)\n",
    "\n",
    "'build feature matrix'\n",
    "X = np.ones((m,1))\n",
    "for i in range(degree):\n",
    "    X = np.c_[X,x**(i+1)]\n",
    "    \n",
    "'best linear model'\n",
    "theta = np.linalg.lstsq(X,y,rcond=None)[0]\n",
    "\n",
    "'print model coefficients'\n",
    "print('theta_0: '+str(theta[0]))\n",
    "print('theta_1: '+str(theta[1]))\n",
    "print('theta_2: '+str(theta[2]))\n",
    "print('theta_3: '+str(theta[3]))"
   ]
  },
  {
   "cell_type": "code",
   "execution_count": 11,
   "metadata": {},
   "outputs": [
    {
     "name": "stdout",
     "output_type": "stream",
     "text": [
      "Mean Squared Error: 0.3552101976231273\n"
     ]
    },
    {
     "data": {
      "image/png": "[encoded data removed]",
      "text/plain": [
       "<Figure size 864x504 with 1 Axes>"
      ]
     },
     "metadata": {
      "needs_background": "light"
     },
     "output_type": "display_data"
    }
   ],
   "source": [
    "'plot datapoints + linear model'\n",
    "\n",
    "'plot datapoints'\n",
    "plt.figure(figsize=(12,7))\n",
    "plt.plot(x,y,'o')\n",
    "plt.xlabel('x',fontsize=20)\n",
    "plt.ylabel('y',fontsize=20)\n",
    "\n",
    "'plot linear model'\n",
    "m_plot = 100\n",
    "x_plot = np.linspace(-1,1,m_plot)        \n",
    "X_plot = np.ones((m_plot,1))\n",
    "for i in range(degree):\n",
    "    X_plot = np.c_[X_plot,x_plot**(i+1)]\n",
    "y_plot = X_plot.dot(theta)\n",
    "plt.plot(x_plot,y_plot,'r',label='linear model')\n",
    "\n",
    "'Mean Squared Error'\n",
    "MSE = np.sum((y-X.dot(theta))**2)/m\n",
    "print('Mean Squared Error: '+str(MSE))"
   ]
  },
  {
   "cell_type": "markdown",
   "metadata": {},
   "source": [
    "The cell below allows you to interactively change the degree of the linear model. \n",
    "Notice that the larger the degree, the smaller the Mean Squared Error."
   ]
  },
  {
   "cell_type": "code",
   "execution_count": 7,
   "metadata": {
    "scrolled": true
   },
   "outputs": [
    {
     "data": {
      "application/vnd.jupyter.widget-view+json": {
       "model_id": "125bef8a6dea4f9794467f8f7884f6a2",
       "version_major": 2,
       "version_minor": 0
      },
      "text/plain": [
       "interactive(children=(IntText(value=0, description='model degree'), Output()), _dom_classes=('widget-interact'…"
      ]
     },
     "metadata": {},
     "output_type": "display_data"
    }
   ],
   "source": [
    "examples.interactive_polynomial_model(x,y)"
   ]
  },
  {
   "cell_type": "markdown",
   "metadata": {
    "collapsed": true
   },
   "source": [
    "## 3. Example: Predicting Body Fat Percentage by Body Mass Index"
   ]
  },
  {
   "cell_type": "code",
   "execution_count": 13,
   "metadata": {},
   "outputs": [],
   "source": [
    "import pandas as pd"
   ]
  },
  {
   "cell_type": "code",
   "execution_count": 14,
   "metadata": {},
   "outputs": [
    {
     "data": {
      "text/html": [
       "<div>\n",
       "<style scoped>\n",
       "    .dataframe tbody tr th:only-of-type {\n",
       "        vertical-align: middle;\n",
       "    }\n",
       "\n",
       "    .dataframe tbody tr th {\n",
       "        vertical-align: top;\n",
       "    }\n",
       "\n",
       "    .dataframe thead th {\n",
       "        text-align: right;\n",
       "    }\n",
       "</style>\n",
       "<table border=\"1\" class=\"dataframe\">\n",
       "  <thead>\n",
       "    <tr style=\"text-align: right;\">\n",
       "      <th></th>\n",
       "      <th>Height M</th>\n",
       "      <th>Weight kg</th>\n",
       "      <th>BMI</th>\n",
       "      <th>%Fat</th>\n",
       "    </tr>\n",
       "  </thead>\n",
       "  <tbody>\n",
       "    <tr>\n",
       "      <th>0</th>\n",
       "      <td>1.60020</td>\n",
       "      <td>49.441572</td>\n",
       "      <td>19.308287</td>\n",
       "      <td>23.9</td>\n",
       "    </tr>\n",
       "    <tr>\n",
       "      <th>1</th>\n",
       "      <td>1.65100</td>\n",
       "      <td>62.595751</td>\n",
       "      <td>22.964168</td>\n",
       "      <td>28.8</td>\n",
       "    </tr>\n",
       "    <tr>\n",
       "      <th>2</th>\n",
       "      <td>1.65100</td>\n",
       "      <td>75.749931</td>\n",
       "      <td>27.789971</td>\n",
       "      <td>32.4</td>\n",
       "    </tr>\n",
       "    <tr>\n",
       "      <th>3</th>\n",
       "      <td>1.53035</td>\n",
       "      <td>48.987979</td>\n",
       "      <td>20.917414</td>\n",
       "      <td>25.8</td>\n",
       "    </tr>\n",
       "    <tr>\n",
       "      <th>4</th>\n",
       "      <td>1.45415</td>\n",
       "      <td>43.091278</td>\n",
       "      <td>20.378441</td>\n",
       "      <td>22.5</td>\n",
       "    </tr>\n",
       "    <tr>\n",
       "      <th>5</th>\n",
       "      <td>1.60655</td>\n",
       "      <td>52.616718</td>\n",
       "      <td>20.386152</td>\n",
       "      <td>22.1</td>\n",
       "    </tr>\n",
       "    <tr>\n",
       "      <th>6</th>\n",
       "      <td>1.56210</td>\n",
       "      <td>47.967396</td>\n",
       "      <td>19.657509</td>\n",
       "      <td>19.6</td>\n",
       "    </tr>\n",
       "    <tr>\n",
       "      <th>7</th>\n",
       "      <td>1.49860</td>\n",
       "      <td>45.586036</td>\n",
       "      <td>20.298333</td>\n",
       "      <td>25.3</td>\n",
       "    </tr>\n",
       "    <tr>\n",
       "      <th>8</th>\n",
       "      <td>1.52400</td>\n",
       "      <td>47.853998</td>\n",
       "      <td>20.603846</td>\n",
       "      <td>22.8</td>\n",
       "    </tr>\n",
       "    <tr>\n",
       "      <th>9</th>\n",
       "      <td>1.47955</td>\n",
       "      <td>44.452055</td>\n",
       "      <td>20.306382</td>\n",
       "      <td>26.4</td>\n",
       "    </tr>\n",
       "  </tbody>\n",
       "</table>\n",
       "</div>"
      ],
      "text/plain": [
       "   Height M  Weight kg        BMI  %Fat\n",
       "0   1.60020  49.441572  19.308287  23.9\n",
       "1   1.65100  62.595751  22.964168  28.8\n",
       "2   1.65100  75.749931  27.789971  32.4\n",
       "3   1.53035  48.987979  20.917414  25.8\n",
       "4   1.45415  43.091278  20.378441  22.5\n",
       "5   1.60655  52.616718  20.386152  22.1\n",
       "6   1.56210  47.967396  19.657509  19.6\n",
       "7   1.49860  45.586036  20.298333  25.3\n",
       "8   1.52400  47.853998  20.603846  22.8\n",
       "9   1.47955  44.452055  20.306382  26.4"
      ]
     },
     "execution_count": 14,
     "metadata": {},
     "output_type": "execute_result"
    }
   ],
   "source": [
    "url = 'https://raw.githubusercontent.com/um-perez-alvaro/lin-regress/master/Predict_BMI.csv' #Github repository\n",
    "data = pd.read_csv(url) #pandas data frame\n",
    "data.head(10) #first 10 rows of the dataframe"
   ]
  },
  {
   "cell_type": "markdown",
   "metadata": {},
   "source": [
    "We will use a regression model to predict body fat percentage based on body mass index (BMI). The data includes height, weight, and body fat.\n",
    "Why might we want to use BMI to predict body fat percentage? \n",
    "It is more expensive to obtain your body fat percentage through a direct measure like DXA. \n",
    "If you can use your BMI to predict your body fat percentage, that provides valuable information more easily and cheaply. Let’s see if BMI can produce good predictions."
   ]
  },
  {
   "cell_type": "code",
   "execution_count": 18,
   "metadata": {},
   "outputs": [
    {
     "data": {
      "text/plain": [
       "[<matplotlib.lines.Line2D at 0x298a5c9c188>]"
      ]
     },
     "execution_count": 18,
     "metadata": {},
     "output_type": "execute_result"
    },
    {
     "data": {
      "image/png": "[encoded data removed]",
      "text/plain": [
       "<Figure size 864x504 with 1 Axes>"
      ]
     },
     "metadata": {
      "needs_background": "light"
     },
     "output_type": "display_data"
    }
   ],
   "source": [
    "x = data['BMI'].to_numpy()\n",
    "y = data['%Fat'].to_numpy()\n",
    "plt.figure(figsize=(12,7))\n",
    "plt.plot(x,y,'o')"
   ]
  },
  {
   "cell_type": "markdown",
   "metadata": {},
   "source": [
    "The plot shows that the two variables are roughly correlated: the higher the BMI, the higher is the %Fat.\n",
    "We can quantify this by attempting to fit a linear model\n",
    "\n",
    "$$ \n",
    "  \\mbox{%Fat} =\\theta_0 + \\theta_1 \\cdot \\mbox{BMI},\n",
    "$$"
   ]
  },
  {
   "cell_type": "code",
   "execution_count": 20,
   "metadata": {},
   "outputs": [
    {
     "name": "stdout",
     "output_type": "stream",
     "text": [
      "Mean Squared Error: 23.76548071283373\n"
     ]
    },
    {
     "data": {
      "image/png": "[encoded data removed]",
      "text/plain": [
       "<Figure size 864x504 with 1 Axes>"
      ]
     },
     "metadata": {
      "needs_background": "light"
     },
     "output_type": "display_data"
    }
   ],
   "source": [
    "'build feature matrix'\n",
    "X = np.c_[np.ones((len(x),1)),x]\n",
    "\n",
    "'find linear model coefficients'\n",
    "theta = np.linalg.lstsq(X,y,rcond=None)[0]\n",
    "\n",
    "'plot datapoints '\n",
    "plt.figure(figsize=(12,7))\n",
    "plt.plot(x,y,'o')\n",
    "\n",
    "'plot linear model'\n",
    "x_plot = np.linspace(14, 35, 100) \n",
    "X_plot = np.c_[np.ones((len(x_plot),1)),x_plot]\n",
    "y_plot = X_plot.dot(theta)\n",
    "plt.plot(x_plot,y_plot,'r-')\n",
    "\n",
    "'Mean Squared Error'\n",
    "MSE = np.sum((y-X.dot(theta))**2)/m\n",
    "print('Mean Squared Error: '+str(MSE))"
   ]
  },
  {
   "cell_type": "markdown",
   "metadata": {},
   "source": [
    "We can add powers of the BMI variable to our linear model\n",
    "\n",
    "$$\n",
    "  \\mbox{%Fat} =\\theta_0 + \\theta_1 \\cdot \\mbox{BMI}+\\theta_2\\cdot\\mbox{BMI}^2,\n",
    "$$"
   ]
  },
  {
   "cell_type": "code",
   "execution_count": 24,
   "metadata": {},
   "outputs": [
    {
     "name": "stdout",
     "output_type": "stream",
     "text": [
      "Mean Squared Error: 22.230512053339407\n"
     ]
    },
    {
     "data": {
      "image/png": "[encoded data removed]",
      "text/plain": [
       "<Figure size 864x504 with 1 Axes>"
      ]
     },
     "metadata": {
      "needs_background": "light"
     },
     "output_type": "display_data"
    }
   ],
   "source": [
    "'build feature matrix'\n",
    "degree=2\n",
    "X = np.ones((len(x),1))\n",
    "for i in range(degree):\n",
    "    X = np.c_[X,x**(i+1)]\n",
    "    \n",
    "'best linear model'\n",
    "theta = np.linalg.lstsq(X,y,rcond=None)[0]\n",
    "\n",
    "'plot datapoints '\n",
    "plt.figure(figsize=(12,7))\n",
    "plt.plot(x,y,'o')\n",
    "\n",
    "'plot linear model'\n",
    "x_plot = np.linspace(14, 35, 100) \n",
    "X_plot = np.ones((len(x_plot),1))\n",
    "for i in range(degree):\n",
    "    X_plot = np.c_[X_plot,x_plot**(i+1)]\n",
    "y_plot = X_plot.dot(theta)\n",
    "plt.plot(x_plot,y_plot,'r-')\n",
    "\n",
    "'Mean Squared Error'\n",
    "MSE = np.sum((y-X.dot(theta))**2)/m\n",
    "print('Mean Squared Error: '+str(MSE))"
   ]
  }
 ],
 "metadata": {
  "kernelspec": {
   "display_name": "Python 3",
   "language": "python",
   "name": "python3"
  },
  "language_info": {
   "codemirror_mode": {
    "name": "ipython",
    "version": 3
   },
   "file_extension": ".py",
   "mimetype": "text/x-python",
   "name": "python",
   "nbconvert_exporter": "python",
   "pygments_lexer": "ipython3",
   "version": "3.7.6"
  }
 },
 "nbformat": 4,
 "nbformat_minor": 4
}
