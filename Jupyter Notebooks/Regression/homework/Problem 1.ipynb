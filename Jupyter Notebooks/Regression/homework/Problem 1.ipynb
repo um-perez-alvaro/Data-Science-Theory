{
 "cells": [
  {
   "cell_type": "markdown",
   "metadata": {},
   "source": [
    "# Problem 1: Plotting functions y = f(x) in Python with Matplotlib and Numpy"
   ]
  },
  {
   "cell_type": "code",
   "execution_count": 1,
   "metadata": {},
   "outputs": [],
   "source": [
    "import numpy as np\n",
    "import matplotlib.pyplot as plt"
   ]
  },
  {
   "cell_type": "markdown",
   "metadata": {},
   "source": [
    "In this exercise, you will learn how to plot a function $y=f(x)$, over a specified interval."
   ]
  },
  {
   "cell_type": "markdown",
   "metadata": {},
   "source": [
    "## Example"
   ]
  },
  {
   "cell_type": "markdown",
   "metadata": {},
   "source": [
    "Let's plot the **sine function** from −3 to 2. \n",
    "To do so, we need to provide a discretization (grid) of the values along the x-axis, and evaluate the function on\n",
    "each x value. "
   ]
  },
  {
   "cell_type": "code",
   "execution_count": 2,
   "metadata": {},
   "outputs": [
    {
     "data": {
      "text/plain": [
       "[<matplotlib.lines.Line2D at 0x1eb1d3477f0>]"
      ]
     },
     "execution_count": 2,
     "metadata": {},
     "output_type": "execute_result"
    },
    {
     "data": {
      "image/png": "[encoded data removed]",
      "text/plain": [
       "<Figure size 432x288 with 1 Axes>"
      ]
     },
     "metadata": {
      "needs_background": "light"
     },
     "output_type": "display_data"
    }
   ],
   "source": [
    "x_plot = np.linspace(-3, 2, 100) # 100 evenly spaced samples, calculated over the interval [-3, 2].\n",
    "y_plot = np.sin(x_plot) # Evaluate function on x_plot\n",
    "plt.plot(x_plot, y_plot) # Create line plot with y_plot against x_plot"
   ]
  },
  {
   "cell_type": "markdown",
   "metadata": {},
   "source": [
    "[Here](https://numpy.org/doc/stable/reference/routines.math.html) and [here](https://numpy.org/doc/stable/reference/constants.html) are the lists of all mathematical functions ($\\sin$, $\\cos$, $\\exp$, etc) and constants ($\\pi$, e, etc) available in Numpy."
   ]
  },
  {
   "cell_type": "markdown",
   "metadata": {},
   "source": [
    "**Remark:** Numpy's mathematical functions are **vectorized functions**.\n",
    "This means that if you pass a vector\n",
    "\n",
    "$$\n",
    "v = \n",
    "\\begin{bmatrix}\n",
    "    v_1\\\\v_2\\\\ \\vdots \\\\ v_m\n",
    "\\end{bmatrix}\n",
    "$$\n",
    "\n",
    "to a function $f(x)$, Numpy will evaluate $f(x)$ at each entry of $v$:\n",
    "\n",
    "$$\n",
    "f(v) = \n",
    "\\begin{bmatrix}\n",
    "    f(v_1) \\\\f(v_2)\\\\ \\vdots \\\\ f(v_m)\n",
    "\\end{bmatrix}\n",
    "$$"
   ]
  },
  {
   "cell_type": "code",
   "execution_count": 3,
   "metadata": {},
   "outputs": [
    {
     "data": {
      "text/plain": [
       "array([ 0.0000000e+00,  1.0000000e+00,  1.2246468e-16, -1.0000000e+00])"
      ]
     },
     "execution_count": 3,
     "metadata": {},
     "output_type": "execute_result"
    }
   ],
   "source": [
    "# example\n",
    "v = np.array([0,np.pi/2,np.pi,3*np.pi/2])\n",
    "np.sin(v)"
   ]
  },
  {
   "cell_type": "markdown",
   "metadata": {},
   "source": [
    "## Exercise"
   ]
  },
  {
   "cell_type": "markdown",
   "metadata": {},
   "source": [
    "Plot the function\n",
    "\n",
    "$$\n",
    "f(x) = e^{3x}\\dfrac{\\sin(3\\pi^2(x-0.5))}{3\\pi^2(x-0.5)}\n",
    "$$\n",
    "\n",
    "over the interval [0,1]."
   ]
  },
  {
   "cell_type": "code",
   "execution_count": null,
   "metadata": {},
   "outputs": [],
   "source": [
    "# your code here"
   ]
  }
 ],
 "metadata": {
  "kernelspec": {
   "display_name": "Python 3",
   "language": "python",
   "name": "python3"
  },
  "language_info": {
   "codemirror_mode": {
    "name": "ipython",
    "version": 3
   },
   "file_extension": ".py",
   "mimetype": "text/x-python",
   "name": "python",
   "nbconvert_exporter": "python",
   "pygments_lexer": "ipython3",
   "version": "3.7.6"
  }
 },
 "nbformat": 4,
 "nbformat_minor": 4
}
