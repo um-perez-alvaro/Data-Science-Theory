{
 "cells": [
  {
   "cell_type": "code",
   "execution_count": 1,
   "metadata": {},
   "outputs": [],
   "source": [
    "import numpy as np\n",
    "import matplotlib.pyplot as plt"
   ]
  },
  {
   "cell_type": "markdown",
   "metadata": {},
   "source": [
    "# Neural Networks for Regression"
   ]
  },
  {
   "cell_type": "code",
   "execution_count": 2,
   "metadata": {},
   "outputs": [],
   "source": [
    "class layer:\n",
    "    'Neural network dense layer'\n",
    "    \n",
    "    # initialization (weights and biases)\n",
    "    def __init__(self, n_inputs, n_neurons):\n",
    "        self.weights = 0.1*np.random.randn(n_inputs, n_neurons) \n",
    "        self.biases = np.zeros((1,n_neurons))\n",
    "\n",
    "    # output\n",
    "    def forward(self, inputs):\n",
    "        self.output = inputs.dot(self.weights) + self.biases\n",
    "        \n",
    "        # remember input values\n",
    "        self.inputs = inputs\n",
    "      \n",
    "    def backward(self, dvalues):\n",
    "        \n",
    "        # gradient\n",
    "        self.dinputs = dvalues.dot(self.weights.T)\n",
    "        \n",
    "        # gradients on parameters\n",
    "        self.dweights = self.inputs.T.dot(dvalues)\n",
    "        self.dbiases = np.sum(dvalues, axis=0, keepdims=True)\n",
    "\n",
    "        \n",
    "class activation_ReLU:\n",
    "    'rectified linear unit activation function'\n",
    "    \n",
    "    def forward(self, inputs):\n",
    "        self.output = np.maximum(0, inputs)\n",
    "        \n",
    "        # remember input values\n",
    "        self.inputs = inputs\n",
    "        \n",
    "    def backward(self, dvalues):\n",
    "\n",
    "        # copy dvalues\n",
    "        self.dinputs = dvalues.copy()\n",
    "        \n",
    "        # zero gradient where input values were negative\n",
    "        self.dinputs[self.inputs <= 0] = 0\n",
    "        \n",
    "class activation_linear:\n",
    "    'linear activation function: output = inputs; f(x) = x'\n",
    "\n",
    "    def forward(self, inputs):\n",
    "        # J\\ flatten the output\n",
    "        self.inputs = inputs\n",
    "        self.output = inputs.flatten()\n",
    "\n",
    "    def backward(self, dvalues):\n",
    "        # derivative of x is 1 \n",
    "        self.dinputs = dvalues.copy().reshape(-1,1) # reshape the result as a column vector\n",
    "        \n",
    "class activation_softmax:\n",
    "    'softmax activation function'\n",
    "    \n",
    "    def forward(self, inputs):\n",
    "        \n",
    "        # unnormalized probabilities\n",
    "        exp_values = np.exp(inputs-np.max(inputs,axis=1, keepdims=True))\n",
    "        \n",
    "        # normalized probabilities\n",
    "        probabilities = exp_values / np.sum(exp_values, axis=1, keepdims=True)\n",
    "        self.output = probabilities\n",
    "        \n",
    "        # remember input values\n",
    "        self.inputs = inputs\n",
    "        \n",
    "    def backward(self,dvalues):\n",
    "\n",
    "        \n",
    "        # initialized gradient (derivative) array\n",
    "        self.dinputs = np.zeros(dvalues.shape)\n",
    "        \n",
    "        # For each data point, compute gradient\n",
    "        for i in range(len(dvalues)):\n",
    "            output_row = self.output[i]\n",
    "            dvalues_row = dvalues[i]\n",
    "            \n",
    "            # Flatten output array\n",
    "            output_row = output_row.reshape(-1, 1)\n",
    "\n",
    "            # Calculate derivative matrix of the output\n",
    "            derivative_matrix = np.diagflat(output_row) - output_row.dot(output_row.T)\n",
    "            \n",
    "            # store gradient\n",
    "            self.dinputs[i] = dvalues_row.dot(derivative_matrix)\n",
    "\n",
    "\n",
    "class loss:\n",
    "    def calculate(self, output,y):\n",
    "        sample_losses = self.forward(output,y)\n",
    "        loss = np.mean(sample_losses)\n",
    "        return loss\n",
    "    \n",
    "     \n",
    "class loss_crossentropy(loss):\n",
    "    'cross-entropy loss function'    \n",
    "    \n",
    "    def forward(self, y_pred, y_true):\n",
    "        \n",
    "        # number of data points\n",
    "        n_samples = len(y_pred)\n",
    "        \n",
    "        # clip data to prevent division by 0\n",
    "        y_pred_clipped = np.clip(y_pred, 1e-7,1 - 1e-7)\n",
    "        \n",
    "        # confidence values\n",
    "        confidence_values = y_pred_clipped[range(n_samples),y_true]\n",
    "       \n",
    "        # sample losses \n",
    "        losses = -np.log(confidence_values)\n",
    "        return losses\n",
    "    \n",
    "    \n",
    "    def backward(self, dvalues, y_true):\n",
    "        \n",
    "        \n",
    "        # Number of samples\n",
    "        n_samples = len(dvalues)\n",
    "    \n",
    "        #one-hot matrix\n",
    "        Y = np.zeros(dvalues.shape)\n",
    "        Y[np.arange(len(y_true)),y_true] = 1\n",
    "        \n",
    "        # Calculate gradient\n",
    "        self.dinputs = -Y / dvalues\n",
    "        \n",
    "        # Normalize gradient\n",
    "        self.dinputs = self.dinputs / n_samples\n",
    "        \n",
    "class loss_meansquarederror(loss):\n",
    "    'Mean Squared Error loss'\n",
    "\n",
    "    def forward(self, y_pred, y_true):\n",
    "        \n",
    "    # calculate loss\n",
    "        sample_losses = (y_true - y_pred)**2\n",
    "        # return losses\n",
    "        return sample_losses\n",
    "\n",
    "    def backward(self, dvalues, y_true):\n",
    "        \n",
    "        # number of data points\n",
    "        samples = len(dvalues)\n",
    "\n",
    "        # gradient \n",
    "        self.dinputs = -2 * (y_true - dvalues) \n",
    "        \n",
    "        # normalize gradient\n",
    "        self.dinputs = self.dinputs / samples\n",
    "\n",
    "# GD optimizer\n",
    "class optimizer_GD:\n",
    "\n",
    "    def __init__(self, learning_rate=1.0):\n",
    "        self.learning_rate = learning_rate\n",
    "        \n",
    "    def update_parameters(self, layer):\n",
    "        layer.weights = layer.weights - self.learning_rate*layer.dweights\n",
    "        layer.biases = layer.biases - self.learning_rate*layer.dbiases"
   ]
  },
  {
   "cell_type": "markdown",
   "metadata": {},
   "source": [
    "## Example"
   ]
  },
  {
   "cell_type": "code",
   "execution_count": 3,
   "metadata": {},
   "outputs": [
    {
     "data": {
      "text/plain": [
       "<matplotlib.legend.Legend at 0x221fa62d520>"
      ]
     },
     "execution_count": 3,
     "metadata": {},
     "output_type": "execute_result"
    },
    {
     "data": {
      "image/png": "[encoded data removed]",
      "text/plain": [
       "<Figure size 432x288 with 1 Axes>"
      ]
     },
     "metadata": {
      "needs_background": "light"
     },
     "output_type": "display_data"
    }
   ],
   "source": [
    "# sine function\n",
    "x = np.linspace(0,2*np.pi,100)\n",
    "y = np.sin(x)\n",
    "plt.plot(x,y, label='sine function')\n",
    "plt.legend()"
   ]
  },
  {
   "cell_type": "code",
   "execution_count": 4,
   "metadata": {},
   "outputs": [],
   "source": [
    "# reshape x as a column vector \n",
    "X = x.reshape(-1,1)"
   ]
  },
  {
   "cell_type": "markdown",
   "metadata": {},
   "source": [
    "**two-layers neural network, no ReLU activation function**"
   ]
  },
  {
   "cell_type": "code",
   "execution_count": 5,
   "metadata": {},
   "outputs": [],
   "source": [
    "# neural network (without ReLU activation function)\n",
    "layer1 = layer(n_inputs = 1, n_neurons = 64)\n",
    "layer2 = layer(n_inputs = 64, n_neurons = 1)\n",
    "activation2 = activation_linear()\n",
    "loss_function = loss_meansquarederror()"
   ]
  },
  {
   "cell_type": "code",
   "execution_count": 6,
   "metadata": {},
   "outputs": [],
   "source": [
    "optimizer = optimizer_GD(learning_rate = .1)"
   ]
  },
  {
   "cell_type": "code",
   "execution_count": 7,
   "metadata": {},
   "outputs": [
    {
     "name": "stdout",
     "output_type": "stream",
     "text": [
      "epoch: 0\n",
      "loss: 0.711\n",
      "------------------------\n",
      "epoch: 100\n",
      "loss: 0.203\n",
      "------------------------\n",
      "epoch: 200\n",
      "loss: 0.203\n",
      "------------------------\n",
      "epoch: 300\n",
      "loss: 0.203\n",
      "------------------------\n",
      "epoch: 400\n",
      "loss: 0.203\n",
      "------------------------\n",
      "epoch: 500\n",
      "loss: 0.203\n",
      "------------------------\n",
      "epoch: 600\n",
      "loss: 0.203\n",
      "------------------------\n",
      "epoch: 700\n",
      "loss: 0.203\n",
      "------------------------\n",
      "epoch: 800\n",
      "loss: 0.203\n",
      "------------------------\n",
      "epoch: 900\n",
      "loss: 0.203\n",
      "------------------------\n",
      "epoch: 1000\n",
      "loss: 0.203\n",
      "------------------------\n",
      "epoch: 1100\n",
      "loss: 0.203\n",
      "------------------------\n",
      "epoch: 1200\n",
      "loss: 0.203\n",
      "------------------------\n",
      "epoch: 1300\n",
      "loss: 0.203\n",
      "------------------------\n",
      "epoch: 1400\n",
      "loss: 0.203\n",
      "------------------------\n",
      "epoch: 1500\n",
      "loss: 0.203\n",
      "------------------------\n",
      "epoch: 1600\n",
      "loss: 0.203\n",
      "------------------------\n",
      "epoch: 1700\n",
      "loss: 0.203\n",
      "------------------------\n",
      "epoch: 1800\n",
      "loss: 0.203\n",
      "------------------------\n",
      "epoch: 1900\n",
      "loss: 0.203\n",
      "------------------------\n"
     ]
    }
   ],
   "source": [
    "# gradient descent\n",
    "n_epochs = 2000\n",
    "loss = np.zeros(n_epochs)\n",
    "for i in range(n_epochs):\n",
    "    \n",
    "    # forward pass\n",
    "    layer1.forward(X)\n",
    "    layer2.forward(layer1.output)\n",
    "    activation2.forward(layer2.output)\n",
    "    \n",
    "    # loss\n",
    "    losses = loss_function.forward(activation2.output,y)\n",
    "    loss[i] = np.mean(losses)\n",
    "    \n",
    "    \n",
    "    # backward pass\n",
    "    loss_function.backward(activation2.output,y)\n",
    "    activation2.backward(loss_function.dinputs)\n",
    "    layer2.backward(activation2.dinputs)\n",
    "    layer1.backward(layer2.dinputs)\n",
    "    \n",
    "    # update weights and biases\n",
    "    optimizer.update_parameters(layer1)\n",
    "    optimizer.update_parameters(layer2)\n",
    "    \n",
    "    \n",
    "    # print loss and accuracy every 100 epochs\n",
    "    if i % 100 == 0:\n",
    "        print('epoch: '+str(i))\n",
    "        print('loss: '+str(np.round(loss[i],3)))\n",
    "        print('------------------------')"
   ]
  },
  {
   "cell_type": "code",
   "execution_count": 8,
   "metadata": {},
   "outputs": [
    {
     "data": {
      "text/plain": [
       "[<matplotlib.lines.Line2D at 0x2b2d57b9308>]"
      ]
     },
     "execution_count": 8,
     "metadata": {},
     "output_type": "execute_result"
    },
    {
     "data": {
      "image/png": "[encoded data removed]",
      "text/plain": [
       "<Figure size 432x288 with 1 Axes>"
      ]
     },
     "metadata": {
      "needs_background": "light"
     },
     "output_type": "display_data"
    }
   ],
   "source": [
    "plt.plot(loss)"
   ]
  },
  {
   "cell_type": "code",
   "execution_count": 9,
   "metadata": {},
   "outputs": [
    {
     "data": {
      "text/plain": [
       "[<matplotlib.lines.Line2D at 0x2b2d580a388>]"
      ]
     },
     "execution_count": 9,
     "metadata": {},
     "output_type": "execute_result"
    },
    {
     "data": {
      "image/png": "[encoded data removed]",
      "text/plain": [
       "<Figure size 432x288 with 1 Axes>"
      ]
     },
     "metadata": {
      "needs_background": "light"
     },
     "output_type": "display_data"
    }
   ],
   "source": [
    "plt.plot(x,y)\n",
    "plt.plot(x,activation2.output)"
   ]
  },
  {
   "cell_type": "markdown",
   "metadata": {},
   "source": [
    "**two-layers neural network**"
   ]
  },
  {
   "cell_type": "code",
   "execution_count": 6,
   "metadata": {},
   "outputs": [],
   "source": [
    "# neural network\n",
    "layer1 = layer(n_inputs = 1, n_neurons = 64)\n",
    "activation1 = activation_ReLU()\n",
    "layer2 = layer(n_inputs = 64, n_neurons = 1)\n",
    "activation2 = activation_linear()\n",
    "loss_function = loss_meansquarederror()"
   ]
  },
  {
   "cell_type": "code",
   "execution_count": 7,
   "metadata": {},
   "outputs": [],
   "source": [
    "# forward pass\n",
    "layer1.forward(X)\n",
    "activation1.forward(layer1.output)\n",
    "layer2.forward(activation1.output)\n",
    "losses = loss_function.forward(layer2.output,y)"
   ]
  },
  {
   "cell_type": "code",
   "execution_count": null,
   "metadata": {},
   "outputs": [],
   "source": []
  },
  {
   "cell_type": "code",
   "execution_count": null,
   "metadata": {},
   "outputs": [],
   "source": []
  },
  {
   "cell_type": "code",
   "execution_count": null,
   "metadata": {},
   "outputs": [],
   "source": []
  },
  {
   "cell_type": "code",
   "execution_count": null,
   "metadata": {},
   "outputs": [],
   "source": []
  },
  {
   "cell_type": "code",
   "execution_count": null,
   "metadata": {},
   "outputs": [],
   "source": []
  },
  {
   "cell_type": "code",
   "execution_count": null,
   "metadata": {},
   "outputs": [],
   "source": []
  },
  {
   "cell_type": "code",
   "execution_count": null,
   "metadata": {},
   "outputs": [],
   "source": []
  },
  {
   "cell_type": "code",
   "execution_count": null,
   "metadata": {},
   "outputs": [],
   "source": []
  },
  {
   "cell_type": "code",
   "execution_count": null,
   "metadata": {},
   "outputs": [],
   "source": []
  },
  {
   "cell_type": "code",
   "execution_count": null,
   "metadata": {},
   "outputs": [],
   "source": []
  },
  {
   "cell_type": "code",
   "execution_count": 11,
   "metadata": {},
   "outputs": [],
   "source": [
    "optimizer = optimizer_GD(learning_rate = .1)"
   ]
  },
  {
   "cell_type": "code",
   "execution_count": 12,
   "metadata": {},
   "outputs": [
    {
     "name": "stdout",
     "output_type": "stream",
     "text": [
      "epoch: 0\n",
      "loss: 0.642\n",
      "------------------------\n",
      "epoch: 100\n",
      "loss: 0.175\n",
      "------------------------\n",
      "epoch: 200\n",
      "loss: 0.172\n",
      "------------------------\n",
      "epoch: 300\n",
      "loss: 0.17\n",
      "------------------------\n",
      "epoch: 400\n",
      "loss: 0.171\n",
      "------------------------\n",
      "epoch: 500\n",
      "loss: 0.169\n",
      "------------------------\n",
      "epoch: 600\n",
      "loss: 0.167\n",
      "------------------------\n",
      "epoch: 700\n",
      "loss: 0.166\n",
      "------------------------\n",
      "epoch: 800\n",
      "loss: 0.164\n",
      "------------------------\n",
      "epoch: 900\n",
      "loss: 0.163\n",
      "------------------------\n",
      "epoch: 1000\n",
      "loss: 0.163\n",
      "------------------------\n",
      "epoch: 1100\n",
      "loss: 0.163\n",
      "------------------------\n",
      "epoch: 1200\n",
      "loss: 0.163\n",
      "------------------------\n",
      "epoch: 1300\n",
      "loss: 0.163\n",
      "------------------------\n",
      "epoch: 1400\n",
      "loss: 0.163\n",
      "------------------------\n",
      "epoch: 1500\n",
      "loss: 0.163\n",
      "------------------------\n",
      "epoch: 1600\n",
      "loss: 0.163\n",
      "------------------------\n",
      "epoch: 1700\n",
      "loss: 0.163\n",
      "------------------------\n",
      "epoch: 1800\n",
      "loss: 0.163\n",
      "------------------------\n",
      "epoch: 1900\n",
      "loss: 0.163\n",
      "------------------------\n"
     ]
    }
   ],
   "source": [
    "# gradient descent\n",
    "n_epochs = 2000\n",
    "loss = np.zeros(n_epochs)\n",
    "for i in range(n_epochs):\n",
    "    \n",
    "    # forward pass\n",
    "    layer1.forward(X)\n",
    "    activation1.forward(layer1.output)\n",
    "    layer2.forward(activation1.output)\n",
    "    activation2.forward(layer2.output)\n",
    "    \n",
    "    # loss\n",
    "    losses = loss_function.forward(activation2.output,y)\n",
    "    loss[i] = np.mean(losses)\n",
    "    \n",
    "    \n",
    "    # backward pass\n",
    "    loss_function.backward(activation2.output,y)\n",
    "    activation2.backward(loss_function.dinputs)\n",
    "    layer2.backward(activation2.dinputs)\n",
    "    activation1.backward(layer2.dinputs)\n",
    "    layer1.backward(activation1.dinputs)\n",
    "    \n",
    "    # update weights and biases\n",
    "    optimizer.update_parameters(layer1)\n",
    "    optimizer.update_parameters(layer2)\n",
    "    \n",
    "    \n",
    "    # print loss and accuracy every 100 epochs\n",
    "    if i % 100 == 0:\n",
    "        print('epoch: '+str(i))\n",
    "        print('loss: '+str(np.round(loss[i],3)))\n",
    "        print('------------------------')"
   ]
  },
  {
   "cell_type": "code",
   "execution_count": 13,
   "metadata": {},
   "outputs": [
    {
     "data": {
      "text/plain": [
       "[<matplotlib.lines.Line2D at 0x2b2d589f7c8>]"
      ]
     },
     "execution_count": 13,
     "metadata": {},
     "output_type": "execute_result"
    },
    {
     "data": {
      "image/png": "[encoded data removed]",
      "text/plain": [
       "<Figure size 432x288 with 1 Axes>"
      ]
     },
     "metadata": {
      "needs_background": "light"
     },
     "output_type": "display_data"
    }
   ],
   "source": [
    "plt.plot(loss)"
   ]
  },
  {
   "cell_type": "code",
   "execution_count": 14,
   "metadata": {},
   "outputs": [
    {
     "data": {
      "text/plain": [
       "[<matplotlib.lines.Line2D at 0x2b2d58c0948>]"
      ]
     },
     "execution_count": 14,
     "metadata": {},
     "output_type": "execute_result"
    },
    {
     "data": {
      "image/png": "[encoded data removed]",
      "text/plain": [
       "<Figure size 432x288 with 1 Axes>"
      ]
     },
     "metadata": {
      "needs_background": "light"
     },
     "output_type": "display_data"
    }
   ],
   "source": [
    "# our neural network is stuck in a local minimum of the loss function?\n",
    "plt.plot(x,y)\n",
    "plt.plot(x,activation2.output)"
   ]
  },
  {
   "cell_type": "markdown",
   "metadata": {},
   "source": [
    "**three-layers neural network**"
   ]
  },
  {
   "cell_type": "code",
   "execution_count": 15,
   "metadata": {},
   "outputs": [],
   "source": [
    "# neural network\n",
    "layer1 = layer(n_inputs = 1, n_neurons = 64)\n",
    "activation1 = activation_ReLU()\n",
    "layer2 = layer(n_inputs = 64, n_neurons = 64)\n",
    "activation2 = activation_ReLU()\n",
    "layer3 = layer(n_inputs = 64, n_neurons = 1)\n",
    "activation3 = activation_linear()\n",
    "loss_function = loss_meansquarederror()"
   ]
  },
  {
   "cell_type": "code",
   "execution_count": 20,
   "metadata": {},
   "outputs": [],
   "source": [
    "optimizer = optimizer_GD(0.1)"
   ]
  },
  {
   "cell_type": "code",
   "execution_count": 24,
   "metadata": {},
   "outputs": [
    {
     "name": "stdout",
     "output_type": "stream",
     "text": [
      "epoch: 0\n",
      "loss: 0.001\n",
      "------------------------\n",
      "epoch: 100\n",
      "loss: 0.001\n",
      "------------------------\n",
      "epoch: 200\n",
      "loss: 0.001\n",
      "------------------------\n",
      "epoch: 300\n",
      "loss: 0.001\n",
      "------------------------\n",
      "epoch: 400\n",
      "loss: 0.001\n",
      "------------------------\n",
      "epoch: 500\n",
      "loss: 0.001\n",
      "------------------------\n",
      "epoch: 600\n",
      "loss: 0.001\n",
      "------------------------\n",
      "epoch: 700\n",
      "loss: 0.001\n",
      "------------------------\n",
      "epoch: 800\n",
      "loss: 0.001\n",
      "------------------------\n",
      "epoch: 900\n",
      "loss: 0.001\n",
      "------------------------\n",
      "epoch: 1000\n",
      "loss: 0.0\n",
      "------------------------\n",
      "epoch: 1100\n",
      "loss: 0.0\n",
      "------------------------\n",
      "epoch: 1200\n",
      "loss: 0.0\n",
      "------------------------\n",
      "epoch: 1300\n",
      "loss: 0.0\n",
      "------------------------\n",
      "epoch: 1400\n",
      "loss: 0.0\n",
      "------------------------\n",
      "epoch: 1500\n",
      "loss: 0.0\n",
      "------------------------\n",
      "epoch: 1600\n",
      "loss: 0.0\n",
      "------------------------\n",
      "epoch: 1700\n",
      "loss: 0.0\n",
      "------------------------\n",
      "epoch: 1800\n",
      "loss: 0.0\n",
      "------------------------\n",
      "epoch: 1900\n",
      "loss: 0.0\n",
      "------------------------\n"
     ]
    }
   ],
   "source": [
    "# gradient descent\n",
    "n_epochs = 2000\n",
    "loss = np.zeros(n_epochs)\n",
    "for i in range(n_epochs):\n",
    "    \n",
    "    # forward pass\n",
    "    layer1.forward(X)\n",
    "    activation1.forward(layer1.output)\n",
    "    layer2.forward(activation1.output)\n",
    "    activation2.forward(layer2.output)\n",
    "    layer3.forward(activation2.output)\n",
    "    activation3.forward(layer3.output)\n",
    "    \n",
    "    # loss\n",
    "    losses = loss_function.forward(activation3.output,y)\n",
    "    loss[i] = np.mean(losses)\n",
    "    \n",
    "    \n",
    "    # backward pass\n",
    "    loss_function.backward(activation3.output,y)\n",
    "    activation3.backward(loss_function.dinputs)\n",
    "    layer3.backward(activation3.dinputs)\n",
    "    activation2.backward(layer3.dinputs)\n",
    "    layer2.backward(activation2.dinputs)\n",
    "    activation1.backward(layer2.dinputs)\n",
    "    layer1.backward(activation1.dinputs)\n",
    "    \n",
    "    # update weights and biases\n",
    "    optimizer.update_parameters(layer1)\n",
    "    optimizer.update_parameters(layer2)\n",
    "    optimizer.update_parameters(layer3)\n",
    "    \n",
    "    \n",
    "    # print loss and accuracy every 100 epochs\n",
    "    if i % 100 == 0:\n",
    "        print('epoch: '+str(i))\n",
    "        print('loss: '+str(np.round(loss[i],3)))\n",
    "        print('------------------------')"
   ]
  },
  {
   "cell_type": "code",
   "execution_count": 25,
   "metadata": {},
   "outputs": [
    {
     "data": {
      "text/plain": [
       "[<matplotlib.lines.Line2D at 0x2b2d57f7a88>]"
      ]
     },
     "execution_count": 25,
     "metadata": {},
     "output_type": "execute_result"
    },
    {
     "data": {
      "image/png": "[encoded data removed]",
      "text/plain": [
       "<Figure size 432x288 with 1 Axes>"
      ]
     },
     "metadata": {
      "needs_background": "light"
     },
     "output_type": "display_data"
    }
   ],
   "source": [
    "plt.plot(loss)"
   ]
  },
  {
   "cell_type": "code",
   "execution_count": 26,
   "metadata": {},
   "outputs": [
    {
     "data": {
      "text/plain": [
       "[<matplotlib.lines.Line2D at 0x2b2d60271c8>]"
      ]
     },
     "execution_count": 26,
     "metadata": {},
     "output_type": "execute_result"
    },
    {
     "data": {
      "image/png": "[encoded data removed]",
      "text/plain": [
       "<Figure size 1440x504 with 1 Axes>"
      ]
     },
     "metadata": {
      "needs_background": "light"
     },
     "output_type": "display_data"
    }
   ],
   "source": [
    "plt.figure(figsize=(20,7))\n",
    "plt.plot(x,y)\n",
    "plt.plot(x,activation3.output)"
   ]
  },
  {
   "cell_type": "code",
   "execution_count": null,
   "metadata": {},
   "outputs": [],
   "source": []
  }
 ],
 "metadata": {
  "kernelspec": {
   "display_name": "Python 3",
   "language": "python",
   "name": "python3"
  },
  "language_info": {
   "codemirror_mode": {
    "name": "ipython",
    "version": 3
   },
   "file_extension": ".py",
   "mimetype": "text/x-python",
   "name": "python",
   "nbconvert_exporter": "python",
   "pygments_lexer": "ipython3",
   "version": "3.8.3"
  }
 },
 "nbformat": 4,
 "nbformat_minor": 4
}
