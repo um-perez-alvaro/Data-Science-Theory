{
 "cells": [
  {
   "cell_type": "code",
   "execution_count": 1,
   "metadata": {},
   "outputs": [],
   "source": [
    "import numpy as np\n",
    "import matplotlib.pyplot as plt\n",
    "from scipy.signal import correlate2d, convolve2d # scipy.signal is a signal processing library"
   ]
  },
  {
   "cell_type": "markdown",
   "metadata": {},
   "source": [
    "## The convolution operation"
   ]
  },
  {
   "cell_type": "code",
   "execution_count": null,
   "metadata": {},
   "outputs": [],
   "source": [
    "# load an image\n",
    "from skimage import data\n",
    "image = data.coffee()[:,:,0]\n",
    "plt.imshow(image, cmap='gray')\n",
    "plt.axis(False)\n",
    "plt.show()"
   ]
  },
  {
   "cell_type": "code",
   "execution_count": null,
   "metadata": {},
   "outputs": [],
   "source": [
    "# Kernel for (vertical) edge detection\n",
    "kernel_y = np.array([[1,0,-1],\n",
    "                   [2,0,-2,],\n",
    "                   [1,0,-1]])\n",
    "kernel_y"
   ]
  },
  {
   "cell_type": "code",
   "execution_count": null,
   "metadata": {},
   "outputs": [],
   "source": [
    "# Kernel for (horizontal) edge detection\n",
    "kernel_x = kernel_y.T\n",
    "kernel_x"
   ]
  },
  {
   "cell_type": "code",
   "execution_count": null,
   "metadata": {},
   "outputs": [],
   "source": [
    "image.shape"
   ]
  },
  {
   "cell_type": "code",
   "execution_count": null,
   "metadata": {},
   "outputs": [],
   "source": [
    "output = correlate2d(image,kernel_y,'valid')\n",
    "plt.imshow(output, cmap='gray')"
   ]
  },
  {
   "cell_type": "code",
   "execution_count": null,
   "metadata": {},
   "outputs": [],
   "source": [
    "output = correlate2d(image,kernel_x,'valid')\n",
    "plt.imshow(output, cmap='gray')"
   ]
  },
  {
   "cell_type": "markdown",
   "metadata": {},
   "source": [
    "The hope: a CNN will find good kernels"
   ]
  },
  {
   "cell_type": "markdown",
   "metadata": {},
   "source": [
    "## The convolutional layer"
   ]
  },
  {
   "cell_type": "code",
   "execution_count": 2,
   "metadata": {},
   "outputs": [],
   "source": [
    "class convolutional_layer():\n",
    "    def __init__(self, input_shape, kernel_size, depth):\n",
    "        \n",
    "        # input_shape = (depth, width, height) of each input\n",
    "        input_depth, input_height, input_width = input_shape\n",
    "        self.input_shape = input_shape\n",
    "        self.input_depth = input_depth\n",
    "        \n",
    "        \n",
    "        # depth = number of kernels\n",
    "        self.depth = depth\n",
    "        \n",
    "        # output shape\n",
    "        self.output_shape = (depth, input_height - kernel_size + 1, input_width - kernel_size + 1)\n",
    "        \n",
    "        # initialize kernels (weights) and biases\n",
    "        self.kernels_shape = (depth, input_depth, kernel_size, kernel_size)\n",
    "        self.weights = 0.1*np.random.randn(depth, input_depth, kernel_size, kernel_size)\n",
    "        self.biases = np.zeros(self.output_shape)\n",
    "\n",
    "        # initialize momentums and caches (for ADAM)\n",
    "        self.weight_momentums = np.zeros(self.weights.shape)\n",
    "        self.weight_caches = np.zeros(self.weights.shape)\n",
    "        self.bias_momentums = np.zeros(self.biases.shape)\n",
    "        self.bias_caches = np.zeros(self.biases.shape)\n",
    "        \n",
    "    def forward(self, inputs):\n",
    "        \n",
    "        # save inputs\n",
    "        self.inputs = inputs\n",
    "        \n",
    "        # initialize output array\n",
    "        self.output = np.copy(self.biases)\n",
    "        \n",
    "        # loop over kernels\n",
    "        for i in range(self.depth):\n",
    "            for j in range(self.input_depth):\n",
    "                self.output[i] += correlate2d(self.inputs[j], self.weights[i, j], \"valid\")\n",
    "                \n",
    "    def backward(self, dinputs):\n",
    "\n",
    "        # initialize gradients\n",
    "        self.dweights = np.zeros(self.kernels_shape) # weights = kernels Kij\n",
    "        self.dinputs = np.zeros(self.input_shape)\n",
    "        self.dbiases = dinputs\n",
    "        \n",
    "        for i in range(self.depth):\n",
    "            for j in range(self.input_depth):\n",
    "                self.dweights[i, j] = correlate2d(self.inputs[j], dinputs[i], \"valid\")\n",
    "                self.dinputs[j] += convolve2d(dinputs[i], self.weights[i, j], \"full\")\n",
    "\n",
    "    \n",
    "    \n",
    "    \n",
    "class reshape:\n",
    "    def __init__(self, input_shape, output_shape):\n",
    "        self.input_shape = input_shape\n",
    "        self.output_shape = output_shape\n",
    "\n",
    "    def forward(self, inputs):\n",
    "        self.output = np.reshape(inputs, self.output_shape)\n",
    "\n",
    "    def backward(self, dinputs):\n",
    "        self.dinputs = np.reshape(dinputs, self.input_shape)\n",
    "        \n",
    "# neural network layer\n",
    "class layer:\n",
    "    \n",
    "    # initialization (weights and biases)\n",
    "    def __init__(self,n_inputs, n_neurons): # self represents the instance of the class\n",
    "        self.weights = 0.1*np.random.randn(n_inputs,n_neurons) # small random numbers\n",
    "        self.biases = np.zeros((1,n_neurons))# zeros\n",
    "        \n",
    "        # initialize momentums and caches\n",
    "        self.weight_momentums = np.zeros(self.weights.shape)\n",
    "        self.weight_caches = np.zeros(self.weights.shape)\n",
    "        self.bias_momentums = np.zeros(self.biases.shape)\n",
    "        self.bias_caches = np.zeros(self.biases.shape)\n",
    "        \n",
    "    # forward pass: pass the data through the layer\n",
    "    def forward(self, inputs):\n",
    "        # we need to store the output\n",
    "        self.output = inputs.dot(self.weights) + self.biases\n",
    "        \n",
    "        # remember input values\n",
    "        self.inputs = inputs\n",
    "        \n",
    "    def backward(self, dinputs):\n",
    "        \n",
    "        # gradient\n",
    "        self.dinputs = dinputs.dot(self.weights.T)\n",
    "        \n",
    "        # gradients on parameters\n",
    "        self.dweights = self.inputs.T.dot(dinputs)\n",
    "        self.dbiases = np.sum(dinputs, axis=0, keepdims=True)\n",
    "        \n",
    "\n",
    "        \n",
    "# activation function\n",
    "class ReLU:\n",
    "    def forward(self, inputs):\n",
    "        self.output = np.maximum(0, inputs)\n",
    "        \n",
    "        # remember input values\n",
    "        self.inputs = inputs\n",
    "        \n",
    "    def backward(self, dinputs):\n",
    "\n",
    "        # copy dvalues\n",
    "        self.dinputs = dinputs.copy()\n",
    "        \n",
    "        # zero gradient where input values were negative\n",
    "        self.dinputs[self.inputs <= 0] = 0\n",
    "        \n",
    "        \n",
    "\n",
    "        \n",
    "# softmax activation function\n",
    "class softmax:\n",
    "    \n",
    "    def forward(self, inputs):\n",
    "        \n",
    "        # unnormalized probabilities\n",
    "        exp_values = np.exp(inputs-np.max(inputs,axis=1, keepdims=True))\n",
    "        \n",
    "        # normalized probabilities\n",
    "        probabilities = exp_values / np.sum(exp_values, axis=1, keepdims=True)\n",
    "        self.output = probabilities\n",
    "        \n",
    "        # remember input values\n",
    "        self.inputs = inputs\n",
    "        \n",
    "        \n",
    "    def backward(self,dinputs):\n",
    "\n",
    "        \n",
    "        # initialized gradient array\n",
    "        self.dinputs = np.zeros(dinputs.shape)\n",
    "        \n",
    "        # For each data point, compute gradient\n",
    "        for i in range(len(dinputs)):\n",
    "            \n",
    "            # probabilities \n",
    "            proba = self.output[i]\n",
    "            \n",
    "            # loss gradients\n",
    "            dinputs_row = dinputs[i]\n",
    "\n",
    "\n",
    "            # calculate derivative matrix of the output\n",
    "            derivative_matrix = np.diag(proba) - proba.reshape(-1,1).dot(proba.reshape(1,-1))\n",
    "            \n",
    "            # store gradient\n",
    "            self.dinputs[i] = dinputs_row.dot(derivative_matrix)\n",
    "            \n",
    "\n",
    "class loss_crossentropy():\n",
    "    \n",
    "    def forward(self, y_hat, y):\n",
    "        \n",
    "        # number of data points\n",
    "        n_samples = len(y)\n",
    "        \n",
    "        # clip data to prevent division by 0\n",
    "        y_hat_clipped = np.clip(y_hat, 1e-7,1 - 1e-7)\n",
    "        \n",
    "        # predicted class probabilities\n",
    "        pred_proba = y_hat_clipped[range(n_samples),y]\n",
    "       \n",
    "        # sample losses \n",
    "        losses = -np.log(pred_proba)\n",
    "        \n",
    "        return losses\n",
    "    \n",
    "    \n",
    "    def backward(self, p, y):\n",
    "        \n",
    "        \n",
    "        # number of samples\n",
    "        n_samples = len(y)\n",
    "    \n",
    "        # one-hot matrix\n",
    "        Y = np.zeros(p.shape)\n",
    "        Y[np.arange(len(y)),y] = 1\n",
    "        \n",
    "        # calculate gradient\n",
    "        self.dinputs = -Y / np.clip(p,a_min=1e-200,a_max=1)\n",
    "        \n",
    "        # normalized gradient\n",
    "        self.dinputs = self.dinputs / n_samples\n",
    "            \n",
    "            \n",
    "        \n",
    "class optimizer_GD:\n",
    "\n",
    "    def __init__(self, learning_rate=1):\n",
    "        self.learning_rate = learning_rate\n",
    "        \n",
    "    def update_parameters(self, layer):\n",
    "        \n",
    "        # apply gradient descent iteration\n",
    "        layer.weights = layer.weights - self.learning_rate*layer.dweights\n",
    "        layer.biases = layer.biases - self.learning_rate*layer.dbiases\n",
    "        \n",
    "        \n",
    "# Adam optimizer\n",
    "class optimizer_ADAM:\n",
    "    \n",
    "    # Initialize optimizer - set parameters\n",
    "    def __init__(self, learning_rate=0.001, decay=0., epsilon=1e-7,beta_1=0.9, beta_2=0.999):\n",
    "        \n",
    "        # initial learning rate\n",
    "        self.learning_rate = learning_rate\n",
    "        self.current_learning_rate = learning_rate\n",
    "        \n",
    "        # decay parameters\n",
    "        self.decay = decay\n",
    "        \n",
    "        # number of epochs\n",
    "        self.epoch = 0\n",
    "        \n",
    "        # update learning rate parameter\n",
    "        self.epsilon = epsilon\n",
    "        \n",
    "        # momentum parameter\n",
    "        self.beta_1 = beta_1\n",
    "        \n",
    "        # cache parameter\n",
    "        self.beta_2 = beta_2\n",
    "        \n",
    "        \n",
    "    # update learning rate\n",
    "    def pre_update_parameters(self):\n",
    "        \n",
    "        # update learning rate\n",
    "        self.current_learning_rate = self.learning_rate * (1 / (1 + self.decay * self.epoch))\n",
    "            \n",
    "    # Update weights/biases\n",
    "    def update_parameters(self, layer):\n",
    "                   \n",
    "        # momentums\n",
    "        layer.weight_momentums = self.beta_1 * layer.weight_momentums + (1 - self.beta_1) * layer.dweights\n",
    "        layer.bias_momentums = self.beta_1 * layer.bias_momentums + (1 - self.beta_1) * layer.dbiases\n",
    "        \n",
    "        # corrected momentums\n",
    "        weight_momentums_corrected = layer.weight_momentums / (1 - self.beta_1 ** (self.epoch + 1))\n",
    "        bias_momentums_corrected = layer.bias_momentums / (1 - self.beta_1 ** (self.epoch + 1))\n",
    "        \n",
    "        # cache\n",
    "        layer.weight_caches = self.beta_2 * layer.weight_caches + (1 - self.beta_2) * layer.dweights**2  \n",
    "        layer.bias_caches = self.beta_2 * layer.bias_caches + (1 - self.beta_2) * layer.dbiases**2\n",
    "        \n",
    "        # corrected cache\n",
    "        weight_caches_corrected = layer.weight_caches / (1 - self.beta_2 ** (self.epoch + 1))\n",
    "        bias_caches_corrected = layer.bias_caches / (1 - self.beta_2 ** (self.epoch + 1))\n",
    "        \n",
    "        # update weights and biases\n",
    "        layer.weights += -self.current_learning_rate * weight_momentums_corrected / (np.sqrt(weight_caches_corrected) + self.epsilon)\n",
    "        layer.biases += -self.current_learning_rate * bias_momentums_corrected / (np.sqrt(bias_caches_corrected) + self.epsilon)\n",
    "        \n",
    "    # update epoch\n",
    "    def post_update_parameters(self):\n",
    "        self.epoch += 1\n",
    "        \n",
    "        \n",
    "# dropout layer\n",
    "class dropout:\n",
    "    \n",
    "    # initialization - set the dropout rate\n",
    "    def __init__(self, rate):\n",
    "        self.rate = rate\n",
    "        \n",
    "    # forward pass\n",
    "    def forward(self, inputs):\n",
    "        # save inputs \n",
    "        self.inputs = inputs\n",
    "        # mask\n",
    "        self.mask = np.random.binomial(1, 1 - self.rate, size = inputs.shape) / (1 - self.rate)\n",
    "        # apply mask\n",
    "        self.output = inputs * self.mask\n",
    "        \n",
    "    # backward pass\n",
    "    def backward(self, dinputs):\n",
    "        self.dinputs = dinputs*self.mask"
   ]
  },
  {
   "cell_type": "markdown",
   "metadata": {},
   "source": [
    "## MNIST"
   ]
  },
  {
   "cell_type": "code",
   "execution_count": 6,
   "metadata": {},
   "outputs": [],
   "source": [
    "import pandas as pd"
   ]
  },
  {
   "cell_type": "code",
   "execution_count": 7,
   "metadata": {},
   "outputs": [
    {
     "data": {
      "text/html": [
       "<div>\n",
       "<style scoped>\n",
       "    .dataframe tbody tr th:only-of-type {\n",
       "        vertical-align: middle;\n",
       "    }\n",
       "\n",
       "    .dataframe tbody tr th {\n",
       "        vertical-align: top;\n",
       "    }\n",
       "\n",
       "    .dataframe thead th {\n",
       "        text-align: right;\n",
       "    }\n",
       "</style>\n",
       "<table border=\"1\" class=\"dataframe\">\n",
       "  <thead>\n",
       "    <tr style=\"text-align: right;\">\n",
       "      <th></th>\n",
       "      <th>pixel 0</th>\n",
       "      <th>pixel 1</th>\n",
       "      <th>pixel 2</th>\n",
       "      <th>pixel 3</th>\n",
       "      <th>pixel 4</th>\n",
       "      <th>pixel 5</th>\n",
       "      <th>pixel 6</th>\n",
       "      <th>pixel 7</th>\n",
       "      <th>pixel 8</th>\n",
       "      <th>pixel 9</th>\n",
       "      <th>...</th>\n",
       "      <th>pixel 775</th>\n",
       "      <th>pixel 776</th>\n",
       "      <th>pixel 777</th>\n",
       "      <th>pixel 778</th>\n",
       "      <th>pixel 779</th>\n",
       "      <th>pixel 780</th>\n",
       "      <th>pixel 781</th>\n",
       "      <th>pixel 782</th>\n",
       "      <th>pixel 783</th>\n",
       "      <th>label</th>\n",
       "    </tr>\n",
       "  </thead>\n",
       "  <tbody>\n",
       "    <tr>\n",
       "      <th>0</th>\n",
       "      <td>0.0</td>\n",
       "      <td>0.0</td>\n",
       "      <td>0.0</td>\n",
       "      <td>0.0</td>\n",
       "      <td>0.0</td>\n",
       "      <td>0.0</td>\n",
       "      <td>0.0</td>\n",
       "      <td>0.0</td>\n",
       "      <td>0.0</td>\n",
       "      <td>0.0</td>\n",
       "      <td>...</td>\n",
       "      <td>0.0</td>\n",
       "      <td>0.0</td>\n",
       "      <td>0.0</td>\n",
       "      <td>0.0</td>\n",
       "      <td>0.0</td>\n",
       "      <td>0.0</td>\n",
       "      <td>0.0</td>\n",
       "      <td>0.0</td>\n",
       "      <td>0.0</td>\n",
       "      <td>5</td>\n",
       "    </tr>\n",
       "    <tr>\n",
       "      <th>1</th>\n",
       "      <td>0.0</td>\n",
       "      <td>0.0</td>\n",
       "      <td>0.0</td>\n",
       "      <td>0.0</td>\n",
       "      <td>0.0</td>\n",
       "      <td>0.0</td>\n",
       "      <td>0.0</td>\n",
       "      <td>0.0</td>\n",
       "      <td>0.0</td>\n",
       "      <td>0.0</td>\n",
       "      <td>...</td>\n",
       "      <td>0.0</td>\n",
       "      <td>0.0</td>\n",
       "      <td>0.0</td>\n",
       "      <td>0.0</td>\n",
       "      <td>0.0</td>\n",
       "      <td>0.0</td>\n",
       "      <td>0.0</td>\n",
       "      <td>0.0</td>\n",
       "      <td>0.0</td>\n",
       "      <td>0</td>\n",
       "    </tr>\n",
       "    <tr>\n",
       "      <th>2</th>\n",
       "      <td>0.0</td>\n",
       "      <td>0.0</td>\n",
       "      <td>0.0</td>\n",
       "      <td>0.0</td>\n",
       "      <td>0.0</td>\n",
       "      <td>0.0</td>\n",
       "      <td>0.0</td>\n",
       "      <td>0.0</td>\n",
       "      <td>0.0</td>\n",
       "      <td>0.0</td>\n",
       "      <td>...</td>\n",
       "      <td>0.0</td>\n",
       "      <td>0.0</td>\n",
       "      <td>0.0</td>\n",
       "      <td>0.0</td>\n",
       "      <td>0.0</td>\n",
       "      <td>0.0</td>\n",
       "      <td>0.0</td>\n",
       "      <td>0.0</td>\n",
       "      <td>0.0</td>\n",
       "      <td>4</td>\n",
       "    </tr>\n",
       "    <tr>\n",
       "      <th>3</th>\n",
       "      <td>0.0</td>\n",
       "      <td>0.0</td>\n",
       "      <td>0.0</td>\n",
       "      <td>0.0</td>\n",
       "      <td>0.0</td>\n",
       "      <td>0.0</td>\n",
       "      <td>0.0</td>\n",
       "      <td>0.0</td>\n",
       "      <td>0.0</td>\n",
       "      <td>0.0</td>\n",
       "      <td>...</td>\n",
       "      <td>0.0</td>\n",
       "      <td>0.0</td>\n",
       "      <td>0.0</td>\n",
       "      <td>0.0</td>\n",
       "      <td>0.0</td>\n",
       "      <td>0.0</td>\n",
       "      <td>0.0</td>\n",
       "      <td>0.0</td>\n",
       "      <td>0.0</td>\n",
       "      <td>1</td>\n",
       "    </tr>\n",
       "    <tr>\n",
       "      <th>4</th>\n",
       "      <td>0.0</td>\n",
       "      <td>0.0</td>\n",
       "      <td>0.0</td>\n",
       "      <td>0.0</td>\n",
       "      <td>0.0</td>\n",
       "      <td>0.0</td>\n",
       "      <td>0.0</td>\n",
       "      <td>0.0</td>\n",
       "      <td>0.0</td>\n",
       "      <td>0.0</td>\n",
       "      <td>...</td>\n",
       "      <td>0.0</td>\n",
       "      <td>0.0</td>\n",
       "      <td>0.0</td>\n",
       "      <td>0.0</td>\n",
       "      <td>0.0</td>\n",
       "      <td>0.0</td>\n",
       "      <td>0.0</td>\n",
       "      <td>0.0</td>\n",
       "      <td>0.0</td>\n",
       "      <td>9</td>\n",
       "    </tr>\n",
       "  </tbody>\n",
       "</table>\n",
       "<p>5 rows × 785 columns</p>\n",
       "</div>"
      ],
      "text/plain": [
       "   pixel 0  pixel 1  pixel 2  pixel 3  pixel 4  pixel 5  pixel 6  pixel 7  \\\n",
       "0      0.0      0.0      0.0      0.0      0.0      0.0      0.0      0.0   \n",
       "1      0.0      0.0      0.0      0.0      0.0      0.0      0.0      0.0   \n",
       "2      0.0      0.0      0.0      0.0      0.0      0.0      0.0      0.0   \n",
       "3      0.0      0.0      0.0      0.0      0.0      0.0      0.0      0.0   \n",
       "4      0.0      0.0      0.0      0.0      0.0      0.0      0.0      0.0   \n",
       "\n",
       "   pixel 8  pixel 9  ...  pixel 775  pixel 776  pixel 777  pixel 778  \\\n",
       "0      0.0      0.0  ...        0.0        0.0        0.0        0.0   \n",
       "1      0.0      0.0  ...        0.0        0.0        0.0        0.0   \n",
       "2      0.0      0.0  ...        0.0        0.0        0.0        0.0   \n",
       "3      0.0      0.0  ...        0.0        0.0        0.0        0.0   \n",
       "4      0.0      0.0  ...        0.0        0.0        0.0        0.0   \n",
       "\n",
       "   pixel 779  pixel 780  pixel 781  pixel 782  pixel 783  label  \n",
       "0        0.0        0.0        0.0        0.0        0.0      5  \n",
       "1        0.0        0.0        0.0        0.0        0.0      0  \n",
       "2        0.0        0.0        0.0        0.0        0.0      4  \n",
       "3        0.0        0.0        0.0        0.0        0.0      1  \n",
       "4        0.0        0.0        0.0        0.0        0.0      9  \n",
       "\n",
       "[5 rows x 785 columns]"
      ]
     },
     "execution_count": 7,
     "metadata": {},
     "output_type": "execute_result"
    }
   ],
   "source": [
    "url = 'https://raw.githubusercontent.com/um-perez-alvaro/Data-Science-Theory/master/Data/digits.csv'\n",
    "data = pd.read_csv(url)\n",
    "data.head()"
   ]
  },
  {
   "cell_type": "code",
   "execution_count": 8,
   "metadata": {},
   "outputs": [],
   "source": [
    "X = data.drop('label',axis=1).to_numpy()\n",
    "y = data['label'].to_numpy()"
   ]
  },
  {
   "cell_type": "code",
   "execution_count": 9,
   "metadata": {},
   "outputs": [
    {
     "data": {
      "text/plain": [
       "(5000, 784)"
      ]
     },
     "execution_count": 9,
     "metadata": {},
     "output_type": "execute_result"
    }
   ],
   "source": [
    "X.shape"
   ]
  },
  {
   "cell_type": "code",
   "execution_count": 10,
   "metadata": {},
   "outputs": [],
   "source": [
    "X = X.reshape(len(X),1,28,28)"
   ]
  },
  {
   "cell_type": "code",
   "execution_count": 11,
   "metadata": {},
   "outputs": [
    {
     "data": {
      "text/plain": [
       "<matplotlib.image.AxesImage at 0x173a3577af0>"
      ]
     },
     "execution_count": 11,
     "metadata": {},
     "output_type": "execute_result"
    },
    {
     "data": {
      "image/png": "[encoded data removed]",
      "text/plain": [
       "<Figure size 432x288 with 1 Axes>"
      ]
     },
     "metadata": {
      "needs_background": "light"
     },
     "output_type": "display_data"
    }
   ],
   "source": [
    "plt.imshow(X[0,0],cmap='gray')"
   ]
  },
  {
   "cell_type": "markdown",
   "metadata": {},
   "source": [
    "## MaxPooling"
   ]
  },
  {
   "cell_type": "code",
   "execution_count": null,
   "metadata": {},
   "outputs": [],
   "source": [
    "# generator example\n",
    "def simpleGenerator(n):\n",
    "    for i in range(n):\n",
    "        for j in range(n):\n",
    "            yield (i**2,j**2)"
   ]
  },
  {
   "cell_type": "code",
   "execution_count": null,
   "metadata": {},
   "outputs": [],
   "source": [
    "for value in simpleGenerator(5):\n",
    "    print(value)"
   ]
  },
  {
   "cell_type": "code",
   "execution_count": 3,
   "metadata": {},
   "outputs": [],
   "source": [
    "class maxpool2:\n",
    "  # A Max Pooling layer using a pool size of 2.\n",
    "\n",
    "    def iterate_regions(self, image):\n",
    "        # Generates non-overlapping 2x2 image regions to pool over.\n",
    "        \n",
    "        \n",
    "        \n",
    "        _, h, w = image.shape\n",
    "\n",
    "        new_h = h // 2\n",
    "        new_w = w // 2\n",
    "\n",
    "        for i in range(new_h):\n",
    "            for j in range(new_w):\n",
    "                region = image[:, (2*i):(2*i + 2), (2*j):(2*j + 2)]\n",
    "                yield region, i, j\n",
    "\n",
    "    def forward(self, inputs):\n",
    "\n",
    "        self.inputs = inputs\n",
    "        depth, h, w = inputs.shape\n",
    "        self.output = np.zeros((depth, h // 2, w // 2))\n",
    "\n",
    "        for region, i, j in self.iterate_regions(inputs):\n",
    "            self.output[:, i, j] = np.max(region, axis=(1, 2))\n",
    "\n",
    "    \n",
    "    def backward(self, dinputs):\n",
    " \n",
    "        self.dinputs = np.zeros(self.inputs.shape)\n",
    "\n",
    "        for region, i, j in self.iterate_regions(self.inputs):\n",
    "            d, h, w = region.shape\n",
    "            max_idx = region.reshape(d,-1).argmax(axis=1)\n",
    "            max_pos = np.column_stack(np.unravel_index(max_idx, (h,w)))\n",
    "            self.dinputs[:, (2*i):(2*i + 2), (2*j):(2*j + 2)][np.arange(d),max_pos[:,0],max_pos[:,1]] = dinputs[:,i,j]\n",
    "            "
   ]
  },
  {
   "cell_type": "code",
   "execution_count": null,
   "metadata": {},
   "outputs": [],
   "source": [
    "# max pooling example\n",
    "region = np.array(\n",
    "[\n",
    "    [[1,2],[3,4]],\n",
    "    [[2,2],[-2,-2]],\n",
    "    [[0,-1],[-3,0]]\n",
    "]\n",
    ")\n",
    "d,h,w = region.shape\n",
    "d,h,w"
   ]
  },
  {
   "cell_type": "code",
   "execution_count": null,
   "metadata": {},
   "outputs": [],
   "source": [
    "region "
   ]
  },
  {
   "cell_type": "code",
   "execution_count": null,
   "metadata": {
    "scrolled": true
   },
   "outputs": [],
   "source": [
    "np.max(region, axis=(1,2))"
   ]
  },
  {
   "cell_type": "code",
   "execution_count": 12,
   "metadata": {},
   "outputs": [
    {
     "data": {
      "text/plain": [
       "array([[[ 7,  7, 11,  9],\n",
       "        [13,  2, 15,  4],\n",
       "        [ 1, 14,  2,  4],\n",
       "        [10,  3, 10,  3]],\n",
       "\n",
       "       [[13, 10,  0,  1],\n",
       "        [13,  6, 15, 12],\n",
       "        [13, 12,  7,  1],\n",
       "        [ 1, 15,  2,  5]],\n",
       "\n",
       "       [[15, 11,  5, 11],\n",
       "        [13, 13, 10,  7],\n",
       "        [ 3, 12,  4,  9],\n",
       "        [ 0,  4, 12,  5]]])"
      ]
     },
     "execution_count": 12,
     "metadata": {},
     "output_type": "execute_result"
    }
   ],
   "source": [
    "# max pooling backward pass example\n",
    "inputs = np.array(\n",
    "[\n",
    "    np.random.randint(low=0,high=16,size=(4,4)),\n",
    "    np.random.randint(low=0,high=16,size=(4,4)),\n",
    "    np.random.randint(low=0,high=16,size=(4,4))\n",
    "]\n",
    ")\n",
    "inputs"
   ]
  },
  {
   "cell_type": "code",
   "execution_count": 13,
   "metadata": {},
   "outputs": [],
   "source": [
    "pooling = maxpool2()"
   ]
  },
  {
   "cell_type": "code",
   "execution_count": 14,
   "metadata": {},
   "outputs": [],
   "source": [
    "pooling.forward(inputs)"
   ]
  },
  {
   "cell_type": "code",
   "execution_count": 15,
   "metadata": {},
   "outputs": [
    {
     "data": {
      "text/plain": [
       "array([[[13., 15.],\n",
       "        [14., 10.]],\n",
       "\n",
       "       [[13., 15.],\n",
       "        [15.,  7.]],\n",
       "\n",
       "       [[15., 11.],\n",
       "        [12., 12.]]])"
      ]
     },
     "execution_count": 15,
     "metadata": {},
     "output_type": "execute_result"
    }
   ],
   "source": [
    "output = pooling.output\n",
    "output"
   ]
  },
  {
   "cell_type": "code",
   "execution_count": 16,
   "metadata": {},
   "outputs": [
    {
     "data": {
      "text/plain": [
       "array([[[0, 0],\n",
       "        [1, 3]],\n",
       "\n",
       "       [[3, 0],\n",
       "        [0, 1]],\n",
       "\n",
       "       [[2, 3],\n",
       "        [1, 1]]])"
      ]
     },
     "execution_count": 16,
     "metadata": {},
     "output_type": "execute_result"
    }
   ],
   "source": [
    "dinputs = np.array(\n",
    "[\n",
    "    np.random.randint(low=0,high=4,size=(2,2)),\n",
    "    np.random.randint(low=0,high=4,size=(2,2)),\n",
    "    np.random.randint(low=0,high=4,size=(2,2))\n",
    "]\n",
    ")\n",
    "dinputs"
   ]
  },
  {
   "cell_type": "code",
   "execution_count": 17,
   "metadata": {},
   "outputs": [],
   "source": [
    "# this will be self.dinputs\n",
    "doutputs = np.zeros(inputs.shape)"
   ]
  },
  {
   "cell_type": "code",
   "execution_count": 18,
   "metadata": {},
   "outputs": [
    {
     "data": {
      "text/plain": [
       "array([[[ 7,  7, 11,  9],\n",
       "        [13,  2, 15,  4],\n",
       "        [ 1, 14,  2,  4],\n",
       "        [10,  3, 10,  3]],\n",
       "\n",
       "       [[13, 10,  0,  1],\n",
       "        [13,  6, 15, 12],\n",
       "        [13, 12,  7,  1],\n",
       "        [ 1, 15,  2,  5]],\n",
       "\n",
       "       [[15, 11,  5, 11],\n",
       "        [13, 13, 10,  7],\n",
       "        [ 3, 12,  4,  9],\n",
       "        [ 0,  4, 12,  5]]])"
      ]
     },
     "execution_count": 18,
     "metadata": {},
     "output_type": "execute_result"
    }
   ],
   "source": [
    "inputs"
   ]
  },
  {
   "cell_type": "code",
   "execution_count": 19,
   "metadata": {},
   "outputs": [
    {
     "data": {
      "text/plain": [
       "array([[[11,  9],\n",
       "        [15,  4]],\n",
       "\n",
       "       [[ 0,  1],\n",
       "        [15, 12]],\n",
       "\n",
       "       [[ 5, 11],\n",
       "        [10,  7]]])"
      ]
     },
     "execution_count": 19,
     "metadata": {},
     "output_type": "execute_result"
    }
   ],
   "source": [
    "i = 0\n",
    "j = 1\n",
    "region = inputs[:, (2*i):(2*i + 2), (2*j):(2*j + 2)]\n",
    "d,h,w = region.shape\n",
    "region"
   ]
  },
  {
   "cell_type": "code",
   "execution_count": 20,
   "metadata": {},
   "outputs": [
    {
     "data": {
      "text/plain": [
       "array([2, 2, 1], dtype=int64)"
      ]
     },
     "execution_count": 20,
     "metadata": {},
     "output_type": "execute_result"
    }
   ],
   "source": [
    "# find the index of the max in each array\n",
    "max_idx = region.reshape(d,-1).argmax(axis=1)\n",
    "max_idx"
   ]
  },
  {
   "cell_type": "code",
   "execution_count": 21,
   "metadata": {},
   "outputs": [
    {
     "data": {
      "text/plain": [
       "array([[1, 0],\n",
       "       [1, 0],\n",
       "       [0, 1]], dtype=int64)"
      ]
     },
     "execution_count": 21,
     "metadata": {},
     "output_type": "execute_result"
    }
   ],
   "source": [
    "max_pos = np.column_stack(np.unravel_index(max_idx, (h,w)))\n",
    "max_pos"
   ]
  },
  {
   "cell_type": "code",
   "execution_count": 22,
   "metadata": {},
   "outputs": [
    {
     "data": {
      "text/plain": [
       "array([15, 15, 11])"
      ]
     },
     "execution_count": 22,
     "metadata": {},
     "output_type": "execute_result"
    }
   ],
   "source": [
    "region[np.arange(d),max_pos[:,0],max_pos[:,1]]"
   ]
  },
  {
   "cell_type": "code",
   "execution_count": 23,
   "metadata": {},
   "outputs": [
    {
     "data": {
      "text/plain": [
       "array([[[0, 0],\n",
       "        [1, 3]],\n",
       "\n",
       "       [[3, 0],\n",
       "        [0, 1]],\n",
       "\n",
       "       [[2, 3],\n",
       "        [1, 1]]])"
      ]
     },
     "execution_count": 23,
     "metadata": {},
     "output_type": "execute_result"
    }
   ],
   "source": [
    "dinputs"
   ]
  },
  {
   "cell_type": "code",
   "execution_count": 24,
   "metadata": {},
   "outputs": [
    {
     "data": {
      "text/plain": [
       "array([0, 0, 3])"
      ]
     },
     "execution_count": 24,
     "metadata": {},
     "output_type": "execute_result"
    }
   ],
   "source": [
    "dinputs[:,i,j]"
   ]
  },
  {
   "cell_type": "code",
   "execution_count": 25,
   "metadata": {},
   "outputs": [
    {
     "data": {
      "text/plain": [
       "array([[[0., 0.],\n",
       "        [0., 0.]],\n",
       "\n",
       "       [[0., 0.],\n",
       "        [0., 0.]],\n",
       "\n",
       "       [[0., 0.],\n",
       "        [0., 0.]]])"
      ]
     },
     "execution_count": 25,
     "metadata": {},
     "output_type": "execute_result"
    }
   ],
   "source": [
    "doutputs[:, (2*i):(2*i + 2), (2*j):(2*j + 2)]"
   ]
  },
  {
   "cell_type": "code",
   "execution_count": 26,
   "metadata": {},
   "outputs": [],
   "source": [
    "doutputs[:, (2*i):(2*i + 2), (2*j):(2*j + 2)][np.arange(d),max_pos[:,0],max_pos[:,1]] = dinputs[:,i,j]"
   ]
  },
  {
   "cell_type": "code",
   "execution_count": 27,
   "metadata": {},
   "outputs": [
    {
     "data": {
      "text/plain": [
       "array([[[0., 0., 0., 0.],\n",
       "        [0., 0., 0., 0.],\n",
       "        [0., 0., 0., 0.],\n",
       "        [0., 0., 0., 0.]],\n",
       "\n",
       "       [[0., 0., 0., 0.],\n",
       "        [0., 0., 0., 0.],\n",
       "        [0., 0., 0., 0.],\n",
       "        [0., 0., 0., 0.]],\n",
       "\n",
       "       [[0., 0., 0., 3.],\n",
       "        [0., 0., 0., 0.],\n",
       "        [0., 0., 0., 0.],\n",
       "        [0., 0., 0., 0.]]])"
      ]
     },
     "execution_count": 27,
     "metadata": {},
     "output_type": "execute_result"
    }
   ],
   "source": [
    "doutputs"
   ]
  },
  {
   "cell_type": "code",
   "execution_count": 28,
   "metadata": {},
   "outputs": [
    {
     "data": {
      "text/plain": [
       "array([[[ 7,  7, 11,  9],\n",
       "        [13,  2, 15,  4],\n",
       "        [ 1, 14,  2,  4],\n",
       "        [10,  3, 10,  3]],\n",
       "\n",
       "       [[13, 10,  0,  1],\n",
       "        [13,  6, 15, 12],\n",
       "        [13, 12,  7,  1],\n",
       "        [ 1, 15,  2,  5]],\n",
       "\n",
       "       [[15, 11,  5, 11],\n",
       "        [13, 13, 10,  7],\n",
       "        [ 3, 12,  4,  9],\n",
       "        [ 0,  4, 12,  5]]])"
      ]
     },
     "execution_count": 28,
     "metadata": {},
     "output_type": "execute_result"
    }
   ],
   "source": [
    "inputs"
   ]
  },
  {
   "cell_type": "code",
   "execution_count": null,
   "metadata": {},
   "outputs": [],
   "source": [
    "# check that maxpool2 works\n",
    "conv_layer = convolutional_layer(input_shape=(1,28,28), kernel_size=5, depth=10)\n",
    "pooling = maxpool2()"
   ]
  },
  {
   "cell_type": "code",
   "execution_count": null,
   "metadata": {},
   "outputs": [],
   "source": [
    "conv_layer.forward(X[0])"
   ]
  },
  {
   "cell_type": "code",
   "execution_count": null,
   "metadata": {},
   "outputs": [],
   "source": [
    "conv_layer.output.shape"
   ]
  },
  {
   "cell_type": "code",
   "execution_count": null,
   "metadata": {},
   "outputs": [],
   "source": [
    "pooling.forward(conv_layer.output)"
   ]
  },
  {
   "cell_type": "code",
   "execution_count": null,
   "metadata": {},
   "outputs": [],
   "source": [
    "pooling.output.shape"
   ]
  },
  {
   "cell_type": "markdown",
   "metadata": {},
   "source": [
    "## Convolutional Neural Network"
   ]
  },
  {
   "cell_type": "code",
   "execution_count": null,
   "metadata": {},
   "outputs": [],
   "source": [
    "# layer 1\n",
    "layer1 = convolutional_layer(input_shape=(1,28,28), kernel_size=5, depth=5)\n",
    "activation1 = ReLU()\n",
    "pooling1 = maxpool2()\n",
    "\n",
    "# layer 2\n",
    "layer2 = reshape(input_shape=(5,12,12), output_shape=(1,5*12*12)) # 12 = (28-5+1)/2\n",
    "\n",
    "# layer 3\n",
    "layer3 = layer(n_inputs = 5 * 12 * 12, n_neurons = 10)\n",
    "activation3 = softmax()\n",
    "\n",
    "\n",
    "# loss function \n",
    "loss_function = loss_crossentropy()\n",
    "\n",
    "# optimizer\n",
    "optimizer = optimizer_ADAM(learning_rate=0.01)"
   ]
  },
  {
   "cell_type": "code",
   "execution_count": null,
   "metadata": {
    "scrolled": true
   },
   "outputs": [],
   "source": [
    "# warning: CNNs on CPUs are very slow. To speed it up, we need to run this on GPUs\n",
    "n_epochs = 10\n",
    "loss = np.zeros(n_epochs)\n",
    "accuracy = np.zeros(n_epochs)\n",
    "# gradient descent iterations\n",
    "for epoch in range(n_epochs):\n",
    "    \n",
    "    # EPOCH = loop over all datapoints\n",
    "    losses = np.zeros(len(X))\n",
    "    y_pred = np.zeros(len(X))\n",
    "    for i in range(len(X)):\n",
    "\n",
    "        # forward pass\n",
    "        layer1.forward(X[i])\n",
    "        activation1.forward(layer1.output)\n",
    "        pooling1.forward(activation1.output)\n",
    "\n",
    "        layer2.forward(pooling1.output)\n",
    "        \n",
    "        layer3.forward(layer2.output)\n",
    "        activation3.forward(layer3.output)\n",
    "        \n",
    "\n",
    "        # sample loss\n",
    "        losses[i] = loss_function.forward(activation3.output,y[i].reshape(1))\n",
    "        # prediction\n",
    "        y_pred[i] = np.argmax(activation3.output,axis=1)\n",
    "        \n",
    "\n",
    "        # backward pass\n",
    "        loss_function.backward(activation3.output,y[i].reshape(1))\n",
    "        activation3.backward(loss_function.dinputs)\n",
    "        layer3.backward(activation3.dinputs)\n",
    "\n",
    "\n",
    "        layer2.backward(layer3.dinputs)\n",
    "\n",
    "        pooling1.backward(layer2.dinputs)\n",
    "        activation1.backward(pooling1.dinputs)\n",
    "        layer1.backward(activation1.dinputs)\n",
    "\n",
    "\n",
    "        # update weights and biases\n",
    "        optimizer.pre_update_parameters()\n",
    "        optimizer.update_parameters(layer1)\n",
    "        optimizer.update_parameters(layer3)\n",
    "        optimizer.post_update_parameters()\n",
    "\n",
    "    # loss and accuracy\n",
    "    loss[epoch] = np.mean(losses)\n",
    "    accuracy[epoch] = 100*np.mean(y_pred == y)\n",
    "    \n",
    "    \n",
    "    # print loss and accuracy \n",
    "    print('epoch: '+str(epoch))\n",
    "    print('loss: '+str(np.round(loss[epoch],3)))\n",
    "    print('accuracy: '+str(accuracy[epoch]))\n",
    "    print('------------------------')"
   ]
  },
  {
   "cell_type": "markdown",
   "metadata": {},
   "source": [
    "## Another Convolutional Neural Network"
   ]
  },
  {
   "cell_type": "code",
   "execution_count": 29,
   "metadata": {},
   "outputs": [
    {
     "data": {
      "text/plain": [
       "5000"
      ]
     },
     "execution_count": 29,
     "metadata": {},
     "output_type": "execute_result"
    }
   ],
   "source": [
    "len(X)"
   ]
  },
  {
   "cell_type": "code",
   "execution_count": 33,
   "metadata": {},
   "outputs": [],
   "source": [
    "# reduce the size of the dataset\n",
    "X = X[0:1000]\n",
    "y = y[0:1000]"
   ]
  },
  {
   "cell_type": "code",
   "execution_count": 34,
   "metadata": {},
   "outputs": [],
   "source": [
    "# layer 1\n",
    "layer1 = convolutional_layer(input_shape=(1,28,28), kernel_size=3, depth=32) # output size = (32,26,26)\n",
    "activation1 = ReLU()\n",
    "pooling1 = maxpool2() # output size (32,13,13)\n",
    "\n",
    "# layer 2\n",
    "layer2 = convolutional_layer(input_shape=(32,13,13), kernel_size=3, depth=64) # output size = (64,11,11)\n",
    "activation2 = ReLU()\n",
    "pooling2 = maxpool2() # output size (64,5,5)\n",
    "\n",
    "# layer 3\n",
    "layer3 = reshape(input_shape=(64,5,5), output_shape=(1,64*5*5)) \n",
    "dropout3 = dropout(0.5)\n",
    "\n",
    "# layer 4\n",
    "layer4 = layer(n_inputs = 64*5*5, n_neurons = 10)\n",
    "activation4 = softmax()\n",
    "\n",
    "\n",
    "# loss function \n",
    "loss_function = loss_crossentropy()\n",
    "\n",
    "# optimizer\n",
    "optimizer = optimizer_ADAM(learning_rate=0.01)"
   ]
  },
  {
   "cell_type": "code",
   "execution_count": 35,
   "metadata": {},
   "outputs": [
    {
     "name": "stdout",
     "output_type": "stream",
     "text": [
      "epoch: 0\n",
      "loss: 1.581\n",
      "accuracy: 57.9\n",
      "------------------------\n",
      "epoch: 1\n",
      "loss: 1.118\n",
      "accuracy: 73.8\n",
      "------------------------\n",
      "epoch: 2\n",
      "loss: 1.389\n",
      "accuracy: 76.4\n",
      "------------------------\n",
      "epoch: 3\n",
      "loss: 1.23\n",
      "accuracy: 78.2\n",
      "------------------------\n",
      "epoch: 4\n",
      "loss: 1.288\n",
      "accuracy: 78.7\n",
      "------------------------\n",
      "epoch: 5\n",
      "loss: 1.036\n",
      "accuracy: 81.8\n",
      "------------------------\n",
      "epoch: 6\n",
      "loss: 0.852\n",
      "accuracy: 85.2\n",
      "------------------------\n",
      "epoch: 7\n",
      "loss: 1.319\n",
      "accuracy: 84.2\n",
      "------------------------\n",
      "epoch: 8\n",
      "loss: 1.606\n",
      "accuracy: 83.2\n",
      "------------------------\n",
      "epoch: 9\n",
      "loss: 1.07\n",
      "accuracy: 85.9\n",
      "------------------------\n",
      "epoch: 10\n",
      "loss: 0.862\n",
      "accuracy: 89.8\n",
      "------------------------\n",
      "epoch: 11\n",
      "loss: 0.985\n",
      "accuracy: 89.9\n",
      "------------------------\n",
      "epoch: 12\n",
      "loss: 0.96\n",
      "accuracy: 90.8\n",
      "------------------------\n",
      "epoch: 13\n",
      "loss: 1.11\n",
      "accuracy: 90.3\n",
      "------------------------\n",
      "epoch: 14\n",
      "loss: 0.881\n",
      "accuracy: 91.9\n",
      "------------------------\n",
      "epoch: 15\n",
      "loss: 1.095\n",
      "accuracy: 89.60000000000001\n",
      "------------------------\n",
      "epoch: 16\n",
      "loss: 0.911\n",
      "accuracy: 92.5\n",
      "------------------------\n",
      "epoch: 17\n",
      "loss: 0.675\n",
      "accuracy: 94.0\n",
      "------------------------\n",
      "epoch: 18\n",
      "loss: 0.759\n",
      "accuracy: 93.5\n",
      "------------------------\n",
      "epoch: 19\n",
      "loss: 0.872\n",
      "accuracy: 93.30000000000001\n",
      "------------------------\n"
     ]
    }
   ],
   "source": [
    "# it takes forever; but achieves ~99% or accuracy on the test set.\n",
    "n_epochs = 20\n",
    "loss = np.zeros(n_epochs)\n",
    "accuracy = np.zeros(n_epochs)\n",
    "# gradient descent iterations\n",
    "for epoch in range(n_epochs):\n",
    "    \n",
    "    # EPOCH = loop over all datapoints\n",
    "    losses = np.zeros(len(X))\n",
    "    y_pred = np.zeros(len(X))\n",
    "    for i in range(len(X)):\n",
    "\n",
    "        # forward pass\n",
    "        layer1.forward(X[i])\n",
    "        activation1.forward(layer1.output)\n",
    "        pooling1.forward(activation1.output)\n",
    "\n",
    "        layer2.forward(pooling1.output)\n",
    "        activation2.forward(layer2.output)\n",
    "        pooling2.forward(activation2.output)\n",
    "        \n",
    "        layer3.forward(pooling2.output)\n",
    "        dropout3.forward(layer3.output)\n",
    "        \n",
    "        layer4.forward(dropout3.output)\n",
    "        activation4.forward(layer4.output)\n",
    "        \n",
    "\n",
    "        # sample loss\n",
    "        losses[i] = loss_function.forward(activation4.output,y[i].reshape(1))\n",
    "        # prediction\n",
    "        y_pred[i] = np.argmax(activation4.output,axis=1)\n",
    "        \n",
    "\n",
    "        # backward pass\n",
    "        loss_function.backward(activation4.output,y[i].reshape(1))\n",
    "        activation4.backward(loss_function.dinputs)\n",
    "        layer4.backward(activation4.dinputs)\n",
    "\n",
    "        dropout3.backward(layer4.dinputs)\n",
    "        layer3.backward(dropout3.dinputs)\n",
    "        \n",
    "        pooling2.backward(layer3.dinputs)\n",
    "        activation2.backward(pooling2.dinputs)\n",
    "        layer2.backward(activation2.dinputs)\n",
    "\n",
    "        pooling1.backward(layer2.dinputs)\n",
    "        activation1.backward(pooling1.dinputs)\n",
    "        layer1.backward(activation1.dinputs)\n",
    "\n",
    "\n",
    "        # update weights and biases\n",
    "        optimizer.pre_update_parameters()\n",
    "        optimizer.update_parameters(layer1)\n",
    "        optimizer.update_parameters(layer2)\n",
    "        optimizer.update_parameters(layer4)\n",
    "        optimizer.post_update_parameters()\n",
    "\n",
    "    # loss and accuracy\n",
    "    loss[epoch] = np.mean(losses)\n",
    "    accuracy[epoch] = 100*np.mean(y_pred == y)\n",
    "    \n",
    "    \n",
    "    # print loss and accuracy\n",
    "    print('epoch: '+str(epoch))\n",
    "    print('loss: '+str(np.round(loss[epoch],3)))\n",
    "    print('accuracy: '+str(accuracy[epoch]))\n",
    "    print('------------------------')"
   ]
  },
  {
   "cell_type": "code",
   "execution_count": 36,
   "metadata": {
    "scrolled": true
   },
   "outputs": [
    {
     "data": {
      "text/plain": [
       "[<matplotlib.lines.Line2D at 0x173a3d23fd0>]"
      ]
     },
     "execution_count": 36,
     "metadata": {},
     "output_type": "execute_result"
    },
    {
     "data": {
      "image/png": "[encoded data removed]",
      "text/plain": [
       "<Figure size 432x288 with 1 Axes>"
      ]
     },
     "metadata": {
      "needs_background": "light"
     },
     "output_type": "display_data"
    }
   ],
   "source": [
    "plt.plot(loss)"
   ]
  },
  {
   "cell_type": "code",
   "execution_count": 37,
   "metadata": {},
   "outputs": [
    {
     "data": {
      "text/plain": [
       "[<matplotlib.lines.Line2D at 0x173a3d92b80>]"
      ]
     },
     "execution_count": 37,
     "metadata": {},
     "output_type": "execute_result"
    },
    {
     "data": {
      "image/png": "[encoded data removed]",
      "text/plain": [
       "<Figure size 432x288 with 1 Axes>"
      ]
     },
     "metadata": {
      "needs_background": "light"
     },
     "output_type": "display_data"
    }
   ],
   "source": [
    "plt.plot(accuracy)"
   ]
  },
  {
   "cell_type": "code",
   "execution_count": 38,
   "metadata": {},
   "outputs": [
    {
     "data": {
      "text/html": [
       "<div>\n",
       "<style scoped>\n",
       "    .dataframe tbody tr th:only-of-type {\n",
       "        vertical-align: middle;\n",
       "    }\n",
       "\n",
       "    .dataframe tbody tr th {\n",
       "        vertical-align: top;\n",
       "    }\n",
       "\n",
       "    .dataframe thead th {\n",
       "        text-align: right;\n",
       "    }\n",
       "</style>\n",
       "<table border=\"1\" class=\"dataframe\">\n",
       "  <thead>\n",
       "    <tr style=\"text-align: right;\">\n",
       "      <th></th>\n",
       "      <th>pixel 0</th>\n",
       "      <th>pixel 1</th>\n",
       "      <th>pixel 2</th>\n",
       "      <th>pixel 3</th>\n",
       "      <th>pixel 4</th>\n",
       "      <th>pixel 5</th>\n",
       "      <th>pixel 6</th>\n",
       "      <th>pixel 7</th>\n",
       "      <th>pixel 8</th>\n",
       "      <th>pixel 9</th>\n",
       "      <th>...</th>\n",
       "      <th>pixel 775</th>\n",
       "      <th>pixel 776</th>\n",
       "      <th>pixel 777</th>\n",
       "      <th>pixel 778</th>\n",
       "      <th>pixel 779</th>\n",
       "      <th>pixel 780</th>\n",
       "      <th>pixel 781</th>\n",
       "      <th>pixel 782</th>\n",
       "      <th>pixel 783</th>\n",
       "      <th>label</th>\n",
       "    </tr>\n",
       "  </thead>\n",
       "  <tbody>\n",
       "    <tr>\n",
       "      <th>0</th>\n",
       "      <td>0.0</td>\n",
       "      <td>0.0</td>\n",
       "      <td>0.0</td>\n",
       "      <td>0.0</td>\n",
       "      <td>0.0</td>\n",
       "      <td>0.0</td>\n",
       "      <td>0.0</td>\n",
       "      <td>0.0</td>\n",
       "      <td>0.0</td>\n",
       "      <td>0.0</td>\n",
       "      <td>...</td>\n",
       "      <td>0.0</td>\n",
       "      <td>0.0</td>\n",
       "      <td>0.0</td>\n",
       "      <td>0.0</td>\n",
       "      <td>0.0</td>\n",
       "      <td>0.0</td>\n",
       "      <td>0.0</td>\n",
       "      <td>0.0</td>\n",
       "      <td>0.0</td>\n",
       "      <td>8</td>\n",
       "    </tr>\n",
       "    <tr>\n",
       "      <th>1</th>\n",
       "      <td>0.0</td>\n",
       "      <td>0.0</td>\n",
       "      <td>0.0</td>\n",
       "      <td>0.0</td>\n",
       "      <td>0.0</td>\n",
       "      <td>0.0</td>\n",
       "      <td>0.0</td>\n",
       "      <td>0.0</td>\n",
       "      <td>0.0</td>\n",
       "      <td>0.0</td>\n",
       "      <td>...</td>\n",
       "      <td>0.0</td>\n",
       "      <td>0.0</td>\n",
       "      <td>0.0</td>\n",
       "      <td>0.0</td>\n",
       "      <td>0.0</td>\n",
       "      <td>0.0</td>\n",
       "      <td>0.0</td>\n",
       "      <td>0.0</td>\n",
       "      <td>0.0</td>\n",
       "      <td>7</td>\n",
       "    </tr>\n",
       "    <tr>\n",
       "      <th>2</th>\n",
       "      <td>0.0</td>\n",
       "      <td>0.0</td>\n",
       "      <td>0.0</td>\n",
       "      <td>0.0</td>\n",
       "      <td>0.0</td>\n",
       "      <td>0.0</td>\n",
       "      <td>0.0</td>\n",
       "      <td>0.0</td>\n",
       "      <td>0.0</td>\n",
       "      <td>0.0</td>\n",
       "      <td>...</td>\n",
       "      <td>0.0</td>\n",
       "      <td>0.0</td>\n",
       "      <td>0.0</td>\n",
       "      <td>0.0</td>\n",
       "      <td>0.0</td>\n",
       "      <td>0.0</td>\n",
       "      <td>0.0</td>\n",
       "      <td>0.0</td>\n",
       "      <td>0.0</td>\n",
       "      <td>9</td>\n",
       "    </tr>\n",
       "    <tr>\n",
       "      <th>3</th>\n",
       "      <td>0.0</td>\n",
       "      <td>0.0</td>\n",
       "      <td>0.0</td>\n",
       "      <td>0.0</td>\n",
       "      <td>0.0</td>\n",
       "      <td>0.0</td>\n",
       "      <td>0.0</td>\n",
       "      <td>0.0</td>\n",
       "      <td>0.0</td>\n",
       "      <td>0.0</td>\n",
       "      <td>...</td>\n",
       "      <td>0.0</td>\n",
       "      <td>0.0</td>\n",
       "      <td>0.0</td>\n",
       "      <td>0.0</td>\n",
       "      <td>0.0</td>\n",
       "      <td>0.0</td>\n",
       "      <td>0.0</td>\n",
       "      <td>0.0</td>\n",
       "      <td>0.0</td>\n",
       "      <td>9</td>\n",
       "    </tr>\n",
       "    <tr>\n",
       "      <th>4</th>\n",
       "      <td>0.0</td>\n",
       "      <td>0.0</td>\n",
       "      <td>0.0</td>\n",
       "      <td>0.0</td>\n",
       "      <td>0.0</td>\n",
       "      <td>0.0</td>\n",
       "      <td>0.0</td>\n",
       "      <td>0.0</td>\n",
       "      <td>0.0</td>\n",
       "      <td>0.0</td>\n",
       "      <td>...</td>\n",
       "      <td>0.0</td>\n",
       "      <td>0.0</td>\n",
       "      <td>0.0</td>\n",
       "      <td>0.0</td>\n",
       "      <td>0.0</td>\n",
       "      <td>0.0</td>\n",
       "      <td>0.0</td>\n",
       "      <td>0.0</td>\n",
       "      <td>0.0</td>\n",
       "      <td>0</td>\n",
       "    </tr>\n",
       "  </tbody>\n",
       "</table>\n",
       "<p>5 rows × 785 columns</p>\n",
       "</div>"
      ],
      "text/plain": [
       "   pixel 0  pixel 1  pixel 2  pixel 3  pixel 4  pixel 5  pixel 6  pixel 7  \\\n",
       "0      0.0      0.0      0.0      0.0      0.0      0.0      0.0      0.0   \n",
       "1      0.0      0.0      0.0      0.0      0.0      0.0      0.0      0.0   \n",
       "2      0.0      0.0      0.0      0.0      0.0      0.0      0.0      0.0   \n",
       "3      0.0      0.0      0.0      0.0      0.0      0.0      0.0      0.0   \n",
       "4      0.0      0.0      0.0      0.0      0.0      0.0      0.0      0.0   \n",
       "\n",
       "   pixel 8  pixel 9  ...  pixel 775  pixel 776  pixel 777  pixel 778  \\\n",
       "0      0.0      0.0  ...        0.0        0.0        0.0        0.0   \n",
       "1      0.0      0.0  ...        0.0        0.0        0.0        0.0   \n",
       "2      0.0      0.0  ...        0.0        0.0        0.0        0.0   \n",
       "3      0.0      0.0  ...        0.0        0.0        0.0        0.0   \n",
       "4      0.0      0.0  ...        0.0        0.0        0.0        0.0   \n",
       "\n",
       "   pixel 779  pixel 780  pixel 781  pixel 782  pixel 783  label  \n",
       "0        0.0        0.0        0.0        0.0        0.0      8  \n",
       "1        0.0        0.0        0.0        0.0        0.0      7  \n",
       "2        0.0        0.0        0.0        0.0        0.0      9  \n",
       "3        0.0        0.0        0.0        0.0        0.0      9  \n",
       "4        0.0        0.0        0.0        0.0        0.0      0  \n",
       "\n",
       "[5 rows x 785 columns]"
      ]
     },
     "execution_count": 38,
     "metadata": {},
     "output_type": "execute_result"
    }
   ],
   "source": [
    "# test data\n",
    "url = 'https://raw.githubusercontent.com/um-perez-alvaro/Data-Science-Theory/master/Data/digits_test.csv'\n",
    "data_test = pd.read_csv(url)\n",
    "data_test.head()"
   ]
  },
  {
   "cell_type": "code",
   "execution_count": 39,
   "metadata": {},
   "outputs": [],
   "source": [
    "X_test = data_test.drop('label',axis=1).to_numpy()\n",
    "y_test = data_test['label'].to_numpy()"
   ]
  },
  {
   "cell_type": "code",
   "execution_count": 40,
   "metadata": {},
   "outputs": [],
   "source": [
    "X_test = X_test.reshape(len(X_test),1,28,28)"
   ]
  },
  {
   "cell_type": "code",
   "execution_count": 41,
   "metadata": {},
   "outputs": [
    {
     "data": {
      "text/plain": [
       "(1, 28, 28)"
      ]
     },
     "execution_count": 41,
     "metadata": {},
     "output_type": "execute_result"
    }
   ],
   "source": [
    "i = 1\n",
    "X_test[i].shape"
   ]
  },
  {
   "cell_type": "code",
   "execution_count": 42,
   "metadata": {},
   "outputs": [
    {
     "data": {
      "text/plain": [
       "<matplotlib.image.AxesImage at 0x173a4a17c40>"
      ]
     },
     "execution_count": 42,
     "metadata": {},
     "output_type": "execute_result"
    },
    {
     "data": {
      "image/png": "[encoded data removed]",
      "text/plain": [
       "<Figure size 432x288 with 1 Axes>"
      ]
     },
     "metadata": {
      "needs_background": "light"
     },
     "output_type": "display_data"
    }
   ],
   "source": [
    "plt.imshow(X_test[i][0],cmap='gray')"
   ]
  },
  {
   "cell_type": "code",
   "execution_count": 43,
   "metadata": {},
   "outputs": [],
   "source": [
    "layer1.forward(X_test[i])\n",
    "activation1.forward(layer1.output)\n",
    "pooling1.forward(activation1.output)\n",
    "\n",
    "layer2.forward(pooling1.output)\n",
    "activation2.forward(layer2.output)\n",
    "pooling2.forward(activation2.output)\n",
    "\n",
    "layer3.forward(pooling2.output)\n",
    "dropout3.forward(layer3.output)\n",
    "\n",
    "layer4.forward(dropout3.output)\n",
    "activation4.forward(layer4.output)"
   ]
  },
  {
   "cell_type": "code",
   "execution_count": 44,
   "metadata": {},
   "outputs": [
    {
     "data": {
      "text/plain": [
       "array([7], dtype=int64)"
      ]
     },
     "execution_count": 44,
     "metadata": {},
     "output_type": "execute_result"
    }
   ],
   "source": [
    "np.argmax(activation4.output,axis=1)"
   ]
  },
  {
   "cell_type": "code",
   "execution_count": 45,
   "metadata": {},
   "outputs": [],
   "source": [
    "# predictions\n",
    "y_test_pred = np.zeros(len(X_test))\n",
    "for i in range(len(X_test)):\n",
    "\n",
    "    layer1.forward(X_test[i])\n",
    "    activation1.forward(layer1.output)\n",
    "    pooling1.forward(activation1.output)\n",
    "\n",
    "    layer2.forward(pooling1.output)\n",
    "    activation2.forward(layer2.output)\n",
    "    pooling2.forward(activation2.output)\n",
    "\n",
    "    layer3.forward(pooling2.output)\n",
    "    dropout3.forward(layer3.output)\n",
    "\n",
    "    layer4.forward(dropout3.output)\n",
    "    activation4.forward(layer4.output)\n",
    "    \n",
    "    y_test_pred[i] = np.argmax(activation4.output,axis=1)"
   ]
  },
  {
   "cell_type": "code",
   "execution_count": 46,
   "metadata": {},
   "outputs": [
    {
     "data": {
      "text/plain": [
       "0.8445"
      ]
     },
     "execution_count": 46,
     "metadata": {},
     "output_type": "execute_result"
    }
   ],
   "source": [
    "# accuracy\n",
    "np.mean(y_test==y_test_pred)"
   ]
  },
  {
   "cell_type": "code",
   "execution_count": null,
   "metadata": {},
   "outputs": [],
   "source": []
  }
 ],
 "metadata": {
  "kernelspec": {
   "display_name": "Python 3",
   "language": "python",
   "name": "python3"
  },
  "language_info": {
   "codemirror_mode": {
    "name": "ipython",
    "version": 3
   },
   "file_extension": ".py",
   "mimetype": "text/x-python",
   "name": "python",
   "nbconvert_exporter": "python",
   "pygments_lexer": "ipython3",
   "version": "3.8.3"
  }
 },
 "nbformat": 4,
 "nbformat_minor": 4
}
