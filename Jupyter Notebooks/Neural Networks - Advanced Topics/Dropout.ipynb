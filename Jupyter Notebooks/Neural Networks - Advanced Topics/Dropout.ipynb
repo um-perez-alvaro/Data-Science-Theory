{
 "cells": [
  {
   "cell_type": "code",
   "execution_count": 1,
   "metadata": {},
   "outputs": [],
   "source": [
    "import numpy as np\n",
    "import matplotlib.pyplot as plt"
   ]
  },
  {
   "cell_type": "code",
   "execution_count": 49,
   "metadata": {},
   "outputs": [],
   "source": [
    "# neural network layer\n",
    "class layer:\n",
    "    \n",
    "    # initialization (weights and biases)\n",
    "    def __init__(self,n_inputs, n_neurons): # self represents the instance of the class\n",
    "        self.weights = 0.1*np.random.randn(n_inputs,n_neurons) # small random numbers\n",
    "        self.biases = np.zeros((1,n_neurons))# zeros\n",
    "        \n",
    "        # initialize momentums and caches\n",
    "        self.weight_momentums = np.zeros(self.weights.shape)\n",
    "        self.weight_caches = np.zeros(self.weights.shape)\n",
    "        self.bias_momentums = np.zeros(self.biases.shape)\n",
    "        self.bias_caches = np.zeros(self.biases.shape)\n",
    "        \n",
    "    # forward pass: pass the data through the layer\n",
    "    def forward(self, inputs):\n",
    "        # we need to store the output\n",
    "        self.output = inputs.dot(self.weights) + self.biases\n",
    "        \n",
    "        # remember input values\n",
    "        self.inputs = inputs\n",
    "        \n",
    "    def backward(self, dinputs):\n",
    "        \n",
    "        # gradient\n",
    "        self.dinputs = dinputs.dot(self.weights.T)\n",
    "        \n",
    "        # gradients on parameters\n",
    "        self.dweights = self.inputs.T.dot(dinputs)\n",
    "        self.dbiases = np.sum(dinputs, axis=0, keepdims=True)\n",
    "        \n",
    "\n",
    "        \n",
    "# activation function\n",
    "class ReLU:\n",
    "    def forward(self, inputs):\n",
    "        self.output = np.maximum(0, inputs)\n",
    "        \n",
    "        # remember input values\n",
    "        self.inputs = inputs\n",
    "        \n",
    "    def backward(self, dinputs):\n",
    "\n",
    "        # copy dvalues\n",
    "        self.dinputs = dinputs.copy()\n",
    "        \n",
    "        # zero gradient where input values were negative\n",
    "        self.dinputs[self.inputs <= 0] = 0\n",
    "        \n",
    "        \n",
    "\n",
    "        \n",
    "# softmax activation function\n",
    "class softmax:\n",
    "    \n",
    "    def forward(self, inputs):\n",
    "        \n",
    "        # unnormalized probabilities\n",
    "        exp_values = np.exp(inputs)\n",
    "        \n",
    "        # normalized probabilities\n",
    "        probabilities = exp_values / np.sum(exp_values, axis=1, keepdims=True)\n",
    "        self.output = probabilities\n",
    "        \n",
    "        # remember input values\n",
    "        self.inputs = inputs\n",
    "        \n",
    "    def backward(self,dinputs):\n",
    "\n",
    "        \n",
    "        # initialized gradient array\n",
    "        self.dinputs = np.zeros(dinputs.shape)\n",
    "        \n",
    "        # For each data point, compute gradient\n",
    "        for i in range(len(dinputs)):\n",
    "            \n",
    "            # probabilities \n",
    "            proba = self.output[i]\n",
    "            \n",
    "            # loss gradients\n",
    "            dinputs_row = dinputs[i]\n",
    "\n",
    "\n",
    "            # calculate derivative matrix of the output\n",
    "            derivative_matrix = np.diag(proba) - proba.reshape(-1,1).dot(proba.reshape(1,-1))\n",
    "            \n",
    "            # store gradient\n",
    "            self.dinputs[i] = dinputs_row.dot(derivative_matrix)\n",
    "            \n",
    "\n",
    "class loss_crossentropy():\n",
    "    \n",
    "    def forward(self, y_hat, y):\n",
    "        \n",
    "        # number of data points\n",
    "        n_samples = len(y)\n",
    "        \n",
    "        # clip data to prevent division by 0\n",
    "        y_hat_clipped = np.clip(y_hat, 1e-7,1 - 1e-7)\n",
    "        \n",
    "        # predicted class probabilities\n",
    "        pred_proba = y_hat_clipped[range(n_samples),y]\n",
    "       \n",
    "        # sample losses \n",
    "        losses = -np.log(pred_proba)\n",
    "        \n",
    "        return losses\n",
    "    \n",
    "    \n",
    "    def backward(self, p, y):\n",
    "        \n",
    "        \n",
    "        # number of samples\n",
    "        n_samples = len(y)\n",
    "    \n",
    "        # one-hot matrix\n",
    "        Y = np.zeros(p.shape)\n",
    "        Y[np.arange(len(y)),y] = 1\n",
    "        \n",
    "        # calculate gradient\n",
    "        self.dinputs = -Y / p\n",
    "        \n",
    "        # normalized gradient\n",
    "        self.dinputs = self.dinputs / n_samples\n",
    "            \n",
    "            \n",
    "        \n",
    "class optimizer_GD:\n",
    "\n",
    "    def __init__(self, learning_rate=1):\n",
    "        self.learning_rate = learning_rate\n",
    "        \n",
    "    def update_parameters(self, layer):\n",
    "        \n",
    "        # apply gradient descent iteration\n",
    "        layer.weights = layer.weights - self.learning_rate*layer.dweights\n",
    "        layer.biases = layer.biases - self.learning_rate*layer.dbiases\n",
    "        \n",
    "        \n",
    "# Adam optimizer\n",
    "class optimizer_ADAM:\n",
    "    \n",
    "    # Initialize optimizer - set parameters\n",
    "    def __init__(self, learning_rate=0.001, decay=0., epsilon=1e-7,beta_1=0.9, beta_2=0.999):\n",
    "        \n",
    "        # initial learning rate\n",
    "        self.learning_rate = learning_rate\n",
    "        self.current_learning_rate = learning_rate\n",
    "        \n",
    "        # decay parameters\n",
    "        self.decay = decay\n",
    "        \n",
    "        # number of epochs\n",
    "        self.epoch = 0\n",
    "        \n",
    "        # update learning rate parameter\n",
    "        self.epsilon = epsilon\n",
    "        \n",
    "        # momentum parameter\n",
    "        self.beta_1 = beta_1\n",
    "        \n",
    "        # cache parameter\n",
    "        self.beta_2 = beta_2\n",
    "        \n",
    "        \n",
    "    # update learning rate\n",
    "    def pre_update_parameters(self):\n",
    "        \n",
    "        # update learning rate\n",
    "        self.current_learning_rate = self.learning_rate * (1 / (1 + self.decay * self.epoch))\n",
    "            \n",
    "    # Update weights/biases\n",
    "    def update_parameters(self, layer):\n",
    "                   \n",
    "        # momentums\n",
    "        layer.weight_momentums = self.beta_1 * layer.weight_momentums + (1 - self.beta_1) * layer.dweights\n",
    "        layer.bias_momentums = self.beta_1 * layer.bias_momentums + (1 - self.beta_1) * layer.dbiases\n",
    "        \n",
    "        # corrected momentums\n",
    "        weight_momentums_corrected = layer.weight_momentums / (1 - self.beta_1 ** (self.epoch + 1))\n",
    "        bias_momentums_corrected = layer.bias_momentums / (1 - self.beta_1 ** (self.epoch + 1))\n",
    "        \n",
    "        # cache\n",
    "        layer.weight_caches = self.beta_2 * layer.weight_caches + (1 - self.beta_2) * layer.dweights**2  \n",
    "        layer.bias_caches = self.beta_2 * layer.bias_caches + (1 - self.beta_2) * layer.dbiases**2\n",
    "        \n",
    "        # corrected cache\n",
    "        weight_caches_corrected = layer.weight_caches / (1 - self.beta_2 ** (self.epoch + 1))\n",
    "        bias_caches_corrected = layer.bias_caches / (1 - self.beta_2 ** (self.epoch + 1))\n",
    "        \n",
    "        # update weights and biases\n",
    "        layer.weights += -self.current_learning_rate * weight_momentums_corrected / (np.sqrt(weight_caches_corrected) + self.epsilon)\n",
    "        layer.biases += -self.current_learning_rate * bias_momentums_corrected / (np.sqrt(bias_caches_corrected) + self.epsilon)\n",
    "        \n",
    "    # update epoch\n",
    "    def post_update_parameters(self):\n",
    "        self.epoch += 1\n",
    "        \n",
    "        \n",
    "# dropout layer\n",
    "class dropout:\n",
    "    \n",
    "    # initialization - set the dropout rate\n",
    "    def __init__(self, rate):\n",
    "        self.rate = rate\n",
    "        \n",
    "    # forward pass\n",
    "    def forward(self, inputs):\n",
    "        # save inputs \n",
    "        self.inputs = inputs\n",
    "        # mask\n",
    "        self.mask = np.random.binomial(1, 1 - self.rate, size = inputs.shape) / (1 - self.rate)\n",
    "        # apply mask\n",
    "        self.output = inputs * self.mask\n",
    "        \n",
    "    # backward pass\n",
    "    def backward(self, dinputs):\n",
    "        self.dinputs = dinputs*self.mask\n",
    "        "
   ]
  },
  {
   "cell_type": "code",
   "execution_count": 4,
   "metadata": {},
   "outputs": [
    {
     "data": {
      "text/plain": [
       "array([[-0.70084869, -0.32984579, -0.23038424],\n",
       "       [-0.26082863,  0.38495273, -0.11490086],\n",
       "       [ 1.01592788,  1.72523344, -0.33997112],\n",
       "       [-0.43487781,  2.63157315, -0.64094365],\n",
       "       [-1.00116569,  0.27603469, -1.43453292],\n",
       "       [ 1.61811186, -1.02894111,  0.24438454],\n",
       "       [-1.78930234, -0.1617099 , -1.01352952],\n",
       "       [ 1.03250714,  1.50465947, -1.01066978],\n",
       "       [-1.08727267, -1.45160264,  2.4574214 ],\n",
       "       [-1.36555222,  1.21767386,  1.41412446]])"
      ]
     },
     "execution_count": 4,
     "metadata": {},
     "output_type": "execute_result"
    }
   ],
   "source": [
    "# dropout example\n",
    "X = np.random.randn(10,3)\n",
    "X"
   ]
  },
  {
   "cell_type": "code",
   "execution_count": 40,
   "metadata": {},
   "outputs": [],
   "source": [
    "# dropout rate\n",
    "rate = 0.8 # drop 30% of the neurons"
   ]
  },
  {
   "cell_type": "code",
   "execution_count": 41,
   "metadata": {},
   "outputs": [
    {
     "data": {
      "text/plain": [
       "array([[0, 0, 0],\n",
       "       [0, 1, 0],\n",
       "       [0, 0, 0],\n",
       "       [0, 1, 0],\n",
       "       [0, 0, 0],\n",
       "       [0, 0, 0],\n",
       "       [0, 0, 0],\n",
       "       [1, 0, 0],\n",
       "       [0, 1, 0],\n",
       "       [0, 0, 0]])"
      ]
     },
     "execution_count": 41,
     "metadata": {},
     "output_type": "execute_result"
    }
   ],
   "source": [
    "#  randomly sets input units to 0\n",
    "mask = np.random.binomial(1, 1-rate, size = X.shape)\n",
    "mask"
   ]
  },
  {
   "cell_type": "code",
   "execution_count": 42,
   "metadata": {},
   "outputs": [
    {
     "data": {
      "text/plain": [
       "array([[-0.        , -0.        , -0.        ],\n",
       "       [-0.        ,  1.92476363, -0.        ],\n",
       "       [ 0.        ,  0.        , -0.        ],\n",
       "       [-0.        , 13.15786573, -0.        ],\n",
       "       [-0.        ,  0.        , -0.        ],\n",
       "       [ 0.        , -0.        ,  0.        ],\n",
       "       [-0.        , -0.        , -0.        ],\n",
       "       [ 5.16253572,  0.        , -0.        ],\n",
       "       [-0.        , -7.2580132 ,  0.        ],\n",
       "       [-0.        ,  0.        ,  0.        ]])"
      ]
     },
     "execution_count": 42,
     "metadata": {},
     "output_type": "execute_result"
    }
   ],
   "source": [
    "# inputs not set to zero are scaled up by 1/(1-rate)\n",
    "mask*X/(1-rate)"
   ]
  },
  {
   "cell_type": "code",
   "execution_count": 43,
   "metadata": {},
   "outputs": [
    {
     "data": {
      "text/plain": [
       "29.91948420222979"
      ]
     },
     "execution_count": 43,
     "metadata": {},
     "output_type": "execute_result"
    }
   ],
   "source": [
    "np.sum(np.abs(X))"
   ]
  },
  {
   "cell_type": "code",
   "execution_count": 44,
   "metadata": {},
   "outputs": [
    {
     "data": {
      "text/plain": [
       "5.500635657038425"
      ]
     },
     "execution_count": 44,
     "metadata": {},
     "output_type": "execute_result"
    }
   ],
   "source": [
    "np.sum(np.abs(mask*X))"
   ]
  },
  {
   "cell_type": "code",
   "execution_count": 45,
   "metadata": {},
   "outputs": [
    {
     "data": {
      "text/plain": [
       "27.503178285192135"
      ]
     },
     "execution_count": 45,
     "metadata": {},
     "output_type": "execute_result"
    }
   ],
   "source": [
    "np.sum(np.abs(mask*X/(1-rate)))"
   ]
  },
  {
   "cell_type": "code",
   "execution_count": 46,
   "metadata": {},
   "outputs": [
    {
     "data": {
      "text/plain": [
       "<matplotlib.legend.Legend at 0x1e91c4848b0>"
      ]
     },
     "execution_count": 46,
     "metadata": {},
     "output_type": "execute_result"
    },
    {
     "data": {
      "image/png": "[encoded data removed]",
      "text/plain": [
       "<Figure size 432x288 with 1 Axes>"
      ]
     },
     "metadata": {
      "needs_background": "light"
     },
     "output_type": "display_data"
    }
   ],
   "source": [
    "# generate toy dataset\n",
    "classes = 3\n",
    "n_points = 200\n",
    "noise = 0.7\n",
    "radius = 4\n",
    "\n",
    "X = np.zeros((n_points*classes, 2))\n",
    "y = np.zeros(n_points*classes).astype('int')\n",
    "\n",
    "for class_number in range(classes):\n",
    "    ix = range(n_points*class_number, n_points*(class_number+1))\n",
    "    r = np.linspace(0,1, n_points)\n",
    "    t = np.linspace(class_number*radius, (class_number+1)*radius, n_points) + np.random.randn(n_points)*noise\n",
    "    X[ix] = np.c_[r*np.sin(t), r*np.cos(t)]\n",
    "    y[ix] = class_number\n",
    "    \n",
    "for i in range(classes):\n",
    "    plt.plot(X[y==i,0],X[y==i,1],'o',label = 'class '+str(i))\n",
    "plt.legend()"
   ]
  },
  {
   "cell_type": "code",
   "execution_count": 57,
   "metadata": {},
   "outputs": [],
   "source": [
    "# build neural network\n",
    "\n",
    "# layer 1\n",
    "layer1 = layer(n_inputs = 2, n_neurons = 64)\n",
    "activation1 = ReLU()\n",
    "dropout1 = dropout(0.2)\n",
    "\n",
    "# layer 2\n",
    "layer2 = layer(n_inputs = 64, n_neurons = 64)\n",
    "activation2 = ReLU() \n",
    "dropout2 = dropout(0.2)\n",
    "\n",
    "# layer 3 \n",
    "layer3 = layer(n_inputs = 64, n_neurons = classes)\n",
    "activation3  = softmax()\n",
    "\n",
    "# loss function \n",
    "loss_function = loss_crossentropy()\n",
    "\n",
    "# optimizer\n",
    "optimizer = optimizer_ADAM(learning_rate=0.05)"
   ]
  },
  {
   "cell_type": "code",
   "execution_count": 58,
   "metadata": {},
   "outputs": [
    {
     "name": "stdout",
     "output_type": "stream",
     "text": [
      "epoch: 0\n",
      "loss: 1.098\n",
      "accuracy: 31.666666666666664\n",
      "------------------------\n",
      "epoch: 100\n",
      "loss: 0.367\n",
      "accuracy: 84.66666666666667\n",
      "------------------------\n",
      "epoch: 200\n",
      "loss: 0.351\n",
      "accuracy: 85.66666666666667\n",
      "------------------------\n",
      "epoch: 300\n",
      "loss: 0.337\n",
      "accuracy: 86.5\n",
      "------------------------\n",
      "epoch: 400\n",
      "loss: 0.327\n",
      "accuracy: 85.83333333333333\n",
      "------------------------\n",
      "epoch: 500\n",
      "loss: 0.304\n",
      "accuracy: 86.66666666666667\n",
      "------------------------\n",
      "epoch: 600\n",
      "loss: 0.331\n",
      "accuracy: 85.5\n",
      "------------------------\n",
      "epoch: 700\n",
      "loss: 0.314\n",
      "accuracy: 88.33333333333333\n",
      "------------------------\n",
      "epoch: 800\n",
      "loss: 0.309\n",
      "accuracy: 86.33333333333333\n",
      "------------------------\n",
      "epoch: 900\n",
      "loss: 0.34\n",
      "accuracy: 85.16666666666667\n",
      "------------------------\n"
     ]
    }
   ],
   "source": [
    "n_epochs = 1000\n",
    "loss_adam = np.zeros(n_epochs)\n",
    "accuracy_adam = np.zeros(n_epochs)\n",
    "# gradient descent iterations\n",
    "for epoch in range(n_epochs):\n",
    "\n",
    "    # forward pass\n",
    "    layer1.forward(X)\n",
    "    activation1.forward(layer1.output)\n",
    "    dropout1.forward(activation1.output)\n",
    "    \n",
    "    layer2.forward(dropout1.output)\n",
    "    activation2.forward(layer2.output)\n",
    "    dropout2.forward(activation2.output)\n",
    "    \n",
    "    layer3.forward(dropout2.output)\n",
    "    activation3.forward(layer3.output)\n",
    "\n",
    "    # loss (mean squared error)\n",
    "    losses = loss_function.forward(activation3.output,y)\n",
    "    loss_adam[epoch] = np.mean(losses)\n",
    "    \n",
    "    # accuracy\n",
    "    y_pred = np.argmax(activation3.output,axis=1)\n",
    "    accuracy_adam[epoch] = 100*np.mean(y_pred == y)\n",
    "\n",
    "    # backward pass\n",
    "    loss_function.backward(activation3.output,y)\n",
    "    activation3.backward(loss_function.dinputs)\n",
    "    layer3.backward(activation3.dinputs)\n",
    "    \n",
    "    dropout2.backward(layer3.dinputs)\n",
    "    activation2.backward(dropout2.dinputs)\n",
    "    layer2.backward(activation2.dinputs)\n",
    "    \n",
    "    dropout1.backward(layer2.dinputs)\n",
    "    activation1.backward(dropout1.dinputs)\n",
    "    layer1.backward(activation1.dinputs)\n",
    "    \n",
    "    \n",
    "    # update weights and biases\n",
    "    optimizer.pre_update_parameters()\n",
    "    optimizer.update_parameters(layer1)\n",
    "    optimizer.update_parameters(layer2)\n",
    "    optimizer.update_parameters(layer3)\n",
    "    optimizer.post_update_parameters()\n",
    "\n",
    "    \n",
    "    \n",
    "    # print loss and accuracy (every 100 epochs)\n",
    "    if epoch % 100 == 0:\n",
    "        # loss\n",
    "        loss = np.round(np.mean(losses),3)\n",
    "        # accuracy (percentage of correct classifications)\n",
    "        y_pred = np.argmax(activation3.output,axis=1)\n",
    "        accuracy = np.round(100*np.mean(y==y_pred),3)\n",
    "        print('epoch: '+str(epoch))\n",
    "        print('loss: '+str(np.round(loss_adam[epoch],3)))\n",
    "        print('accuracy: '+str(accuracy_adam[epoch]))\n",
    "        print('------------------------')"
   ]
  },
  {
   "cell_type": "code",
   "execution_count": 59,
   "metadata": {},
   "outputs": [
    {
     "data": {
      "image/png": "[encoded data removed]",
      "text/plain": [
       "<Figure size 432x288 with 1 Axes>"
      ]
     },
     "metadata": {
      "needs_background": "light"
     },
     "output_type": "display_data"
    }
   ],
   "source": [
    "# plot classification regions\n",
    "from matplotlib.colors import ListedColormap\n",
    "# step size\n",
    "h = 0.02\n",
    "\n",
    "# mesh grid\n",
    "x_min, x_max = X[:, 0].min() - .1, X[:, 0].max() + .1\n",
    "y_min, y_max = X[:, 1].min() - .1, X[:, 1].max() + .1\n",
    "xx, yy = np.meshgrid(np.arange(x_min, x_max, h),np.arange(y_min, y_max, h))\n",
    "X_plot = np.c_[xx.ravel(),yy.ravel()]\n",
    "\n",
    "# forward pass\n",
    "layer1.forward(X_plot)\n",
    "activation1.forward(layer1.output)\n",
    "layer2.forward(activation1.output)\n",
    "activation2.forward(layer2.output)\n",
    "layer3.forward(activation2.output)\n",
    "activation3.forward(layer3.output)\n",
    "\n",
    "\n",
    "# predictions\n",
    "y_pred = activation3.output\n",
    "y_plot = np.argmax(y_pred, axis=1)\n",
    "y_plot = y_plot.reshape(xx.shape)\n",
    "\n",
    "# classification regions\n",
    "my_cmap = ListedColormap(['C'+str(i) for i in range(classes)])\n",
    "plt.contourf(xx, yy, y_plot, cmap=my_cmap, alpha=0.3)\n",
    "plt.xlim(xx.min(), xx.max())\n",
    "plt.ylim(yy.min(), yy.max())\n",
    "\n",
    "# dataset\n",
    "for i in range(classes):\n",
    "    plt.plot(X[y==i,0],X[y==i,1],'o')"
   ]
  },
  {
   "cell_type": "code",
   "execution_count": null,
   "metadata": {},
   "outputs": [],
   "source": []
  },
  {
   "cell_type": "code",
   "execution_count": null,
   "metadata": {},
   "outputs": [],
   "source": []
  }
 ],
 "metadata": {
  "kernelspec": {
   "display_name": "Python 3",
   "language": "python",
   "name": "python3"
  },
  "language_info": {
   "codemirror_mode": {
    "name": "ipython",
    "version": 3
   },
   "file_extension": ".py",
   "mimetype": "text/x-python",
   "name": "python",
   "nbconvert_exporter": "python",
   "pygments_lexer": "ipython3",
   "version": "3.8.3"
  }
 },
 "nbformat": 4,
 "nbformat_minor": 4
}
