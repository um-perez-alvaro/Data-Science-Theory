{
 "cells": [
  {
   "cell_type": "code",
   "execution_count": 1,
   "metadata": {},
   "outputs": [],
   "source": [
    "import numpy as np\n",
    "import matplotlib.pyplot as plt"
   ]
  },
  {
   "cell_type": "code",
   "execution_count": 2,
   "metadata": {},
   "outputs": [],
   "source": [
    "# neural network stuff\n",
    "class layer:\n",
    "    'Neural network dense layer'\n",
    "    \n",
    "    # initialization (weights and biases)\n",
    "    def __init__(self, n_inputs, n_neurons):\n",
    "        self.weights = 0.01*np.random.randn(n_inputs, n_neurons) \n",
    "        self.biases = np.zeros((1,n_neurons))\n",
    "\n",
    "    # output\n",
    "    def forward(self, inputs):\n",
    "        self.output = inputs.dot(self.weights) + self.biases\n",
    "        \n",
    "        # remember input values\n",
    "        self.inputs = inputs\n",
    "      \n",
    "    def backward(self, dvalues):\n",
    "        \n",
    "        # gradient\n",
    "        self.dinputs = dvalues.dot(self.weights.T)\n",
    "        \n",
    "        # Gradients on parameters\n",
    "        self.dweights = self.inputs.T.dot(dvalues)\n",
    "        self.dbiases = np.sum(dvalues, axis=0, keepdims=True)\n",
    "\n",
    "\n",
    "class dropout:\n",
    "    'dropout layer'\n",
    "    \n",
    "    # initialization - set the dropout rate\n",
    "    def __init__(self, rate):\n",
    "        self.rate = rate\n",
    "        \n",
    "    # forward pass\n",
    "    def forward(self, inputs):\n",
    "        # save inputs \n",
    "        self.inputs = inputs\n",
    "        # mask - inputs not set to zero are scaled up by 1/(1-rate)\n",
    "        self.mask = np.random.binomial(1, 1 - self.rate, size = inputs.shape) / (1 - self.rate)\n",
    "        # apply mask\n",
    "        self.output = inputs * self.mask\n",
    "        \n",
    "    # backward pass\n",
    "    def backward(self, dvalues):\n",
    "        self.dinputs = dvalues*self.mask\n",
    "        \n",
    "class activation_ReLU:\n",
    "    'rectified linear unit activation function'\n",
    "    \n",
    "    def forward(self, inputs):\n",
    "        self.output = np.maximum(0, inputs)\n",
    "        \n",
    "        # remember input values\n",
    "        self.inputs = inputs\n",
    "        \n",
    "    def backward(self, dvalues):\n",
    "\n",
    "        # copy dvalues\n",
    "        self.dinputs = dvalues.copy()\n",
    "        \n",
    "        # zero gradient where input values were negative\n",
    "        self.dinputs[self.inputs <= 0] = 0\n",
    "        \n",
    "class activation_softmax:\n",
    "    'softmax activation function'\n",
    "    \n",
    "    def forward(self, inputs):\n",
    "        \n",
    "        # unnormalized probabilities\n",
    "        exp_values = np.exp(inputs-np.max(inputs,axis=1, keepdims=True))\n",
    "        \n",
    "        # normalized probabilities\n",
    "        probabilities = exp_values / np.sum(exp_values, axis=1, keepdims=True)\n",
    "        self.output = probabilities\n",
    "        \n",
    "        # remember input values\n",
    "        self.inputs = inputs\n",
    "        \n",
    "    def backward(self,dvalues):\n",
    "\n",
    "        \n",
    "        # initialized gradient (derivative) array\n",
    "        self.dinputs = np.zeros(dvalues.shape)\n",
    "        \n",
    "        # For each data point, compute gradient\n",
    "        for i in range(len(dvalues)):\n",
    "            output_row = self.output[i]\n",
    "            dvalues_row = dvalues[i]\n",
    "            \n",
    "            # Flatten output array\n",
    "            output_row = output_row.reshape(-1, 1)\n",
    "\n",
    "            # Calculate derivative matrix of the output\n",
    "            derivative_matrix = np.diagflat(output_row) - output_row.dot(output_row.T)\n",
    "            \n",
    "            # store gradient\n",
    "            self.dinputs[i] = dvalues_row.dot(derivative_matrix)\n",
    "\n",
    "\n",
    "class loss:\n",
    "    def calculate(self, output,y):\n",
    "        sample_losses = self.forward(output,y)\n",
    "        loss = np.mean(sample_losses)\n",
    "        return loss\n",
    "    \n",
    "# cross-entropy loss        \n",
    "class loss_crossentropy(loss):\n",
    "    \n",
    "    def forward(self, y_pred, y_true):\n",
    "        \n",
    "        # number of data points\n",
    "        n_samples = len(y_pred)\n",
    "        \n",
    "        # clip data to prevent division by 0\n",
    "        y_pred_clipped = np.clip(y_pred, 1e-7,1 - 1e-7)\n",
    "        \n",
    "        # confidence values\n",
    "        confidence_values = y_pred_clipped[range(n_samples),y_true]\n",
    "       \n",
    "        # sample losses \n",
    "        losses = -np.log(confidence_values)\n",
    "        return losses\n",
    "    \n",
    "    \n",
    "    def backward(self, dvalues, y_true):\n",
    "        \n",
    "        \n",
    "        # Number of samples\n",
    "        n_samples = len(dvalues)\n",
    "    \n",
    "        #one-hot matrix\n",
    "        Y = np.zeros(dvalues.shape)\n",
    "        Y[np.arange(len(y_true)),y_true] = 1\n",
    "        \n",
    "        # Calculate gradient\n",
    "        self.dinputs = -Y / dvalues\n",
    "        \n",
    "        # Normalize gradient\n",
    "        self.dinputs = self.dinputs / n_samples\n",
    "        \n",
    "# GD optimizer\n",
    "class optimizer_GD:\n",
    "\n",
    "    def __init__(self, learning_rate=1.0):\n",
    "        self.learning_rate = learning_rate\n",
    "        \n",
    "    def update_parameters(self, layer):\n",
    "        layer.weights = layer.weights - self.learning_rate*layer.dweights\n",
    "        layer.biases = layer.biases - self.learning_rate*layer.dbiases\n",
    "        \n",
    "# Adam optimizer\n",
    "class optimizer_Adam:\n",
    "    \n",
    "    # Initialize optimizer - set parameters\n",
    "    def __init__(self, learning_rate=0.001, decay=0., epsilon=1e-7,beta_1=0.9, beta_2=0.999):\n",
    "        \n",
    "        # learning rate\n",
    "        self.learning_rate = learning_rate\n",
    "        self.current_learning_rate = learning_rate\n",
    "        \n",
    "        # decay parameters\n",
    "        self.decay = decay\n",
    "        \n",
    "        # number of epochs\n",
    "        self.epoch = 0\n",
    "        \n",
    "        # update learning rate parameter\n",
    "        self.epsilon = epsilon\n",
    "        \n",
    "        # momentum parameter\n",
    "        self.beta_1 = beta_1\n",
    "        \n",
    "        # cache parameter\n",
    "        self.beta_2 = beta_2\n",
    "        \n",
    "        \n",
    "    # update learning rate\n",
    "    def pre_update_parameters(self):\n",
    "        \n",
    "        # update learning rate\n",
    "        if self.decay:\n",
    "            self.current_learning_rate = self.learning_rate * (1 / (1 + self.decay * self.epoch))\n",
    "            \n",
    "    # Update weights/biases\n",
    "    def update_parameters(self, layer):\n",
    "        \n",
    "        # If layer does not contain cache/momentum arrays, create them filled with zeros\n",
    "        if not hasattr(layer, 'weight_cache'):\n",
    "            \n",
    "            # weights\n",
    "            layer.weight_momentums = np.zeros(layer.weights.shape)\n",
    "            layer.weight_cache = np.zeros(layer.weights.shape)\n",
    "            \n",
    "            # biases\n",
    "            layer.bias_momentums = np.zeros(layer.biases.shape)\n",
    "            layer.bias_cache = np.zeros(layer.biases.shape)\n",
    "            \n",
    "        # momentums\n",
    "        layer.weight_momentums = self.beta_1 * layer.weight_momentums + (1 - self.beta_1) * layer.dweights\n",
    "        layer.bias_momentums = self.beta_1 * layer.bias_momentums + (1 - self.beta_1) * layer.dbiases\n",
    "        \n",
    "        # corrected momentums\n",
    "        weight_momentums_corrected = layer.weight_momentums / (1 - self.beta_1 ** (self.epoch + 1))\n",
    "        bias_momentums_corrected = layer.bias_momentums / (1 - self.beta_1 ** (self.epoch + 1))\n",
    "        \n",
    "        # cache\n",
    "        layer.weight_cache = self.beta_2 * layer.weight_cache + (1 - self.beta_2) * layer.dweights**2  \n",
    "        layer.bias_cache = self.beta_2 * layer.bias_cache + (1 - self.beta_2) * layer.dbiases**2\n",
    "        \n",
    "        # corrected cache\n",
    "        weight_cache_corrected = layer.weight_cache / (1 - self.beta_2 ** (self.epoch + 1))\n",
    "        bias_cache_corrected = layer.bias_cache / (1 - self.beta_2 ** (self.epoch + 1))\n",
    "        \n",
    "        # update weights and biases\n",
    "        layer.weights += -self.current_learning_rate * weight_momentums_corrected / (np.sqrt(weight_cache_corrected) + self.epsilon)\n",
    "        layer.biases += -self.current_learning_rate * bias_momentums_corrected / (np.sqrt(bias_cache_corrected) + self.epsilon)\n",
    "        \n",
    "    # update epoch\n",
    "    def post_update_parameters(self):\n",
    "        self.epoch += 1"
   ]
  },
  {
   "cell_type": "code",
   "execution_count": 85,
   "metadata": {},
   "outputs": [
    {
     "data": {
      "text/plain": [
       "array([0.40262705, 0.59171838, 0.95679971, 0.63612949, 0.2589342 ,\n",
       "       0.05383407, 0.09471605, 0.95904163, 0.20476997, 0.13122924])"
      ]
     },
     "execution_count": 85,
     "metadata": {},
     "output_type": "execute_result"
    }
   ],
   "source": [
    "layer_output = np.random.rand(10)\n",
    "layer_output "
   ]
  },
  {
   "cell_type": "code",
   "execution_count": 86,
   "metadata": {},
   "outputs": [],
   "source": [
    "# dropout rate\n",
    "rate = 0.5"
   ]
  },
  {
   "cell_type": "code",
   "execution_count": 87,
   "metadata": {},
   "outputs": [
    {
     "data": {
      "text/plain": [
       "array([1, 0, 1, 1, 0, 1, 1, 0, 1, 0])"
      ]
     },
     "execution_count": 87,
     "metadata": {},
     "output_type": "execute_result"
    }
   ],
   "source": [
    "mask = np.random.binomial(1, 1-rate, size=10) # 0 with probability rate, 1 with probability 1-rate\n",
    "mask"
   ]
  },
  {
   "cell_type": "code",
   "execution_count": 88,
   "metadata": {},
   "outputs": [
    {
     "data": {
      "text/plain": [
       "array([0.40262705, 0.        , 0.95679971, 0.63612949, 0.        ,\n",
       "       0.05383407, 0.09471605, 0.        , 0.20476997, 0.        ])"
      ]
     },
     "execution_count": 88,
     "metadata": {},
     "output_type": "execute_result"
    }
   ],
   "source": [
    "layer_output = layer_output*mask\n",
    "layer_output"
   ]
  },
  {
   "cell_type": "code",
   "execution_count": 89,
   "metadata": {},
   "outputs": [
    {
     "data": {
      "text/plain": [
       "array([0.80525411, 0.        , 1.91359942, 1.27225899, 0.        ,\n",
       "       0.10766813, 0.18943211, 0.        , 0.40953993, 0.        ])"
      ]
     },
     "execution_count": 89,
     "metadata": {},
     "output_type": "execute_result"
    }
   ],
   "source": [
    "# to compensate the dropout layer\n",
    "layer_output = layer_output/(1-dropout_rate)\n",
    "layer_output"
   ]
  },
  {
   "cell_type": "markdown",
   "metadata": {},
   "source": [
    "## Example"
   ]
  },
  {
   "cell_type": "code",
   "execution_count": 58,
   "metadata": {},
   "outputs": [
    {
     "data": {
      "text/plain": [
       "<matplotlib.legend.Legend at 0x166f4aeec10>"
      ]
     },
     "execution_count": 58,
     "metadata": {},
     "output_type": "execute_result"
    },
    {
     "data": {
      "image/png": "[encoded data removed]",
      "text/plain": [
       "<Figure size 432x288 with 1 Axes>"
      ]
     },
     "metadata": {
      "needs_background": "light"
     },
     "output_type": "display_data"
    }
   ],
   "source": [
    "# spirals dataset\n",
    "classes = 3\n",
    "n_points = 100\n",
    "noise = 0.75\n",
    "\n",
    "X = np.zeros((n_points*classes, 2))\n",
    "y = np.zeros(n_points*classes).astype('int')\n",
    "\n",
    "for class_number in range(classes):\n",
    "    ix = range(n_points*class_number, n_points*(class_number+1))\n",
    "    r = np.linspace(0,1, n_points)\n",
    "    t = np.linspace(class_number*4, (class_number+1)*4, n_points) + np.random.randn(n_points)*noise\n",
    "    X[ix] = np.c_[r*np.sin(t), r*np.cos(t)]\n",
    "    y[ix] = class_number\n",
    "    \n",
    "# plot the dataset\n",
    "for i in range(classes):\n",
    "    plt.plot(X[y==i,0],X[y==i,1],'o', label='class '+str(i))\n",
    "plt.legend()"
   ]
  },
  {
   "cell_type": "markdown",
   "metadata": {},
   "source": [
    "## No Dropout Layers"
   ]
  },
  {
   "cell_type": "code",
   "execution_count": 59,
   "metadata": {},
   "outputs": [],
   "source": [
    "# neural network \n",
    "layer1 = layer(n_inputs = 2, n_neurons = 100)\n",
    "activation1 = activation_ReLU()\n",
    "layer2 = layer(n_inputs = 100, n_neurons = 3)\n",
    "activation2 = activation_softmax()\n",
    "loss_function = loss_crossentropy()"
   ]
  },
  {
   "cell_type": "code",
   "execution_count": 60,
   "metadata": {},
   "outputs": [],
   "source": [
    "# optimizer\n",
    "optimizer = optimizer_Adam(learning_rate = 0.05) "
   ]
  },
  {
   "cell_type": "code",
   "execution_count": 61,
   "metadata": {},
   "outputs": [
    {
     "name": "stdout",
     "output_type": "stream",
     "text": [
      "epoch: 0\n",
      "loss: 1.099\n",
      "accuracy: 32.0\n",
      "------------------------\n",
      "epoch: 100\n",
      "loss: 0.362\n",
      "accuracy: 86.667\n",
      "------------------------\n",
      "epoch: 200\n",
      "loss: 0.316\n",
      "accuracy: 88.333\n",
      "------------------------\n",
      "epoch: 300\n",
      "loss: 0.283\n",
      "accuracy: 88.667\n",
      "------------------------\n",
      "epoch: 400\n",
      "loss: 0.271\n",
      "accuracy: 87.667\n",
      "------------------------\n",
      "epoch: 500\n",
      "loss: 0.262\n",
      "accuracy: 89.333\n",
      "------------------------\n",
      "epoch: 600\n",
      "loss: 0.25\n",
      "accuracy: 90.0\n",
      "------------------------\n",
      "epoch: 700\n",
      "loss: 0.246\n",
      "accuracy: 90.0\n",
      "------------------------\n",
      "epoch: 800\n",
      "loss: 0.25\n",
      "accuracy: 89.333\n",
      "------------------------\n",
      "epoch: 900\n",
      "loss: 0.236\n",
      "accuracy: 90.667\n",
      "------------------------\n",
      "epoch: 1000\n",
      "loss: 0.235\n",
      "accuracy: 90.667\n",
      "------------------------\n",
      "epoch: 1100\n",
      "loss: 0.232\n",
      "accuracy: 88.667\n",
      "------------------------\n",
      "epoch: 1200\n",
      "loss: 0.226\n",
      "accuracy: 90.333\n",
      "------------------------\n",
      "epoch: 1300\n",
      "loss: 0.229\n",
      "accuracy: 89.0\n",
      "------------------------\n",
      "epoch: 1400\n",
      "loss: 0.22\n",
      "accuracy: 90.667\n",
      "------------------------\n",
      "epoch: 1500\n",
      "loss: 0.228\n",
      "accuracy: 90.0\n",
      "------------------------\n",
      "epoch: 1600\n",
      "loss: 0.223\n",
      "accuracy: 91.0\n",
      "------------------------\n",
      "epoch: 1700\n",
      "loss: 0.222\n",
      "accuracy: 90.0\n",
      "------------------------\n",
      "epoch: 1800\n",
      "loss: 0.214\n",
      "accuracy: 91.0\n",
      "------------------------\n",
      "epoch: 1900\n",
      "loss: 0.216\n",
      "accuracy: 90.333\n",
      "------------------------\n"
     ]
    }
   ],
   "source": [
    "n_epochs = 2000\n",
    "loss_adam = np.zeros(n_epochs)\n",
    "accuracy_adam = np.zeros(n_epochs)\n",
    "for i in range(n_epochs):\n",
    "    \n",
    "    # forward pass\n",
    "    layer1.forward(X)\n",
    "    activation1.forward(layer1.output)\n",
    "    layer2.forward(activation1.output)\n",
    "    activation2.forward(layer2.output)\n",
    "    \n",
    "    # loss\n",
    "    losses = loss_function.forward(activation2.output,y)\n",
    "    loss_adam[i] = np.mean(losses)\n",
    "    \n",
    "    # accuracy\n",
    "    y_pred = np.argmax(activation2.output,axis=1)\n",
    "    accuracy_adam[i] = 100*np.sum(y_pred == y)/len(y)\n",
    "    \n",
    "    # backward pass\n",
    "    loss_function.backward(activation2.output,y)\n",
    "    activation2.backward(loss_function.dinputs)\n",
    "    layer2.backward(activation2.dinputs)\n",
    "    activation1.backward(layer2.dinputs)\n",
    "    layer1.backward(activation1.dinputs)\n",
    "    \n",
    "    # update weights and biases\n",
    "    optimizer.pre_update_parameters()\n",
    "    optimizer.update_parameters(layer1)\n",
    "    optimizer.update_parameters(layer2)\n",
    "    optimizer.post_update_parameters()\n",
    "    \n",
    "    # print loss and accuracy every 100 epochs\n",
    "    if i % 100 == 0:\n",
    "        print('epoch: '+str(i))\n",
    "        print('loss: '+str(np.round(loss_adam[i],3)))\n",
    "        print('accuracy: '+str(np.round(accuracy_adam[i],3)))\n",
    "        print('------------------------')"
   ]
  },
  {
   "cell_type": "code",
   "execution_count": 62,
   "metadata": {},
   "outputs": [
    {
     "data": {
      "image/png": "[encoded data removed]",
      "text/plain": [
       "<Figure size 432x288 with 1 Axes>"
      ]
     },
     "metadata": {
      "needs_background": "light"
     },
     "output_type": "display_data"
    }
   ],
   "source": [
    "from matplotlib.colors import ListedColormap\n",
    "# step size\n",
    "h = 0.02\n",
    "\n",
    "# mesh grid\n",
    "x_min, x_max = X[:, 0].min() - 0.5, X[:, 0].max() + 0.5\n",
    "y_min, y_max = X[:, 1].min() - 0.5, X[:, 1].max() + 0.5\n",
    "xx, yy = np.meshgrid(np.arange(x_min, x_max, h),np.arange(y_min, y_max, h))\n",
    "X_plot = np.c_[xx.ravel(),yy.ravel()]\n",
    "\n",
    "# forward pass\n",
    "layer1.forward(X_plot)\n",
    "activation1.forward(layer1.output)\n",
    "layer2.forward(activation1.output)\n",
    "activation2.forward(layer2.output)\n",
    "\n",
    "# predictions\n",
    "y_plot = np.argmax(activation2.output, axis=1)\n",
    "y_plot = y_plot.reshape(xx.shape)\n",
    "\n",
    "# classification regions\n",
    "my_cmap = ListedColormap(['C0','C1','C2'])\n",
    "plt.contourf(xx, yy, y_plot, cmap=my_cmap, alpha=0.3)\n",
    "plt.xlim(xx.min(), xx.max())\n",
    "plt.ylim(yy.min(), yy.max())\n",
    "\n",
    "# dataset\n",
    "for i in range(classes):\n",
    "    plt.plot(X[y==i,0],X[y==i,1],'o', label='class '+str(i))"
   ]
  },
  {
   "cell_type": "markdown",
   "metadata": {},
   "source": [
    "## Dropout Layers"
   ]
  },
  {
   "cell_type": "code",
   "execution_count": 66,
   "metadata": {},
   "outputs": [],
   "source": [
    "# neural network \n",
    "layer1 = layer(n_inputs = 2, n_neurons = 100)\n",
    "activation1 = activation_ReLU()\n",
    "dropout1 = dropout(.1)\n",
    "layer2 = layer(n_inputs = 100, n_neurons = 3)\n",
    "activation2 = activation_softmax()\n",
    "loss_function = loss_crossentropy()"
   ]
  },
  {
   "cell_type": "code",
   "execution_count": 67,
   "metadata": {},
   "outputs": [],
   "source": [
    "# optimizer\n",
    "optimizer = optimizer_Adam(learning_rate = 0.05) "
   ]
  },
  {
   "cell_type": "code",
   "execution_count": 68,
   "metadata": {},
   "outputs": [
    {
     "name": "stdout",
     "output_type": "stream",
     "text": [
      "epoch: 0\n",
      "loss: 1.099\n",
      "accuracy: 35.333\n",
      "------------------------\n",
      "epoch: 100\n",
      "loss: 0.58\n",
      "accuracy: 79.333\n",
      "------------------------\n",
      "epoch: 200\n",
      "loss: 0.506\n",
      "accuracy: 78.333\n",
      "------------------------\n",
      "epoch: 300\n",
      "loss: 0.514\n",
      "accuracy: 80.667\n",
      "------------------------\n",
      "epoch: 400\n",
      "loss: 0.47\n",
      "accuracy: 81.667\n",
      "------------------------\n",
      "epoch: 500\n",
      "loss: 0.547\n",
      "accuracy: 79.0\n",
      "------------------------\n",
      "epoch: 600\n",
      "loss: 0.449\n",
      "accuracy: 84.667\n",
      "------------------------\n",
      "epoch: 700\n",
      "loss: 0.462\n",
      "accuracy: 78.333\n",
      "------------------------\n",
      "epoch: 800\n",
      "loss: 0.458\n",
      "accuracy: 82.333\n",
      "------------------------\n",
      "epoch: 900\n",
      "loss: 0.503\n",
      "accuracy: 83.333\n",
      "------------------------\n",
      "epoch: 1000\n",
      "loss: 0.462\n",
      "accuracy: 81.667\n",
      "------------------------\n",
      "epoch: 1100\n",
      "loss: 0.417\n",
      "accuracy: 83.667\n",
      "------------------------\n",
      "epoch: 1200\n",
      "loss: 0.449\n",
      "accuracy: 82.667\n",
      "------------------------\n",
      "epoch: 1300\n",
      "loss: 0.446\n",
      "accuracy: 78.667\n",
      "------------------------\n",
      "epoch: 1400\n",
      "loss: 0.44\n",
      "accuracy: 84.333\n",
      "------------------------\n",
      "epoch: 1500\n",
      "loss: 0.438\n",
      "accuracy: 84.0\n",
      "------------------------\n",
      "epoch: 1600\n",
      "loss: 0.426\n",
      "accuracy: 83.667\n",
      "------------------------\n",
      "epoch: 1700\n",
      "loss: 0.443\n",
      "accuracy: 84.333\n",
      "------------------------\n",
      "epoch: 1800\n",
      "loss: 0.371\n",
      "accuracy: 82.667\n",
      "------------------------\n",
      "epoch: 1900\n",
      "loss: 0.45\n",
      "accuracy: 82.333\n",
      "------------------------\n"
     ]
    }
   ],
   "source": [
    "n_epochs = 2000\n",
    "loss_adam = np.zeros(n_epochs)\n",
    "accuracy_adam = np.zeros(n_epochs)\n",
    "for i in range(n_epochs):\n",
    "    \n",
    "    # forward pass\n",
    "    layer1.forward(X)\n",
    "    activation1.forward(layer1.output)\n",
    "    dropout1.forward(activation1.output)\n",
    "    layer2.forward(dropout1.output)\n",
    "    activation2.forward(layer2.output)\n",
    "    \n",
    "    # loss\n",
    "    losses = loss_function.forward(activation2.output,y)\n",
    "    loss_adam[i] = np.mean(losses)\n",
    "    \n",
    "    # accuracy\n",
    "    y_pred = np.argmax(activation2.output,axis=1)\n",
    "    accuracy_adam[i] = 100*np.sum(y_pred == y)/len(y)\n",
    "    \n",
    "    # backward pass\n",
    "    loss_function.backward(activation2.output,y)\n",
    "    activation2.backward(loss_function.dinputs)\n",
    "    layer2.backward(activation2.dinputs)\n",
    "    dropout1.backward(layer2.dinputs)\n",
    "    activation1.backward(dropout1.dinputs)\n",
    "    layer1.backward(activation1.dinputs)\n",
    "    \n",
    "    # update weights and biases\n",
    "    optimizer.pre_update_parameters()\n",
    "    optimizer.update_parameters(layer1)\n",
    "    optimizer.update_parameters(layer2)\n",
    "    optimizer.post_update_parameters()\n",
    "    \n",
    "    # print loss and accuracy every 100 epochs\n",
    "    if i % 100 == 0:\n",
    "        print('epoch: '+str(i))\n",
    "        print('loss: '+str(np.round(loss_adam[i],3)))\n",
    "        print('accuracy: '+str(np.round(accuracy_adam[i],3)))\n",
    "        print('------------------------')"
   ]
  },
  {
   "cell_type": "code",
   "execution_count": 69,
   "metadata": {},
   "outputs": [
    {
     "data": {
      "image/png": "[encoded data removed]",
      "text/plain": [
       "<Figure size 432x288 with 1 Axes>"
      ]
     },
     "metadata": {
      "needs_background": "light"
     },
     "output_type": "display_data"
    }
   ],
   "source": [
    "from matplotlib.colors import ListedColormap\n",
    "# step size\n",
    "h = 0.02\n",
    "\n",
    "# mesh grid\n",
    "x_min, x_max = X[:, 0].min() - 0.5, X[:, 0].max() + 0.5\n",
    "y_min, y_max = X[:, 1].min() - 0.5, X[:, 1].max() + 0.5\n",
    "xx, yy = np.meshgrid(np.arange(x_min, x_max, h),np.arange(y_min, y_max, h))\n",
    "X_plot = np.c_[xx.ravel(),yy.ravel()]\n",
    "\n",
    "# forward pass\n",
    "layer1.forward(X_plot)\n",
    "activation1.forward(layer1.output)\n",
    "layer2.forward(activation1.output)\n",
    "activation2.forward(layer2.output)\n",
    "\n",
    "# predictions\n",
    "y_plot = np.argmax(activation2.output, axis=1)\n",
    "y_plot = y_plot.reshape(xx.shape)\n",
    "\n",
    "# classification regions\n",
    "my_cmap = ListedColormap(['C0','C1','C2'])\n",
    "plt.contourf(xx, yy, y_plot, cmap=my_cmap, alpha=0.3)\n",
    "plt.xlim(xx.min(), xx.max())\n",
    "plt.ylim(yy.min(), yy.max())\n",
    "\n",
    "# dataset\n",
    "for i in range(classes):\n",
    "    plt.plot(X[y==i,0],X[y==i,1],'o', label='class '+str(i))"
   ]
  }
 ],
 "metadata": {
  "kernelspec": {
   "display_name": "Python 3",
   "language": "python",
   "name": "python3"
  },
  "language_info": {
   "codemirror_mode": {
    "name": "ipython",
    "version": 3
   },
   "file_extension": ".py",
   "mimetype": "text/x-python",
   "name": "python",
   "nbconvert_exporter": "python",
   "pygments_lexer": "ipython3",
   "version": "3.8.3"
  }
 },
 "nbformat": 4,
 "nbformat_minor": 4
}
